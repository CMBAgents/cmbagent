{
 "cells": [
  {
   "cell_type": "markdown",
   "id": "0f9c7ea9-8d6d-4ae1-ac28-41966c0292b5",
   "metadata": {},
   "source": [
    "# Goal"
   ]
  },
  {
   "cell_type": "markdown",
   "id": "6a257e6d-7a5d-4878-a2c2-cf9031ade69e",
   "metadata": {},
   "source": [
    "In this example, we demonstrate how to pass parameters to classy_sz and to collect derived parameters"
   ]
  },
  {
   "cell_type": "markdown",
   "id": "a3461285-3f18-4ba7-9619-4ead5fa207c5",
   "metadata": {},
   "source": [
    "# Intialize"
   ]
  },
  {
   "cell_type": "code",
   "execution_count": 1,
   "id": "2c4d4199-c6fb-4634-9520-cacfce177bd8",
   "metadata": {},
   "outputs": [],
   "source": [
    "from classy_sz import Class as Class_sz"
   ]
  },
  {
   "cell_type": "markdown",
   "id": "3b4c4879-1779-4f43-bec6-dbe87343f1b2",
   "metadata": {},
   "source": [
    "# Baseline parameterization"
   ]
  },
  {
   "cell_type": "code",
   "execution_count": 2,
   "id": "f3decd95-ed51-4f4e-a506-2b05a7a8c531",
   "metadata": {},
   "outputs": [],
   "source": [
    "# the baseline parameterization is:\n",
    "\n",
    "cosmo_params = {\n",
    "'omega_b': 0.02242,\n",
    "'omega_cdm':  0.11933,\n",
    "'H0': 67.66, # use H0 because this is what is used by the emulators and to avoid any ambiguity when comparing with camb. \n",
    "'tau_reio': 0.0561,\n",
    "'ln10^{10}A_s': 3.047,\n",
    "'n_s': 0.9665   \n",
    "}"
   ]
  },
  {
   "cell_type": "code",
   "execution_count": 3,
   "id": "adc6d04e-dc76-4a34-af9c-2c9a7f1f55fb",
   "metadata": {},
   "outputs": [
    {
     "name": "stdout",
     "output_type": "stream",
     "text": [
      "CPU times: user 28.5 ms, sys: 20.4 ms, total: 48.9 ms\n",
      "Wall time: 33.1 ms\n"
     ]
    }
   ],
   "source": [
    "%%time \n",
    "classy_sz = Class_sz()\n",
    "classy_sz.set(cosmo_params)\n",
    "classy_sz.set({\n",
    "'output':'tCl,lCl,pCl',\n",
    "})\n",
    "classy_sz.compute_class_szfast()"
   ]
  },
  {
   "cell_type": "markdown",
   "id": "2c8b1cd5-fb2f-4aa6-9a08-ad4711142e76",
   "metadata": {},
   "source": [
    "### collect derived parameters\n",
    "\n",
    "Here are some examples. More parameters are available."
   ]
  },
  {
   "cell_type": "code",
   "execution_count": 4,
   "id": "0dceaf32-6070-4111-a38d-9aef384e1d7b",
   "metadata": {},
   "outputs": [
    {
     "data": {
      "text/plain": [
       "0.8118792418260571"
      ]
     },
     "execution_count": 4,
     "metadata": {},
     "output_type": "execute_result"
    }
   ],
   "source": [
    "classy_sz.sigma8()"
   ]
  },
  {
   "cell_type": "code",
   "execution_count": 5,
   "id": "b5799c52-0603-4fde-a747-cb652a09b239",
   "metadata": {},
   "outputs": [
    {
     "data": {
      "text/plain": [
       "3.044172067466906"
      ]
     },
     "execution_count": 5,
     "metadata": {},
     "output_type": "execute_result"
    }
   ],
   "source": [
    "classy_sz.Neff()"
   ]
  },
  {
   "cell_type": "code",
   "execution_count": 6,
   "id": "09435a8d-e12d-41df-b623-f9c47d03cf76",
   "metadata": {},
   "outputs": [
    {
     "data": {
      "text/plain": [
       "{'A_s': 2.105209331337507e-09}"
      ]
     },
     "execution_count": 6,
     "metadata": {},
     "output_type": "execute_result"
    }
   ],
   "source": [
    "classy_sz.get_current_derived_parameters(['A_s'])"
   ]
  },
  {
   "cell_type": "code",
   "execution_count": 7,
   "id": "ec42bf86-98d4-4dad-9ed9-38a8381f3fa1",
   "metadata": {},
   "outputs": [
    {
     "data": {
      "text/plain": [
       "{'logA': 3.047}"
      ]
     },
     "execution_count": 7,
     "metadata": {},
     "output_type": "execute_result"
    }
   ],
   "source": [
    "classy_sz.get_current_derived_parameters(['logA'])"
   ]
  },
  {
   "cell_type": "code",
   "execution_count": 8,
   "id": "f980188d-a454-488c-b5ff-00d6e6b89f4a",
   "metadata": {},
   "outputs": [
    {
     "data": {
      "text/plain": [
       "{'ln10^{10}A_s': 3.047}"
      ]
     },
     "execution_count": 8,
     "metadata": {},
     "output_type": "execute_result"
    }
   ],
   "source": [
    "classy_sz.get_current_derived_parameters(['ln10^{10}A_s'])"
   ]
  },
  {
   "cell_type": "code",
   "execution_count": 9,
   "id": "9bab16e4-2b94-4373-8133-3f31596e9665",
   "metadata": {},
   "outputs": [
    {
     "data": {
      "text/plain": [
       "{'Neff': 3.044172067466906}"
      ]
     },
     "execution_count": 9,
     "metadata": {},
     "output_type": "execute_result"
    }
   ],
   "source": [
    "classy_sz.get_current_derived_parameters(['Neff'])"
   ]
  },
  {
   "cell_type": "code",
   "execution_count": 11,
   "id": "6a027b28-d271-4e00-a6c2-42720eeb273b",
   "metadata": {},
   "outputs": [
    {
     "data": {
      "text/plain": [
       "{'m_ncdm_in_eV': 0.02}"
      ]
     },
     "execution_count": 11,
     "metadata": {},
     "output_type": "execute_result"
    }
   ],
   "source": [
    "classy_sz.get_current_derived_parameters(['m_ncdm_in_eV'])"
   ]
  },
  {
   "cell_type": "code",
   "execution_count": 12,
   "id": "29e17d38-8b6a-4667-b972-159eb3cde110",
   "metadata": {},
   "outputs": [
    {
     "data": {
      "text/plain": [
       "{'Omega_m': 0.30964144154550644}"
      ]
     },
     "execution_count": 12,
     "metadata": {},
     "output_type": "execute_result"
    }
   ],
   "source": [
    "classy_sz.get_current_derived_parameters(['Omega_m'])"
   ]
  },
  {
   "cell_type": "markdown",
   "id": "a72e1dc7-8ef9-4718-b955-c4d5731f3a37",
   "metadata": {},
   "source": [
    "### accessing the list of params that have been set"
   ]
  },
  {
   "cell_type": "code",
   "execution_count": 13,
   "id": "8fde65dc-ab8b-4456-b5a5-50ec64171f14",
   "metadata": {},
   "outputs": [
    {
     "data": {
      "text/plain": [
       "{'output': 'tCl,lCl,pCl',\n",
       " 'skip_input': 1,\n",
       " 'skip_background_and_thermo': 1,\n",
       " 'skip_pknl': 1,\n",
       " 'skip_pkl': 1,\n",
       " 'skip_chi': 1,\n",
       " 'skip_hubble': 1,\n",
       " 'skip_class_sz': 1,\n",
       " 'skip_sigma8_at_z': 1,\n",
       " 'skip_sigma8_and_der': 0,\n",
       " 'skip_cmb': 0,\n",
       " 'cosmo_model': 6,\n",
       " 'N_ur': 0.00441,\n",
       " 'N_ncdm': 1,\n",
       " 'deg_ncdm': 3,\n",
       " 'm_ncdm': 0.02,\n",
       " 'classy_sz_verbose': 'none',\n",
       " 'omega_b': 0.02242,\n",
       " 'n_s': 0.9665,\n",
       " 'omega_cdm': 0.11933,\n",
       " 'H0': 67.66,\n",
       " 'tau_reio': 0.0561,\n",
       " 'ln10^{10}A_s': 3.047}"
      ]
     },
     "execution_count": 13,
     "metadata": {},
     "output_type": "execute_result"
    }
   ],
   "source": [
    "classy_sz.pars"
   ]
  },
  {
   "cell_type": "markdown",
   "id": "950511cf-1388-4137-bf51-5882ffe2a788",
   "metadata": {},
   "source": [
    "# Using different names"
   ]
  },
  {
   "cell_type": "code",
   "execution_count": 12,
   "id": "addb021c-90a9-4962-800f-2894bbe817ad",
   "metadata": {},
   "outputs": [],
   "source": [
    "# the baseline parameterization is:\n",
    "\n",
    "cosmo_params = {\n",
    "'omega_b': 0.02242, # here we can use ombh2 rather than omega_b\n",
    "'omch2':  0.11933, # here we can use omch2 rather than omega_cdm\n",
    "'H0': 67.66, # use H0 because this is what is used by the emulators and to avoid any ambiguity when comparing with camb. \n",
    "'tau_reio': 0.0561,\n",
    "'logA': 3.047, # here we can use logA rather than ln10^{10}A_s\n",
    "'ns': 0.9665  # here we can use ns rather than ns\n",
    "}"
   ]
  },
  {
   "cell_type": "code",
   "execution_count": 13,
   "id": "1bdff897-c909-42d3-95e5-64bf4b7775dc",
   "metadata": {},
   "outputs": [
    {
     "name": "stdout",
     "output_type": "stream",
     "text": [
      "sigma8: 0.8118792418260571\n",
      "CPU times: user 31.2 ms, sys: 16.5 ms, total: 47.7 ms\n",
      "Wall time: 38.3 ms\n"
     ]
    }
   ],
   "source": [
    "%%time \n",
    "classy_sz = Class_sz()\n",
    "classy_sz.set(cosmo_params)\n",
    "classy_sz.set({\n",
    "'output':'tCl,lCl,pCl',\n",
    "})\n",
    "classy_sz.compute_class_szfast()\n",
    "\n",
    "print('sigma8:',classy_sz.sigma8())"
   ]
  },
  {
   "cell_type": "markdown",
   "id": "7111a6af-f20a-40c0-9f72-88b28602d7a7",
   "metadata": {},
   "source": [
    "# Passing $\\sigma_8$ instead of $A_s$\n",
    "\n",
    "classy_sz can have $\\sigma_8$ as an input parameter. \n",
    "\n",
    "In this case the calculation takes a bit longer because it requires a root finding step to get the adequate value of $A_s$. "
   ]
  },
  {
   "cell_type": "code",
   "execution_count": 22,
   "id": "35f57dc3-f03d-4f3a-9f11-1d84668a75d3",
   "metadata": {},
   "outputs": [],
   "source": [
    "cosmo_params_with_sigma_8 = {\n",
    "'omega_b': 0.02242,\n",
    "'omega_cdm':  0.11933,\n",
    "'H0': 67.66, # use H0 because this is what is used by the emulators and to avoid any ambiguity when comparing with camb. \n",
    "'tau_reio': 0.0561,\n",
    "'sigma8': 0.8119,\n",
    "'n_s': 0.9665   \n",
    "\n",
    "}"
   ]
  },
  {
   "cell_type": "code",
   "execution_count": 24,
   "id": "a52d85a1-220d-4595-bf76-9742cadd0104",
   "metadata": {},
   "outputs": [
    {
     "name": "stdout",
     "output_type": "stream",
     "text": [
      "CPU times: user 38.9 ms, sys: 24.5 ms, total: 63.4 ms\n",
      "Wall time: 51.9 ms\n"
     ]
    }
   ],
   "source": [
    "%%time \n",
    "classy_sz = Class_sz()\n",
    "classy_sz.set(cosmo_params_with_sigma_8)\n",
    "classy_sz.set({\n",
    "'output':'tCl,lCl,pCl',\n",
    "})\n",
    "classy_sz.compute_class_szfast()"
   ]
  },
  {
   "cell_type": "code",
   "execution_count": 16,
   "id": "ae955e32-10c1-4058-8fec-14d09a814719",
   "metadata": {},
   "outputs": [
    {
     "data": {
      "text/plain": [
       "{'A_s': 2.1053170341400974e-09}"
      ]
     },
     "execution_count": 16,
     "metadata": {},
     "output_type": "execute_result"
    }
   ],
   "source": [
    "classy_sz.get_current_derived_parameters(['A_s'])"
   ]
  },
  {
   "cell_type": "code",
   "execution_count": 17,
   "id": "748e458c-c012-4d5b-880d-f7fca156719f",
   "metadata": {},
   "outputs": [
    {
     "data": {
      "text/plain": [
       "{'logA': 3.047051158830638}"
      ]
     },
     "execution_count": 17,
     "metadata": {},
     "output_type": "execute_result"
    }
   ],
   "source": [
    "classy_sz.get_current_derived_parameters(['logA'])"
   ]
  },
  {
   "cell_type": "code",
   "execution_count": 18,
   "id": "58accd00-f257-44f8-9a31-db03cfe8929d",
   "metadata": {},
   "outputs": [
    {
     "data": {
      "text/plain": [
       "{'Neff': 3.0441720915141284}"
      ]
     },
     "execution_count": 18,
     "metadata": {},
     "output_type": "execute_result"
    }
   ],
   "source": [
    "classy_sz.get_current_derived_parameters(['Neff'])"
   ]
  },
  {
   "cell_type": "code",
   "execution_count": 19,
   "id": "860e3ee4-dd19-46ca-a3e9-fe264d7b0ebd",
   "metadata": {},
   "outputs": [
    {
     "data": {
      "text/plain": [
       "{'m_ncdm_in_eV': 0.02}"
      ]
     },
     "execution_count": 19,
     "metadata": {},
     "output_type": "execute_result"
    }
   ],
   "source": [
    "classy_sz.get_current_derived_parameters(['m_ncdm_in_eV'])"
   ]
  },
  {
   "cell_type": "markdown",
   "id": "df3671cf-533d-4449-8224-e5e415fef8a3",
   "metadata": {},
   "source": [
    "# Passing $\\Omega_m$\n",
    "\n",
    "In this case, we compute omega_cdm from omega_b and Omega_m to match value of Omega_m"
   ]
  },
  {
   "cell_type": "code",
   "execution_count": 8,
   "id": "be936eef-38fe-4d51-8d36-eabafa00e3eb",
   "metadata": {},
   "outputs": [],
   "source": [
    "from classy_sz import Class as Class_sz\n",
    "\n",
    "cosmo_params = {\n",
    "'omega_cdm': 0.11,\n",
    "'omega_b': 0.023,\n",
    "'Omega_m':  0.31,\n",
    "'H0': 67.66, # use H0 because this is what is used by the emulators and to avoid any ambiguity when comparing with camb. \n",
    "'tau_reio': 0.0561,\n",
    "'ln10^{10}A_s': 3.047,\n",
    "'n_s': 0.9665   \n",
    "}"
   ]
  },
  {
   "cell_type": "code",
   "execution_count": 9,
   "id": "f01a9a27-b61b-4810-a19c-b44d1ab7b528",
   "metadata": {},
   "outputs": [
    {
     "name": "stdout",
     "output_type": "stream",
     "text": [
      "CPU times: user 35.7 ms, sys: 23.6 ms, total: 59.3 ms\n",
      "Wall time: 40 ms\n"
     ]
    }
   ],
   "source": [
    "%%time \n",
    "classy_sz = Class_sz()\n",
    "classy_sz.set(cosmo_params)\n",
    "classy_sz.set({\n",
    "'output':'tCl,lCl,pCl',\n",
    "'skip_input': 1,\n",
    "})\n",
    "classy_sz.compute_class_szfast()"
   ]
  },
  {
   "cell_type": "code",
   "execution_count": null,
   "id": "93b3e65e-344a-4e22-a5c3-6455ba212d8f",
   "metadata": {},
   "outputs": [],
   "source": []
  },
  {
   "cell_type": "code",
   "execution_count": null,
   "id": "0e400e99-3847-4ba0-94da-aef35f6ace5c",
   "metadata": {},
   "outputs": [],
   "source": []
  }
 ],
 "metadata": {
  "kernelspec": {
   "display_name": "Python 3 (ipykernel)",
   "language": "python",
   "name": "python3"
  },
  "language_info": {
   "codemirror_mode": {
    "name": "ipython",
    "version": 3
   },
   "file_extension": ".py",
   "mimetype": "text/x-python",
   "name": "python",
   "nbconvert_exporter": "python",
   "pygments_lexer": "ipython3",
   "version": "3.9.13"
  }
 },
 "nbformat": 4,
 "nbformat_minor": 5
}

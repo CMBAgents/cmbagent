{
 "cells": [
  {
   "cell_type": "markdown",
   "id": "88488e92-16f4-4521-a300-3227a2fa0d1d",
   "metadata": {},
   "source": [
    "# How to use classy_sz with cobaya?"
   ]
  },
  {
   "cell_type": "code",
   "execution_count": 1,
   "id": "15d0f791-c01e-40da-8329-ff81ce90d644",
   "metadata": {},
   "outputs": [],
   "source": [
    "import yaml\n",
    "\n",
    "# Define the YAML configuration\n",
    "cobaya_config = {\n",
    "    \"likelihood\": {\n",
    "        \"act_dr6_lenslike.ACTDR6LensLike\": {} # here a likelihood \n",
    "    },\n",
    "    \"params\": {\n",
    "        \"ombh2\": 0.022383,\n",
    "        \"omch2\": 0.1181084544,\n",
    "        \"H0\": 67.32,\n",
    "        \"tau\": 0.0543,\n",
    "        \"n_s\": 0.96605,\n",
    "        \"sigma8\": 0.8\n",
    "    },\n",
    "    \"theory\": {\n",
    "        \"classy_szfast.classy_sz.classy_sz\": {\n",
    "            \"extra_args\": { # here some extra args if needed\n",
    "            }\n",
    "        }\n",
    "    },\n",
    "    \"sampler\": {\n",
    "        \"evaluate\": {\n",
    "        }\n",
    "    }\n",
    "}\n",
    "\n",
    "with open(\"cobaya_evaluate_config_with_classy_sz.yaml\", \"w\") as file:\n",
    "    yaml.dump(cobaya_config, file)\n"
   ]
  },
  {
   "cell_type": "code",
   "execution_count": null,
   "id": "445cf68c-5051-4104-bb4b-3354b3ee352c",
   "metadata": {},
   "outputs": [],
   "source": []
  }
 ],
 "metadata": {
  "kernelspec": {
   "display_name": "Python (cmb_agent)",
   "language": "python",
   "name": "cmb_agent"
  },
  "language_info": {
   "codemirror_mode": {
    "name": "ipython",
    "version": 3
   },
   "file_extension": ".py",
   "mimetype": "text/x-python",
   "name": "python",
   "nbconvert_exporter": "python",
   "pygments_lexer": "ipython3",
   "version": "3.9.13"
  }
 },
 "nbformat": 4,
 "nbformat_minor": 5
}

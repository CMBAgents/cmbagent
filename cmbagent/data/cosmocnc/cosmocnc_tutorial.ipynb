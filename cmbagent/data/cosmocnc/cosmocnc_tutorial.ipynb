{
 "cells": [
  {
   "cell_type": "markdown",
   "id": "c0b98014",
   "metadata": {},
   "source": [
    "# cosmocnc tutorial"
   ]
  },
  {
   "cell_type": "markdown",
   "id": "b7faa07c",
   "metadata": {},
   "source": [
    "In this tutorial we will illustrate the main computational capabilities of cosmocnc using a Simons-Observatory-like cluster catalogue with two mass observables, the tSZ signal-to-noise and the CMB lensing signal-to-noise."
   ]
  },
  {
   "cell_type": "markdown",
   "id": "ffbdccbc",
   "metadata": {},
   "source": [
    "## Input parameters"
   ]
  },
  {
   "cell_type": "markdown",
   "id": "7778a9e7",
   "metadata": {},
   "source": [
    "We first set the cosmocnc input parameters."
   ]
  },
  {
   "cell_type": "code",
   "execution_count": 1,
   "id": "d35f5306",
   "metadata": {},
   "outputs": [
    {
     "name": "stderr",
     "output_type": "stream",
     "text": [
      "<frozen importlib._bootstrap>:228: RuntimeWarning: scipy._lib.messagestream.MessageStream size changed, may indicate binary incompatibility. Expected 56 from C header, got 64 from PyObject\n"
     ]
    }
   ],
   "source": [
    "import numpy as np\n",
    "import pylab as pl\n",
    "import cosmocnc\n",
    "\n",
    "cnc_params = cosmocnc.cnc_params_default\n",
    "scal_rel_params = cosmocnc.scaling_relation_params_default\n",
    "cosmo_params = cosmocnc.cosmo_params_default\n",
    "\n",
    "#Catalogue and observables\n",
    "\n",
    "cnc_params[\"cluster_catalogue\"] = \"SO_sim_0\"\n",
    "cnc_params[\"observables\"] = [[\"q_so_sim\"],[\"p_so_sim\"]]\n",
    "cnc_params[\"obs_select\"] = \"q_so_sim\"\n",
    "\n",
    "#Mass and redshift range\n",
    "\n",
    "cnc_params[\"M_min\"] = 1e13\n",
    "cnc_params[\"M_max\"] = 1e16\n",
    "cnc_params[\"z_min\"] = 0.01\n",
    "cnc_params[\"z_max\"] = 3.\n",
    "\n",
    "#Selection observable range\n",
    "\n",
    "cnc_params[\"obs_select_min\"] = 5. #selection threshold\n",
    "cnc_params[\"obs_select_max\"] = 200.\n",
    "\n",
    "#Precision parameters\n",
    "\n",
    "cnc_params[\"n_points\"] = 16384 #number of points in which the mass function at each redshift (and all the convolutions) is evaluated\n",
    "cnc_params[\"n_points_data_lik\"] = 2048 #number of points in which the mass function at each redshift (and all the convolutions) is evaluated\n",
    "cnc_params[\"n_z\"] = 100\n",
    "cnc_params[\"sigma_mass_prior\"] = 10\n",
    "cnc_params[\"delta_m_with_ref\"] = True\n",
    "cnc_params[\"scalrel_type_deriv\"] = \"numerical\"\n",
    "cnc_params[\"downsample_hmf_bc\"] = 2\n",
    "cnc_params[\"compute_abundance_matrix\"] = True\n",
    "\n",
    "#Parallelisation\n",
    "\n",
    "cnc_params[\"number_cores_hmf\"] = 1\n",
    "cnc_params[\"number_cores_abundance\"] = 1\n",
    "cnc_params[\"number_cores_data\"] = 8\n",
    "cnc_params[\"parallelise_type\"] = \"redshift\"\n",
    "\n",
    "#Cosmology parameters\n",
    "\n",
    "cnc_params[\"cosmology_tool\"] = \"classy_sz\"\n",
    "cnc_params[\"cosmo_param_density\"] = \"critical\"\n",
    "cnc_params[\"cosmo_model\"] = \"lcdm\"\n",
    "\n",
    "#Parameters for the binned likelihood\n",
    "\n",
    "cnc_params[\"binned_lik_type\"] = \"z_and_obs_select\"\n",
    "cnc_params[\"bins_edges_z\"] = np.linspace(cnc_params[\"z_min\"],cnc_params[\"z_max\"],9)\n",
    "cnc_params[\"bins_edges_obs_select\"] = np.exp(np.linspace(np.log(cnc_params[\"obs_select_min\"]),np.log(cnc_params[\"obs_select_max\"]),7))\n",
    "\n",
    "#Stacked data, set to False for now\n",
    "\n",
    "cnc_params[\"stacked_likelihood\"] = False\n",
    "cnc_params[\"stacked_data\"] = [\"p_so_sim_stacked\"] #list of stacked data\n",
    "cnc_params[\"compute_stacked_cov\"] = True\n",
    "\n",
    "\n",
    "cnc_params[\"data_lik_from_abundance\"] = False\n",
    "cnc_params[\"likelihood_type\"] = \"unbinned\"\n",
    "\n",
    "scal_rel_params[\"corr_lnq_lnp\"] = 0.\n",
    "scal_rel_params[\"bias_sz\"] = 0.8"
   ]
  },
  {
   "cell_type": "markdown",
   "id": "106c570f",
   "metadata": {},
   "source": [
    "## Code initialisation"
   ]
  },
  {
   "cell_type": "markdown",
   "id": "b3dbaf0e",
   "metadata": {},
   "source": [
    "We now initialise cosmocnc."
   ]
  },
  {
   "cell_type": "code",
   "execution_count": 2,
   "id": "e1024b7a",
   "metadata": {},
   "outputs": [
    {
     "name": "stdout",
     "output_type": "stream",
     "text": [
      "WARNING:tensorflow:Please fix your imports. Module tensorflow.python.training.tracking.data_structures has been moved to tensorflow.python.trackable.data_structures. The old module will be deleted in version 2.11.\n"
     ]
    }
   ],
   "source": [
    "number_counts = cosmocnc.cluster_number_counts()\n",
    "\n",
    "number_counts.cnc_params = cnc_params\n",
    "number_counts.scal_rel_params = scal_rel_params\n",
    "number_counts.cosmo_params = cosmo_params\n",
    "\n",
    "number_counts.initialise()\n"
   ]
  },
  {
   "cell_type": "markdown",
   "id": "4aca43ca",
   "metadata": {},
   "source": [
    "## Cluster abundance"
   ]
  },
  {
   "cell_type": "markdown",
   "id": "92ae06de",
   "metadata": {},
   "source": [
    "Let us now compute and plot the cluster abundance across the selection observable (SZ signal-to-noise, or SNR) and redshift."
   ]
  },
  {
   "cell_type": "code",
   "execution_count": 3,
   "id": "71cfa139",
   "metadata": {},
   "outputs": [
    {
     "name": "stdout",
     "output_type": "stream",
     "text": [
      "Total clusters 15631.676214198133\n"
     ]
    }
   ],
   "source": [
    "number_counts.get_number_counts()\n",
    "\n",
    "dn_dz = number_counts.n_z\n",
    "dn_dSNR = number_counts.n_obs\n",
    "\n",
    "z = number_counts.redshift_vec\n",
    "SNR = number_counts.obs_select_vec\n"
   ]
  },
  {
   "cell_type": "markdown",
   "id": "71ee54c5",
   "metadata": {},
   "source": [
    "As simple as that! We can now plot the one-dimensional abundance across signal-to-noise and redshift."
   ]
  },
  {
   "cell_type": "code",
   "execution_count": 4,
   "id": "e70e9a62",
   "metadata": {},
   "outputs": [
    {
     "data": {
      "image/png": "[encoded data removed]",
      "text/plain": [
       "<Figure size 432x288 with 1 Axes>"
      ]
     },
     "metadata": {
      "needs_background": "light"
     },
     "output_type": "display_data"
    },
    {
     "data": {
      "image/png": "[encoded data removed]",
      "text/plain": [
       "<Figure size 432x288 with 1 Axes>"
      ]
     },
     "metadata": {
      "needs_background": "light"
     },
     "output_type": "display_data"
    }
   ],
   "source": [
    "pl.rc('text', usetex=True)\n",
    "pl.rc('font', family='serif')\n",
    "\n",
    "pl.semilogx(SNR,dn_dSNR,color=\"tab:blue\")\n",
    "pl.xlabel(\"$SNR$\")\n",
    "pl.ylabel(\"$dN / d SNR$\")\n",
    "pl.axvline(x=5.,color=\"k\")\n",
    "pl.axhline(y=0.,color=\"k\")\n",
    "pl.title(\"Cluster abundance across SNR (selection observable)\")\n",
    "pl.ylim([0,7000])\n",
    "pl.show()\n",
    "\n",
    "pl.plot(z,dn_dz,color=\"tab:blue\")\n",
    "pl.xlabel(\"$z$\")\n",
    "pl.ylabel(\"$dN / dz$\")\n",
    "pl.axvline(x=0.,color=\"k\")\n",
    "pl.axhline(y=0.,color=\"k\")\n",
    "pl.ylim(0,24000)\n",
    "pl.title(\"Cluster abundance across redshift\")\n",
    "pl.show()\n"
   ]
  },
  {
   "cell_type": "markdown",
   "id": "7a1a9802",
   "metadata": {},
   "source": [
    "We can also retrieve and plot the two-dimensional abundance across both signal-to-noise and redshift."
   ]
  },
  {
   "cell_type": "code",
   "execution_count": 5,
   "id": "54c64aa5",
   "metadata": {},
   "outputs": [],
   "source": [
    "abundance_matrix = np.flip(number_counts.abundance_matrix,axis=0)"
   ]
  },
  {
   "cell_type": "code",
   "execution_count": 6,
   "id": "d9afbc16",
   "metadata": {},
   "outputs": [
    {
     "data": {
      "image/png": "[encoded data removed]",
      "text/plain": [
       "<Figure size 432x288 with 2 Axes>"
      ]
     },
     "metadata": {
      "needs_background": "light"
     },
     "output_type": "display_data"
    }
   ],
   "source": [
    "import matplotlib.ticker as mticker\n",
    "from matplotlib.ticker import ScalarFormatter\n",
    "from matplotlib.ticker import StrMethodFormatter\n",
    "\n",
    "fig = pl.figure()\n",
    "ax = fig.add_subplot()\n",
    "\n",
    "im = ax.imshow(abundance_matrix,extent=[SNR[0],SNR[-1],z[0],z[-1]],cmap=\"cividis\",aspect=0.5)\n",
    "fig.colorbar(im,ax=ax)\n",
    "ax.contour(np.flip(abundance_matrix,axis=0),colors=[\"k\",\"k\",\"k\",\"k\"],extent=[SNR[0],SNR[-1],z[0],z[-1]])\n",
    "ax.set_xscale(\"log\")\n",
    "ax.set_xlabel(\"$q_{\\mathrm{obs}}$\")\n",
    "ax.set_ylabel(\"$z$\")\n",
    "ax.set_xlim([5.,30.])\n",
    "ax.set_ylim([0.01,1.5])\n",
    "ax.xaxis.set_minor_formatter(mticker.ScalarFormatter())\n",
    "ax.xaxis.set_major_formatter(ScalarFormatter())\n",
    "ax.xaxis.set_major_formatter(StrMethodFormatter('{x:,.0f}'))\n",
    "fig.tight_layout()\n",
    "pl.show()\n"
   ]
  },
  {
   "cell_type": "markdown",
   "id": "0817bed6",
   "metadata": {},
   "source": [
    "We can also retrieve the total number of clusters and compare it to the actual value in the catalogue:"
   ]
  },
  {
   "cell_type": "code",
   "execution_count": 7,
   "id": "7b1fba0b",
   "metadata": {},
   "outputs": [
    {
     "name": "stdout",
     "output_type": "stream",
     "text": [
      "Predicted total number of clusters in the catalogue: 15631.676214198133 +- 125.02670200480429\n",
      "Observed total number of clusters in the catalogue: 15683\n"
     ]
    }
   ],
   "source": [
    "n_tot_theory = number_counts.n_tot\n",
    "n_tot_obs = number_counts.catalogue.n_tot\n",
    "\n",
    "print(\"Predicted total number of clusters in the catalogue:\",n_tot_theory,\"+-\",np.sqrt(n_tot_theory))\n",
    "print(\"Observed total number of clusters in the catalogue:\",n_tot_obs)"
   ]
  },
  {
   "cell_type": "markdown",
   "id": "ecc40e93",
   "metadata": {},
   "source": [
    "Here, the quoted error on the theoretical prediction is the associated Poisson error."
   ]
  },
  {
   "cell_type": "markdown",
   "id": "ed61bf85",
   "metadata": {},
   "source": [
    "## Binned cluster abundance"
   ]
  },
  {
   "cell_type": "markdown",
   "id": "89c96d2a",
   "metadata": {},
   "source": [
    "Let us now integrate the cluster abundance within SNR and redshift bins to obtain the binned abundance, and compare it with the cluster catalogue. For this we need to call the binned likelihood. Note that the bin edges were already defined when we set the parameters."
   ]
  },
  {
   "cell_type": "code",
   "execution_count": 8,
   "id": "ecfcf05d",
   "metadata": {},
   "outputs": [
    {
     "name": "stdout",
     "output_type": "stream",
     "text": [
      "Time 0.16489577293395996\n",
      "log_lik 105272.92636658304\n",
      "\n",
      "Predicted total number of clusters in the bins =  15620.659275753169 +- 124.98263589696438\n",
      "Observed total number of clusters in the bins =  15683.0\n"
     ]
    }
   ],
   "source": [
    "cnc_params[\"likelihood_type\"] = \"binned\"\n",
    "cnc_params[\"obs_select_min\"] = 5.000\n",
    "\n",
    "number_counts.cnc_params = cnc_params\n",
    "\n",
    "log_lik = number_counts.get_log_lik() #Evaluate the binned likelihood\n",
    "\n",
    "bins_centres_z = number_counts.bins_centres_z #z bins centres\n",
    "bins_centres_snr = number_counts.bins_centres_obs #SNR bins centres\n",
    "\n",
    "n_binned_theory = number_counts.n_binned #Theoretical prediction for the number counts in the SNR-z bins\n",
    "n_binned_obs = number_counts.n_binned_obs #Actual number counts in the catalogue\n",
    "\n",
    "n_tot_bins_theory = np.sum(n_binned_theory) #Theoretical prediction for the total number of clusters in the bins\n",
    "n_tot_bins_obs = np.sum(n_binned_obs) #Actual number in the catalogue\n",
    "\n",
    "n_binned_snr_theory = np.sum(n_binned_theory,axis=0) #Theoretical prediction for the number counts in the SNR bins\n",
    "n_binned_snr_obs = np.sum(n_binned_obs,axis=0) #Actual number in the catalogue\n",
    "\n",
    "n_binned_z_theory = np.sum(n_binned_theory,axis=1) #Theoretical prediction for the number counts in the z bins\n",
    "n_binned_z_obs = np.sum(n_binned_obs,axis=1) #Actual number in the catalogue\n",
    "\n",
    "print(\"\")\n",
    "print(\"Predicted total number of clusters in the bins = \",n_tot_bins_theory,\"+-\",np.sqrt(n_tot_bins_theory))\n",
    "print(\"Observed total number of clusters in the bins = \",n_tot_bins_obs)\n"
   ]
  },
  {
   "cell_type": "markdown",
   "id": "70015ca2",
   "metadata": {},
   "source": [
    "This is, incidentally, how the log-likelihood is called. Note that the predicted total number of clusters in the bins is slighly smaller than the prediction for the full catalogue, as our bins, as defined in the parameters, do not cover the full observable range. \n",
    "\n",
    "Let's now plot the binned abundances."
   ]
  },
  {
   "cell_type": "code",
   "execution_count": 9,
   "id": "849454c5",
   "metadata": {},
   "outputs": [
    {
     "data": {
      "image/png": "[encoded data removed]",
      "text/plain": [
       "<Figure size 432x288 with 1 Axes>"
      ]
     },
     "metadata": {
      "needs_background": "light"
     },
     "output_type": "display_data"
    },
    {
     "data": {
      "image/png": "[encoded data removed]",
      "text/plain": [
       "<Figure size 432x288 with 1 Axes>"
      ]
     },
     "metadata": {
      "needs_background": "light"
     },
     "output_type": "display_data"
    }
   ],
   "source": [
    "size_marker = 1\n",
    "\n",
    "pl.errorbar(bins_centres_snr,n_binned_snr_theory,yerr=np.sqrt(n_binned_snr_theory),color=\"tab:blue\",\n",
    "            linestyle=\"none\",fmt=\"\",capsize=size_marker)\n",
    "pl.scatter(bins_centres_snr,n_binned_snr_obs,color=\"tab:orange\",s=size_marker)\n",
    "pl.xlabel(\"$SNR$\")\n",
    "pl.ylabel(\"$N$\")\n",
    "pl.axvline(x=5.,color=\"k\")\n",
    "pl.axhline(y=0.,color=\"k\")\n",
    "pl.title(\"Cluster counts across SNR (selection observable)\")\n",
    "pl.show()\n",
    "\n",
    "pl.errorbar(bins_centres_z,n_binned_z_theory,yerr=np.sqrt(n_binned_z_theory),color=\"tab:blue\",\n",
    "            linestyle=\"none\",fmt=\"\",capsize=size_marker)\n",
    "pl.scatter(bins_centres_z,n_binned_z_obs,color=\"tab:orange\",s=size_marker)\n",
    "pl.xlabel(\"$z$\")\n",
    "pl.ylabel(\"$N$\")\n",
    "pl.axvline(x=0.,color=\"k\")\n",
    "pl.axhline(y=0.,color=\"k\")\n",
    "pl.title(\"Cluster abundance across redshift\")\n",
    "pl.show()"
   ]
  },
  {
   "cell_type": "markdown",
   "id": "648ae286",
   "metadata": {},
   "source": [
    "Alternatively, if you are only interested in the binned number counts across either the selection observable or redshift, they can be computed directly by setting \"binned_lik_type\" to either \"obs_select\" or \"z\"."
   ]
  },
  {
   "cell_type": "markdown",
   "id": "d94d5c3c",
   "metadata": {},
   "source": [
    "## Cluster catalogue"
   ]
  },
  {
   "cell_type": "markdown",
   "id": "d720fcd9",
   "metadata": {},
   "source": [
    "The cluster catalogue quantities can be accessed the following way:"
   ]
  },
  {
   "cell_type": "code",
   "execution_count": 10,
   "id": "a4cb811f",
   "metadata": {},
   "outputs": [],
   "source": [
    "catalogue = number_counts.catalogue\n",
    "\n",
    "q_obs = catalogue.catalogue[\"q_so_sim\"] #tSZ signal-to-noise\n",
    "p_obs = catalogue.catalogue[\"p_so_sim\"] #CMB lensing signal-to-noise\n",
    "z = catalogue.catalogue[\"z\"] #Redshift"
   ]
  },
  {
   "cell_type": "markdown",
   "id": "df2994a7",
   "metadata": {},
   "source": [
    "## Stacked observable"
   ]
  },
  {
   "cell_type": "markdown",
   "id": "dcb959b0",
   "metadata": {},
   "source": [
    "cosmocnc can compute the expected value of any of the stacked observables and its (co)variance. In our SO-like catalogue, this is the stacked CMB lensing signal-to-noise. This can be done as follows:"
   ]
  },
  {
   "cell_type": "code",
   "execution_count": 11,
   "id": "be58a6c9",
   "metadata": {},
   "outputs": [
    {
     "name": "stdout",
     "output_type": "stream",
     "text": [
      "Time 8.368499517440796\n",
      "log_lik 98412.8630007719\n"
     ]
    }
   ],
   "source": [
    "cnc_params[\"likelihood_type\"] = \"unbinned\"\n",
    "cnc_params[\"observables\"] = [[\"q_so_sim\"]] #There is only one cluster-by-cluster mass observable.\n",
    "cnc_params[\"data_lik_from_abundance\"] = False #So that the backward convolutional approach is followed (necessary for the stacked likelihood)\n",
    "cnc_params[\"stacked_likelihood\"] = True\n",
    "cnc_params[\"stacked_data\"] = [\"p_so_sim_stacked\"] #List of stacked data\n",
    "cnc_params[\"compute_stacked_cov\"] = True\n",
    "\n",
    "number_counts.cnc_params = cnc_params\n",
    "\n",
    "number_counts.initialise()\n",
    "log_lik = number_counts.get_log_lik() #We compute the unbinned + stacked likelihood"
   ]
  },
  {
   "cell_type": "markdown",
   "id": "3f15079c",
   "metadata": {},
   "source": [
    "We now retrieve the results:"
   ]
  },
  {
   "cell_type": "code",
   "execution_count": 12,
   "id": "29183fb7",
   "metadata": {},
   "outputs": [
    {
     "name": "stdout",
     "output_type": "stream",
     "text": [
      "Predicted stacked observable = 0.3082524841255903 +- 0.008013697024074675\n",
      "Observed stacked observable = 0.3109265614902756\n"
     ]
    }
   ],
   "source": [
    "p_stacked_obs = number_counts.catalogue.stacked_data[\"p_so_sim_stacked\"][\"data_vec\"]\n",
    "p_stacked_theory = number_counts.stacked_model[\"p_so_sim_stacked\"]\n",
    "p_stacked_std = np.sqrt(number_counts.stacked_variance[\"p_so_sim_stacked\"])\n",
    "\n",
    "print(\"Predicted stacked observable =\",p_stacked_theory,\"+-\",p_stacked_std)\n",
    "print(\"Observed stacked observable =\",p_stacked_obs)"
   ]
  },
  {
   "cell_type": "markdown",
   "id": "2767b0db",
   "metadata": {},
   "source": [
    "Note that, in this case, we can also easily compute the observed value of the stacked observable from the catalogue itself:"
   ]
  },
  {
   "cell_type": "code",
   "execution_count": 13,
   "id": "56deb7e1",
   "metadata": {},
   "outputs": [
    {
     "name": "stdout",
     "output_type": "stream",
     "text": [
      "Observed stacked observable = 0.3109265614902756\n"
     ]
    }
   ],
   "source": [
    "p_stacked_obs_2 = np.mean(p_obs)\n",
    "print(\"Observed stacked observable =\",p_stacked_obs_2)"
   ]
  },
  {
   "cell_type": "markdown",
   "id": "d13f893d",
   "metadata": {},
   "source": [
    "## Likelihood evaluation"
   ]
  },
  {
   "cell_type": "markdown",
   "id": "d14dacdb",
   "metadata": {},
   "source": [
    "Let us now evaluate and plot the unbinned likelihood for the SZ signal-to-noise as a function of $\\sigma_8$."
   ]
  },
  {
   "cell_type": "code",
   "execution_count": 14,
   "id": "4bead3e1",
   "metadata": {
    "scrolled": true
   },
   "outputs": [
    {
     "name": "stdout",
     "output_type": "stream",
     "text": [
      "Total clusters 15170.40690773683\n",
      "Time 1.554419994354248\n",
      "log_lik 98392.34874628257\n",
      "Total clusters 15226.516224117615\n",
      "Time 1.5709733963012695\n",
      "log_lik 98394.466984847\n",
      "Total clusters 15282.775669511424\n",
      "Time 1.5849661827087402\n",
      "log_lik 98396.34884576935\n",
      "Total clusters 15339.18546503943\n",
      "Time 1.4956543445587158\n",
      "log_lik 98397.99426588803\n",
      "Total clusters 15395.745831753255\n",
      "Time 1.493947982788086\n",
      "log_lik 98399.40318169714\n",
      "Total clusters 15452.456990634988\n",
      "Time 1.5149869918823242\n",
      "log_lik 98400.57552945867\n",
      "Total clusters 15509.31916259355\n",
      "Time 1.5159382820129395\n",
      "log_lik 98401.51124513522\n",
      "Total clusters 15566.332568469554\n",
      "Time 1.47837495803833\n",
      "log_lik 98402.21026444591\n",
      "Total clusters 15623.497429029394\n",
      "Time 1.5612938404083252\n",
      "log_lik 98402.67252282536\n",
      "Total clusters 15680.813964967725\n",
      "Time 1.524674654006958\n",
      "log_lik 98402.89795544898\n",
      "Total clusters 15738.28239691034\n",
      "Time 1.517033576965332\n",
      "log_lik 98402.88649722839\n",
      "Total clusters 15795.902945395246\n",
      "Time 1.502274751663208\n",
      "log_lik 98402.63808279176\n",
      "Total clusters 15853.675830903247\n",
      "Time 1.5847043991088867\n",
      "log_lik 98402.15264653931\n",
      "Total clusters 15911.601273834694\n",
      "Time 1.5486335754394531\n",
      "log_lik 98401.43012256779\n",
      "Total clusters 15969.67949451291\n",
      "Time 1.5080924034118652\n",
      "log_lik 98400.47044475081\n",
      "Total clusters 16027.910713187322\n",
      "Time 1.4811553955078125\n",
      "log_lik 98399.27354669262\n",
      "Total clusters 16086.295150030275\n",
      "Time 1.6800625324249268\n",
      "log_lik 98397.83936172235\n",
      "Total clusters 16144.833025138469\n",
      "Time 1.6730091571807861\n",
      "log_lik 98396.16782293504\n",
      "Total clusters 16203.52455852101\n",
      "Time 1.702561855316162\n",
      "log_lik 98394.25886315216\n",
      "Total clusters 16262.36997014787\n",
      "Time 1.665022850036621\n",
      "log_lik 98392.11241496354\n"
     ]
    }
   ],
   "source": [
    "cnc_params[\"likelihood_type\"] = \"unbinned\"\n",
    "cnc_params[\"observables\"] = [[\"q_so_sim\"]] #There is only one cluster-by-cluster mass observable.\n",
    "cnc_params[\"data_lik_from_abundance\"] = True #So that the forward convolutional approach is followed (faster).\n",
    "cnc_params[\"stacked_likelihood\"] = False\n",
    "\n",
    "number_counts.cnc_params = cnc_params\n",
    "number_counts.initialise()\n",
    "\n",
    "n = 20\n",
    "sigma_8_vec = np.linspace(0.808,0.815,n)\n",
    "log_lik = np.zeros(n)\n",
    "\n",
    "\n",
    "for i in range(0,n):\n",
    "    \n",
    "    cosmo_params[\"sigma_8\"] = sigma_8_vec[i]\n",
    "    number_counts.update_params(cosmo_params,scal_rel_params)\n",
    "    log_lik[i] = number_counts.get_log_lik()\n",
    "  \n",
    "lik_vec = np.exp(log_lik-np.max(log_lik))\n",
    "\n",
    "cnc_params[\"sigma_8\"] = 0.811\n"
   ]
  },
  {
   "cell_type": "code",
   "execution_count": 15,
   "id": "fbf52a8e",
   "metadata": {},
   "outputs": [
    {
     "data": {
      "image/png": "[encoded data removed]",
      "text/plain": [
       "<Figure size 432x288 with 1 Axes>"
      ]
     },
     "metadata": {
      "needs_background": "light"
     },
     "output_type": "display_data"
    }
   ],
   "source": [
    "pl.plot(sigma_8_vec,lik_vec)\n",
    "pl.axvline(x=0.811,linestyle=\"dashed\",color=\"k\")\n",
    "pl.xlabel(\"$\\sigma_8$\")\n",
    "pl.ylabel(\"$\\mathcal{L}$\")\n",
    "pl.show()"
   ]
  },
  {
   "cell_type": "markdown",
   "id": "95cfc047",
   "metadata": {},
   "source": [
    "Here, the dashed vertical line is the true value of $\\sigma_8$ for our synthetic catalogue.\n",
    "\n",
    "The same exercise can be done for the other likelihoods with minor modifications to the code. In particular:\n",
    "\n",
    " - Binned likelihood: set \"likelihood_type\" to \"binned\", and choose binning scheme through \"binned_lik_type\".\n",
    " - Unbinned likelihood with both the SZ and the CMB lensing mass observable: set \"observables\" to [[\"q_so_sim\"],[\"p_so_sim\"]] (if they belong to different correlation sets, which is the case here), or to [[\"q_so_sim\",\"p_so_sim\"]] (if they belong to the same correlation set).\n",
    " - Unbinned likelihood with the CMB lensing stacked observable: set \"stacked_likelihood\" to True and \"data_lik_from_abundance\" to False.\n",
    " - Extreme value likelihood: set \"likelihood_type\" to \"extreme_value\"."
   ]
  },
  {
   "cell_type": "markdown",
   "id": "94611004",
   "metadata": {},
   "source": [
    "## Goodness of fit"
   ]
  },
  {
   "cell_type": "markdown",
   "id": "92d88f62",
   "metadata": {},
   "source": [
    "We can easily evaluate the modified Cash goodness-of-fit statistic and compare its value with the theoretical prediction. Here we do so at the true model parameters:"
   ]
  },
  {
   "cell_type": "code",
   "execution_count": 16,
   "id": "67ab445a",
   "metadata": {},
   "outputs": [
    {
     "name": "stdout",
     "output_type": "stream",
     "text": [
      "Predicted C = 27.601973575267717 +- 7.1184905453706655\n",
      "Observed C = 20.14040373755536\n"
     ]
    }
   ],
   "source": [
    "number_counts.cnc_params = cnc_params\n",
    "number_counts.initialise()\n",
    "\n",
    "C,C_mean,C_std = number_counts.get_c_statistic()\n",
    "\n",
    "print(\"Predicted C =\",C_mean,\"+-\",C_std)\n",
    "print(\"Observed C =\",C)"
   ]
  },
  {
   "cell_type": "markdown",
   "id": "a3aad049",
   "metadata": {},
   "source": [
    "## Cluster mass estimation"
   ]
  },
  {
   "cell_type": "markdown",
   "id": "08b34b59",
   "metadata": {},
   "source": [
    "Let us now estimate the masses of the clusters in the catalogue. For this we will only use the SZ mass observable (as well as the redshifts)."
   ]
  },
  {
   "cell_type": "code",
   "execution_count": 17,
   "id": "8873bd45",
   "metadata": {},
   "outputs": [
    {
     "name": "stdout",
     "output_type": "stream",
     "text": [
      "Time 7.536606311798096\n",
      "log_lik 98402.56655606376\n"
     ]
    }
   ],
   "source": [
    "cnc_params[\"likelihood_type\"] = \"unbinned\"\n",
    "cnc_params[\"observables\"] = [[\"q_so_sim\"]]\n",
    "cnc_params[\"data_lik_from_abundance\"] = False #So that the backward convolutional approach is followed (needed).\n",
    "cnc_params[\"get_masses\"] = True\n",
    "\n",
    "number_counts.cnc_params = cnc_params\n",
    "\n",
    "number_counts.initialise()\n",
    "number_counts.get_log_lik()\n",
    "number_counts.get_masses()"
   ]
  },
  {
   "cell_type": "code",
   "execution_count": 18,
   "id": "226a9be9",
   "metadata": {},
   "outputs": [],
   "source": [
    "ln_mass_est = number_counts.cluster_lnM #ln mass estimates\n",
    "ln_mass_std = number_counts.cluster_lnM_std #ln mass standard deviation"
   ]
  },
  {
   "cell_type": "markdown",
   "id": "fd20d728",
   "metadata": {},
   "source": [
    "Since we are using a synthetic catalogue, we also have access to the true cluster mass."
   ]
  },
  {
   "cell_type": "code",
   "execution_count": 19,
   "id": "8e272160",
   "metadata": {},
   "outputs": [],
   "source": [
    "mass_true = number_counts.catalogue.M #true mass"
   ]
  },
  {
   "cell_type": "markdown",
   "id": "f481fd88",
   "metadata": {},
   "source": [
    "We can now plot the estimated masses against the true masses."
   ]
  },
  {
   "cell_type": "code",
   "execution_count": 20,
   "id": "754dc907",
   "metadata": {},
   "outputs": [
    {
     "data": {
      "image/png": "[encoded data removed]",
      "text/plain": [
       "<Figure size 432x288 with 1 Axes>"
      ]
     },
     "metadata": {
      "needs_background": "light"
     },
     "output_type": "display_data"
    }
   ],
   "source": [
    "m_x = mass_true\n",
    "m_y = np.exp(ln_mass_est)\n",
    "\n",
    "fig = pl.figure()#figsize=(11*cm,8*cm*2))\n",
    "gs = fig.add_gridspec(1,1)#,hspace=0)\n",
    "axs = gs.subplots()\n",
    "\n",
    "\n",
    "axs.scatter(m_x,m_y,s=1)\n",
    "x = np.linspace(np.min(m_x),np.max(m_y),100)\n",
    "axs.plot(x,x,color=\"tab:orange\")\n",
    "axs.set_xscale(\"log\")\n",
    "axs.set_yscale(\"log\")\n",
    "axs.set_xlim([0.7,30.])\n",
    "axs.set_ylim([0.7,30.])\n",
    "\n",
    "custom_ticks = [1,2,3,5,7,10,20]\n",
    "\n",
    "axs.set_xticks(custom_ticks)\n",
    "axs.set_yticks(custom_ticks)\n",
    "axs.set_xticklabels(custom_ticks)\n",
    "axs.set_yticklabels(custom_ticks)\n",
    "axs.set_ylabel(\"Mean inferred mass [$10^{14} M_{\\odot}$]\")\n",
    "axs.set_xlabel(\"Input mass [$10^{14} M_{\\odot}$]\")\n",
    "\n",
    "axs.set_title(\"Cluster mass estimation\")\n",
    "\n",
    "pl.show()"
   ]
  },
  {
   "cell_type": "markdown",
   "id": "dab909fe",
   "metadata": {},
   "source": [
    "## Most extreme cluster"
   ]
  },
  {
   "cell_type": "markdown",
   "id": "8a554a8d",
   "metadata": {},
   "source": [
    "Finally, let's consider the \"most extreme cluster\", which we define as that with the largest value of the selection observable (SZ signal-to-noise in the SO-like catalogue). "
   ]
  },
  {
   "cell_type": "code",
   "execution_count": 21,
   "id": "8c75a1ab",
   "metadata": {},
   "outputs": [
    {
     "name": "stdout",
     "output_type": "stream",
     "text": [
      "Predicted maximum SNR 115.56243681667802 +- 24.602890727346676\n",
      "Observed maximum SNR 123.7203444123371\n"
     ]
    }
   ],
   "source": [
    "number_counts.initialise()\n",
    "number_counts.get_log_lik_extreme_value()\n",
    "number_counts.eval_extreme_value_quantities()\n",
    "\n",
    "snr_max_mean = number_counts.obs_select_max_mean\n",
    "snr_max_std = number_counts.obs_select_max_std\n",
    "snr_max_obs = np.max(q_obs)\n",
    "\n",
    "print(\"Predicted maximum SNR\",snr_max_mean,\"+-\",snr_max_std)\n",
    "print(\"Observed maximum SNR\",snr_max_obs)"
   ]
  }
 ],
 "metadata": {
  "kernelspec": {
   "display_name": "Python 3 (ipykernel)",
   "language": "python",
   "name": "python3"
  },
  "language_info": {
   "codemirror_mode": {
    "name": "ipython",
    "version": 3
   },
   "file_extension": ".py",
   "mimetype": "text/x-python",
   "name": "python",
   "nbconvert_exporter": "python",
   "pygments_lexer": "ipython3",
   "version": "3.9.12"
  }
 },
 "nbformat": 4,
 "nbformat_minor": 5
}

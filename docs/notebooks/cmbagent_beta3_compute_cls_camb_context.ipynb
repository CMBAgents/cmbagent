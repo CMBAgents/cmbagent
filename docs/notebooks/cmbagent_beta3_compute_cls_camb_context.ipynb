{
 "cells": [
  {
   "cell_type": "markdown",
   "id": "2242dd13-f045-48bc-812a-69c923cb76fc",
   "metadata": {},
   "source": [
    "# Demo"
   ]
  },
  {
   "cell_type": "code",
   "execution_count": null,
   "id": "c6668948",
   "metadata": {},
   "outputs": [],
   "source": [
    "import os\n",
    "import re\n",
    "import copy\n",
    "\n",
    "os.environ[\"ASTROPILOT_DISABLE_DISPLAY\"] = \"false\"\n",
    "import cmbagent\n",
    "import autogen\n",
    "autogen.cmbagent_disable_display"
   ]
  },
  {
   "cell_type": "code",
   "execution_count": null,
   "id": "ca4daaec-97c7-4bcd-8a6f-3c282608b364",
   "metadata": {},
   "outputs": [],
   "source": [
    "task = r\"\"\"\n",
    "Does the amplitude of scalar perturbations have an effect on the angular diameter distance at redshift 3?\n",
    "\n",
    "Your answer must consist of only one word: \"yes\" or \"no\" should have the following format:\n",
    "\n",
    "<ANSWER>\n",
    "\"yes\" or \"no\"\n",
    "</ANSWER>\n",
    "\n",
    "\n",
    "You must not keep the formating marks <ANSWER> and </ANSWER> in your response. \n",
    "\"\"\"\n",
    "\n",
    "results = cmbagent.one_shot(task,\n",
    "                   max_rounds=20,\n",
    "                   agent='researcher',\n",
    "                   # agent='classy_context',\n",
    "                  # researcher_model='gpt-4o',\n",
    "                  # researcher_model='gpt-4.1'\n",
    "                  # researcher_model='gemini-2.5-pro-preview-03-25',\n",
    "                  researcher_model=\"gemini-2.5-flash-preview-05-20\",\n",
    "                  )"
   ]
  },
  {
   "cell_type": "code",
   "execution_count": null,
   "id": "c093fa25-2291-48f2-9ac1-6cce03601ffd",
   "metadata": {},
   "outputs": [],
   "source": [
    "# task = r\"\"\"\n",
    "# Load /Users/boris/CMBAgents/MCPAgents/context_docs/eiffel_tower.md and print its content. \n",
    "# \"\"\"\n",
    "\n",
    "task = r\"\"\"\n",
    "Compute the angular diameter distance between redshift 0 to 4 for the following cosmological parameters: \n",
    "$A_s = 2.2 \\times 10^{{-9}}$\n",
    "$n_s = 0.965$\n",
    "$\\Omega_c = 0.27$\n",
    "$\\Omega_b = 0.04$\n",
    "$H_0 = 70 km/s/Mpc$\n",
    "$\\tau_reio = 0.06$\n",
    "For redshift use linspace(0,4,100).\n",
    "Report the result in Mpc. \n",
    "Save the result in a csv file, named results.csv.\n",
    "\"\"\""
   ]
  },
  {
   "cell_type": "code",
   "execution_count": null,
   "id": "ea900085-6749-4898-8359-12777bb33fed",
   "metadata": {
    "scrolled": true
   },
   "outputs": [],
   "source": [
    "results = cmbagent.one_shot(task,\n",
    "                   max_rounds=20,\n",
    "                   agent='camb_context',\n",
    "                   # agent='classy_context',\n",
    "                            # researcher_model='gpt-4o-mini',\n",
    "                  )"
   ]
  },
  {
   "cell_type": "code",
   "execution_count": null,
   "id": "aa3d97fe-526d-4382-9ae1-50c53677ce7c",
   "metadata": {},
   "outputs": [],
   "source": [
    "results['final_context'].keys()"
   ]
  },
  {
   "cell_type": "code",
   "execution_count": null,
   "id": "36dd6459-69f7-42ce-8aac-f122b1554eed",
   "metadata": {},
   "outputs": [],
   "source": [
    "results['final_context']['cost_report_path']"
   ]
  },
  {
   "cell_type": "code",
   "execution_count": null,
   "id": "bd94a568-0fc1-4f50-9fa3-f71ff4c95be8",
   "metadata": {},
   "outputs": [],
   "source": [
    "results['final_context']['cost_dataframe']"
   ]
  },
  {
   "cell_type": "code",
   "execution_count": null,
   "id": "15ad9363",
   "metadata": {},
   "outputs": [],
   "source": [
    "task = \"Plot cmb temperature power spectrum\"\n",
    "\n",
    "results = cmbagent.one_shot(task,\n",
    "                   max_rounds=20,\n",
    "                   agent='camb_context',\n",
    "                  )"
   ]
  },
  {
   "cell_type": "code",
   "execution_count": null,
   "id": "afda0f64-3df3-4547-b07f-991e2bcce9fe",
   "metadata": {},
   "outputs": [],
   "source": [
    "import camb\n",
    "# Set cosmological parameters (units: see docstring)\n",
    "pars = camb.set_params(\n",
    "    H0=67.5,        # Hubble parameter [km/s/Mpc]\n",
    "    ombh2=0.022,    # Physical baryon density [dimensionless]\n",
    "    omch2=0.122,    # Physical cold dark matter density [dimensionless]\n",
    "    mnu=0.06,       # Sum of neutrino masses [eV]\n",
    "    omk=0,          # Spatial curvature [dimensionless]\n",
    "    tau=0.06,       # Reionization optical depth [dimensionless]\n",
    "    As=2e-9,        # Scalar amplitude [dimensionless]\n",
    "    ns=0.965,       # Scalar spectral index [dimensionless]\n",
    "    lmax=2500       # Maximum multipole [dimensionless]\n",
    ")"
   ]
  },
  {
   "cell_type": "code",
   "execution_count": null,
   "id": "e175e361-444f-4897-bba6-2dd8f702a423",
   "metadata": {},
   "outputs": [],
   "source": [
    "# Run CAMB to get results\n",
    "results = camb.get_results(pars)"
   ]
  },
  {
   "cell_type": "code",
   "execution_count": null,
   "id": "be6f6c9b-d7c5-43a8-908a-24f9c44bfa02",
   "metadata": {},
   "outputs": [],
   "source": [
    "pars.lmax"
   ]
  },
  {
   "cell_type": "code",
   "execution_count": null,
   "id": "c4757ddc-3efa-4bf1-ab73-e05cb7bda23a",
   "metadata": {},
   "outputs": [],
   "source": [
    "dir(pars)"
   ]
  },
  {
   "cell_type": "code",
   "execution_count": null,
   "id": "4b5b9409-269e-4f62-94fc-64f8b29276f1",
   "metadata": {},
   "outputs": [],
   "source": []
  }
 ],
 "metadata": {
  "kernelspec": {
   "display_name": "cmbagent_env",
   "language": "python",
   "name": "python3"
  },
  "language_info": {
   "codemirror_mode": {
    "name": "ipython",
    "version": 3
   },
   "file_extension": ".py",
   "mimetype": "text/x-python",
   "name": "python",
   "nbconvert_exporter": "python",
   "pygments_lexer": "ipython3",
   "version": "3.12.4"
  }
 },
 "nbformat": 4,
 "nbformat_minor": 5
}

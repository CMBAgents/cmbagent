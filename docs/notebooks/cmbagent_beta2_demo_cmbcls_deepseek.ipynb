{
 "cells": [
  {
   "cell_type": "markdown",
   "id": "74eb6f2c-bc8e-4a9a-a370-4e41dfe35acb",
   "metadata": {},
   "source": [
    "## Initialize"
   ]
  },
  {
   "cell_type": "code",
   "execution_count": 4,
   "id": "b84da0dd-0bac-43a1-ad81-ff200ed9e47e",
   "metadata": {},
   "outputs": [
    {
     "name": "stdout",
     "output_type": "stream",
     "text": [
      "Updating vector store for classy_sz_agent\n",
      "No vector stores found with the name 'classy_sz_agent_store'.\n",
      "Files to upload:\n",
      "\t - classy_sz_cmb_cls.md\n",
      "\t - classy_sz_matter_power_spectrum.md\n",
      "completed\n",
      "FileCounts(cancelled=0, completed=2, failed=0, in_progress=0, total=2)\n",
      "classy_sz_agent: uploaded assistant data to vector store with id:  vs_67d3881e73008191a69753b97a2a7c28\n",
      "\n",
      "\n",
      "vector stores updated\n",
      "'classy_sz_agent': 'vs_67d3881e73008191a69753b97a2a7c28',\n"
     ]
    }
   ],
   "source": [
    "from cmbagent import CMBAgent\n",
    "import os\n",
    "# Create an instance (with your preferred parameters)\n",
    "cmbagent = CMBAgent()\n",
    "# Now clear the cache\n",
    "cmbagent.clear_cache()\n",
    "cmbagent = CMBAgent( make_vector_stores=['classy_sz'],\n",
    "                    agent_llm_configs={\n",
    "                    'engineer': {\n",
    "                        \"model\": \"deepseek-chat\",\n",
    "                        \"reasoning_effort\": \"high\",\n",
    "                        \"api_key\": os.getenv(\"DEEPSEEK_API_KEY\"),\n",
    "                        \"api_type\": \"deepseek\",\n",
    "                        \"base_url\": \"https://api.deepseek.com/v1\",\n",
    "                        },\n",
    "                    'planner': {\n",
    "                        \"model\": \"deepseek-reasoner\",\n",
    "                        \"api_key\": os.getenv(\"DEEPSEEK_API_KEY\"),\n",
    "                        \"api_type\": \"deepseek\",\n",
    "                         \"base_url\": \"https://api.deepseek.com/v1\",\n",
    "                        },\n",
    "                    'researcher': {\n",
    "                        \"model\": \"deepseek-chat\",\n",
    "                        \"api_key\": os.getenv(\"DEEPSEEK_API_KEY\"),\n",
    "                        \"api_type\": \"deepseek\",\n",
    "                         \"base_url\": \"https://api.deepseek.com/v1\",\n",
    "                        },\n",
    "                    \n",
    "                    # 'plan_reviewer': {\n",
    "                    #     \"model\": \"deepseek-chat\",\n",
    "                    #     \"api_key\": os.getenv(\"DEEPSEEK_API_KEY\"),\n",
    "                    #     \"api_type\": \"deepseek\",\n",
    "                    #      \"base_url\": \"https://api.deepseek.com/v1\",\n",
    "                    #     },\n",
    "                    # 'plan_recorder': {\n",
    "                    #     \"model\": \"deepseek-chat\",\n",
    "                    #     \"api_key\": os.getenv(\"DEEPSEEK_API_KEY\"),\n",
    "                    #     \"api_type\": \"deepseek\",\n",
    "                    #      \"base_url\": \"https://api.deepseek.com/v1\",\n",
    "                    #     },\n",
    "\n",
    "                    # 'control': {\n",
    "                    #     \"model\": \"deepseek-chat\",\n",
    "                    #     \"api_key\": os.getenv(\"DEEPSEEK_API_KEY\"),\n",
    "                    #     \"api_type\": \"deepseek\",\n",
    "                    #      \"base_url\": \"https://api.deepseek.com/v1\",\n",
    "                    #     },\n",
    "        # ... other agents\n",
    "    },)"
   ]
  },
  {
   "cell_type": "code",
   "execution_count": 5,
   "id": "1e560270",
   "metadata": {},
   "outputs": [],
   "source": [
    "# BadRequestError: Error code: 400 - {'error': {'message': 'deepseek-reasoner does not support Function Calling', 'type': 'invalid_request_error', 'param': None, 'code': 'invalid_request_error'}}\n",
    "# UnprocessableEntityError: Failed to deserialize the JSON body into the target type: response_format: response_format.type `json_schema` is unavailable now at line 1 column 2704"
   ]
  },
  {
   "cell_type": "markdown",
   "id": "d1949673-1669-4f72-914e-cdf7d07af5d5",
   "metadata": {},
   "source": [
    "## Solve"
   ]
  },
  {
   "cell_type": "code",
   "execution_count": 6,
   "id": "b009ddd5-7d31-47ab-b4e5-ccd3522eac54",
   "metadata": {},
   "outputs": [
    {
     "name": "stdout",
     "output_type": "stream",
     "text": [
      "\u001b[32mMessage from admin:\n",
      "\u001b[0m\n"
     ]
    },
    {
     "data": {
      "text/markdown": [
       "\n",
       "Task: Compute and plot cmb temperature cls.\n"
      ],
      "text/plain": [
       "<IPython.core.display.Markdown object>"
      ]
     },
     "metadata": {},
     "output_type": "display_data"
    },
    {
     "name": "stdout",
     "output_type": "stream",
     "text": [
      "\u001b[33m\n",
      "Calling planner...\n",
      "\u001b[0m\n"
     ]
    },
    {
     "data": {
      "text/html": [
       "<style type=\"text/css\">\n",
       "</style>\n",
       "<table id=\"T_512a5\">\n",
       "  <thead>\n",
       "    <tr>\n",
       "      <th id=\"T_512a5_level0_col0\" class=\"col_heading level0 col0\" >Model</th>\n",
       "      <th id=\"T_512a5_level0_col1\" class=\"col_heading level0 col1\" >agent</th>\n",
       "      <th id=\"T_512a5_level0_col2\" class=\"col_heading level0 col2\" >Cost</th>\n",
       "      <th id=\"T_512a5_level0_col3\" class=\"col_heading level0 col3\" >Prompt Tokens</th>\n",
       "      <th id=\"T_512a5_level0_col4\" class=\"col_heading level0 col4\" >Completion Tokens</th>\n",
       "      <th id=\"T_512a5_level0_col5\" class=\"col_heading level0 col5\" >Total Tokens</th>\n",
       "    </tr>\n",
       "  </thead>\n",
       "  <tbody>\n",
       "    <tr>\n",
       "      <td id=\"T_512a5_row0_col0\" class=\"data row0 col0\" >deepseek-reasoner</td>\n",
       "      <td id=\"T_512a5_row0_col1\" class=\"data row0 col1\" >planner</td>\n",
       "      <td id=\"T_512a5_row0_col2\" class=\"data row0 col2\" >0.00000</td>\n",
       "      <td id=\"T_512a5_row0_col3\" class=\"data row0 col3\" >306</td>\n",
       "      <td id=\"T_512a5_row0_col4\" class=\"data row0 col4\" >2916</td>\n",
       "      <td id=\"T_512a5_row0_col5\" class=\"data row0 col5\" >3222</td>\n",
       "    </tr>\n",
       "  </tbody>\n",
       "</table>\n"
      ],
      "text/plain": [
       "<pandas.io.formats.style.Styler at 0x31861cdd0>"
      ]
     },
     "metadata": {},
     "output_type": "display_data"
    },
    {
     "name": "stdout",
     "output_type": "stream",
     "text": [
      "\u001b[33mMessage from planner:\n",
      "\u001b[0m\n"
     ]
    },
    {
     "data": {
      "text/markdown": [
       "\n",
       "Forwarding content for formatting...\n"
      ],
      "text/plain": [
       "<IPython.core.display.Markdown object>"
      ]
     },
     "metadata": {},
     "output_type": "display_data"
    },
    {
     "name": "stdout",
     "output_type": "stream",
     "text": [
      "\u001b[33m\n",
      "Calling planner_response_formatter...\n",
      "\u001b[0m\n"
     ]
    },
    {
     "data": {
      "text/html": [
       "<style type=\"text/css\">\n",
       "</style>\n",
       "<table id=\"T_0bf26\">\n",
       "  <thead>\n",
       "    <tr>\n",
       "      <th id=\"T_0bf26_level0_col0\" class=\"col_heading level0 col0\" >Model</th>\n",
       "      <th id=\"T_0bf26_level0_col1\" class=\"col_heading level0 col1\" >agent</th>\n",
       "      <th id=\"T_0bf26_level0_col2\" class=\"col_heading level0 col2\" >Cost</th>\n",
       "      <th id=\"T_0bf26_level0_col3\" class=\"col_heading level0 col3\" >Prompt Tokens</th>\n",
       "      <th id=\"T_0bf26_level0_col4\" class=\"col_heading level0 col4\" >Completion Tokens</th>\n",
       "      <th id=\"T_0bf26_level0_col5\" class=\"col_heading level0 col5\" >Total Tokens</th>\n",
       "    </tr>\n",
       "  </thead>\n",
       "  <tbody>\n",
       "    <tr>\n",
       "      <td id=\"T_0bf26_row0_col0\" class=\"data row0 col0\" >gpt-4o-mini-2024-07-18</td>\n",
       "      <td id=\"T_0bf26_row0_col1\" class=\"data row0 col1\" >planner_response_formatter</td>\n",
       "      <td id=\"T_0bf26_row0_col2\" class=\"data row0 col2\" >0.00019</td>\n",
       "      <td id=\"T_0bf26_row0_col3\" class=\"data row0 col3\" >425</td>\n",
       "      <td id=\"T_0bf26_row0_col4\" class=\"data row0 col4\" >205</td>\n",
       "      <td id=\"T_0bf26_row0_col5\" class=\"data row0 col5\" >630</td>\n",
       "    </tr>\n",
       "  </tbody>\n",
       "</table>\n"
      ],
      "text/plain": [
       "<pandas.io.formats.style.Styler at 0x3159e94d0>"
      ]
     },
     "metadata": {},
     "output_type": "display_data"
    },
    {
     "name": "stdout",
     "output_type": "stream",
     "text": [
      "\u001b[33mMessage from planner_response_formatter:\n",
      "\u001b[0m\n"
     ]
    },
    {
     "data": {
      "text/markdown": [
       "\n",
       "**PLAN**\n",
       "\n",
       "- Step 1:\n",
       "\t* sub-task: Research how to compute CMB temperature Cls using the `classy_sz` package\n",
       "\t* agent in charge: classy_sz_agent\n",
       "\n",
       "\t* instructions:\n",
       "\t\t- Search the `classy_sz` documentation for functions and parameters required to compute CMB temperature angular power spectra (Cls).\n",
       "\t\t- Identify input cosmological parameters (e.g., Ω_b, Ω_cdm, H₀) and any necessary configuration settings.\n",
       "\t\t- Verify if there are example workflows or code snippets for generating Cls in the package’s documentation.\n",
       "\n",
       "- Step 2:\n",
       "\t* sub-task: Implement and plot the Cls\n",
       "\t* agent in charge: engineer\n",
       "\n",
       "\t* instructions:\n",
       "\t\t- Write a Python script to initialize the `classy_sz` cosmology module with parameters from Step 1.\n",
       "\t\t- Compute the temperature Cls using the appropriate function (e.g., `compute_cl()` or equivalent).\n",
       "\t\t- Plot the results (e.g., multipole ℓ vs. Cl_tt) using matplotlib and save the figure as a PNG/PDF.\n",
       "\n",
       "        "
      ],
      "text/plain": [
       "<IPython.core.display.Markdown object>"
      ]
     },
     "metadata": {},
     "output_type": "display_data"
    },
    {
     "name": "stdout",
     "output_type": "stream",
     "text": [
      "\u001b[33m\n",
      "Calling plan_recorder...\n",
      "\u001b[0m\n"
     ]
    },
    {
     "data": {
      "text/html": [
       "<style type=\"text/css\">\n",
       "</style>\n",
       "<table id=\"T_0beff\">\n",
       "  <thead>\n",
       "    <tr>\n",
       "      <th id=\"T_0beff_level0_col0\" class=\"col_heading level0 col0\" >Model</th>\n",
       "      <th id=\"T_0beff_level0_col1\" class=\"col_heading level0 col1\" >agent</th>\n",
       "      <th id=\"T_0beff_level0_col2\" class=\"col_heading level0 col2\" >Cost</th>\n",
       "      <th id=\"T_0beff_level0_col3\" class=\"col_heading level0 col3\" >Prompt Tokens</th>\n",
       "      <th id=\"T_0beff_level0_col4\" class=\"col_heading level0 col4\" >Completion Tokens</th>\n",
       "      <th id=\"T_0beff_level0_col5\" class=\"col_heading level0 col5\" >Total Tokens</th>\n",
       "    </tr>\n",
       "  </thead>\n",
       "  <tbody>\n",
       "    <tr>\n",
       "      <td id=\"T_0beff_row0_col0\" class=\"data row0 col0\" >gpt-4o-mini-2024-07-18</td>\n",
       "      <td id=\"T_0beff_row0_col1\" class=\"data row0 col1\" >plan_recorder</td>\n",
       "      <td id=\"T_0beff_row0_col2\" class=\"data row0 col2\" >0.00027</td>\n",
       "      <td id=\"T_0beff_row0_col3\" class=\"data row0 col3\" >730</td>\n",
       "      <td id=\"T_0beff_row0_col4\" class=\"data row0 col4\" >260</td>\n",
       "      <td id=\"T_0beff_row0_col5\" class=\"data row0 col5\" >990</td>\n",
       "    </tr>\n",
       "  </tbody>\n",
       "</table>\n"
      ],
      "text/plain": [
       "<pandas.io.formats.style.Styler at 0x31881bad0>"
      ]
     },
     "metadata": {},
     "output_type": "display_data"
    },
    {
     "name": "stdout",
     "output_type": "stream",
     "text": [
      "\u001b[33mMessage from plan_recorder:\n",
      "\u001b[0m\n"
     ]
    },
    {
     "data": {
      "text/markdown": [
       "Planning stage complete. Switching to control."
      ],
      "text/plain": [
       "<IPython.core.display.Markdown object>"
      ]
     },
     "metadata": {},
     "output_type": "display_data"
    },
    {
     "name": "stdout",
     "output_type": "stream",
     "text": [
      "\u001b[31m\n",
      "Calling control...\n",
      "\u001b[0m\n"
     ]
    },
    {
     "data": {
      "text/html": [
       "<style type=\"text/css\">\n",
       "</style>\n",
       "<table id=\"T_7dab0\">\n",
       "  <thead>\n",
       "    <tr>\n",
       "      <th id=\"T_7dab0_level0_col0\" class=\"col_heading level0 col0\" >Model</th>\n",
       "      <th id=\"T_7dab0_level0_col1\" class=\"col_heading level0 col1\" >agent</th>\n",
       "      <th id=\"T_7dab0_level0_col2\" class=\"col_heading level0 col2\" >Cost</th>\n",
       "      <th id=\"T_7dab0_level0_col3\" class=\"col_heading level0 col3\" >Prompt Tokens</th>\n",
       "      <th id=\"T_7dab0_level0_col4\" class=\"col_heading level0 col4\" >Completion Tokens</th>\n",
       "      <th id=\"T_7dab0_level0_col5\" class=\"col_heading level0 col5\" >Total Tokens</th>\n",
       "    </tr>\n",
       "  </thead>\n",
       "  <tbody>\n",
       "    <tr>\n",
       "      <td id=\"T_7dab0_row0_col0\" class=\"data row0 col0\" >gpt-4o-mini-2024-07-18</td>\n",
       "      <td id=\"T_7dab0_row0_col1\" class=\"data row0 col1\" >control</td>\n",
       "      <td id=\"T_7dab0_row0_col2\" class=\"data row0 col2\" >0.00025</td>\n",
       "      <td id=\"T_7dab0_row0_col3\" class=\"data row0 col3\" >1588</td>\n",
       "      <td id=\"T_7dab0_row0_col4\" class=\"data row0 col4\" >16</td>\n",
       "      <td id=\"T_7dab0_row0_col5\" class=\"data row0 col5\" >1604</td>\n",
       "    </tr>\n",
       "  </tbody>\n",
       "</table>\n"
      ],
      "text/plain": [
       "<pandas.io.formats.style.Styler at 0x3189afe10>"
      ]
     },
     "metadata": {},
     "output_type": "display_data"
    },
    {
     "name": "stdout",
     "output_type": "stream",
     "text": [
      "\u001b[31mMessage from control:\n",
      "\u001b[0m\n"
     ]
    },
    {
     "data": {
      "text/markdown": [
       "Transitioning to classy_sz_agent!"
      ],
      "text/plain": [
       "<IPython.core.display.Markdown object>"
      ]
     },
     "metadata": {},
     "output_type": "display_data"
    },
    {
     "name": "stdout",
     "output_type": "stream",
     "text": [
      "\u001b[33m\n",
      "Calling classy_sz_agent...\n",
      "\u001b[0m\n"
     ]
    },
    {
     "data": {
      "text/html": [
       "<style type=\"text/css\">\n",
       "</style>\n",
       "<table id=\"T_de254\">\n",
       "  <thead>\n",
       "    <tr>\n",
       "      <th id=\"T_de254_level0_col0\" class=\"col_heading level0 col0\" >Model</th>\n",
       "      <th id=\"T_de254_level0_col1\" class=\"col_heading level0 col1\" >Cost</th>\n",
       "      <th id=\"T_de254_level0_col2\" class=\"col_heading level0 col2\" >Prompt Tokens</th>\n",
       "      <th id=\"T_de254_level0_col3\" class=\"col_heading level0 col3\" >Completion Tokens</th>\n",
       "      <th id=\"T_de254_level0_col4\" class=\"col_heading level0 col4\" >Total Tokens</th>\n",
       "    </tr>\n",
       "  </thead>\n",
       "  <tbody>\n",
       "    <tr>\n",
       "      <td id=\"T_de254_row0_col0\" class=\"data row0 col0\" >gpt-4o-mini</td>\n",
       "      <td id=\"T_de254_row0_col1\" class=\"data row0 col1\" >0.00105</td>\n",
       "      <td id=\"T_de254_row0_col2\" class=\"data row0 col2\" >4273</td>\n",
       "      <td id=\"T_de254_row0_col3\" class=\"data row0 col3\" >679</td>\n",
       "      <td id=\"T_de254_row0_col4\" class=\"data row0 col4\" >4952</td>\n",
       "    </tr>\n",
       "  </tbody>\n",
       "</table>\n"
      ],
      "text/plain": [
       "<pandas.io.formats.style.Styler at 0x31897a890>"
      ]
     },
     "metadata": {},
     "output_type": "display_data"
    },
    {
     "name": "stdout",
     "output_type": "stream",
     "text": [
      "\u001b[33mMessage from classy_sz_agent:\n",
      "\u001b[0m\n"
     ]
    },
    {
     "data": {
      "text/markdown": [
       "\n",
       "Forwarding content for formatting...\n"
      ],
      "text/plain": [
       "<IPython.core.display.Markdown object>"
      ]
     },
     "metadata": {},
     "output_type": "display_data"
    },
    {
     "name": "stdout",
     "output_type": "stream",
     "text": [
      "\u001b[33m\n",
      "Calling classy_sz_response_formatter...\n",
      "\u001b[0m\n"
     ]
    },
    {
     "data": {
      "text/html": [
       "<style type=\"text/css\">\n",
       "</style>\n",
       "<table id=\"T_d4716\">\n",
       "  <thead>\n",
       "    <tr>\n",
       "      <th id=\"T_d4716_level0_col0\" class=\"col_heading level0 col0\" >Model</th>\n",
       "      <th id=\"T_d4716_level0_col1\" class=\"col_heading level0 col1\" >agent</th>\n",
       "      <th id=\"T_d4716_level0_col2\" class=\"col_heading level0 col2\" >Cost</th>\n",
       "      <th id=\"T_d4716_level0_col3\" class=\"col_heading level0 col3\" >Prompt Tokens</th>\n",
       "      <th id=\"T_d4716_level0_col4\" class=\"col_heading level0 col4\" >Completion Tokens</th>\n",
       "      <th id=\"T_d4716_level0_col5\" class=\"col_heading level0 col5\" >Total Tokens</th>\n",
       "    </tr>\n",
       "  </thead>\n",
       "  <tbody>\n",
       "    <tr>\n",
       "      <td id=\"T_d4716_row0_col0\" class=\"data row0 col0\" >gpt-4o-mini-2024-07-18</td>\n",
       "      <td id=\"T_d4716_row0_col1\" class=\"data row0 col1\" >classy_sz_response_formatter</td>\n",
       "      <td id=\"T_d4716_row0_col2\" class=\"data row0 col2\" >0.00057</td>\n",
       "      <td id=\"T_d4716_row0_col3\" class=\"data row0 col3\" >1714</td>\n",
       "      <td id=\"T_d4716_row0_col4\" class=\"data row0 col4\" >522</td>\n",
       "      <td id=\"T_d4716_row0_col5\" class=\"data row0 col5\" >2236</td>\n",
       "    </tr>\n",
       "  </tbody>\n",
       "</table>\n"
      ],
      "text/plain": [
       "<pandas.io.formats.style.Styler at 0x3189b7a50>"
      ]
     },
     "metadata": {},
     "output_type": "display_data"
    },
    {
     "name": "stdout",
     "output_type": "stream",
     "text": [
      "\u001b[33mMessage from classy_sz_response_formatter:\n",
      "\u001b[0m\n"
     ]
    },
    {
     "data": {
      "text/markdown": [
       "\n",
       "**File Search Task:**\n",
       "\n",
       "Research how to compute CMB temperature Cls using the `classy_sz` package\n",
       "\n",
       "**File Consulted:**\n",
       "\n",
       "classy_sz_cmb_cls.md\n",
       "\n",
       "**Results:**\n",
       "\n",
       "1. **Initialization**: You need to initialize the `classy_sz` class and call the `initialize_classy_szfast()` method.\n",
       "2. **Cosmological Parameters**: The parameters required include:\n",
       "   - \\( A_s \\): Amplitude of the primordial power spectrum\n",
       "   - \\( n_s \\): Spectral index\n",
       "   - \\( h \\): Dimensionless Hubble parameter\n",
       "   - \\( \\omega_b \\): Baryon density parameter\n",
       "   - \\( \\omega_{cdm} \\): Cold dark matter density parameter\n",
       "   - \\( \\tau_{reio} \\): Reionization optical depth\n",
       "3. **Computing Cls**: Use the `get_cmb_cls()` method to compute the CMB power spectra.\n",
       "4. **Plotting**: You can plot the results using matplotlib.\n",
       "\n",
       "\n",
       "**Python Code:**\n",
       "\n",
       "```python\n",
       "import numpy as np\n",
       "import matplotlib.pyplot as plt\n",
       "from classy_sz import Class as Class_sz\n",
       "\n",
       "# Initialize classy_sz\n",
       "classy_sz = Class_sz()\n",
       "classy_sz.initialize_classy_szfast()  # Initialization is crucial!\n",
       "\n",
       "# Set cosmological parameters\n",
       "params = {\n",
       "    'A_s': 2.1e-9,\n",
       "    'n_s': 0.965,\n",
       "    'h': 0.67,\n",
       "    'omega_b': 0.022,\n",
       "    'omega_cdm': 0.12,\n",
       "    'tau_reio': 0.06\n",
       "}\n",
       "\n",
       "# Compute CMB power spectra\n",
       "cls = classy_sz.get_cmb_cls(params_values_dict=params)\n",
       "ell = cls['ell']\n",
       "cl_tt = cls['tt']\n",
       "\n",
       "# Plot the CMB temperature power spectrum\n",
       "plt.figure(figsize=(10, 5))\n",
       "plt.plot(ell, ell * (ell + 1) * cl_tt / (2 * np.pi), label='TT')\n",
       "plt.xscale('log')\n",
       "plt.yscale('log')\n",
       "plt.xlabel(r'Multipole moment $\\ell$')\n",
       "plt.ylabel(r'$\\ell(\\ell+1)C_\\ell/(2\\pi)$')\n",
       "plt.title('CMB Temperature Power Spectrum')\n",
       "plt.legend()\n",
       "plt.grid(True)\n",
       "plt.show()\n",
       "```\n",
       "    "
      ],
      "text/plain": [
       "<IPython.core.display.Markdown object>"
      ]
     },
     "metadata": {},
     "output_type": "display_data"
    },
    {
     "name": "stdout",
     "output_type": "stream",
     "text": [
      "\u001b[31m\n",
      "Calling control...\n",
      "\u001b[0m\n"
     ]
    },
    {
     "data": {
      "text/html": [
       "<style type=\"text/css\">\n",
       "</style>\n",
       "<table id=\"T_a0273\">\n",
       "  <thead>\n",
       "    <tr>\n",
       "      <th id=\"T_a0273_level0_col0\" class=\"col_heading level0 col0\" >Model</th>\n",
       "      <th id=\"T_a0273_level0_col1\" class=\"col_heading level0 col1\" >agent</th>\n",
       "      <th id=\"T_a0273_level0_col2\" class=\"col_heading level0 col2\" >Cost</th>\n",
       "      <th id=\"T_a0273_level0_col3\" class=\"col_heading level0 col3\" >Prompt Tokens</th>\n",
       "      <th id=\"T_a0273_level0_col4\" class=\"col_heading level0 col4\" >Completion Tokens</th>\n",
       "      <th id=\"T_a0273_level0_col5\" class=\"col_heading level0 col5\" >Total Tokens</th>\n",
       "    </tr>\n",
       "  </thead>\n",
       "  <tbody>\n",
       "    <tr>\n",
       "      <td id=\"T_a0273_row0_col0\" class=\"data row0 col0\" >gpt-4o-mini-2024-07-18</td>\n",
       "      <td id=\"T_a0273_row0_col1\" class=\"data row0 col1\" >control</td>\n",
       "      <td id=\"T_a0273_row0_col2\" class=\"data row0 col2\" >0.00049</td>\n",
       "      <td id=\"T_a0273_row0_col3\" class=\"data row0 col3\" >2772</td>\n",
       "      <td id=\"T_a0273_row0_col4\" class=\"data row0 col4\" >128</td>\n",
       "      <td id=\"T_a0273_row0_col5\" class=\"data row0 col5\" >2900</td>\n",
       "    </tr>\n",
       "  </tbody>\n",
       "</table>\n"
      ],
      "text/plain": [
       "<pandas.io.formats.style.Styler at 0x3189b7c10>"
      ]
     },
     "metadata": {},
     "output_type": "display_data"
    },
    {
     "name": "stdout",
     "output_type": "stream",
     "text": [
      "\u001b[31mMessage from control:\n",
      "\u001b[0m\n"
     ]
    },
    {
     "data": {
      "text/markdown": [
       "\n",
       "**Step number:** 1 out of 2.\n",
       " \n",
       "**Sub-task:** Research how to compute CMB temperature Cls using the `classy_sz` package\n",
       " \n",
       "**Agent in charge of sub-task:** `classy_sz_agent`\n",
       " \n",
       "**Instructions:**\n",
       " \n",
       "Search the `classy_sz` documentation for functions and parameters required to compute CMB temperature angular power spectra (Cls). Identify input cosmological parameters (e.g., Ω_b, Ω_cdm, H₀) and any necessary configuration settings. Verify if there are example workflows or code snippets for generating Cls in the package’s documentation.\n",
       " \n",
       "**Status:** completed ✅\n",
       "    "
      ],
      "text/plain": [
       "<IPython.core.display.Markdown object>"
      ]
     },
     "metadata": {},
     "output_type": "display_data"
    },
    {
     "name": "stdout",
     "output_type": "stream",
     "text": [
      "\u001b[31m\n",
      "Calling control...\n",
      "\u001b[0m\n"
     ]
    },
    {
     "data": {
      "text/html": [
       "<style type=\"text/css\">\n",
       "</style>\n",
       "<table id=\"T_b42e4\">\n",
       "  <thead>\n",
       "    <tr>\n",
       "      <th id=\"T_b42e4_level0_col0\" class=\"col_heading level0 col0\" >Model</th>\n",
       "      <th id=\"T_b42e4_level0_col1\" class=\"col_heading level0 col1\" >agent</th>\n",
       "      <th id=\"T_b42e4_level0_col2\" class=\"col_heading level0 col2\" >Cost</th>\n",
       "      <th id=\"T_b42e4_level0_col3\" class=\"col_heading level0 col3\" >Prompt Tokens</th>\n",
       "      <th id=\"T_b42e4_level0_col4\" class=\"col_heading level0 col4\" >Completion Tokens</th>\n",
       "      <th id=\"T_b42e4_level0_col5\" class=\"col_heading level0 col5\" >Total Tokens</th>\n",
       "    </tr>\n",
       "  </thead>\n",
       "  <tbody>\n",
       "    <tr>\n",
       "      <td id=\"T_b42e4_row0_col0\" class=\"data row0 col0\" >gpt-4o-mini-2024-07-18</td>\n",
       "      <td id=\"T_b42e4_row0_col1\" class=\"data row0 col1\" >control</td>\n",
       "      <td id=\"T_b42e4_row0_col2\" class=\"data row0 col2\" >0.00048</td>\n",
       "      <td id=\"T_b42e4_row0_col3\" class=\"data row0 col3\" >3125</td>\n",
       "      <td id=\"T_b42e4_row0_col4\" class=\"data row0 col4\" >14</td>\n",
       "      <td id=\"T_b42e4_row0_col5\" class=\"data row0 col5\" >3139</td>\n",
       "    </tr>\n",
       "  </tbody>\n",
       "</table>\n"
      ],
      "text/plain": [
       "<pandas.io.formats.style.Styler at 0x319820fd0>"
      ]
     },
     "metadata": {},
     "output_type": "display_data"
    },
    {
     "name": "stdout",
     "output_type": "stream",
     "text": [
      "\u001b[31mMessage from control:\n",
      "\u001b[0m\n"
     ]
    },
    {
     "data": {
      "text/markdown": [
       "Transitioning to engineer!"
      ],
      "text/plain": [
       "<IPython.core.display.Markdown object>"
      ]
     },
     "metadata": {},
     "output_type": "display_data"
    },
    {
     "name": "stdout",
     "output_type": "stream",
     "text": [
      "\u001b[33m\n",
      "Calling engineer...\n",
      "\u001b[0m\n"
     ]
    },
    {
     "data": {
      "text/html": [
       "<style type=\"text/css\">\n",
       "</style>\n",
       "<table id=\"T_e987b\">\n",
       "  <thead>\n",
       "    <tr>\n",
       "      <th id=\"T_e987b_level0_col0\" class=\"col_heading level0 col0\" >Model</th>\n",
       "      <th id=\"T_e987b_level0_col1\" class=\"col_heading level0 col1\" >agent</th>\n",
       "      <th id=\"T_e987b_level0_col2\" class=\"col_heading level0 col2\" >Cost</th>\n",
       "      <th id=\"T_e987b_level0_col3\" class=\"col_heading level0 col3\" >Prompt Tokens</th>\n",
       "      <th id=\"T_e987b_level0_col4\" class=\"col_heading level0 col4\" >Completion Tokens</th>\n",
       "      <th id=\"T_e987b_level0_col5\" class=\"col_heading level0 col5\" >Total Tokens</th>\n",
       "    </tr>\n",
       "  </thead>\n",
       "  <tbody>\n",
       "    <tr>\n",
       "      <td id=\"T_e987b_row0_col0\" class=\"data row0 col0\" >deepseek-chat</td>\n",
       "      <td id=\"T_e987b_row0_col1\" class=\"data row0 col1\" >engineer</td>\n",
       "      <td id=\"T_e987b_row0_col2\" class=\"data row0 col2\" >0.00153</td>\n",
       "      <td id=\"T_e987b_row0_col3\" class=\"data row0 col3\" >3481</td>\n",
       "      <td id=\"T_e987b_row0_col4\" class=\"data row0 col4\" >540</td>\n",
       "      <td id=\"T_e987b_row0_col5\" class=\"data row0 col5\" >4021</td>\n",
       "    </tr>\n",
       "  </tbody>\n",
       "</table>\n"
      ],
      "text/plain": [
       "<pandas.io.formats.style.Styler at 0x319834090>"
      ]
     },
     "metadata": {},
     "output_type": "display_data"
    },
    {
     "name": "stdout",
     "output_type": "stream",
     "text": [
      "\u001b[33mMessage from engineer:\n",
      "\u001b[0m\n"
     ]
    },
    {
     "data": {
      "text/markdown": [
       "\n",
       "Forwarding content for formatting...\n"
      ],
      "text/plain": [
       "<IPython.core.display.Markdown object>"
      ]
     },
     "metadata": {},
     "output_type": "display_data"
    },
    {
     "name": "stdout",
     "output_type": "stream",
     "text": [
      "\u001b[33m\n",
      "Calling engineer_response_formatter...\n",
      "\u001b[0m\n"
     ]
    },
    {
     "data": {
      "text/html": [
       "<style type=\"text/css\">\n",
       "</style>\n",
       "<table id=\"T_f6ccb\">\n",
       "  <thead>\n",
       "    <tr>\n",
       "      <th id=\"T_f6ccb_level0_col0\" class=\"col_heading level0 col0\" >Model</th>\n",
       "      <th id=\"T_f6ccb_level0_col1\" class=\"col_heading level0 col1\" >agent</th>\n",
       "      <th id=\"T_f6ccb_level0_col2\" class=\"col_heading level0 col2\" >Cost</th>\n",
       "      <th id=\"T_f6ccb_level0_col3\" class=\"col_heading level0 col3\" >Prompt Tokens</th>\n",
       "      <th id=\"T_f6ccb_level0_col4\" class=\"col_heading level0 col4\" >Completion Tokens</th>\n",
       "      <th id=\"T_f6ccb_level0_col5\" class=\"col_heading level0 col5\" >Total Tokens</th>\n",
       "    </tr>\n",
       "  </thead>\n",
       "  <tbody>\n",
       "    <tr>\n",
       "      <td id=\"T_f6ccb_row0_col0\" class=\"data row0 col0\" >gpt-4o-mini-2024-07-18</td>\n",
       "      <td id=\"T_f6ccb_row0_col1\" class=\"data row0 col1\" >engineer_response_formatter</td>\n",
       "      <td id=\"T_f6ccb_row0_col2\" class=\"data row0 col2\" >0.00082</td>\n",
       "      <td id=\"T_f6ccb_row0_col3\" class=\"data row0 col3\" >3186</td>\n",
       "      <td id=\"T_f6ccb_row0_col4\" class=\"data row0 col4\" >573</td>\n",
       "      <td id=\"T_f6ccb_row0_col5\" class=\"data row0 col5\" >3759</td>\n",
       "    </tr>\n",
       "  </tbody>\n",
       "</table>\n"
      ],
      "text/plain": [
       "<pandas.io.formats.style.Styler at 0x319837e50>"
      ]
     },
     "metadata": {},
     "output_type": "display_data"
    },
    {
     "name": "stdout",
     "output_type": "stream",
     "text": [
      "\u001b[33mMessage from engineer_response_formatter:\n",
      "\u001b[0m\n"
     ]
    },
    {
     "data": {
      "text/markdown": [
       "**Code Explanation:**\n",
       "\n",
       "The following Python code initializes the `classy_sz` package, sets the necessary cosmological parameters, computes the CMB temperature Cls, and plots the results. The code ensures proper LaTeX rendering, detailed labeling, and grid lines. The plot is saved as a high-resolution PNG file in the `data/` folder. 1. **Initialization**: The `Class_sz` class is instantiated, and the initialization method is called. 2. **Setting Parameters**: A dictionary of cosmological parameters is created. 3. **Computing Cls**: The `get_cmb_cls()` method is called with the parameters to obtain the Cls. 4. **Plotting**: The results are plotted using matplotlib, showing the multipole moment \\( \\ell \\) against the CMB temperature power spectrum.\n",
       "\n",
       "**Python Code:**\n",
       "\n",
       "```python\n",
       "# filename: codebase/compute_cmb_temperature_cls.py\n",
       "import numpy as np\n",
       "import matplotlib.pyplot as plt\n",
       "from classy_sz import Class as Class_sz\n",
       "import os\n",
       "\n",
       "# Ensure the data directory exists\n",
       "os.makedirs('data', exist_ok=True)\n",
       "\n",
       "# Initialize classy_sz\n",
       "classy_sz = Class_sz()\n",
       "classy_sz.initialize_classy_szfast()  # Initialization is crucial!\n",
       "\n",
       "# Set cosmological parameters\n",
       "params = {\n",
       "    'A_s': 2.1e-9,\n",
       "    'n_s': 0.965,\n",
       "    'h': 0.67,\n",
       "    'omega_b': 0.022,\n",
       "    'omega_cdm': 0.12,\n",
       "    'tau_reio': 0.06\n",
       "}\n",
       "\n",
       "# Compute CMB power spectra\n",
       "cls = classy_sz.get_cmb_cls(params_values_dict=params)\n",
       "ell = cls['ell']\n",
       "cl_tt = cls['tt']\n",
       "\n",
       "# Plot the CMB temperature power spectrum\n",
       "plt.rcParams['text.usetex'] = True\n",
       "plt.rcParams['font.family'] = 'serif'\n",
       "plt.figure(figsize=(10, 5))\n",
       "plt.plot(ell, ell * (ell + 1) * cl_tt / (2 * np.pi), label='TT')\n",
       "plt.xscale('log')\n",
       "plt.yscale('log')\n",
       "plt.xlabel(r'Multipole moment $\\ell$')\n",
       "plt.ylabel(r'$\\ell(\\ell+1)C_\\ell/(2\\pi)$')\n",
       "plt.title('CMB Temperature Power Spectrum')\n",
       "plt.legend()\n",
       "plt.grid(True)\n",
       "\n",
       "# Save the plot to a high-resolution PNG file\n",
       "plt.savefig('data/cmb_temperature_cls.png', dpi=300, bbox_inches='tight')\n",
       "plt.close()\n",
       "```"
      ],
      "text/plain": [
       "<IPython.core.display.Markdown object>"
      ]
     },
     "metadata": {},
     "output_type": "display_data"
    },
    {
     "name": "stdout",
     "output_type": "stream",
     "text": [
      "\u001b[33m\n",
      "Calling executor...\n",
      "\u001b[0m\n",
      "\u001b[33mMessage from executor:\n",
      "\u001b[0m\n",
      "execution succeeded\n",
      "\u001b[31m\n",
      "Calling control...\n",
      "\u001b[0m\n"
     ]
    },
    {
     "data": {
      "text/html": [
       "<style type=\"text/css\">\n",
       "</style>\n",
       "<table id=\"T_9dd03\">\n",
       "  <thead>\n",
       "    <tr>\n",
       "      <th id=\"T_9dd03_level0_col0\" class=\"col_heading level0 col0\" >Model</th>\n",
       "      <th id=\"T_9dd03_level0_col1\" class=\"col_heading level0 col1\" >agent</th>\n",
       "      <th id=\"T_9dd03_level0_col2\" class=\"col_heading level0 col2\" >Cost</th>\n",
       "      <th id=\"T_9dd03_level0_col3\" class=\"col_heading level0 col3\" >Prompt Tokens</th>\n",
       "      <th id=\"T_9dd03_level0_col4\" class=\"col_heading level0 col4\" >Completion Tokens</th>\n",
       "      <th id=\"T_9dd03_level0_col5\" class=\"col_heading level0 col5\" >Total Tokens</th>\n",
       "    </tr>\n",
       "  </thead>\n",
       "  <tbody>\n",
       "    <tr>\n",
       "      <td id=\"T_9dd03_row0_col0\" class=\"data row0 col0\" >gpt-4o-mini-2024-07-18</td>\n",
       "      <td id=\"T_9dd03_row0_col1\" class=\"data row0 col1\" >control</td>\n",
       "      <td id=\"T_9dd03_row0_col2\" class=\"data row0 col2\" >0.00070</td>\n",
       "      <td id=\"T_9dd03_row0_col3\" class=\"data row0 col3\" >4223</td>\n",
       "      <td id=\"T_9dd03_row0_col4\" class=\"data row0 col4\" >116</td>\n",
       "      <td id=\"T_9dd03_row0_col5\" class=\"data row0 col5\" >4339</td>\n",
       "    </tr>\n",
       "  </tbody>\n",
       "</table>\n"
      ],
      "text/plain": [
       "<pandas.io.formats.style.Styler at 0x31881ba10>"
      ]
     },
     "metadata": {},
     "output_type": "display_data"
    },
    {
     "name": "stdout",
     "output_type": "stream",
     "text": [
      "\u001b[31mMessage from control:\n",
      "\u001b[0m\n"
     ]
    },
    {
     "data": {
      "image/png": "[encoded data removed]",
      "text/plain": [
       "<IPython.core.display.Image object>"
      ]
     },
     "metadata": {
      "image/png": {
       "width": 896
      }
     },
     "output_type": "display_data"
    },
    {
     "data": {
      "text/markdown": [
       "\n",
       "**Step number:** 2 out of 2.\n",
       " \n",
       "**Sub-task:** Implement and plot the Cls\n",
       " \n",
       "**Agent in charge of sub-task:** `engineer`\n",
       " \n",
       "**Instructions:**\n",
       " \n",
       "Write a Python script to initialize the `classy_sz` cosmology module with parameters from Step 1. Compute the temperature Cls using the appropriate function (e.g., `compute_cl()` or equivalent). Plot the results (e.g., multipole ℓ vs. Cl_tt) using matplotlib and save the figure as a PNG/PDF.\n",
       " \n",
       "**Status:** completed ✅\n",
       "    "
      ],
      "text/plain": [
       "<IPython.core.display.Markdown object>"
      ]
     },
     "metadata": {},
     "output_type": "display_data"
    },
    {
     "name": "stdout",
     "output_type": "stream",
     "text": [
      "\u001b[31m\n",
      "Calling control...\n",
      "\u001b[0m\n"
     ]
    },
    {
     "data": {
      "text/html": [
       "<style type=\"text/css\">\n",
       "</style>\n",
       "<table id=\"T_378f9\">\n",
       "  <thead>\n",
       "    <tr>\n",
       "      <th id=\"T_378f9_level0_col0\" class=\"col_heading level0 col0\" >Model</th>\n",
       "      <th id=\"T_378f9_level0_col1\" class=\"col_heading level0 col1\" >agent</th>\n",
       "      <th id=\"T_378f9_level0_col2\" class=\"col_heading level0 col2\" >Cost</th>\n",
       "      <th id=\"T_378f9_level0_col3\" class=\"col_heading level0 col3\" >Prompt Tokens</th>\n",
       "      <th id=\"T_378f9_level0_col4\" class=\"col_heading level0 col4\" >Completion Tokens</th>\n",
       "      <th id=\"T_378f9_level0_col5\" class=\"col_heading level0 col5\" >Total Tokens</th>\n",
       "    </tr>\n",
       "  </thead>\n",
       "  <tbody>\n",
       "    <tr>\n",
       "      <td id=\"T_378f9_row0_col0\" class=\"data row0 col0\" >gpt-4o-mini-2024-07-18</td>\n",
       "      <td id=\"T_378f9_row0_col1\" class=\"data row0 col1\" >control</td>\n",
       "      <td id=\"T_378f9_row0_col2\" class=\"data row0 col2\" >0.00068</td>\n",
       "      <td id=\"T_378f9_row0_col3\" class=\"data row0 col3\" >4454</td>\n",
       "      <td id=\"T_378f9_row0_col4\" class=\"data row0 col4\" >13</td>\n",
       "      <td id=\"T_378f9_row0_col5\" class=\"data row0 col5\" >4467</td>\n",
       "    </tr>\n",
       "  </tbody>\n",
       "</table>\n"
      ],
      "text/plain": [
       "<pandas.io.formats.style.Styler at 0x3189654d0>"
      ]
     },
     "metadata": {},
     "output_type": "display_data"
    },
    {
     "name": "stdout",
     "output_type": "stream",
     "text": [
      "\u001b[31mMessage from control:\n",
      "\u001b[0m\n"
     ]
    },
    {
     "data": {
      "text/markdown": [
       "Transitioning to admin!"
      ],
      "text/plain": [
       "<IPython.core.display.Markdown object>"
      ]
     },
     "metadata": {},
     "output_type": "display_data"
    },
    {
     "name": "stdout",
     "output_type": "stream",
     "text": [
      "\u001b[32m\n",
      "Calling admin...\n",
      "\u001b[0m\n"
     ]
    }
   ],
   "source": [
    "task = r\"\"\"\n",
    "Task: Compute and plot cmb temperature cls.\n",
    "\"\"\"\n",
    "\n",
    "cmbagent.solve(task,\n",
    "               max_rounds=500,\n",
    "               shared_context = {'feedback_left': 0,\n",
    "                                 'maximum_number_of_steps_in_plan': 3})"
   ]
  },
  {
   "cell_type": "code",
   "execution_count": 9,
   "id": "635666f4",
   "metadata": {},
   "outputs": [
    {
     "data": {
      "text/html": [
       "<div>\n",
       "<style scoped>\n",
       "    .dataframe tbody tr th:only-of-type {\n",
       "        vertical-align: middle;\n",
       "    }\n",
       "\n",
       "    .dataframe tbody tr th {\n",
       "        vertical-align: top;\n",
       "    }\n",
       "\n",
       "    .dataframe thead th {\n",
       "        text-align: right;\n",
       "    }\n",
       "</style>\n",
       "<table border=\"1\" class=\"dataframe\">\n",
       "  <thead>\n",
       "    <tr style=\"text-align: right;\">\n",
       "      <th></th>\n",
       "      <th>Agent</th>\n",
       "      <th>Cost</th>\n",
       "      <th>Prompt Tokens</th>\n",
       "      <th>Completion Tokens</th>\n",
       "      <th>Total Tokens</th>\n",
       "    </tr>\n",
       "  </thead>\n",
       "  <tbody>\n",
       "    <tr>\n",
       "      <th>0</th>\n",
       "      <td>classy sz</td>\n",
       "      <td>0.001048</td>\n",
       "      <td>4273.0</td>\n",
       "      <td>679.0</td>\n",
       "      <td>4952.0</td>\n",
       "    </tr>\n",
       "    <tr>\n",
       "      <th>1</th>\n",
       "      <td>planner response formatter</td>\n",
       "      <td>0.000187</td>\n",
       "      <td>425.0</td>\n",
       "      <td>205.0</td>\n",
       "      <td>630.0</td>\n",
       "    </tr>\n",
       "    <tr>\n",
       "      <th>2</th>\n",
       "      <td>engineer response formatter</td>\n",
       "      <td>0.000822</td>\n",
       "      <td>3186.0</td>\n",
       "      <td>573.0</td>\n",
       "      <td>3759.0</td>\n",
       "    </tr>\n",
       "    <tr>\n",
       "      <th>3</th>\n",
       "      <td>planner</td>\n",
       "      <td>0.000000</td>\n",
       "      <td>306.0</td>\n",
       "      <td>2916.0</td>\n",
       "      <td>3222.0</td>\n",
       "    </tr>\n",
       "    <tr>\n",
       "      <th>4</th>\n",
       "      <td>plan recorder</td>\n",
       "      <td>0.000265</td>\n",
       "      <td>730.0</td>\n",
       "      <td>260.0</td>\n",
       "      <td>990.0</td>\n",
       "    </tr>\n",
       "    <tr>\n",
       "      <th>5</th>\n",
       "      <td>classy sz response formatter</td>\n",
       "      <td>0.000570</td>\n",
       "      <td>1714.0</td>\n",
       "      <td>522.0</td>\n",
       "      <td>2236.0</td>\n",
       "    </tr>\n",
       "    <tr>\n",
       "      <th>6</th>\n",
       "      <td>control</td>\n",
       "      <td>0.002596</td>\n",
       "      <td>16162.0</td>\n",
       "      <td>287.0</td>\n",
       "      <td>16449.0</td>\n",
       "    </tr>\n",
       "    <tr>\n",
       "      <th>7</th>\n",
       "      <td>engineer</td>\n",
       "      <td>0.001534</td>\n",
       "      <td>3481.0</td>\n",
       "      <td>540.0</td>\n",
       "      <td>4021.0</td>\n",
       "    </tr>\n",
       "    <tr>\n",
       "      <th>Total</th>\n",
       "      <td>NaN</td>\n",
       "      <td>0.007023</td>\n",
       "      <td>30277.0</td>\n",
       "      <td>5982.0</td>\n",
       "      <td>36259.0</td>\n",
       "    </tr>\n",
       "  </tbody>\n",
       "</table>\n",
       "</div>"
      ],
      "text/plain": [
       "                              Agent      Cost  Prompt Tokens  \\\n",
       "0                         classy sz  0.001048         4273.0   \n",
       "1        planner response formatter  0.000187          425.0   \n",
       "2       engineer response formatter  0.000822         3186.0   \n",
       "3                           planner  0.000000          306.0   \n",
       "4                     plan recorder  0.000265          730.0   \n",
       "5      classy sz response formatter  0.000570         1714.0   \n",
       "6                           control  0.002596        16162.0   \n",
       "7                          engineer  0.001534         3481.0   \n",
       "Total                           NaN  0.007023        30277.0   \n",
       "\n",
       "       Completion Tokens  Total Tokens  \n",
       "0                  679.0        4952.0  \n",
       "1                  205.0         630.0  \n",
       "2                  573.0        3759.0  \n",
       "3                 2916.0        3222.0  \n",
       "4                  260.0         990.0  \n",
       "5                  522.0        2236.0  \n",
       "6                  287.0       16449.0  \n",
       "7                  540.0        4021.0  \n",
       "Total             5982.0       36259.0  "
      ]
     },
     "metadata": {},
     "output_type": "display_data"
    }
   ],
   "source": [
    "# Create a dummy groupchat attribute if it doesn't exist\n",
    "if not hasattr(cmbagent, 'groupchat'):\n",
    "    Dummy = type('Dummy', (object,), {'new_conversable_agents': []})\n",
    "    cmbagent.groupchat = Dummy()\n",
    "\n",
    "# Now call display_cost without triggering the AttributeError\n",
    "cmbagent.display_cost()\n"
   ]
  },
  {
   "cell_type": "markdown",
   "id": "daf1162e-d0ad-4024-8021-ecd61e4c105f",
   "metadata": {},
   "source": [
    "## Context"
   ]
  }
 ],
 "metadata": {
  "kernelspec": {
   "display_name": "cmbagent_env",
   "language": "python",
   "name": "python3"
  },
  "language_info": {
   "codemirror_mode": {
    "name": "ipython",
    "version": 3
   },
   "file_extension": ".py",
   "mimetype": "text/x-python",
   "name": "python",
   "nbconvert_exporter": "python",
   "pygments_lexer": "ipython3",
   "version": "3.11.11"
  }
 },
 "nbformat": 4,
 "nbformat_minor": 5
}

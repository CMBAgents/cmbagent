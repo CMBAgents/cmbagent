{
  "nbformat": 4,
  "nbformat_minor": 0,
  "metadata": {
    "colab": {
      "provenance": [],
      "toc_visible": true,
      "authorship_tag": "ABX9TyPrgPQLnOQnosH8XvOuOrM2",
      "include_colab_link": true
    },
    "kernelspec": {
      "name": "python3",
      "display_name": "Python 3"
    },
    "language_info": {
      "name": "python"
    }
  },
  "cells": [
    {
      "cell_type": "markdown",
      "metadata": {
        "id": "view-in-github",
        "colab_type": "text"
      },
      "source": [
        "<a href=\"https://colab.research.google.com/github/CMBAgents/cmbagent/blob/main/docs/notebooks/cmbagent_colab.ipynb\" target=\"_parent\"><img src=\"https://colab.research.google.com/assets/colab-badge.svg\" alt=\"Open In Colab\"/></a>"
      ]
    },
    {
      "cell_type": "markdown",
      "source": [
        "# Installation"
      ],
      "metadata": {
        "id": "sqkJjqmCw8dy"
      }
    },
    {
      "cell_type": "markdown",
      "source": [
        "To ensure package dependencies are consistant first do:"
      ],
      "metadata": {
        "id": "faXWJx1_5frd"
      }
    },
    {
      "cell_type": "code",
      "source": [
        "pip install --upgrade openai httpx"
      ],
      "metadata": {
        "colab": {
          "base_uri": "https://localhost:8080/"
        },
        "collapsed": true,
        "id": "_9hR4Ip-5l9H",
        "outputId": "2b367866-3cf8-4e14-8107-f51ded281434"
      },
      "execution_count": 17,
      "outputs": [
        {
          "output_type": "stream",
          "name": "stdout",
          "text": [
            "Requirement already satisfied: openai in /usr/local/lib/python3.10/dist-packages (1.54.5)\n",
            "Collecting openai\n",
            "  Downloading openai-1.57.4-py3-none-any.whl.metadata (24 kB)\n",
            "Requirement already satisfied: httpx in /usr/local/lib/python3.10/dist-packages (0.28.1)\n",
            "Requirement already satisfied: anyio<5,>=3.5.0 in /usr/local/lib/python3.10/dist-packages (from openai) (3.7.1)\n",
            "Requirement already satisfied: distro<2,>=1.7.0 in /usr/local/lib/python3.10/dist-packages (from openai) (1.9.0)\n",
            "Requirement already satisfied: jiter<1,>=0.4.0 in /usr/local/lib/python3.10/dist-packages (from openai) (0.8.2)\n",
            "Requirement already satisfied: pydantic<3,>=1.9.0 in /usr/local/lib/python3.10/dist-packages (from openai) (2.10.3)\n",
            "Requirement already satisfied: sniffio in /usr/local/lib/python3.10/dist-packages (from openai) (1.3.1)\n",
            "Requirement already satisfied: tqdm>4 in /usr/local/lib/python3.10/dist-packages (from openai) (4.66.6)\n",
            "Requirement already satisfied: typing-extensions<5,>=4.11 in /usr/local/lib/python3.10/dist-packages (from openai) (4.12.2)\n",
            "Requirement already satisfied: certifi in /usr/local/lib/python3.10/dist-packages (from httpx) (2024.8.30)\n",
            "Requirement already satisfied: httpcore==1.* in /usr/local/lib/python3.10/dist-packages (from httpx) (1.0.7)\n",
            "Requirement already satisfied: idna in /usr/local/lib/python3.10/dist-packages (from httpx) (3.10)\n",
            "Requirement already satisfied: h11<0.15,>=0.13 in /usr/local/lib/python3.10/dist-packages (from httpcore==1.*->httpx) (0.14.0)\n",
            "Requirement already satisfied: exceptiongroup in /usr/local/lib/python3.10/dist-packages (from anyio<5,>=3.5.0->openai) (1.2.2)\n",
            "Requirement already satisfied: annotated-types>=0.6.0 in /usr/local/lib/python3.10/dist-packages (from pydantic<3,>=1.9.0->openai) (0.7.0)\n",
            "Requirement already satisfied: pydantic-core==2.27.1 in /usr/local/lib/python3.10/dist-packages (from pydantic<3,>=1.9.0->openai) (2.27.1)\n",
            "Downloading openai-1.57.4-py3-none-any.whl (390 kB)\n",
            "\u001b[2K   \u001b[90m━━━━━━━━━━━━━━━━━━━━━━━━━━━━━━━━━━━━━━━━\u001b[0m \u001b[32m390.3/390.3 kB\u001b[0m \u001b[31m7.7 MB/s\u001b[0m eta \u001b[36m0:00:00\u001b[0m\n",
            "\u001b[?25hInstalling collected packages: openai\n",
            "  Attempting uninstall: openai\n",
            "    Found existing installation: openai 1.54.5\n",
            "    Uninstalling openai-1.54.5:\n",
            "      Successfully uninstalled openai-1.54.5\n",
            "Successfully installed openai-1.57.4\n"
          ]
        }
      ]
    },
    {
      "cell_type": "markdown",
      "source": [
        "After running this code, restart your runtime (i.e., restart session).\n",
        "\n",
        "Then the latest openai version should show up from the cell below."
      ],
      "metadata": {
        "id": "QC--Ql7w56ph"
      }
    },
    {
      "cell_type": "code",
      "source": [
        "import openai\n",
        "openai.__version__"
      ],
      "metadata": {
        "colab": {
          "base_uri": "https://localhost:8080/",
          "height": 35
        },
        "id": "fYjZiIPj6GdP",
        "outputId": "25e9137d-42b7-4a37-de31-ddc21e128dd8"
      },
      "execution_count": 1,
      "outputs": [
        {
          "output_type": "execute_result",
          "data": {
            "text/plain": [
              "'1.57.4'"
            ],
            "application/vnd.google.colaboratory.intrinsic+json": {
              "type": "string"
            }
          },
          "metadata": {},
          "execution_count": 1
        }
      ]
    },
    {
      "cell_type": "markdown",
      "source": [
        "## OpenAI API key\n",
        "\n",
        "The key can be set in the secrets panels (see key icon) in left panel of colab workspace.\n",
        "\n"
      ],
      "metadata": {
        "id": "AMwRDLA-0G4B"
      }
    },
    {
      "cell_type": "code",
      "source": [
        "import json\n",
        "from openai import OpenAI\n",
        "import os\n",
        "from google.colab import userdata"
      ],
      "metadata": {
        "id": "u2HIw-4g0KzR"
      },
      "execution_count": 2,
      "outputs": []
    },
    {
      "cell_type": "markdown",
      "source": [
        "It can the be acccessed via:"
      ],
      "metadata": {
        "id": "0fKxaFKC03sN"
      }
    },
    {
      "cell_type": "code",
      "source": [
        "userdata.get('OAIKEY')"
      ],
      "metadata": {
        "id": "goA2dz-o03UR"
      },
      "execution_count": 3,
      "outputs": []
    },
    {
      "cell_type": "markdown",
      "source": [
        "## Install cmbagent from PyPi"
      ],
      "metadata": {
        "id": "PejR8pzSxA0J"
      }
    },
    {
      "cell_type": "code",
      "source": [
        "pip install cmbagent"
      ],
      "metadata": {
        "colab": {
          "base_uri": "https://localhost:8080/"
        },
        "collapsed": true,
        "id": "6DR83Ve5w70n",
        "outputId": "d65c77b0-cb5f-42fb-9588-474329e89aaf"
      },
      "execution_count": 3,
      "outputs": [
        {
          "output_type": "stream",
          "name": "stdout",
          "text": [
            "Requirement already satisfied: cmbagent in /usr/local/lib/python3.10/dist-packages (0.0.1.post1)\n",
            "Requirement already satisfied: numpy>=1.19.0 in /usr/local/lib/python3.10/dist-packages (from cmbagent) (1.26.4)\n",
            "Requirement already satisfied: camb in /usr/local/lib/python3.10/dist-packages (from cmbagent) (1.5.9)\n",
            "Requirement already satisfied: cobaya in /usr/local/lib/python3.10/dist-packages (from cmbagent) (3.5.4)\n",
            "Requirement already satisfied: getdist in /usr/local/lib/python3.10/dist-packages (from cmbagent) (1.5.4)\n",
            "Requirement already satisfied: classy_sz in /usr/local/lib/python3.10/dist-packages (from cmbagent) (0.1.70.post8)\n",
            "Requirement already satisfied: cmbagent_autogen>=0.0.6post1 in /usr/local/lib/python3.10/dist-packages (from cmbagent) (0.0.6.post1)\n",
            "Requirement already satisfied: ruamel.yaml in /usr/local/lib/python3.10/dist-packages (from cmbagent) (0.18.6)\n",
            "Requirement already satisfied: pandas in /usr/local/lib/python3.10/dist-packages (from cmbagent) (2.2.2)\n",
            "Requirement already satisfied: ipython in /usr/local/lib/python3.10/dist-packages (from cmbagent) (7.34.0)\n",
            "Requirement already satisfied: diskcache in /usr/local/lib/python3.10/dist-packages (from cmbagent_autogen>=0.0.6post1->cmbagent) (5.6.3)\n",
            "Requirement already satisfied: docker in /usr/local/lib/python3.10/dist-packages (from cmbagent_autogen>=0.0.6post1->cmbagent) (7.1.0)\n",
            "Requirement already satisfied: flaml in /usr/local/lib/python3.10/dist-packages (from cmbagent_autogen>=0.0.6post1->cmbagent) (2.3.2)\n",
            "Requirement already satisfied: openai>=1.3 in /usr/local/lib/python3.10/dist-packages (from cmbagent_autogen>=0.0.6post1->cmbagent) (1.57.4)\n",
            "Requirement already satisfied: packaging in /usr/local/lib/python3.10/dist-packages (from cmbagent_autogen>=0.0.6post1->cmbagent) (24.2)\n",
            "Requirement already satisfied: pydantic!=2.6.0,<3,>=1.10 in /usr/local/lib/python3.10/dist-packages (from cmbagent_autogen>=0.0.6post1->cmbagent) (2.10.3)\n",
            "Requirement already satisfied: python-dotenv in /usr/local/lib/python3.10/dist-packages (from cmbagent_autogen>=0.0.6post1->cmbagent) (1.0.1)\n",
            "Requirement already satisfied: termcolor in /usr/local/lib/python3.10/dist-packages (from cmbagent_autogen>=0.0.6post1->cmbagent) (2.5.0)\n",
            "Requirement already satisfied: tiktoken in /usr/local/lib/python3.10/dist-packages (from cmbagent_autogen>=0.0.6post1->cmbagent) (0.8.0)\n",
            "Requirement already satisfied: scipy>=1.0 in /usr/local/lib/python3.10/dist-packages (from camb->cmbagent) (1.13.1)\n",
            "Requirement already satisfied: sympy>=1.0 in /usr/local/lib/python3.10/dist-packages (from camb->cmbagent) (1.13.1)\n",
            "Requirement already satisfied: classy_szfast>=0.0.25.post11 in /usr/local/lib/python3.10/dist-packages (from classy_sz->cmbagent) (0.0.25.post11)\n",
            "Requirement already satisfied: PyYAML>=5.1 in /usr/local/lib/python3.10/dist-packages (from cobaya->cmbagent) (6.0.2)\n",
            "Requirement already satisfied: requests>=2.18 in /usr/local/lib/python3.10/dist-packages (from cobaya->cmbagent) (2.32.3)\n",
            "Requirement already satisfied: py-bobyqa>=1.4 in /usr/local/lib/python3.10/dist-packages (from cobaya->cmbagent) (1.5.0)\n",
            "Requirement already satisfied: fuzzywuzzy>=0.17 in /usr/local/lib/python3.10/dist-packages (from cobaya->cmbagent) (0.18.0)\n",
            "Requirement already satisfied: tqdm in /usr/local/lib/python3.10/dist-packages (from cobaya->cmbagent) (4.66.6)\n",
            "Requirement already satisfied: portalocker>=2.3.0 in /usr/local/lib/python3.10/dist-packages (from cobaya->cmbagent) (3.0.0)\n",
            "Requirement already satisfied: dill>=0.3.3 in /usr/local/lib/python3.10/dist-packages (from cobaya->cmbagent) (0.3.9)\n",
            "Requirement already satisfied: matplotlib!=3.5.0,>=2.2.0 in /usr/local/lib/python3.10/dist-packages (from getdist->cmbagent) (3.8.0)\n",
            "Requirement already satisfied: python-dateutil>=2.8.2 in /usr/local/lib/python3.10/dist-packages (from pandas->cmbagent) (2.8.2)\n",
            "Requirement already satisfied: pytz>=2020.1 in /usr/local/lib/python3.10/dist-packages (from pandas->cmbagent) (2024.2)\n",
            "Requirement already satisfied: tzdata>=2022.7 in /usr/local/lib/python3.10/dist-packages (from pandas->cmbagent) (2024.2)\n",
            "Requirement already satisfied: setuptools>=18.5 in /usr/local/lib/python3.10/dist-packages (from ipython->cmbagent) (75.1.0)\n",
            "Requirement already satisfied: jedi>=0.16 in /usr/local/lib/python3.10/dist-packages (from ipython->cmbagent) (0.19.2)\n",
            "Requirement already satisfied: decorator in /usr/local/lib/python3.10/dist-packages (from ipython->cmbagent) (4.4.2)\n",
            "Requirement already satisfied: pickleshare in /usr/local/lib/python3.10/dist-packages (from ipython->cmbagent) (0.7.5)\n",
            "Requirement already satisfied: traitlets>=4.2 in /usr/local/lib/python3.10/dist-packages (from ipython->cmbagent) (5.7.1)\n",
            "Requirement already satisfied: prompt-toolkit!=3.0.0,!=3.0.1,<3.1.0,>=2.0.0 in /usr/local/lib/python3.10/dist-packages (from ipython->cmbagent) (3.0.48)\n",
            "Requirement already satisfied: pygments in /usr/local/lib/python3.10/dist-packages (from ipython->cmbagent) (2.18.0)\n",
            "Requirement already satisfied: backcall in /usr/local/lib/python3.10/dist-packages (from ipython->cmbagent) (0.2.0)\n",
            "Requirement already satisfied: matplotlib-inline in /usr/local/lib/python3.10/dist-packages (from ipython->cmbagent) (0.1.7)\n",
            "Requirement already satisfied: pexpect>4.3 in /usr/local/lib/python3.10/dist-packages (from ipython->cmbagent) (4.9.0)\n",
            "Requirement already satisfied: ruamel.yaml.clib>=0.2.7 in /usr/local/lib/python3.10/dist-packages (from ruamel.yaml->cmbagent) (0.2.12)\n",
            "Requirement already satisfied: Cython>=0.29.21 in /usr/local/lib/python3.10/dist-packages (from classy_szfast>=0.0.25.post11->classy_sz->cmbagent) (3.0.11)\n",
            "Requirement already satisfied: tensorflow in /usr/local/lib/python3.10/dist-packages (from classy_szfast>=0.0.25.post11->classy_sz->cmbagent) (2.17.1)\n",
            "Requirement already satisfied: mcfit>=0.0.22 in /usr/local/lib/python3.10/dist-packages (from classy_szfast>=0.0.25.post11->classy_sz->cmbagent) (0.0.22)\n",
            "Requirement already satisfied: get_cosmopower_emus>=0.0.15 in /usr/local/lib/python3.10/dist-packages (from classy_szfast>=0.0.25.post11->classy_sz->cmbagent) (0.0.16)\n",
            "Requirement already satisfied: class_sz_data>=0.0.13 in /usr/local/lib/python3.10/dist-packages (from classy_szfast>=0.0.25.post11->classy_sz->cmbagent) (0.0.14)\n",
            "Requirement already satisfied: cosmopower-jax in /usr/local/lib/python3.10/dist-packages (from classy_szfast>=0.0.25.post11->classy_sz->cmbagent) (0.5.5)\n",
            "Requirement already satisfied: parso<0.9.0,>=0.8.4 in /usr/local/lib/python3.10/dist-packages (from jedi>=0.16->ipython->cmbagent) (0.8.4)\n",
            "Requirement already satisfied: contourpy>=1.0.1 in /usr/local/lib/python3.10/dist-packages (from matplotlib!=3.5.0,>=2.2.0->getdist->cmbagent) (1.3.1)\n",
            "Requirement already satisfied: cycler>=0.10 in /usr/local/lib/python3.10/dist-packages (from matplotlib!=3.5.0,>=2.2.0->getdist->cmbagent) (0.12.1)\n",
            "Requirement already satisfied: fonttools>=4.22.0 in /usr/local/lib/python3.10/dist-packages (from matplotlib!=3.5.0,>=2.2.0->getdist->cmbagent) (4.55.3)\n",
            "Requirement already satisfied: kiwisolver>=1.0.1 in /usr/local/lib/python3.10/dist-packages (from matplotlib!=3.5.0,>=2.2.0->getdist->cmbagent) (1.4.7)\n",
            "Requirement already satisfied: pillow>=6.2.0 in /usr/local/lib/python3.10/dist-packages (from matplotlib!=3.5.0,>=2.2.0->getdist->cmbagent) (11.0.0)\n",
            "Requirement already satisfied: pyparsing>=2.3.1 in /usr/local/lib/python3.10/dist-packages (from matplotlib!=3.5.0,>=2.2.0->getdist->cmbagent) (3.2.0)\n",
            "Requirement already satisfied: anyio<5,>=3.5.0 in /usr/local/lib/python3.10/dist-packages (from openai>=1.3->cmbagent_autogen>=0.0.6post1->cmbagent) (3.7.1)\n",
            "Requirement already satisfied: distro<2,>=1.7.0 in /usr/local/lib/python3.10/dist-packages (from openai>=1.3->cmbagent_autogen>=0.0.6post1->cmbagent) (1.9.0)\n",
            "Requirement already satisfied: httpx<1,>=0.23.0 in /usr/local/lib/python3.10/dist-packages (from openai>=1.3->cmbagent_autogen>=0.0.6post1->cmbagent) (0.28.1)\n",
            "Requirement already satisfied: jiter<1,>=0.4.0 in /usr/local/lib/python3.10/dist-packages (from openai>=1.3->cmbagent_autogen>=0.0.6post1->cmbagent) (0.8.2)\n",
            "Requirement already satisfied: sniffio in /usr/local/lib/python3.10/dist-packages (from openai>=1.3->cmbagent_autogen>=0.0.6post1->cmbagent) (1.3.1)\n",
            "Requirement already satisfied: typing-extensions<5,>=4.11 in /usr/local/lib/python3.10/dist-packages (from openai>=1.3->cmbagent_autogen>=0.0.6post1->cmbagent) (4.12.2)\n",
            "Requirement already satisfied: ptyprocess>=0.5 in /usr/local/lib/python3.10/dist-packages (from pexpect>4.3->ipython->cmbagent) (0.7.0)\n",
            "Requirement already satisfied: wcwidth in /usr/local/lib/python3.10/dist-packages (from prompt-toolkit!=3.0.0,!=3.0.1,<3.1.0,>=2.0.0->ipython->cmbagent) (0.2.13)\n",
            "Requirement already satisfied: annotated-types>=0.6.0 in /usr/local/lib/python3.10/dist-packages (from pydantic!=2.6.0,<3,>=1.10->cmbagent_autogen>=0.0.6post1->cmbagent) (0.7.0)\n",
            "Requirement already satisfied: pydantic-core==2.27.1 in /usr/local/lib/python3.10/dist-packages (from pydantic!=2.6.0,<3,>=1.10->cmbagent_autogen>=0.0.6post1->cmbagent) (2.27.1)\n",
            "Requirement already satisfied: six>=1.5 in /usr/local/lib/python3.10/dist-packages (from python-dateutil>=2.8.2->pandas->cmbagent) (1.17.0)\n",
            "Requirement already satisfied: charset-normalizer<4,>=2 in /usr/local/lib/python3.10/dist-packages (from requests>=2.18->cobaya->cmbagent) (3.4.0)\n",
            "Requirement already satisfied: idna<4,>=2.5 in /usr/local/lib/python3.10/dist-packages (from requests>=2.18->cobaya->cmbagent) (3.10)\n",
            "Requirement already satisfied: urllib3<3,>=1.21.1 in /usr/local/lib/python3.10/dist-packages (from requests>=2.18->cobaya->cmbagent) (2.2.3)\n",
            "Requirement already satisfied: certifi>=2017.4.17 in /usr/local/lib/python3.10/dist-packages (from requests>=2.18->cobaya->cmbagent) (2024.8.30)\n",
            "Requirement already satisfied: mpmath<1.4,>=1.1.0 in /usr/local/lib/python3.10/dist-packages (from sympy>=1.0->camb->cmbagent) (1.3.0)\n",
            "Requirement already satisfied: regex>=2022.1.18 in /usr/local/lib/python3.10/dist-packages (from tiktoken->cmbagent_autogen>=0.0.6post1->cmbagent) (2024.9.11)\n",
            "Requirement already satisfied: exceptiongroup in /usr/local/lib/python3.10/dist-packages (from anyio<5,>=3.5.0->openai>=1.3->cmbagent_autogen>=0.0.6post1->cmbagent) (1.2.2)\n",
            "Requirement already satisfied: httpcore==1.* in /usr/local/lib/python3.10/dist-packages (from httpx<1,>=0.23.0->openai>=1.3->cmbagent_autogen>=0.0.6post1->cmbagent) (1.0.7)\n",
            "Requirement already satisfied: h11<0.15,>=0.13 in /usr/local/lib/python3.10/dist-packages (from httpcore==1.*->httpx<1,>=0.23.0->openai>=1.3->cmbagent_autogen>=0.0.6post1->cmbagent) (0.14.0)\n",
            "Requirement already satisfied: jax in /usr/local/lib/python3.10/dist-packages (from cosmopower-jax->classy_szfast>=0.0.25.post11->classy_sz->cmbagent) (0.4.33)\n",
            "Requirement already satisfied: jaxlib in /usr/local/lib/python3.10/dist-packages (from cosmopower-jax->classy_szfast>=0.0.25.post11->classy_sz->cmbagent) (0.4.33)\n",
            "Requirement already satisfied: absl-py>=1.0.0 in /usr/local/lib/python3.10/dist-packages (from tensorflow->classy_szfast>=0.0.25.post11->classy_sz->cmbagent) (1.4.0)\n",
            "Requirement already satisfied: astunparse>=1.6.0 in /usr/local/lib/python3.10/dist-packages (from tensorflow->classy_szfast>=0.0.25.post11->classy_sz->cmbagent) (1.6.3)\n",
            "Requirement already satisfied: flatbuffers>=24.3.25 in /usr/local/lib/python3.10/dist-packages (from tensorflow->classy_szfast>=0.0.25.post11->classy_sz->cmbagent) (24.3.25)\n",
            "Requirement already satisfied: gast!=0.5.0,!=0.5.1,!=0.5.2,>=0.2.1 in /usr/local/lib/python3.10/dist-packages (from tensorflow->classy_szfast>=0.0.25.post11->classy_sz->cmbagent) (0.6.0)\n",
            "Requirement already satisfied: google-pasta>=0.1.1 in /usr/local/lib/python3.10/dist-packages (from tensorflow->classy_szfast>=0.0.25.post11->classy_sz->cmbagent) (0.2.0)\n",
            "Requirement already satisfied: h5py>=3.10.0 in /usr/local/lib/python3.10/dist-packages (from tensorflow->classy_szfast>=0.0.25.post11->classy_sz->cmbagent) (3.12.1)\n",
            "Requirement already satisfied: libclang>=13.0.0 in /usr/local/lib/python3.10/dist-packages (from tensorflow->classy_szfast>=0.0.25.post11->classy_sz->cmbagent) (18.1.1)\n",
            "Requirement already satisfied: ml-dtypes<0.5.0,>=0.3.1 in /usr/local/lib/python3.10/dist-packages (from tensorflow->classy_szfast>=0.0.25.post11->classy_sz->cmbagent) (0.4.1)\n",
            "Requirement already satisfied: opt-einsum>=2.3.2 in /usr/local/lib/python3.10/dist-packages (from tensorflow->classy_szfast>=0.0.25.post11->classy_sz->cmbagent) (3.4.0)\n",
            "Requirement already satisfied: protobuf!=4.21.0,!=4.21.1,!=4.21.2,!=4.21.3,!=4.21.4,!=4.21.5,<5.0.0dev,>=3.20.3 in /usr/local/lib/python3.10/dist-packages (from tensorflow->classy_szfast>=0.0.25.post11->classy_sz->cmbagent) (4.25.5)\n",
            "Requirement already satisfied: wrapt>=1.11.0 in /usr/local/lib/python3.10/dist-packages (from tensorflow->classy_szfast>=0.0.25.post11->classy_sz->cmbagent) (1.17.0)\n",
            "Requirement already satisfied: grpcio<2.0,>=1.24.3 in /usr/local/lib/python3.10/dist-packages (from tensorflow->classy_szfast>=0.0.25.post11->classy_sz->cmbagent) (1.68.1)\n",
            "Requirement already satisfied: tensorboard<2.18,>=2.17 in /usr/local/lib/python3.10/dist-packages (from tensorflow->classy_szfast>=0.0.25.post11->classy_sz->cmbagent) (2.17.1)\n",
            "Requirement already satisfied: keras>=3.2.0 in /usr/local/lib/python3.10/dist-packages (from tensorflow->classy_szfast>=0.0.25.post11->classy_sz->cmbagent) (3.5.0)\n",
            "Requirement already satisfied: tensorflow-io-gcs-filesystem>=0.23.1 in /usr/local/lib/python3.10/dist-packages (from tensorflow->classy_szfast>=0.0.25.post11->classy_sz->cmbagent) (0.37.1)\n",
            "Requirement already satisfied: wheel<1.0,>=0.23.0 in /usr/local/lib/python3.10/dist-packages (from astunparse>=1.6.0->tensorflow->classy_szfast>=0.0.25.post11->classy_sz->cmbagent) (0.45.1)\n",
            "Requirement already satisfied: rich in /usr/local/lib/python3.10/dist-packages (from keras>=3.2.0->tensorflow->classy_szfast>=0.0.25.post11->classy_sz->cmbagent) (13.9.4)\n",
            "Requirement already satisfied: namex in /usr/local/lib/python3.10/dist-packages (from keras>=3.2.0->tensorflow->classy_szfast>=0.0.25.post11->classy_sz->cmbagent) (0.0.8)\n",
            "Requirement already satisfied: optree in /usr/local/lib/python3.10/dist-packages (from keras>=3.2.0->tensorflow->classy_szfast>=0.0.25.post11->classy_sz->cmbagent) (0.13.1)\n",
            "Requirement already satisfied: markdown>=2.6.8 in /usr/local/lib/python3.10/dist-packages (from tensorboard<2.18,>=2.17->tensorflow->classy_szfast>=0.0.25.post11->classy_sz->cmbagent) (3.7)\n",
            "Requirement already satisfied: tensorboard-data-server<0.8.0,>=0.7.0 in /usr/local/lib/python3.10/dist-packages (from tensorboard<2.18,>=2.17->tensorflow->classy_szfast>=0.0.25.post11->classy_sz->cmbagent) (0.7.2)\n",
            "Requirement already satisfied: werkzeug>=1.0.1 in /usr/local/lib/python3.10/dist-packages (from tensorboard<2.18,>=2.17->tensorflow->classy_szfast>=0.0.25.post11->classy_sz->cmbagent) (3.1.3)\n",
            "Requirement already satisfied: MarkupSafe>=2.1.1 in /usr/local/lib/python3.10/dist-packages (from werkzeug>=1.0.1->tensorboard<2.18,>=2.17->tensorflow->classy_szfast>=0.0.25.post11->classy_sz->cmbagent) (3.0.2)\n",
            "Requirement already satisfied: markdown-it-py>=2.2.0 in /usr/local/lib/python3.10/dist-packages (from rich->keras>=3.2.0->tensorflow->classy_szfast>=0.0.25.post11->classy_sz->cmbagent) (3.0.0)\n",
            "Requirement already satisfied: mdurl~=0.1 in /usr/local/lib/python3.10/dist-packages (from markdown-it-py>=2.2.0->rich->keras>=3.2.0->tensorflow->classy_szfast>=0.0.25.post11->classy_sz->cmbagent) (0.1.2)\n"
          ]
        }
      ]
    },
    {
      "cell_type": "markdown",
      "source": [
        "Check that cmbagent imports correctly:"
      ],
      "metadata": {
        "id": "cxGgZOyH1V68"
      }
    },
    {
      "cell_type": "code",
      "execution_count": 4,
      "metadata": {
        "colab": {
          "base_uri": "https://localhost:8080/"
        },
        "collapsed": true,
        "id": "D9XiMLKzw1KK",
        "outputId": "e573131a-faa2-4269-9371-6eef5abf5c7b"
      },
      "outputs": [
        {
          "output_type": "stream",
          "name": "stderr",
          "text": [
            "/usr/local/lib/python3.10/dist-packages/dask/dataframe/__init__.py:42: FutureWarning: \n",
            "Dask dataframe query planning is disabled because dask-expr is not installed.\n",
            "\n",
            "You can install it with `pip install dask[dataframe]` or `conda install dask`.\n",
            "This will raise in a future version.\n",
            "\n",
            "  warnings.warn(msg, FutureWarning)\n"
          ]
        },
        {
          "output_type": "stream",
          "name": "stdout",
          "text": [
            "CMBAgent version: 0.0.1post1\n",
            "CMBAGENT_DATA not set.\n",
            "Defaulting to: /root\n"
          ]
        }
      ],
      "source": [
        "import cmbagent"
      ]
    },
    {
      "cell_type": "markdown",
      "source": [
        "To run machine learning-accelerated calculation, let us initialize the class_sz package. To do so, we simply import it."
      ],
      "metadata": {
        "id": "8IAa9tlD1aFH"
      }
    },
    {
      "cell_type": "code",
      "source": [
        "import classy_sz"
      ],
      "metadata": {
        "colab": {
          "base_uri": "https://localhost:8080/"
        },
        "collapsed": true,
        "id": "7l80xVV8xixA",
        "outputId": "b2a029b9-0708-4144-ebb3-1b982518e7f0"
      },
      "execution_count": 5,
      "outputs": [
        {
          "output_type": "stream",
          "name": "stdout",
          "text": [
            "PATH_TO_CLASS_SZ_DATA not set. Setting it now...\n",
            "Defaulting to: /root/class_sz_data_directory\n"
          ]
        },
        {
          "output_type": "stream",
          "name": "stderr",
          "text": [
            "<frozen importlib._bootstrap>:914: ImportWarning: _PyDrive2ImportHook.find_spec() not found; falling back to find_module()\n",
            "<frozen importlib._bootstrap>:914: ImportWarning: _PyDriveImportHook.find_spec() not found; falling back to find_module()\n",
            "<frozen importlib._bootstrap>:914: ImportWarning: _GenerativeAIImportHook.find_spec() not found; falling back to find_module()\n",
            "<frozen importlib._bootstrap>:914: ImportWarning: _OpenCVImportHook.find_spec() not found; falling back to find_module()\n",
            "<frozen importlib._bootstrap>:914: ImportWarning: APICoreClientInfoImportHook.find_spec() not found; falling back to find_module()\n",
            "<frozen importlib._bootstrap>:914: ImportWarning: _BokehImportHook.find_spec() not found; falling back to find_module()\n",
            "<frozen importlib._bootstrap>:914: ImportWarning: _AltairImportHook.find_spec() not found; falling back to find_module()\n",
            "<frozen importlib._bootstrap>:914: ImportWarning: _PyDrive2ImportHook.find_spec() not found; falling back to find_module()\n",
            "<frozen importlib._bootstrap>:914: ImportWarning: _PyDriveImportHook.find_spec() not found; falling back to find_module()\n",
            "<frozen importlib._bootstrap>:914: ImportWarning: _GenerativeAIImportHook.find_spec() not found; falling back to find_module()\n",
            "<frozen importlib._bootstrap>:914: ImportWarning: _OpenCVImportHook.find_spec() not found; falling back to find_module()\n",
            "<frozen importlib._bootstrap>:914: ImportWarning: APICoreClientInfoImportHook.find_spec() not found; falling back to find_module()\n",
            "<frozen importlib._bootstrap>:914: ImportWarning: _BokehImportHook.find_spec() not found; falling back to find_module()\n",
            "<frozen importlib._bootstrap>:914: ImportWarning: _AltairImportHook.find_spec() not found; falling back to find_module()\n",
            "<frozen importlib._bootstrap>:914: ImportWarning: _PyDrive2ImportHook.find_spec() not found; falling back to find_module()\n",
            "<frozen importlib._bootstrap>:914: ImportWarning: _PyDriveImportHook.find_spec() not found; falling back to find_module()\n",
            "<frozen importlib._bootstrap>:914: ImportWarning: _GenerativeAIImportHook.find_spec() not found; falling back to find_module()\n",
            "<frozen importlib._bootstrap>:914: ImportWarning: _OpenCVImportHook.find_spec() not found; falling back to find_module()\n",
            "<frozen importlib._bootstrap>:914: ImportWarning: APICoreClientInfoImportHook.find_spec() not found; falling back to find_module()\n",
            "<frozen importlib._bootstrap>:914: ImportWarning: _BokehImportHook.find_spec() not found; falling back to find_module()\n",
            "<frozen importlib._bootstrap>:914: ImportWarning: _AltairImportHook.find_spec() not found; falling back to find_module()\n",
            "<frozen importlib._bootstrap>:914: ImportWarning: _PyDrive2ImportHook.find_spec() not found; falling back to find_module()\n",
            "<frozen importlib._bootstrap>:914: ImportWarning: _PyDriveImportHook.find_spec() not found; falling back to find_module()\n",
            "<frozen importlib._bootstrap>:914: ImportWarning: _GenerativeAIImportHook.find_spec() not found; falling back to find_module()\n",
            "<frozen importlib._bootstrap>:914: ImportWarning: _OpenCVImportHook.find_spec() not found; falling back to find_module()\n",
            "<frozen importlib._bootstrap>:914: ImportWarning: APICoreClientInfoImportHook.find_spec() not found; falling back to find_module()\n",
            "<frozen importlib._bootstrap>:914: ImportWarning: _BokehImportHook.find_spec() not found; falling back to find_module()\n",
            "<frozen importlib._bootstrap>:914: ImportWarning: _AltairImportHook.find_spec() not found; falling back to find_module()\n"
          ]
        }
      ]
    },
    {
      "cell_type": "markdown",
      "source": [
        "## Get the RAG data for cosmology calculations"
      ],
      "metadata": {
        "id": "x8RtIL4t2deV"
      }
    },
    {
      "cell_type": "code",
      "source": [
        "# Set the environment variable\n",
        "os.environ[\"CMBAGENT_DATA\"] = \"/content/cmbagent_data\"  # Path where data will be (or is) stored"
      ],
      "metadata": {
        "id": "BCtwi4Xu7Dsv"
      },
      "execution_count": 7,
      "outputs": []
    },
    {
      "cell_type": "code",
      "source": [
        "# Clone the repository\n",
        "!git clone https://github.com/CMBAgents/cmbagent_data.git $CMBAGENT_DATA\n",
        "\n",
        "# Verify the repository is cloned\n",
        "!ls /content/cmbagent_data"
      ],
      "metadata": {
        "colab": {
          "base_uri": "https://localhost:8080/"
        },
        "id": "g_TcyKBN1kQy",
        "outputId": "793b56c9-b06c-48f1-eee5-e38a13c78549"
      },
      "execution_count": 10,
      "outputs": [
        {
          "output_type": "stream",
          "name": "stdout",
          "text": [
            "Cloning into '/content/cmbagent_data'...\n",
            "remote: Enumerating objects: 88, done.\u001b[K\n",
            "remote: Counting objects: 100% (88/88), done.\u001b[K\n",
            "remote: Compressing objects: 100% (78/78), done.\u001b[K\n",
            "remote: Total 88 (delta 8), reused 82 (delta 7), pack-reused 0 (from 0)\u001b[K\n",
            "Receiving objects: 100% (88/88), 37.24 MiB | 24.83 MiB/s, done.\n",
            "Resolving deltas: 100% (8/8), done.\n",
            "data  LICENSE  README.md\n"
          ]
        }
      ]
    },
    {
      "cell_type": "markdown",
      "source": [
        "# Cosmology calculations\n",
        "\n",
        "To run a cosmology calculation, you first decide which agent you need and then instantiate cmbagent."
      ],
      "metadata": {
        "id": "6R8ErXKf22MW"
      }
    },
    {
      "cell_type": "code",
      "source": [
        "from cmbagent import CMBAgent\n",
        "cmbagent = CMBAgent(llm_api_key = userdata.get('OAIKEY'),\n",
        "                    agent_list = ['classy_sz','act'],\n",
        "                    # make_vector_stores=['act'],\n",
        "                    skip_memory = False,\n",
        "                    verbose=False)\n",
        "cmbagent.clear_cache()"
      ],
      "metadata": {
        "colab": {
          "base_uri": "https://localhost:8080/"
        },
        "collapsed": true,
        "id": "XyAkIIML2vwY",
        "outputId": "741651a3-20de-4dfb-8ef6-d29ffbb1be96"
      },
      "execution_count": 9,
      "outputs": [
        {
          "output_type": "stream",
          "name": "stdout",
          "text": [
            "Checking agent: classy_sz_agent\n",
            "Agent classy_sz_agent exists in available assistants\n",
            "\n",
            "\n",
            "Checking agent: act_agent\n",
            "Agent act_agent exists in available assistants\n",
            "\n",
            "\n",
            "Checking agent: memory_agent\n",
            "Agent memory_agent exists in available assistants\n",
            "\n",
            "\n",
            "\t- admin\n",
            "\t- planner\n",
            "\t- engineer\n",
            "\t- executor\n",
            "\t- classy_sz_agent\n",
            "\t- act_agent\n",
            "\t- memory_agent\n",
            "assistant not set-up properly, relaying error message\n",
            "Vector store not found for memory_agent\n",
            "re-instantiating with make_vector_stores=['memory'],\n",
            "setting make_vector_stores=['memory'],\n",
            "Updating vector store for memory_agent\n",
            "Files to upload:\n",
            "\t - summary_2024-11-21_23:59:56.json\n",
            "completed\n",
            "FileCounts(cancelled=0, completed=1, failed=0, in_progress=0, total=1)\n",
            "memory_agent: uploaded assistant data to vector store with id:  vs_rMeCEjk0rGu5mAfbV5jjT0XL\n",
            "\n",
            "\n",
            "vector stores updated\n",
            "'memory_agent': 'vs_rMeCEjk0rGu5mAfbV5jjT0XL',\n"
          ]
        },
        {
          "output_type": "stream",
          "name": "stderr",
          "text": [
            "<frozen importlib._bootstrap>:914: ImportWarning: _PyDrive2ImportHook.find_spec() not found; falling back to find_module()\n",
            "<frozen importlib._bootstrap>:914: ImportWarning: _PyDriveImportHook.find_spec() not found; falling back to find_module()\n",
            "<frozen importlib._bootstrap>:914: ImportWarning: _GenerativeAIImportHook.find_spec() not found; falling back to find_module()\n",
            "<frozen importlib._bootstrap>:914: ImportWarning: _OpenCVImportHook.find_spec() not found; falling back to find_module()\n",
            "<frozen importlib._bootstrap>:914: ImportWarning: APICoreClientInfoImportHook.find_spec() not found; falling back to find_module()\n",
            "<frozen importlib._bootstrap>:914: ImportWarning: _BokehImportHook.find_spec() not found; falling back to find_module()\n",
            "<frozen importlib._bootstrap>:914: ImportWarning: _AltairImportHook.find_spec() not found; falling back to find_module()\n",
            "/usr/local/lib/python3.10/dist-packages/cmbagent/cmbagent.py:387: ResourceWarning: unclosed file <_io.BufferedReader name='/content/cmbagent_data/data/memory/summary_2024-11-21_23:59:56.json'>\n",
            "  self.push_vector_stores([agent.name.removesuffix('_agent')], chunking_strategy, verbose = verbose)\n",
            "ResourceWarning: Enable tracemalloc to get the object allocation traceback\n"
          ]
        }
      ]
    },
    {
      "cell_type": "markdown",
      "source": [
        "Then pick a task and solve it."
      ],
      "metadata": {
        "id": "eLWx7mWt9PjG"
      }
    },
    {
      "cell_type": "code",
      "source": [
        "task = \"Compute a gaussian centered on best-fit H0 value from ACT.\"\n",
        "cmbagent.solve(task)"
      ],
      "metadata": {
        "colab": {
          "base_uri": "https://localhost:8080/",
          "height": 1000
        },
        "id": "8c98x05g3Fqk",
        "outputId": "bd254266-d46b-4c4a-9361-bd2dd71c5423"
      },
      "execution_count": 10,
      "outputs": [
        {
          "output_type": "stream",
          "name": "stdout",
          "text": [
            "admin (to chat_manager):\n",
            "\n",
            "Compute a gaussian centered on best-fit H0 value from ACT.\n",
            "\n",
            "--------------------------------------------------------------------------------\n",
            "\n",
            "Next speaker: planner\n",
            "\n"
          ]
        },
        {
          "output_type": "stream",
          "name": "stderr",
          "text": [
            "/usr/local/lib/python3.10/dist-packages/autogen/oai/client.py:834: PydanticDeprecatedSince20: `schema_json_of` is deprecated. Use `pydantic.TypeAdapter.json_schema` instead. Deprecated in Pydantic V2.0 to be removed in V3.0. See Pydantic V2 Migration Guide at https://errors.pydantic.dev/2.10/migration/\n",
            "  {**params, **{\"response_format\": schema_json_of(params[\"response_format\"])}}\n",
            "/usr/local/lib/python3.10/dist-packages/pydantic/deprecated/tools.py:101: PydanticDeprecatedSince20: `schema_of` is deprecated. Use `pydantic.TypeAdapter.json_schema` instead. Deprecated in Pydantic V2.0 to be removed in V3.0. See Pydantic V2 Migration Guide at https://errors.pydantic.dev/2.10/migration/\n",
            "  schema_of(type_, title=title, by_alias=by_alias, ref_template=ref_template, schema_generator=schema_generator),\n"
          ]
        },
        {
          "output_type": "display_data",
          "data": {
            "text/plain": [
              "<pandas.io.formats.style.Styler at 0x7925b6b1d570>"
            ],
            "text/html": [
              "<style type=\"text/css\">\n",
              "</style>\n",
              "<table id=\"T_085ec\" class=\"dataframe\">\n",
              "  <thead>\n",
              "    <tr>\n",
              "      <th id=\"T_085ec_level0_col0\" class=\"col_heading level0 col0\" >Model</th>\n",
              "      <th id=\"T_085ec_level0_col1\" class=\"col_heading level0 col1\" >agent</th>\n",
              "      <th id=\"T_085ec_level0_col2\" class=\"col_heading level0 col2\" >Cost</th>\n",
              "      <th id=\"T_085ec_level0_col3\" class=\"col_heading level0 col3\" >Prompt Tokens</th>\n",
              "      <th id=\"T_085ec_level0_col4\" class=\"col_heading level0 col4\" >Completion Tokens</th>\n",
              "      <th id=\"T_085ec_level0_col5\" class=\"col_heading level0 col5\" >Total Tokens</th>\n",
              "    </tr>\n",
              "  </thead>\n",
              "  <tbody>\n",
              "    <tr>\n",
              "      <td id=\"T_085ec_row0_col0\" class=\"data row0 col0\" >gpt-4o-2024-08-06</td>\n",
              "      <td id=\"T_085ec_row0_col1\" class=\"data row0 col1\" >planner</td>\n",
              "      <td id=\"T_085ec_row0_col2\" class=\"data row0 col2\" >0.00462</td>\n",
              "      <td id=\"T_085ec_row0_col3\" class=\"data row0 col3\" >988</td>\n",
              "      <td id=\"T_085ec_row0_col4\" class=\"data row0 col4\" >215</td>\n",
              "      <td id=\"T_085ec_row0_col5\" class=\"data row0 col5\" >1203</td>\n",
              "    </tr>\n",
              "  </tbody>\n",
              "</table>\n"
            ]
          },
          "metadata": {}
        },
        {
          "output_type": "stream",
          "name": "stdout",
          "text": [
            "planner (to chat_manager):\n",
            "\n",
            "To solve the task of computing a Gaussian centered on the best-fit H0 value from ACT, we will break it down into the following steps:\n",
            "\n",
            "- Main task: Compute a Gaussian centered on the best-fit H0 value from ACT.\n",
            "\n",
            "- Step 1:\n",
            "  * sub-task: Retrieve the best-fit H0 value from ACT data.\n",
            "  * agent: act_agent\n",
            "\n",
            "- Step 2:\n",
            "  * sub-task: Check if there are any past tasks related to computing a Gaussian centered on a best-fit value.\n",
            "  * agent: memory_agent\n",
            "\n",
            "- Step 3:\n",
            "  * sub-task: Write Python code to compute a Gaussian centered on the retrieved best-fit H0 value.\n",
            "  * agent: engineer\n",
            "\n",
            "- Step 4:\n",
            "  * sub-task: Ensure the code aligns with guidelines and is free of conflicts.\n",
            "  * agent: engineer\n",
            "\n",
            "- Step 5:\n",
            "  * sub-task: Execute the Python code to compute the Gaussian.\n",
            "  * agent: executor\n",
            "\n",
            "Please let me know if we should proceed with this plan or if any modifications are needed.\n",
            "\n",
            "--------------------------------------------------------------------------------\n",
            "\n",
            "Next speaker: admin\n",
            "\n",
            "Replying as admin. Provide feedback to chat_manager. Press enter to skip and use auto-reply, or type 'exit' to end the conversation: proceed\n",
            "admin (to chat_manager):\n",
            "\n",
            "proceed\n",
            "\n",
            "--------------------------------------------------------------------------------\n"
          ]
        },
        {
          "output_type": "stream",
          "name": "stderr",
          "text": [
            "/usr/local/lib/python3.10/dist-packages/autogen/oai/client.py:834: PydanticDeprecatedSince20: `schema_json_of` is deprecated. Use `pydantic.TypeAdapter.json_schema` instead. Deprecated in Pydantic V2.0 to be removed in V3.0. See Pydantic V2 Migration Guide at https://errors.pydantic.dev/2.10/migration/\n",
            "  {**params, **{\"response_format\": schema_json_of(params[\"response_format\"])}}\n",
            "/usr/local/lib/python3.10/dist-packages/pydantic/deprecated/tools.py:101: PydanticDeprecatedSince20: `schema_of` is deprecated. Use `pydantic.TypeAdapter.json_schema` instead. Deprecated in Pydantic V2.0 to be removed in V3.0. See Pydantic V2 Migration Guide at https://errors.pydantic.dev/2.10/migration/\n",
            "  schema_of(type_, title=title, by_alias=by_alias, ref_template=ref_template, schema_generator=schema_generator),\n"
          ]
        },
        {
          "output_type": "display_data",
          "data": {
            "text/plain": [
              "<pandas.io.formats.style.Styler at 0x7925b5e8f100>"
            ],
            "text/html": [
              "<style type=\"text/css\">\n",
              "</style>\n",
              "<table id=\"T_312bd\" class=\"dataframe\">\n",
              "  <thead>\n",
              "    <tr>\n",
              "      <th id=\"T_312bd_level0_col0\" class=\"col_heading level0 col0\" >Model</th>\n",
              "      <th id=\"T_312bd_level0_col1\" class=\"col_heading level0 col1\" >agent</th>\n",
              "      <th id=\"T_312bd_level0_col2\" class=\"col_heading level0 col2\" >Cost</th>\n",
              "      <th id=\"T_312bd_level0_col3\" class=\"col_heading level0 col3\" >Prompt Tokens</th>\n",
              "      <th id=\"T_312bd_level0_col4\" class=\"col_heading level0 col4\" >Completion Tokens</th>\n",
              "      <th id=\"T_312bd_level0_col5\" class=\"col_heading level0 col5\" >Total Tokens</th>\n",
              "    </tr>\n",
              "  </thead>\n",
              "  <tbody>\n",
              "    <tr>\n",
              "      <td id=\"T_312bd_row0_col0\" class=\"data row0 col0\" >gpt-4o-2024-08-06</td>\n",
              "      <td id=\"T_312bd_row0_col1\" class=\"data row0 col1\" >speaker_selection_agent</td>\n",
              "      <td id=\"T_312bd_row0_col2\" class=\"data row0 col2\" >0.00220</td>\n",
              "      <td id=\"T_312bd_row0_col3\" class=\"data row0 col3\" >870</td>\n",
              "      <td id=\"T_312bd_row0_col4\" class=\"data row0 col4\" >2</td>\n",
              "      <td id=\"T_312bd_row0_col5\" class=\"data row0 col5\" >872</td>\n",
              "    </tr>\n",
              "  </tbody>\n",
              "</table>\n"
            ]
          },
          "metadata": {}
        },
        {
          "output_type": "stream",
          "name": "stdout",
          "text": [
            "\n",
            "Next speaker: act_agent\n",
            "\n"
          ]
        },
        {
          "output_type": "display_data",
          "data": {
            "text/plain": [
              "<pandas.io.formats.style.Styler at 0x7925b5e8f100>"
            ],
            "text/html": [
              "<style type=\"text/css\">\n",
              "</style>\n",
              "<table id=\"T_d5529\" class=\"dataframe\">\n",
              "  <thead>\n",
              "    <tr>\n",
              "      <th id=\"T_d5529_level0_col0\" class=\"col_heading level0 col0\" >Model</th>\n",
              "      <th id=\"T_d5529_level0_col1\" class=\"col_heading level0 col1\" >Cost</th>\n",
              "      <th id=\"T_d5529_level0_col2\" class=\"col_heading level0 col2\" >Prompt Tokens</th>\n",
              "      <th id=\"T_d5529_level0_col3\" class=\"col_heading level0 col3\" >Completion Tokens</th>\n",
              "      <th id=\"T_d5529_level0_col4\" class=\"col_heading level0 col4\" >Total Tokens</th>\n",
              "    </tr>\n",
              "  </thead>\n",
              "  <tbody>\n",
              "    <tr>\n",
              "      <td id=\"T_d5529_row0_col0\" class=\"data row0 col0\" >gpt-4o</td>\n",
              "      <td id=\"T_d5529_row0_col1\" class=\"data row0 col1\" >0.10523</td>\n",
              "      <td id=\"T_d5529_row0_col2\" class=\"data row0 col2\" >20537</td>\n",
              "      <td id=\"T_d5529_row0_col3\" class=\"data row0 col3\" >170</td>\n",
              "      <td id=\"T_d5529_row0_col4\" class=\"data row0 col4\" >20707</td>\n",
              "    </tr>\n",
              "  </tbody>\n",
              "</table>\n"
            ]
          },
          "metadata": {}
        },
        {
          "output_type": "stream",
          "name": "stdout",
          "text": [
            "act_agent (to chat_manager):\n",
            "\n",
            "- **Part 1**: Retrieved the best-fit H0 value from ACT data.\n",
            "- **Part 2**: [2304.05203v1.pdf]\n",
            "- **Part 3**:\n",
            "\n",
            "**H_0**: 68.3 km s⁻¹ Mpc⁻¹ (Equation 6 from 2304.05203v1.pdf) \n",
            "\n",
            "- **Part 4**: We will now check if there are any past tasks related to computing a Gaussian centered on a best-fit value with the memory_agent.\n",
            "\n",
            "\n",
            "--------------------------------------------------------------------------------\n",
            "\n",
            "Next speaker: admin\n",
            "\n",
            "Replying as admin. Provide feedback to chat_manager. Press enter to skip and use auto-reply, or type 'exit' to end the conversation: skip memory agent\n",
            "admin (to chat_manager):\n",
            "\n",
            "skip memory agent\n",
            "\n",
            "--------------------------------------------------------------------------------\n"
          ]
        },
        {
          "output_type": "display_data",
          "data": {
            "text/plain": [
              "<pandas.io.formats.style.Styler at 0x7925b67dd600>"
            ],
            "text/html": [
              "<style type=\"text/css\">\n",
              "</style>\n",
              "<table id=\"T_37130\" class=\"dataframe\">\n",
              "  <thead>\n",
              "    <tr>\n",
              "      <th id=\"T_37130_level0_col0\" class=\"col_heading level0 col0\" >Model</th>\n",
              "      <th id=\"T_37130_level0_col1\" class=\"col_heading level0 col1\" >agent</th>\n",
              "      <th id=\"T_37130_level0_col2\" class=\"col_heading level0 col2\" >Cost</th>\n",
              "      <th id=\"T_37130_level0_col3\" class=\"col_heading level0 col3\" >Prompt Tokens</th>\n",
              "      <th id=\"T_37130_level0_col4\" class=\"col_heading level0 col4\" >Completion Tokens</th>\n",
              "      <th id=\"T_37130_level0_col5\" class=\"col_heading level0 col5\" >Total Tokens</th>\n",
              "    </tr>\n",
              "  </thead>\n",
              "  <tbody>\n",
              "    <tr>\n",
              "      <td id=\"T_37130_row0_col0\" class=\"data row0 col0\" >gpt-4o-2024-08-06</td>\n",
              "      <td id=\"T_37130_row0_col1\" class=\"data row0 col1\" >speaker_selection_agent</td>\n",
              "      <td id=\"T_37130_row0_col2\" class=\"data row0 col2\" >0.00251</td>\n",
              "      <td id=\"T_37130_row0_col3\" class=\"data row0 col3\" >997</td>\n",
              "      <td id=\"T_37130_row0_col4\" class=\"data row0 col4\" >2</td>\n",
              "      <td id=\"T_37130_row0_col5\" class=\"data row0 col5\" >999</td>\n",
              "    </tr>\n",
              "  </tbody>\n",
              "</table>\n"
            ]
          },
          "metadata": {}
        },
        {
          "output_type": "stream",
          "name": "stdout",
          "text": [
            "\n",
            "Next speaker: engineer\n",
            "\n"
          ]
        },
        {
          "output_type": "display_data",
          "data": {
            "text/plain": [
              "<pandas.io.formats.style.Styler at 0x7925b5e8d1b0>"
            ],
            "text/html": [
              "<style type=\"text/css\">\n",
              "</style>\n",
              "<table id=\"T_c797c\" class=\"dataframe\">\n",
              "  <thead>\n",
              "    <tr>\n",
              "      <th id=\"T_c797c_level0_col0\" class=\"col_heading level0 col0\" >Model</th>\n",
              "      <th id=\"T_c797c_level0_col1\" class=\"col_heading level0 col1\" >agent</th>\n",
              "      <th id=\"T_c797c_level0_col2\" class=\"col_heading level0 col2\" >Cost</th>\n",
              "      <th id=\"T_c797c_level0_col3\" class=\"col_heading level0 col3\" >Prompt Tokens</th>\n",
              "      <th id=\"T_c797c_level0_col4\" class=\"col_heading level0 col4\" >Completion Tokens</th>\n",
              "      <th id=\"T_c797c_level0_col5\" class=\"col_heading level0 col5\" >Total Tokens</th>\n",
              "    </tr>\n",
              "  </thead>\n",
              "  <tbody>\n",
              "    <tr>\n",
              "      <td id=\"T_c797c_row0_col0\" class=\"data row0 col0\" >gpt-4o-2024-08-06</td>\n",
              "      <td id=\"T_c797c_row0_col1\" class=\"data row0 col1\" >engineer</td>\n",
              "      <td id=\"T_c797c_row0_col2\" class=\"data row0 col2\" >0.00641</td>\n",
              "      <td id=\"T_c797c_row0_col3\" class=\"data row0 col3\" >2223</td>\n",
              "      <td id=\"T_c797c_row0_col4\" class=\"data row0 col4\" >85</td>\n",
              "      <td id=\"T_c797c_row0_col5\" class=\"data row0 col5\" >2308</td>\n",
              "    </tr>\n",
              "  </tbody>\n",
              "</table>\n"
            ]
          },
          "metadata": {}
        },
        {
          "output_type": "stream",
          "name": "stdout",
          "text": [
            "engineer (to chat_manager):\n",
            "\n",
            "- **Part 1**: Skipped the memory agent step as per the admin's instruction.\n",
            "- **Part 2**: No conflicts to resolve since the memory agent step was skipped.\n",
            "- **Part 3**: Proceeding to write Python code to compute a Gaussian centered on the best-fit H0 value.\n",
            "- **Part 4**: Next step is to write the Python code with the engineer agent.\n",
            "\n",
            "--------------------------------------------------------------------------------\n",
            "\n",
            "Next speaker: admin\n",
            "\n",
            "Replying as admin. Provide feedback to chat_manager. Press enter to skip and use auto-reply, or type 'exit' to end the conversation: proceed\n",
            "admin (to chat_manager):\n",
            "\n",
            "proceed\n",
            "\n",
            "--------------------------------------------------------------------------------\n"
          ]
        },
        {
          "output_type": "display_data",
          "data": {
            "text/plain": [
              "<pandas.io.formats.style.Styler at 0x7925b6b2d180>"
            ],
            "text/html": [
              "<style type=\"text/css\">\n",
              "</style>\n",
              "<table id=\"T_2959c\" class=\"dataframe\">\n",
              "  <thead>\n",
              "    <tr>\n",
              "      <th id=\"T_2959c_level0_col0\" class=\"col_heading level0 col0\" >Model</th>\n",
              "      <th id=\"T_2959c_level0_col1\" class=\"col_heading level0 col1\" >agent</th>\n",
              "      <th id=\"T_2959c_level0_col2\" class=\"col_heading level0 col2\" >Cost</th>\n",
              "      <th id=\"T_2959c_level0_col3\" class=\"col_heading level0 col3\" >Prompt Tokens</th>\n",
              "      <th id=\"T_2959c_level0_col4\" class=\"col_heading level0 col4\" >Completion Tokens</th>\n",
              "      <th id=\"T_2959c_level0_col5\" class=\"col_heading level0 col5\" >Total Tokens</th>\n",
              "    </tr>\n",
              "  </thead>\n",
              "  <tbody>\n",
              "    <tr>\n",
              "      <td id=\"T_2959c_row0_col0\" class=\"data row0 col0\" >gpt-4o-2024-08-06</td>\n",
              "      <td id=\"T_2959c_row0_col1\" class=\"data row0 col1\" >speaker_selection_agent</td>\n",
              "      <td id=\"T_2959c_row0_col2\" class=\"data row0 col2\" >0.00276</td>\n",
              "      <td id=\"T_2959c_row0_col3\" class=\"data row0 col3\" >1097</td>\n",
              "      <td id=\"T_2959c_row0_col4\" class=\"data row0 col4\" >2</td>\n",
              "      <td id=\"T_2959c_row0_col5\" class=\"data row0 col5\" >1099</td>\n",
              "    </tr>\n",
              "  </tbody>\n",
              "</table>\n"
            ]
          },
          "metadata": {}
        },
        {
          "output_type": "stream",
          "name": "stdout",
          "text": [
            "\n",
            "Next speaker: engineer\n",
            "\n"
          ]
        },
        {
          "output_type": "display_data",
          "data": {
            "text/plain": [
              "<pandas.io.formats.style.Styler at 0x7925b6b2e7a0>"
            ],
            "text/html": [
              "<style type=\"text/css\">\n",
              "</style>\n",
              "<table id=\"T_3a537\" class=\"dataframe\">\n",
              "  <thead>\n",
              "    <tr>\n",
              "      <th id=\"T_3a537_level0_col0\" class=\"col_heading level0 col0\" >Model</th>\n",
              "      <th id=\"T_3a537_level0_col1\" class=\"col_heading level0 col1\" >agent</th>\n",
              "      <th id=\"T_3a537_level0_col2\" class=\"col_heading level0 col2\" >Cost</th>\n",
              "      <th id=\"T_3a537_level0_col3\" class=\"col_heading level0 col3\" >Prompt Tokens</th>\n",
              "      <th id=\"T_3a537_level0_col4\" class=\"col_heading level0 col4\" >Completion Tokens</th>\n",
              "      <th id=\"T_3a537_level0_col5\" class=\"col_heading level0 col5\" >Total Tokens</th>\n",
              "    </tr>\n",
              "  </thead>\n",
              "  <tbody>\n",
              "    <tr>\n",
              "      <td id=\"T_3a537_row0_col0\" class=\"data row0 col0\" >gpt-4o-2024-08-06</td>\n",
              "      <td id=\"T_3a537_row0_col1\" class=\"data row0 col1\" >engineer</td>\n",
              "      <td id=\"T_3a537_row0_col2\" class=\"data row0 col2\" >0.01538</td>\n",
              "      <td id=\"T_3a537_row0_col3\" class=\"data row0 col3\" >4546</td>\n",
              "      <td id=\"T_3a537_row0_col4\" class=\"data row0 col4\" >402</td>\n",
              "      <td id=\"T_3a537_row0_col5\" class=\"data row0 col5\" >4948</td>\n",
              "    </tr>\n",
              "  </tbody>\n",
              "</table>\n"
            ]
          },
          "metadata": {}
        },
        {
          "output_type": "stream",
          "name": "stdout",
          "text": [
            "engineer (to chat_manager):\n",
            "\n",
            "- **Part 1**: Writing Python code to compute a Gaussian centered on the best-fit H0 value from ACT.\n",
            "- **Part 2**: No conflicts were found in the parameters.\n",
            "- **Part 3**:\n",
            "```python\n",
            "import numpy as np\n",
            "import matplotlib.pyplot as plt\n",
            "\n",
            "# Best-fit H0 value from ACT\n",
            "H0_best_fit = 68.3  # km s⁻¹ Mpc⁻¹\n",
            "\n",
            "# Standard deviation for the Gaussian\n",
            "sigma = 1.0  # You can adjust this value as needed\n",
            "\n",
            "# Generate H0 values around the best-fit value\n",
            "H0_values = np.linspace(H0_best_fit - 5*sigma, H0_best_fit + 5*sigma, 1000)\n",
            "\n",
            "# Compute the Gaussian distribution\n",
            "gaussian = (1/(sigma * np.sqrt(2 * np.pi))) * np.exp(-0.5 * ((H0_values - H0_best_fit) / sigma)**2)\n",
            "\n",
            "# Plot the Gaussian distribution\n",
            "plt.figure(figsize=(8, 5))\n",
            "plt.plot(H0_values, gaussian, label=f'Gaussian centered at H0 = {H0_best_fit}')\n",
            "plt.xlabel('H0 (km s⁻¹ Mpc⁻¹)')\n",
            "plt.ylabel('Probability Density')\n",
            "plt.title('Gaussian Distribution of H0')\n",
            "plt.legend()\n",
            "plt.grid(True)\n",
            "plt.savefig('gaussian_H0_distribution.png')\n",
            "plt.close()\n",
            "```\n",
            "- **Part 4**: Next step is to execute the Python code to compute the Gaussian with the executor agent.\n",
            "\n",
            "--------------------------------------------------------------------------------\n",
            "\n",
            "Next speaker: admin\n",
            "\n",
            "Replying as admin. Provide feedback to chat_manager. Press enter to skip and use auto-reply, or type 'exit' to end the conversation: proceed\n",
            "admin (to chat_manager):\n",
            "\n",
            "proceed\n",
            "\n",
            "--------------------------------------------------------------------------------\n"
          ]
        },
        {
          "output_type": "display_data",
          "data": {
            "text/plain": [
              "<pandas.io.formats.style.Styler at 0x7925b6badae0>"
            ],
            "text/html": [
              "<style type=\"text/css\">\n",
              "</style>\n",
              "<table id=\"T_86592\" class=\"dataframe\">\n",
              "  <thead>\n",
              "    <tr>\n",
              "      <th id=\"T_86592_level0_col0\" class=\"col_heading level0 col0\" >Model</th>\n",
              "      <th id=\"T_86592_level0_col1\" class=\"col_heading level0 col1\" >agent</th>\n",
              "      <th id=\"T_86592_level0_col2\" class=\"col_heading level0 col2\" >Cost</th>\n",
              "      <th id=\"T_86592_level0_col3\" class=\"col_heading level0 col3\" >Prompt Tokens</th>\n",
              "      <th id=\"T_86592_level0_col4\" class=\"col_heading level0 col4\" >Completion Tokens</th>\n",
              "      <th id=\"T_86592_level0_col5\" class=\"col_heading level0 col5\" >Total Tokens</th>\n",
              "    </tr>\n",
              "  </thead>\n",
              "  <tbody>\n",
              "    <tr>\n",
              "      <td id=\"T_86592_row0_col0\" class=\"data row0 col0\" >gpt-4o-2024-08-06</td>\n",
              "      <td id=\"T_86592_row0_col1\" class=\"data row0 col1\" >speaker_selection_agent</td>\n",
              "      <td id=\"T_86592_row0_col2\" class=\"data row0 col2\" >0.00358</td>\n",
              "      <td id=\"T_86592_row0_col3\" class=\"data row0 col3\" >1429</td>\n",
              "      <td id=\"T_86592_row0_col4\" class=\"data row0 col4\" >1</td>\n",
              "      <td id=\"T_86592_row0_col5\" class=\"data row0 col5\" >1430</td>\n",
              "    </tr>\n",
              "  </tbody>\n",
              "</table>\n"
            ]
          },
          "metadata": {}
        },
        {
          "name": "stdout",
          "output_type": "stream",
          "text": [
            "\n",
            "Next speaker: executor\n",
            "\n",
            "\n",
            ">>>>>>>> EXECUTING CODE BLOCK (inferred language is python)...\n",
            "executor (to chat_manager):\n",
            "\n",
            "exitcode: 0 (execution succeeded)\n",
            "Code output: \n",
            "\n",
            "--------------------------------------------------------------------------------\n",
            "\n",
            "Next speaker: admin\n",
            "\n",
            "Replying as admin. Provide feedback to chat_manager. Press enter to skip and use auto-reply, or type 'exit' to end the conversation: exit\n"
          ]
        },
        {
          "output_type": "stream",
          "name": "stderr",
          "text": [
            "<frozen importlib._bootstrap>:914: ImportWarning: _PyDrive2ImportHook.find_spec() not found; falling back to find_module()\n",
            "<frozen importlib._bootstrap>:914: ImportWarning: _PyDriveImportHook.find_spec() not found; falling back to find_module()\n",
            "<frozen importlib._bootstrap>:914: ImportWarning: _GenerativeAIImportHook.find_spec() not found; falling back to find_module()\n",
            "<frozen importlib._bootstrap>:914: ImportWarning: _OpenCVImportHook.find_spec() not found; falling back to find_module()\n",
            "<frozen importlib._bootstrap>:914: ImportWarning: APICoreClientInfoImportHook.find_spec() not found; falling back to find_module()\n",
            "<frozen importlib._bootstrap>:914: ImportWarning: _BokehImportHook.find_spec() not found; falling back to find_module()\n",
            "<frozen importlib._bootstrap>:914: ImportWarning: _AltairImportHook.find_spec() not found; falling back to find_module()\n",
            "<frozen importlib._bootstrap>:914: ImportWarning: _PyDrive2ImportHook.find_spec() not found; falling back to find_module()\n",
            "<frozen importlib._bootstrap>:914: ImportWarning: _PyDriveImportHook.find_spec() not found; falling back to find_module()\n",
            "<frozen importlib._bootstrap>:914: ImportWarning: _GenerativeAIImportHook.find_spec() not found; falling back to find_module()\n",
            "<frozen importlib._bootstrap>:914: ImportWarning: _OpenCVImportHook.find_spec() not found; falling back to find_module()\n",
            "<frozen importlib._bootstrap>:914: ImportWarning: APICoreClientInfoImportHook.find_spec() not found; falling back to find_module()\n",
            "<frozen importlib._bootstrap>:914: ImportWarning: _BokehImportHook.find_spec() not found; falling back to find_module()\n",
            "<frozen importlib._bootstrap>:914: ImportWarning: _AltairImportHook.find_spec() not found; falling back to find_module()\n"
          ]
        },
        {
          "output_type": "display_data",
          "data": {
            "text/plain": [
              "                                 Agent      Cost  Prompt Tokens  \\\n",
              "0                              planner  0.004620          988.0   \n",
              "1                             engineer  0.021792         6769.0   \n",
              "2                                  act  0.105235        20537.0   \n",
              "3      admin (speaker_selection_agent)  0.002195          870.0   \n",
              "4      admin (speaker_selection_agent)  0.002512          997.0   \n",
              "5      admin (speaker_selection_agent)  0.002763         1097.0   \n",
              "6      admin (speaker_selection_agent)  0.003583         1429.0   \n",
              "Total                              NaN  0.142700        32687.0   \n",
              "\n",
              "       Completion Tokens  Total Tokens  \n",
              "0                  215.0        1203.0  \n",
              "1                  487.0        7256.0  \n",
              "2                  170.0       20707.0  \n",
              "3                    2.0         872.0  \n",
              "4                    2.0         999.0  \n",
              "5                    2.0        1099.0  \n",
              "6                    1.0        1430.0  \n",
              "Total              879.0       33566.0  "
            ],
            "text/html": [
              "\n",
              "  <div id=\"df-26086d52-cfa5-4916-a7b9-0afc4399763f\" class=\"colab-df-container\">\n",
              "    <div>\n",
              "<style scoped>\n",
              "    .dataframe tbody tr th:only-of-type {\n",
              "        vertical-align: middle;\n",
              "    }\n",
              "\n",
              "    .dataframe tbody tr th {\n",
              "        vertical-align: top;\n",
              "    }\n",
              "\n",
              "    .dataframe thead th {\n",
              "        text-align: right;\n",
              "    }\n",
              "</style>\n",
              "<table border=\"1\" class=\"dataframe\">\n",
              "  <thead>\n",
              "    <tr style=\"text-align: right;\">\n",
              "      <th></th>\n",
              "      <th>Agent</th>\n",
              "      <th>Cost</th>\n",
              "      <th>Prompt Tokens</th>\n",
              "      <th>Completion Tokens</th>\n",
              "      <th>Total Tokens</th>\n",
              "    </tr>\n",
              "  </thead>\n",
              "  <tbody>\n",
              "    <tr>\n",
              "      <th>0</th>\n",
              "      <td>planner</td>\n",
              "      <td>0.004620</td>\n",
              "      <td>988.0</td>\n",
              "      <td>215.0</td>\n",
              "      <td>1203.0</td>\n",
              "    </tr>\n",
              "    <tr>\n",
              "      <th>1</th>\n",
              "      <td>engineer</td>\n",
              "      <td>0.021792</td>\n",
              "      <td>6769.0</td>\n",
              "      <td>487.0</td>\n",
              "      <td>7256.0</td>\n",
              "    </tr>\n",
              "    <tr>\n",
              "      <th>2</th>\n",
              "      <td>act</td>\n",
              "      <td>0.105235</td>\n",
              "      <td>20537.0</td>\n",
              "      <td>170.0</td>\n",
              "      <td>20707.0</td>\n",
              "    </tr>\n",
              "    <tr>\n",
              "      <th>3</th>\n",
              "      <td>admin (speaker_selection_agent)</td>\n",
              "      <td>0.002195</td>\n",
              "      <td>870.0</td>\n",
              "      <td>2.0</td>\n",
              "      <td>872.0</td>\n",
              "    </tr>\n",
              "    <tr>\n",
              "      <th>4</th>\n",
              "      <td>admin (speaker_selection_agent)</td>\n",
              "      <td>0.002512</td>\n",
              "      <td>997.0</td>\n",
              "      <td>2.0</td>\n",
              "      <td>999.0</td>\n",
              "    </tr>\n",
              "    <tr>\n",
              "      <th>5</th>\n",
              "      <td>admin (speaker_selection_agent)</td>\n",
              "      <td>0.002763</td>\n",
              "      <td>1097.0</td>\n",
              "      <td>2.0</td>\n",
              "      <td>1099.0</td>\n",
              "    </tr>\n",
              "    <tr>\n",
              "      <th>6</th>\n",
              "      <td>admin (speaker_selection_agent)</td>\n",
              "      <td>0.003583</td>\n",
              "      <td>1429.0</td>\n",
              "      <td>1.0</td>\n",
              "      <td>1430.0</td>\n",
              "    </tr>\n",
              "    <tr>\n",
              "      <th>Total</th>\n",
              "      <td>NaN</td>\n",
              "      <td>0.142700</td>\n",
              "      <td>32687.0</td>\n",
              "      <td>879.0</td>\n",
              "      <td>33566.0</td>\n",
              "    </tr>\n",
              "  </tbody>\n",
              "</table>\n",
              "</div>\n",
              "    <div class=\"colab-df-buttons\">\n",
              "\n",
              "  <div class=\"colab-df-container\">\n",
              "    <button class=\"colab-df-convert\" onclick=\"convertToInteractive('df-26086d52-cfa5-4916-a7b9-0afc4399763f')\"\n",
              "            title=\"Convert this dataframe to an interactive table.\"\n",
              "            style=\"display:none;\">\n",
              "\n",
              "  <svg xmlns=\"http://www.w3.org/2000/svg\" height=\"24px\" viewBox=\"0 -960 960 960\">\n",
              "    <path d=\"M120-120v-720h720v720H120Zm60-500h600v-160H180v160Zm220 220h160v-160H400v160Zm0 220h160v-160H400v160ZM180-400h160v-160H180v160Zm440 0h160v-160H620v160ZM180-180h160v-160H180v160Zm440 0h160v-160H620v160Z\"/>\n",
              "  </svg>\n",
              "    </button>\n",
              "\n",
              "  <style>\n",
              "    .colab-df-container {\n",
              "      display:flex;\n",
              "      gap: 12px;\n",
              "    }\n",
              "\n",
              "    .colab-df-convert {\n",
              "      background-color: #E8F0FE;\n",
              "      border: none;\n",
              "      border-radius: 50%;\n",
              "      cursor: pointer;\n",
              "      display: none;\n",
              "      fill: #1967D2;\n",
              "      height: 32px;\n",
              "      padding: 0 0 0 0;\n",
              "      width: 32px;\n",
              "    }\n",
              "\n",
              "    .colab-df-convert:hover {\n",
              "      background-color: #E2EBFA;\n",
              "      box-shadow: 0px 1px 2px rgba(60, 64, 67, 0.3), 0px 1px 3px 1px rgba(60, 64, 67, 0.15);\n",
              "      fill: #174EA6;\n",
              "    }\n",
              "\n",
              "    .colab-df-buttons div {\n",
              "      margin-bottom: 4px;\n",
              "    }\n",
              "\n",
              "    [theme=dark] .colab-df-convert {\n",
              "      background-color: #3B4455;\n",
              "      fill: #D2E3FC;\n",
              "    }\n",
              "\n",
              "    [theme=dark] .colab-df-convert:hover {\n",
              "      background-color: #434B5C;\n",
              "      box-shadow: 0px 1px 3px 1px rgba(0, 0, 0, 0.15);\n",
              "      filter: drop-shadow(0px 1px 2px rgba(0, 0, 0, 0.3));\n",
              "      fill: #FFFFFF;\n",
              "    }\n",
              "  </style>\n",
              "\n",
              "    <script>\n",
              "      const buttonEl =\n",
              "        document.querySelector('#df-26086d52-cfa5-4916-a7b9-0afc4399763f button.colab-df-convert');\n",
              "      buttonEl.style.display =\n",
              "        google.colab.kernel.accessAllowed ? 'block' : 'none';\n",
              "\n",
              "      async function convertToInteractive(key) {\n",
              "        const element = document.querySelector('#df-26086d52-cfa5-4916-a7b9-0afc4399763f');\n",
              "        const dataTable =\n",
              "          await google.colab.kernel.invokeFunction('convertToInteractive',\n",
              "                                                    [key], {});\n",
              "        if (!dataTable) return;\n",
              "\n",
              "        const docLinkHtml = 'Like what you see? Visit the ' +\n",
              "          '<a target=\"_blank\" href=https://colab.research.google.com/notebooks/data_table.ipynb>data table notebook</a>'\n",
              "          + ' to learn more about interactive tables.';\n",
              "        element.innerHTML = '';\n",
              "        dataTable['output_type'] = 'display_data';\n",
              "        await google.colab.output.renderOutput(dataTable, element);\n",
              "        const docLink = document.createElement('div');\n",
              "        docLink.innerHTML = docLinkHtml;\n",
              "        element.appendChild(docLink);\n",
              "      }\n",
              "    </script>\n",
              "  </div>\n",
              "\n",
              "\n",
              "<div id=\"df-b950424f-f2f5-4637-b3a3-d7098c3448d4\">\n",
              "  <button class=\"colab-df-quickchart\" onclick=\"quickchart('df-b950424f-f2f5-4637-b3a3-d7098c3448d4')\"\n",
              "            title=\"Suggest charts\"\n",
              "            style=\"display:none;\">\n",
              "\n",
              "<svg xmlns=\"http://www.w3.org/2000/svg\" height=\"24px\"viewBox=\"0 0 24 24\"\n",
              "     width=\"24px\">\n",
              "    <g>\n",
              "        <path d=\"M19 3H5c-1.1 0-2 .9-2 2v14c0 1.1.9 2 2 2h14c1.1 0 2-.9 2-2V5c0-1.1-.9-2-2-2zM9 17H7v-7h2v7zm4 0h-2V7h2v10zm4 0h-2v-4h2v4z\"/>\n",
              "    </g>\n",
              "</svg>\n",
              "  </button>\n",
              "\n",
              "<style>\n",
              "  .colab-df-quickchart {\n",
              "      --bg-color: #E8F0FE;\n",
              "      --fill-color: #1967D2;\n",
              "      --hover-bg-color: #E2EBFA;\n",
              "      --hover-fill-color: #174EA6;\n",
              "      --disabled-fill-color: #AAA;\n",
              "      --disabled-bg-color: #DDD;\n",
              "  }\n",
              "\n",
              "  [theme=dark] .colab-df-quickchart {\n",
              "      --bg-color: #3B4455;\n",
              "      --fill-color: #D2E3FC;\n",
              "      --hover-bg-color: #434B5C;\n",
              "      --hover-fill-color: #FFFFFF;\n",
              "      --disabled-bg-color: #3B4455;\n",
              "      --disabled-fill-color: #666;\n",
              "  }\n",
              "\n",
              "  .colab-df-quickchart {\n",
              "    background-color: var(--bg-color);\n",
              "    border: none;\n",
              "    border-radius: 50%;\n",
              "    cursor: pointer;\n",
              "    display: none;\n",
              "    fill: var(--fill-color);\n",
              "    height: 32px;\n",
              "    padding: 0;\n",
              "    width: 32px;\n",
              "  }\n",
              "\n",
              "  .colab-df-quickchart:hover {\n",
              "    background-color: var(--hover-bg-color);\n",
              "    box-shadow: 0 1px 2px rgba(60, 64, 67, 0.3), 0 1px 3px 1px rgba(60, 64, 67, 0.15);\n",
              "    fill: var(--button-hover-fill-color);\n",
              "  }\n",
              "\n",
              "  .colab-df-quickchart-complete:disabled,\n",
              "  .colab-df-quickchart-complete:disabled:hover {\n",
              "    background-color: var(--disabled-bg-color);\n",
              "    fill: var(--disabled-fill-color);\n",
              "    box-shadow: none;\n",
              "  }\n",
              "\n",
              "  .colab-df-spinner {\n",
              "    border: 2px solid var(--fill-color);\n",
              "    border-color: transparent;\n",
              "    border-bottom-color: var(--fill-color);\n",
              "    animation:\n",
              "      spin 1s steps(1) infinite;\n",
              "  }\n",
              "\n",
              "  @keyframes spin {\n",
              "    0% {\n",
              "      border-color: transparent;\n",
              "      border-bottom-color: var(--fill-color);\n",
              "      border-left-color: var(--fill-color);\n",
              "    }\n",
              "    20% {\n",
              "      border-color: transparent;\n",
              "      border-left-color: var(--fill-color);\n",
              "      border-top-color: var(--fill-color);\n",
              "    }\n",
              "    30% {\n",
              "      border-color: transparent;\n",
              "      border-left-color: var(--fill-color);\n",
              "      border-top-color: var(--fill-color);\n",
              "      border-right-color: var(--fill-color);\n",
              "    }\n",
              "    40% {\n",
              "      border-color: transparent;\n",
              "      border-right-color: var(--fill-color);\n",
              "      border-top-color: var(--fill-color);\n",
              "    }\n",
              "    60% {\n",
              "      border-color: transparent;\n",
              "      border-right-color: var(--fill-color);\n",
              "    }\n",
              "    80% {\n",
              "      border-color: transparent;\n",
              "      border-right-color: var(--fill-color);\n",
              "      border-bottom-color: var(--fill-color);\n",
              "    }\n",
              "    90% {\n",
              "      border-color: transparent;\n",
              "      border-bottom-color: var(--fill-color);\n",
              "    }\n",
              "  }\n",
              "</style>\n",
              "\n",
              "  <script>\n",
              "    async function quickchart(key) {\n",
              "      const quickchartButtonEl =\n",
              "        document.querySelector('#' + key + ' button');\n",
              "      quickchartButtonEl.disabled = true;  // To prevent multiple clicks.\n",
              "      quickchartButtonEl.classList.add('colab-df-spinner');\n",
              "      try {\n",
              "        const charts = await google.colab.kernel.invokeFunction(\n",
              "            'suggestCharts', [key], {});\n",
              "      } catch (error) {\n",
              "        console.error('Error during call to suggestCharts:', error);\n",
              "      }\n",
              "      quickchartButtonEl.classList.remove('colab-df-spinner');\n",
              "      quickchartButtonEl.classList.add('colab-df-quickchart-complete');\n",
              "    }\n",
              "    (() => {\n",
              "      let quickchartButtonEl =\n",
              "        document.querySelector('#df-b950424f-f2f5-4637-b3a3-d7098c3448d4 button');\n",
              "      quickchartButtonEl.style.display =\n",
              "        google.colab.kernel.accessAllowed ? 'block' : 'none';\n",
              "    })();\n",
              "  </script>\n",
              "</div>\n",
              "\n",
              "    </div>\n",
              "  </div>\n"
            ],
            "application/vnd.google.colaboratory.intrinsic+json": {
              "type": "dataframe",
              "summary": "{\n  \"name\": \"cmbagent\",\n  \"rows\": 8,\n  \"fields\": [\n    {\n      \"column\": \"Agent\",\n      \"properties\": {\n        \"dtype\": \"string\",\n        \"num_unique_values\": 4,\n        \"samples\": [\n          \"engineer\",\n          \"admin (speaker_selection_agent)\",\n          \"planner\"\n        ],\n        \"semantic_type\": \"\",\n        \"description\": \"\"\n      }\n    },\n    {\n      \"column\": \"Cost\",\n      \"properties\": {\n        \"dtype\": \"number\",\n        \"std\": 0.055785179899580595,\n        \"min\": 0.0021950000000000003,\n        \"max\": 0.1427,\n        \"num_unique_values\": 8,\n        \"samples\": [\n          0.0217925,\n          0.0027625,\n          0.00462\n        ],\n        \"semantic_type\": \"\",\n        \"description\": \"\"\n      }\n    },\n    {\n      \"column\": \"Prompt Tokens\",\n      \"properties\": {\n        \"dtype\": \"number\",\n        \"std\": 11998.691699514577,\n        \"min\": 870.0,\n        \"max\": 32687.0,\n        \"num_unique_values\": 8,\n        \"samples\": [\n          6769.0,\n          1097.0,\n          988.0\n        ],\n        \"semantic_type\": \"\",\n        \"description\": \"\"\n      }\n    },\n    {\n      \"column\": \"Completion Tokens\",\n      \"properties\": {\n        \"dtype\": \"number\",\n        \"std\": 315.91759775521933,\n        \"min\": 1.0,\n        \"max\": 879.0,\n        \"num_unique_values\": 6,\n        \"samples\": [\n          215.0,\n          487.0,\n          879.0\n        ],\n        \"semantic_type\": \"\",\n        \"description\": \"\"\n      }\n    },\n    {\n      \"column\": \"Total Tokens\",\n      \"properties\": {\n        \"dtype\": \"number\",\n        \"std\": 12254.595977486511,\n        \"min\": 872.0,\n        \"max\": 33566.0,\n        \"num_unique_values\": 8,\n        \"samples\": [\n          7256.0,\n          1099.0,\n          1203.0\n        ],\n        \"semantic_type\": \"\",\n        \"description\": \"\"\n      }\n    }\n  ]\n}"
            }
          },
          "metadata": {}
        },
        {
          "output_type": "stream",
          "name": "stdout",
          "text": [
            "Do you want to save this task summary to the \"memory agent\" vector stores? This will aid you and others in solving similar tasks in the future. Please only save the task if it has been completed successfully. Type \"yes\" or \"no\". yes\n",
            "Asking planner to generate summary\n",
            "The summary will be json formatted.\n",
            "\n",
            "\n",
            "\n",
            "Prepared group chat with 10 messages, the last speaker is executor\n",
            "planner (to chat_manager):\n",
            "\n",
            "\n",
            "            Based on the conversation history, write a synthetic executive summary of the session.\n",
            "            Specifically highlight the steps that required revision by admin and what was done to reach a successful answer that \n",
            "            was accepted the admin (i.e., who asked to proceed). \n",
            "\n",
            "            Your answer is formatted in json. \n",
            "            \n",
            "\n",
            "--------------------------------------------------------------------------------\n",
            "\n",
            "Next speaker: planner\n",
            "\n"
          ]
        },
        {
          "output_type": "stream",
          "name": "stderr",
          "text": [
            "/usr/local/lib/python3.10/dist-packages/autogen/oai/client.py:834: PydanticDeprecatedSince20: `schema_json_of` is deprecated. Use `pydantic.TypeAdapter.json_schema` instead. Deprecated in Pydantic V2.0 to be removed in V3.0. See Pydantic V2 Migration Guide at https://errors.pydantic.dev/2.10/migration/\n",
            "  {**params, **{\"response_format\": schema_json_of(params[\"response_format\"])}}\n",
            "/usr/local/lib/python3.10/dist-packages/pydantic/deprecated/tools.py:101: PydanticDeprecatedSince20: `schema_of` is deprecated. Use `pydantic.TypeAdapter.json_schema` instead. Deprecated in Pydantic V2.0 to be removed in V3.0. See Pydantic V2 Migration Guide at https://errors.pydantic.dev/2.10/migration/\n",
            "  schema_of(type_, title=title, by_alias=by_alias, ref_template=ref_template, schema_generator=schema_generator),\n",
            "<frozen importlib._bootstrap>:914: ImportWarning: _PyDrive2ImportHook.find_spec() not found; falling back to find_module()\n",
            "<frozen importlib._bootstrap>:914: ImportWarning: _PyDriveImportHook.find_spec() not found; falling back to find_module()\n",
            "<frozen importlib._bootstrap>:914: ImportWarning: _GenerativeAIImportHook.find_spec() not found; falling back to find_module()\n",
            "<frozen importlib._bootstrap>:914: ImportWarning: _OpenCVImportHook.find_spec() not found; falling back to find_module()\n",
            "<frozen importlib._bootstrap>:914: ImportWarning: APICoreClientInfoImportHook.find_spec() not found; falling back to find_module()\n",
            "<frozen importlib._bootstrap>:914: ImportWarning: _BokehImportHook.find_spec() not found; falling back to find_module()\n",
            "<frozen importlib._bootstrap>:914: ImportWarning: _AltairImportHook.find_spec() not found; falling back to find_module()\n"
          ]
        },
        {
          "output_type": "display_data",
          "data": {
            "text/plain": [
              "<pandas.io.formats.style.Styler at 0x7925b6badc00>"
            ],
            "text/html": [
              "<style type=\"text/css\">\n",
              "</style>\n",
              "<table id=\"T_cd285\" class=\"dataframe\">\n",
              "  <thead>\n",
              "    <tr>\n",
              "      <th id=\"T_cd285_level0_col0\" class=\"col_heading level0 col0\" >Model</th>\n",
              "      <th id=\"T_cd285_level0_col1\" class=\"col_heading level0 col1\" >agent</th>\n",
              "      <th id=\"T_cd285_level0_col2\" class=\"col_heading level0 col2\" >Cost</th>\n",
              "      <th id=\"T_cd285_level0_col3\" class=\"col_heading level0 col3\" >Prompt Tokens</th>\n",
              "      <th id=\"T_cd285_level0_col4\" class=\"col_heading level0 col4\" >Completion Tokens</th>\n",
              "      <th id=\"T_cd285_level0_col5\" class=\"col_heading level0 col5\" >Total Tokens</th>\n",
              "    </tr>\n",
              "  </thead>\n",
              "  <tbody>\n",
              "    <tr>\n",
              "      <td id=\"T_cd285_row0_col0\" class=\"data row0 col0\" >gpt-4o-2024-08-06</td>\n",
              "      <td id=\"T_cd285_row0_col1\" class=\"data row0 col1\" >planner</td>\n",
              "      <td id=\"T_cd285_row0_col2\" class=\"data row0 col2\" >0.01199</td>\n",
              "      <td id=\"T_cd285_row0_col3\" class=\"data row0 col3\" >2995</td>\n",
              "      <td id=\"T_cd285_row0_col4\" class=\"data row0 col4\" >450</td>\n",
              "      <td id=\"T_cd285_row0_col5\" class=\"data row0 col5\" >3445</td>\n",
              "    </tr>\n",
              "  </tbody>\n",
              "</table>\n"
            ]
          },
          "metadata": {}
        },
        {
          "output_type": "stream",
          "name": "stdout",
          "text": [
            "planner (to chat_manager):\n",
            "\n",
            "{\"main_task\":\"Compute a Gaussian centered on the best-fit H0 value from ACT.\",\"results\":\"Successfully computed and plotted a Gaussian distribution centered on the best-fit H0 value from ACT data.\",\"summary\":[{\"sub_task\":\"Retrieve the best-fit H0 value from ACT data.\",\"result\":\"Retrieved the best-fit H0 value as 68.3 km s⁻¹ Mpc⁻¹ from ACT data.\",\"feedback\":\"Proceed to the next step.\",\"agent\":\"act_agent\"},{\"sub_task\":\"Check if there are any past tasks related to computing a Gaussian centered on a best-fit value.\",\"result\":\"Skipped as per admin's instruction.\",\"feedback\":\"Proceed to the next step.\",\"agent\":\"memory_agent\"},{\"sub_task\":\"Write Python code to compute a Gaussian centered on the retrieved best-fit H0 value.\",\"result\":\"Python code was written to compute and plot the Gaussian distribution.\",\"feedback\":\"Proceed to execute the code.\",\"agent\":\"engineer\"},{\"sub_task\":\"Execute the Python code to compute the Gaussian.\",\"result\":\"Code executed successfully, and the Gaussian distribution was plotted and saved as 'gaussian_H0_distribution.png'.\",\"feedback\":\"Task completed successfully.\",\"agent\":\"executor\"}]}\n",
            "\n",
            "--------------------------------------------------------------------------------\n",
            "\n",
            "Next speaker: admin\n",
            "\n",
            "Replying as admin. Provide feedback to chat_manager. Press enter to skip and use auto-reply, or type 'exit' to end the conversation: exit\n",
            "Formatted JSON output:\n",
            "\n",
            "{\n",
            "    \"main_task\": \"Compute a Gaussian centered on the best-fit H0 value from ACT.\",\n",
            "    \"results\": \"Successfully computed and plotted a Gaussian distribution centered on the best-fit H0 value from ACT data.\",\n",
            "    \"summary\": [\n",
            "        {\n",
            "            \"sub_task\": \"Retrieve the best-fit H0 value from ACT data.\",\n",
            "            \"result\": \"Retrieved the best-fit H0 value as 68.3 km s\\u207b\\u00b9 Mpc\\u207b\\u00b9 from ACT data.\",\n",
            "            \"feedback\": \"Proceed to the next step.\",\n",
            "            \"agent\": \"act_agent\"\n",
            "        },\n",
            "        {\n",
            "            \"sub_task\": \"Check if there are any past tasks related to computing a Gaussian centered on a best-fit value.\",\n",
            "            \"result\": \"Skipped as per admin's instruction.\",\n",
            "            \"feedback\": \"Proceed to the next step.\",\n",
            "            \"agent\": \"memory_agent\"\n",
            "        },\n",
            "        {\n",
            "            \"sub_task\": \"Write Python code to compute a Gaussian centered on the retrieved best-fit H0 value.\",\n",
            "            \"result\": \"Python code was written to compute and plot the Gaussian distribution.\",\n",
            "            \"feedback\": \"Proceed to execute the code.\",\n",
            "            \"agent\": \"engineer\"\n",
            "        },\n",
            "        {\n",
            "            \"sub_task\": \"Execute the Python code to compute the Gaussian.\",\n",
            "            \"result\": \"Code executed successfully, and the Gaussian distribution was plotted and saved as 'gaussian_H0_distribution.png'.\",\n",
            "            \"feedback\": \"Task completed successfully.\",\n",
            "            \"agent\": \"executor\"\n",
            "        }\n",
            "    ]\n",
            "}\n",
            "Updating vector store for memory_agent\n",
            "memory_agent: chunking strategy: \n",
            "{'static': {'chunk_overlap_tokens': 400, 'max_chunk_size_tokens': 800},\n",
            " 'type': 'static'}\n",
            "Files to upload:\n",
            "\t - summary_2024-11-21_23:59:56.json\n",
            "\t - summary_2024-12-15_10:57:33.json\n",
            "completed\n",
            "FileCounts(cancelled=0, completed=2, failed=0, in_progress=0, total=2)\n",
            "memory_agent: uploaded assistant data to vector store with id:  vs_Y74UGXmrEVmRoy3zGpIOCxL6\n",
            "\n",
            "\n",
            "vector stores updated\n",
            "'memory_agent': 'vs_Y74UGXmrEVmRoy3zGpIOCxL6',\n",
            "The memory vector store has been updated. The session will now be closed.\n"
          ]
        },
        {
          "output_type": "stream",
          "name": "stderr",
          "text": [
            "/usr/local/lib/python3.10/dist-packages/cmbagent/cmbagent.py:522: ResourceWarning: unclosed file <_io.BufferedReader name='/content/cmbagent_data/data/memory/summary_2024-12-15_10:57:33.json'>\n",
            "  self.push_vector_stores(['memory'], None, verbose = True)\n",
            "ResourceWarning: Enable tracemalloc to get the object allocation traceback\n",
            "/usr/local/lib/python3.10/dist-packages/cmbagent/cmbagent.py:522: ResourceWarning: unclosed file <_io.BufferedReader name='/content/cmbagent_data/data/memory/summary_2024-11-21_23:59:56.json'>\n",
            "  self.push_vector_stores(['memory'], None, verbose = True)\n",
            "ResourceWarning: Enable tracemalloc to get the object allocation traceback\n"
          ]
        }
      ]
    }
  ]
}
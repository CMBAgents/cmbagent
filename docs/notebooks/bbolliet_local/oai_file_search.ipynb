{
 "cells": [
  {
   "cell_type": "markdown",
   "id": "b4f8a9a0-1440-4da1-92d0-a8a919f6c877",
   "metadata": {},
   "source": [
    "# Sandbox for openai file_search testing"
   ]
  },
  {
   "cell_type": "markdown",
   "id": "8636ae5e-5f9a-4e9b-a98d-7dcc6e8d2439",
   "metadata": {},
   "source": [
    "### Big chunks"
   ]
  },
  {
   "cell_type": "code",
   "execution_count": 1,
   "id": "f5f8293d-b576-4e86-9d37-8d24135fddd5",
   "metadata": {},
   "outputs": [],
   "source": [
    "import os\n",
    "from openai import OpenAI\n",
    "from pprint import pprint\n",
    "from IPython.display import display"
   ]
  },
  {
   "cell_type": "code",
   "execution_count": 2,
   "id": "183f0767-99e7-4eee-aab2-737e168a7bd3",
   "metadata": {},
   "outputs": [],
   "source": [
    "client = OpenAI(api_key = os.getenv(\"OPENAI_API_KEY\"))"
   ]
  },
  {
   "cell_type": "code",
   "execution_count": 3,
   "id": "c89e7766-d6dc-49ba-8500-120b206a5180",
   "metadata": {},
   "outputs": [
    {
     "name": "stdout",
     "output_type": "stream",
     "text": [
      "{'static': {'chunk_overlap_tokens': 0, 'max_chunk_size_tokens': 4000},\n",
      " 'type': 'static'}\n"
     ]
    }
   ],
   "source": [
    "chunking_strategy =  {\n",
    "        \"type\": \"static\",\n",
    "        \"static\": {\n",
    "          \"max_chunk_size_tokens\": 4000, # reduce size to ensure better context integrity\n",
    "          \"chunk_overlap_tokens\": 0 # increase overlap to maintain context across chunks\n",
    "        }}\n",
    "\n",
    "pprint(chunking_strategy)\n",
    "\n",
    "vector_store = client.beta.vector_stores.create(name=\"rag_test\",\n",
    "                                                chunking_strategy=chunking_strategy)"
   ]
  },
  {
   "cell_type": "code",
   "execution_count": 4,
   "id": "4b7cb6e3-96a6-4ed5-8f62-9804bb3848a2",
   "metadata": {},
   "outputs": [
    {
     "data": {
      "text/plain": [
       "'vs_67b09765c6a88191b8f371b905bcddd0'"
      ]
     },
     "execution_count": 4,
     "metadata": {},
     "output_type": "execute_result"
    }
   ],
   "source": [
    "vector_store.id"
   ]
  },
  {
   "cell_type": "code",
   "execution_count": 5,
   "id": "2d77b411-6274-41fa-86ff-ec4026600a08",
   "metadata": {},
   "outputs": [
    {
     "name": "stdout",
     "output_type": "stream",
     "text": [
      "Files to upload:\n",
      "\t - handbook.pdf\n",
      "CPU times: user 26.7 ms, sys: 6.29 ms, total: 33 ms\n",
      "Wall time: 3.3 s\n"
     ]
    }
   ],
   "source": [
    "%%time\n",
    "assistant_data = \"/Users/boris/CMBAgents/rag_test\"\n",
    "\n",
    "print(\"Files to upload:\")\n",
    "file_paths = []\n",
    "for root, dirs, files in os.walk(assistant_data):\n",
    "    # Filter out unwanted directories like .ipynb_checkpoints\n",
    "    dirs[:] = [d for d in dirs if not d.startswith('.')]\n",
    "    for file in files:\n",
    "        if file.startswith('.') or file.endswith('.ipynb')  or file.endswith('.yaml') or file.endswith('.txt'):\n",
    "            continue\n",
    "        print(f\"\\t - {file}\")\n",
    "        file_paths.append(os.path.join(root, file))\n",
    "\n",
    "file_streams = [open(path, \"rb\") for path in file_paths]\n",
    "\n",
    "file_batch = client.beta.vector_stores.file_batches.upload_and_poll(\n",
    "        vector_store_id=vector_store.id,\n",
    "        files=file_streams\n",
    "        )"
   ]
  },
  {
   "cell_type": "code",
   "execution_count": 6,
   "id": "a5fd11d6-f6e2-4d00-b963-f7a8e5c579a4",
   "metadata": {},
   "outputs": [
    {
     "name": "stdout",
     "output_type": "stream",
     "text": [
      "assistant not found yet\n"
     ]
    }
   ],
   "source": [
    "try:\n",
    "    client.beta.assistants.delete(new_assistant.id)\n",
    "except:\n",
    "    print(\"assistant not found yet\")"
   ]
  },
  {
   "cell_type": "code",
   "execution_count": 7,
   "id": "11ee61f2-5e1c-4ad3-88a0-0c81a7fdf1a0",
   "metadata": {},
   "outputs": [],
   "source": [
    "new_assistant = client.beta.assistants.create(\n",
    "    name=\"rag_test\",\n",
    "    instructions=\"You are a file searcher\",\n",
    "    tools=[{\"type\": \"file_search\",\n",
    "            \"file_search\":\n",
    "            {'max_num_results': 3}}],\n",
    "    tool_resources={\"file_search\": {\"vector_store_ids\":[vector_store.id]}},\n",
    "    model=\"gpt-4o\", \n",
    "    temperature = 0.00001,\n",
    "    top_p = 0.05,\n",
    ")"
   ]
  },
  {
   "cell_type": "code",
   "execution_count": 8,
   "id": "af8faf6d-1fbd-41cb-a754-1a5cf62c67ad",
   "metadata": {},
   "outputs": [
    {
     "data": {
      "text/plain": [
       "'asst_aEhwtliNadz3xtrwH3Qgeu59'"
      ]
     },
     "execution_count": 8,
     "metadata": {},
     "output_type": "execute_result"
    }
   ],
   "source": [
    "new_assistant.id"
   ]
  },
  {
   "cell_type": "code",
   "execution_count": 9,
   "id": "c53ca3c6-7b37-4776-ac11-fd8f1e87cb2b",
   "metadata": {},
   "outputs": [],
   "source": [
    "thread = client.beta.threads.create(\n",
    "                messages=[],\n",
    "            )"
   ]
  },
  {
   "cell_type": "code",
   "execution_count": 10,
   "id": "6848af3c-51da-41f5-ac47-efb2437621d7",
   "metadata": {},
   "outputs": [
    {
     "data": {
      "text/plain": [
       "'thread_1VeIkzAb7ydOfd6xnoWNyfE1'"
      ]
     },
     "execution_count": 10,
     "metadata": {},
     "output_type": "execute_result"
    }
   ],
   "source": [
    "thread.id"
   ]
  },
  {
   "cell_type": "code",
   "execution_count": 11,
   "id": "71e67c68-2f37-4dc2-aff2-59909028df6c",
   "metadata": {},
   "outputs": [],
   "source": [
    "message = \"What is relative weighting of the report and code for M1 module?\""
   ]
  },
  {
   "cell_type": "code",
   "execution_count": 12,
   "id": "d283e6ba-0eef-4347-b06b-e158bb8a54c6",
   "metadata": {},
   "outputs": [],
   "source": [
    "parsed = client.beta.threads.messages.create(\n",
    "                thread_id=thread.id,\n",
    "                content=message,\n",
    "                role='user',\n",
    "            )"
   ]
  },
  {
   "cell_type": "code",
   "execution_count": 13,
   "id": "49ceefe2-4123-4fa2-bbf3-760c1e907331",
   "metadata": {},
   "outputs": [],
   "source": [
    "run = client.beta.threads.runs.create(\n",
    "    thread_id=thread.id,\n",
    "    assistant_id=new_assistant.id,\n",
    "    # pass the latest system message as instructions\n",
    "    instructions=\"We perform file search\",\n",
    ")"
   ]
  },
  {
   "cell_type": "code",
   "execution_count": 14,
   "id": "712ba0dc-8409-47dd-b1ff-4d38900e37cf",
   "metadata": {},
   "outputs": [
    {
     "name": "stdout",
     "output_type": "stream",
     "text": [
      "run_uXVHerG0K1d9CBJdp1YS4Jte\n"
     ]
    }
   ],
   "source": [
    "print(run.id)"
   ]
  },
  {
   "cell_type": "code",
   "execution_count": 15,
   "id": "ee4bb2a3-3914-41ad-bd58-5ccd3d6d72dd",
   "metadata": {},
   "outputs": [
    {
     "data": {
      "text/plain": [
       "Run(id='run_uXVHerG0K1d9CBJdp1YS4Jte', assistant_id='asst_aEhwtliNadz3xtrwH3Qgeu59', cancelled_at=None, completed_at=None, created_at=1739626360, expires_at=1739626960, failed_at=None, incomplete_details=None, instructions='We perform file search', last_error=None, max_completion_tokens=None, max_prompt_tokens=None, metadata={}, model='gpt-4o', object='thread.run', parallel_tool_calls=True, required_action=None, response_format='auto', started_at=None, status='queued', thread_id='thread_1VeIkzAb7ydOfd6xnoWNyfE1', tool_choice='auto', tools=[FileSearchTool(type='file_search', file_search=FileSearch(max_num_results=3, ranking_options=FileSearchRankingOptions(score_threshold=0.0, ranker='default_2024_08_21')))], truncation_strategy=TruncationStrategy(type='auto', last_messages=None), usage=None, temperature=1e-05, top_p=0.05, tool_resources={}, reasoning_effort=None)"
      ]
     },
     "execution_count": 15,
     "metadata": {},
     "output_type": "execute_result"
    }
   ],
   "source": [
    "run"
   ]
  },
  {
   "cell_type": "code",
   "execution_count": 16,
   "id": "bb3c059c-7e2c-4eeb-ba83-d37e7aa163d2",
   "metadata": {},
   "outputs": [],
   "source": [
    "run = client.beta.threads.runs.retrieve(run.id, thread_id=thread.id)"
   ]
  },
  {
   "cell_type": "code",
   "execution_count": 17,
   "id": "fe8c4131-189d-441a-ac4e-987788d1b462",
   "metadata": {},
   "outputs": [
    {
     "name": "stdout",
     "output_type": "stream",
     "text": [
      "Usage(completion_tokens=69, prompt_tokens=4344, total_tokens=4413, prompt_token_details={'cached_tokens': 0}, completion_tokens_details={'reasoning_tokens': 0})\n"
     ]
    }
   ],
   "source": [
    "print(run.usage)"
   ]
  },
  {
   "cell_type": "code",
   "execution_count": 18,
   "id": "d35835f1-ce13-4c2b-9885-7ce6184b0d88",
   "metadata": {},
   "outputs": [
    {
     "data": {
      "text/plain": [
       "{'model': 'gpt-4o',\n",
       " 'prompt_tokens': 4344,\n",
       " 'completion_tokens': 69,\n",
       " 'total_tokens': 4413}"
      ]
     },
     "metadata": {},
     "output_type": "display_data"
    }
   ],
   "source": [
    "# register cost \n",
    "prompt_tokens = run.usage.prompt_tokens\n",
    "completion_tokens = run.usage.completion_tokens\n",
    "total_tokens = run.usage.total_tokens\n",
    "\n",
    "# cost = self.cost(run)\n",
    "tokens_dict = {\n",
    "    \"model\": run.model,\n",
    "    \"prompt_tokens\": prompt_tokens,\n",
    "    \"completion_tokens\": completion_tokens,\n",
    "    \"total_tokens\": total_tokens,\n",
    "}\n",
    "display(tokens_dict)"
   ]
  },
  {
   "cell_type": "code",
   "execution_count": 19,
   "id": "dece3a00-4932-4bba-b0ab-2c93b06d3313",
   "metadata": {},
   "outputs": [],
   "source": [
    "response_messages = client.beta.threads.messages.list(thread.id, order=\"asc\")"
   ]
  },
  {
   "cell_type": "code",
   "execution_count": 20,
   "id": "d4ef38c4-1b0f-4463-be60-98b75d0bb32a",
   "metadata": {},
   "outputs": [
    {
     "data": {
      "text/plain": [
       "SyncCursorPage[Message](data=[Message(id='msg_UoSnnbKncCtQK2IbIbSEuMWn', assistant_id=None, attachments=[], completed_at=None, content=[TextContentBlock(text=Text(annotations=[], value='What is relative weighting of the report and code for M1 module?'), type='text')], created_at=1739626354, incomplete_at=None, incomplete_details=None, metadata={}, object='thread.message', role='user', run_id=None, status=None, thread_id='thread_1VeIkzAb7ydOfd6xnoWNyfE1'), Message(id='msg_tKUmZCF7THtWA80Sq9guOEiQ', assistant_id='asst_aEhwtliNadz3xtrwH3Qgeu59', attachments=[], completed_at=None, content=[TextContentBlock(text=Text(annotations=[FileCitationAnnotation(end_index=143, file_citation=FileCitation(file_id='file-PK6AQoHsWfCkKpmvSH1XB3'), start_index=125, text='【4:0†handbook.pdf】', type='file_citation')], value='The relative weighting of the report and code for the M1 module (Machine Learning) is 67% for the report and 33% for the code【4:0†handbook.pdf】.'), type='text')], created_at=1739626363, incomplete_at=None, incomplete_details=None, metadata={}, object='thread.message', role='assistant', run_id='run_uXVHerG0K1d9CBJdp1YS4Jte', status=None, thread_id='thread_1VeIkzAb7ydOfd6xnoWNyfE1')], object='list', first_id='msg_UoSnnbKncCtQK2IbIbSEuMWn', last_id='msg_tKUmZCF7THtWA80Sq9guOEiQ', has_more=False)"
      ]
     },
     "execution_count": 20,
     "metadata": {},
     "output_type": "execute_result"
    }
   ],
   "source": [
    "response_messages"
   ]
  },
  {
   "cell_type": "code",
   "execution_count": 21,
   "id": "905e0830-d67a-42be-90f9-1048e572058d",
   "metadata": {},
   "outputs": [],
   "source": [
    "run_steps = client.beta.threads.runs.steps.list(\n",
    "    thread_id=thread.id,\n",
    "    run_id=run.id\n",
    ")"
   ]
  },
  {
   "cell_type": "code",
   "execution_count": 22,
   "id": "0c730cd2-86dc-43a1-b193-0e6934cf6c2d",
   "metadata": {},
   "outputs": [
    {
     "name": "stdout",
     "output_type": "stream",
     "text": [
      "i:  0\n",
      "step.step_details.tool_calls: None\n",
      "\n",
      "\n",
      "step done\n",
      "\n",
      "\n",
      "i:  1\n",
      "\n",
      "\n",
      "r:  0\n",
      "\n",
      "\n",
      "result:  FileSearchResult(file_id='file-PK6AQoHsWfCkKpmvSH1XB3', file_name='handbook.pdf', score=0.9862850330868557, content=[FileSearchResultContent(text='S1 - Statistical Methods → S2 - Advanced Statistical Methods\\nM1 - Machine Learning → M2 - Deep Learning\\nC1 - Research Computing → C2 - High Performance Computing\\n\\nAs stated in the previous section on “managing your workload”, students who wish to take 2 major modules for\\nexamination in Michaelmas and 3 from Lent should carefully consider both the prerequisite requirements for the\\nLent modules, and the effect this will have on their workload balance during the year. Students considering this\\noption should discuss it with a member of the MPhil teaching team in their review meeting before submitting their\\nchoices for approval.\\n\\nEach Major module will count for 12% of the final grade and will be examined via a mix of coursework and written\\nexams.\\n\\n3.1.1 Assessment\\n\\nThe Major modules will be graded by a summative assessment of:\\n\\n• Coursework (Report + Code Repository)\\n\\n• Written examination\\n\\nThe relative weighting of the two for each major module is specified below:\\n\\n• S1: Statistical Methods (Michaelmas) - 50% Coursework + 50% 3hr Exam\\n\\n11\\n\\n\\n\\n12 CHAPTER 3. COURSE ELEMENTS\\n\\n• M1: Machine Learning (Michaelmas) - 67% Coursework + 33% 2hr Exam\\n\\n• C1: Research Computing (Michaelmas) - 67% Coursework + 33% 2hr Exam\\n\\n• S2: Advanced Statistical Methods (Lent) - 50% Coursework + 50% 3hr Exam\\n\\n• M2: Deep Learning (Lent) - 67% Coursework + 33% 2hr Exam\\n\\n• C2: High Performance Computing (Lent) - 67% Coursework + 33% 2hr Exam\\n\\nThe relative weighting of the report and code repository for the coursework will be nominally be:\\n\\n• S1/S2 - 75% report and 25% code\\n\\n• M1/M2 - 67% report and 33% code\\n\\n• C1/C2 - 50% report and 50% code\\n\\nbut assessors are free to adjust these ratios flexibly to reflect their academic judgement for the module. The\\nassessor will mark the two elements collectively, using their academic judgement of each element to inform their\\njudgement of the other. Candidates will only be supplied with a single mark for the coursework covering both\\naspects.\\n\\nAssessors will mark the exam separately from the coursework, and the candidates will be supplied with both\\ncoursework and exam marks, in addition to the combined mark for the module.\\n\\n3.2 MINOR MODULES\\nThe minor modules supported by the MPhil will cover the application of the core techniques taught in the major\\nmodules to specific scientific research problems. Beyond illustrating useful data science methodology that may\\nhave broader applications, the minor modules are also intended to give insight into the goals and status of the\\nrelevant field and hence can help in preparing interested students for research in one of these areas. Each module\\nwill typically involve 16 hours of contact time in the form of lectures and supervised practical sessions. Details of\\nthe supervision arrangements for the minor modules will be announced in lectures.\\n\\nStudents must select exactly 2 Minor Advanced Topic Modules for examination. Students may audit, but not be\\nexamined on, any Minor Advanced Topic Modules not selected for examination if they are sure that it will not\\naffect their achievement on the programme. The final list of minor modules, and their respective schedules, will be\\nannounced at the beginning of Michaelmas term. The selection of minor modules offered will be updated annually\\nto respond to changes in the research landscape so candidates should be aware that modules offered in previous\\nyears may not continue to be available in current or future years. Minor advanced topic list:', type='text')])\n",
      "\n",
      "\n",
      "r:  1\n",
      "\n",
      "\n",
      "result:  FileSearchResult(file_id='file-PK6AQoHsWfCkKpmvSH1XB3', file_name='handbook.pdf', score=0.9817728326585694, content=[FileSearchResultContent(text='3.3. PROJECT 13\\n\\n3.2.1 Assessment\\n\\nThe Minor Advanced Topic modules will be graded by a summative assessment of:\\n\\n• Coursework (Report + Code Repository)\\n\\n• Oral Assessment\\n\\nThe relative weighting will be 50% Report, 25% Code Repository, and 25% Oral Assessment. The assessor will\\nmark the three elements collectively, using their academic judgement of each element to inform their judgement of\\nthe others. Candidates will only be supplied with a single mark for the minor module covering all elements.\\n\\n3.3 PROJECT\\nThe data analysis project should be focused on investigating the reproducibility of a key scientific data analysis in\\nthe literature. The choice to focus on reproducibility is to reinforce the great importance of validation of others’\\nwork as part of the scientific process, which is the key driver of the open science movement. The projects should\\nbe chosen to be open-ended so students can improve or extend the published work. It is expected that the very\\nbest projects would reach the standard for publication themselves.\\n\\nA key point is that the project is on investigating the reproducibility not just getting the same result as the original\\npaper. We expect students to develop their own code repository for the project (unless stated otherwise), even if\\nthere are existing published codes, so that their investigations are independent. Students should also understand\\nthat demonstrating a failure to reproduce the results can be a positive outcome for the project and can achieve\\nhigh marks, it is the quality of the investigation that counts.\\n\\nThe project component has been designed to allow students to demonstrate their independence and research\\naptitude. The project is an opportunity for students to demonstrate several core research skills:\\n\\n• Review and comprehend published scientific literature.\\n\\n• Understand and manipulate scientific data sets.\\n\\n• Reproduce publication level data analyses.\\n\\n• Critique, improve, or extend on published work.\\n\\n3.3.1 Project Allocation\\n\\nProject topics will be announced in Michaelmas term and students will be required to indicate ordered preferences\\nfor the projects they would like to work on to the Course Coordinator in writing (using the relevant form) for\\napproval by the Course Director. Several students will be able to be assigned to each project topic, but they will\\nwork independently on them. Students will not be able to nominate topics for projects but must select one from\\nthe approved list published by the course.\\n\\nIf their first preference has high demand, students may be offered their lower ranked choices to balance the\\ndistribution of projects between supervisors. This is required to ensure that supervisors have sufficient time both;\\nto support each student completing their project, and for assessment of the projects once submitted. The number\\nof students who will be able to do each topic will be determined by the supervisor for that topic based on the\\nabove considerations.\\n\\nAllocation of projects will be decided by the following method:\\n\\n• Students will provide up to 4 ranked choices for projects.\\n\\n• Each choice will be given a score, where the nth choice will have a score of 2n-1.\\n\\n• All un-ranked project topics will be assigned an equal score, which will be equal to the score that would be\\nassigned to the next unspecified choice.\\n\\n• The score will also contain an additional factor to support the even distribution of students across project\\nsupervisors.\\n\\n• Projects will be allocated to minimise the total score across all allocations.\\n\\n\\n\\n14 CHAPTER 3. COURSE ELEMENTS\\n\\nScoring matrix 1st Choice 2nd Choice 3rd Choice 4th Choice Remaining un-ranked projects\\n1 ranked project 1 - - - 2\\n2 ranked projects 1 2 - - 4\\n3 ranked projects 1 2 4 - 8\\n4 ranked projects 1 2 4 8 16\\n\\nTable 3.1: Project allocation scoring matrix', type='text')])\n",
      "\n",
      "\n",
      "r:  2\n",
      "\n",
      "\n",
      "result:  FileSearchResult(file_id='file-PK6AQoHsWfCkKpmvSH1XB3', file_name='handbook.pdf', score=0.9809896329526661, content=[FileSearchResultContent(text='• A1 - Data Driven Astronomy in the Square Kilometre Array era (Lent)\\n\\n• A2 - Applications of Data Science to Medical Imaging (Lent)\\n\\n• A3 - Applications of Data Science to High Energy Physics (Lent)\\n\\n• A4 - Galactic Archaeology for Near Field Cosmology (Lent)\\n\\n• A5 - Applications of Data Science to Gravitational Waves (Easter)\\n\\n• A6 - Applications of Data Science to Cosmology (Easter)\\n\\n• A7 - Image analysis (Easter)\\n\\nIt is considered typical for a student to choose one topic for examination in Lent term and one topic for examination\\nin Easter. This is to balance the workload of the student over the year and to leave ample time for completion of\\nthe project in Easter term. This approach also leaves space for the selection of alternatives if the students’ chosen\\nmodules prove more challenging than expected.\\n\\nAs stated in the previous section on “managing your workload”, students who wish to take two minor modules\\nfor examination in Lent should consider how this will affect their workload balance during that term and time for\\ncompletion of the project. Students who wish to take two minor modules in Easter should consider how they will\\nadapt their programme if one or more of their choices prove more challenging than expected and how it will affect\\ntheir time for completion of the project. Students considering either of these options should discuss them with\\ntheir progress supervisor in their progress interview before submitting their choices for approval.\\n\\nEach Minor Advanced Topic module will count for 7.5% of the final grade and will be examined via a mix of\\ncoursework and oral presentation.\\n\\n\\n\\n3.3. PROJECT 13\\n\\n3.2.1 Assessment\\n\\nThe Minor Advanced Topic modules will be graded by a summative assessment of:\\n\\n• Coursework (Report + Code Repository)\\n\\n• Oral Assessment\\n\\nThe relative weighting will be 50% Report, 25% Code Repository, and 25% Oral Assessment. The assessor will\\nmark the three elements collectively, using their academic judgement of each element to inform their judgement of\\nthe others. Candidates will only be supplied with a single mark for the minor module covering all elements.\\n\\n3.3 PROJECT\\nThe data analysis project should be focused on investigating the reproducibility of a key scientific data analysis in\\nthe literature. The choice to focus on reproducibility is to reinforce the great importance of validation of others’\\nwork as part of the scientific process, which is the key driver of the open science movement. The projects should\\nbe chosen to be open-ended so students can improve or extend the published work. It is expected that the very\\nbest projects would reach the standard for publication themselves.\\n\\nA key point is that the project is on investigating the reproducibility not just getting the same result as the original\\npaper. We expect students to develop their own code repository for the project (unless stated otherwise), even if\\nthere are existing published codes, so that their investigations are independent. Students should also understand\\nthat demonstrating a failure to reproduce the results can be a positive outcome for the project and can achieve\\nhigh marks, it is the quality of the investigation that counts.\\n\\nThe project component has been designed to allow students to demonstrate their independence and research\\naptitude. The project is an opportunity for students to demonstrate several core research skills:\\n\\n• Review and comprehend published scientific literature.\\n\\n• Understand and manipulate scientific data sets.\\n\\n• Reproduce publication level data analyses.\\n\\n• Critique, improve, or extend on published work.\\n\\n3.3.1 Project Allocation', type='text')])\n",
      "\n",
      "\n",
      "step done\n",
      "\n",
      "\n"
     ]
    }
   ],
   "source": [
    "i = 0\n",
    "for step in run_steps.data:\n",
    "    print(\"i: \", i)\n",
    "    try:\n",
    "\n",
    "        retrieved_step = client.beta.threads.runs.steps.retrieve(\n",
    "            thread_id=step.thread_id,\n",
    "            run_id=run.id,\n",
    "            step_id=step.id,\n",
    "            include=[\"step_details.tool_calls[*].file_search.results[*].content\"]\n",
    "        )\n",
    "        r = 0\n",
    "        for result in retrieved_step.step_details.tool_calls[0].file_search.results:\n",
    "            print(\"\\n\\nr: \", r)\n",
    "            print(\"\\n\\nresult: \", result)\n",
    "            r += 1\n",
    "\n",
    "    except:\n",
    "        print(\"step.step_details.tool_calls: None\")\n",
    "    print(\"\\n\\nstep done\\n\\n\")\n",
    "    i += 1"
   ]
  },
  {
   "cell_type": "markdown",
   "id": "83b23370-239d-4f9b-a0b2-291056d15e15",
   "metadata": {},
   "source": [
    "### Small chunks"
   ]
  },
  {
   "cell_type": "code",
   "execution_count": 1,
   "id": "b580861b-74f7-42a6-a5cb-a63f94e56a2d",
   "metadata": {},
   "outputs": [],
   "source": [
    "import os\n",
    "from openai import OpenAI\n",
    "from pprint import pprint\n",
    "from IPython.display import display"
   ]
  },
  {
   "cell_type": "code",
   "execution_count": 2,
   "id": "46b4a2bb-7b66-4451-9c64-d8ca35a68432",
   "metadata": {},
   "outputs": [],
   "source": [
    "client = OpenAI(api_key = os.getenv(\"OPENAI_API_KEY\"))"
   ]
  },
  {
   "cell_type": "code",
   "execution_count": 3,
   "id": "0ed278c0-65ce-4236-9dc6-6e8db9242a78",
   "metadata": {},
   "outputs": [
    {
     "name": "stdout",
     "output_type": "stream",
     "text": [
      "{'static': {'chunk_overlap_tokens': 0, 'max_chunk_size_tokens': 400},\n",
      " 'type': 'static'}\n"
     ]
    }
   ],
   "source": [
    "chunking_strategy =  {\n",
    "        \"type\": \"static\",\n",
    "        \"static\": {\n",
    "          \"max_chunk_size_tokens\": 400, # reduce size to ensure better context integrity\n",
    "          \"chunk_overlap_tokens\": 0 # increase overlap to maintain context across chunks\n",
    "        }}\n",
    "\n",
    "pprint(chunking_strategy)\n",
    "\n",
    "vector_store = client.beta.vector_stores.create(name=\"rag_test\",\n",
    "                                                chunking_strategy=chunking_strategy)"
   ]
  },
  {
   "cell_type": "code",
   "execution_count": 4,
   "id": "1800bba3-bf6a-4485-8d26-71712f5d9907",
   "metadata": {},
   "outputs": [
    {
     "data": {
      "text/plain": [
       "'vs_67b097b4883c819184f21742313e9f81'"
      ]
     },
     "execution_count": 4,
     "metadata": {},
     "output_type": "execute_result"
    }
   ],
   "source": [
    "vector_store.id"
   ]
  },
  {
   "cell_type": "code",
   "execution_count": 5,
   "id": "1ae3b519-0d1b-4767-9973-3ea0ee9030d4",
   "metadata": {},
   "outputs": [
    {
     "name": "stdout",
     "output_type": "stream",
     "text": [
      "Files to upload:\n",
      "\t - handbook.pdf\n",
      "CPU times: user 28.6 ms, sys: 6.32 ms, total: 35 ms\n",
      "Wall time: 5.48 s\n"
     ]
    }
   ],
   "source": [
    "%%time\n",
    "assistant_data = \"/Users/boris/CMBAgents/rag_test\"\n",
    "\n",
    "print(\"Files to upload:\")\n",
    "file_paths = []\n",
    "for root, dirs, files in os.walk(assistant_data):\n",
    "    # Filter out unwanted directories like .ipynb_checkpoints\n",
    "    dirs[:] = [d for d in dirs if not d.startswith('.')]\n",
    "    for file in files:\n",
    "        if file.startswith('.') or file.endswith('.ipynb')  or file.endswith('.yaml') or file.endswith('.txt'):\n",
    "            continue\n",
    "        print(f\"\\t - {file}\")\n",
    "        file_paths.append(os.path.join(root, file))\n",
    "\n",
    "file_streams = [open(path, \"rb\") for path in file_paths]\n",
    "\n",
    "file_batch = client.beta.vector_stores.file_batches.upload_and_poll(\n",
    "        vector_store_id=vector_store.id,\n",
    "        files=file_streams\n",
    "        )"
   ]
  },
  {
   "cell_type": "code",
   "execution_count": 6,
   "id": "92edf19d-7c60-4769-ae85-a822f08b06ec",
   "metadata": {},
   "outputs": [
    {
     "name": "stdout",
     "output_type": "stream",
     "text": [
      "assistant not found yet\n"
     ]
    }
   ],
   "source": [
    "try:\n",
    "    client.beta.assistants.delete(new_assistant.id)\n",
    "except:\n",
    "    print(\"assistant not found yet\")"
   ]
  },
  {
   "cell_type": "code",
   "execution_count": 7,
   "id": "05ad7158-4dbe-4433-81cb-cc698c119299",
   "metadata": {},
   "outputs": [],
   "source": [
    "new_assistant = client.beta.assistants.create(\n",
    "    name=\"rag_test\",\n",
    "    instructions=\"You are a file searcher\",\n",
    "    tools=[{\"type\": \"file_search\",\n",
    "            \"file_search\":\n",
    "            {'max_num_results': 3}}],\n",
    "    tool_resources={\"file_search\": {\"vector_store_ids\":[vector_store.id]}},\n",
    "    model=\"gpt-4o\", \n",
    "    temperature = 0.00001,\n",
    "    top_p = 0.05,\n",
    ")"
   ]
  },
  {
   "cell_type": "code",
   "execution_count": 8,
   "id": "d253c759-6be5-41a0-b16e-c30cf7e26fb9",
   "metadata": {},
   "outputs": [
    {
     "data": {
      "text/plain": [
       "'asst_Mw9Vylelr7Qje18Jd35FxwKC'"
      ]
     },
     "execution_count": 8,
     "metadata": {},
     "output_type": "execute_result"
    }
   ],
   "source": [
    "new_assistant.id"
   ]
  },
  {
   "cell_type": "code",
   "execution_count": 9,
   "id": "9629a63c-6a2d-4331-8f32-ef5039be8d77",
   "metadata": {},
   "outputs": [],
   "source": [
    "thread = client.beta.threads.create(\n",
    "                messages=[],\n",
    "            )"
   ]
  },
  {
   "cell_type": "code",
   "execution_count": 10,
   "id": "d0cded87-272a-42b6-a472-b4f04e83954f",
   "metadata": {},
   "outputs": [
    {
     "data": {
      "text/plain": [
       "'thread_JxjbyBLMVZoNiJZoB5YaAlx0'"
      ]
     },
     "execution_count": 10,
     "metadata": {},
     "output_type": "execute_result"
    }
   ],
   "source": [
    "thread.id"
   ]
  },
  {
   "cell_type": "code",
   "execution_count": 11,
   "id": "5dd768a7-8f35-456b-9ffb-05d77ba52380",
   "metadata": {},
   "outputs": [],
   "source": [
    "message = \"What is relative weighting of the report and code for M1 module?\""
   ]
  },
  {
   "cell_type": "code",
   "execution_count": 12,
   "id": "0f700d23-4cc3-4259-bb4d-f812cdb0423e",
   "metadata": {},
   "outputs": [],
   "source": [
    "parsed = client.beta.threads.messages.create(\n",
    "                thread_id=thread.id,\n",
    "                content=message,\n",
    "                role='user',\n",
    "            )"
   ]
  },
  {
   "cell_type": "code",
   "execution_count": 13,
   "id": "e9db1a92-0f1e-4295-a4af-94cdff7bbd90",
   "metadata": {},
   "outputs": [],
   "source": [
    "run = client.beta.threads.runs.create(\n",
    "    thread_id=thread.id,\n",
    "    assistant_id=new_assistant.id,\n",
    "    # pass the latest system message as instructions\n",
    "    instructions=\"We perform file search\",\n",
    ")"
   ]
  },
  {
   "cell_type": "code",
   "execution_count": 14,
   "id": "e8fe4214-aafd-46d2-8882-6e80cee8b8bf",
   "metadata": {},
   "outputs": [
    {
     "name": "stdout",
     "output_type": "stream",
     "text": [
      "run_5tSSMXdbBqEAxnIjxkIlkXDA\n"
     ]
    }
   ],
   "source": [
    "print(run.id)"
   ]
  },
  {
   "cell_type": "code",
   "execution_count": 18,
   "id": "2aef46c6-5487-48c5-9015-8941335a819a",
   "metadata": {},
   "outputs": [
    {
     "data": {
      "text/plain": [
       "Run(id='run_5tSSMXdbBqEAxnIjxkIlkXDA', assistant_id='asst_Mw9Vylelr7Qje18Jd35FxwKC', cancelled_at=None, completed_at=None, created_at=1739626448, expires_at=1739627048, failed_at=None, incomplete_details=None, instructions='We perform file search', last_error=None, max_completion_tokens=None, max_prompt_tokens=None, metadata={}, model='gpt-4o', object='thread.run', parallel_tool_calls=True, required_action=None, response_format='auto', started_at=None, status='queued', thread_id='thread_JxjbyBLMVZoNiJZoB5YaAlx0', tool_choice='auto', tools=[FileSearchTool(type='file_search', file_search=FileSearch(max_num_results=3, ranking_options=FileSearchRankingOptions(score_threshold=0.0, ranker='default_2024_08_21')))], truncation_strategy=TruncationStrategy(type='auto', last_messages=None), usage=None, temperature=1e-05, top_p=0.05, tool_resources={}, reasoning_effort=None)"
      ]
     },
     "execution_count": 18,
     "metadata": {},
     "output_type": "execute_result"
    }
   ],
   "source": [
    "run"
   ]
  },
  {
   "cell_type": "code",
   "execution_count": 19,
   "id": "5e23bbdd-25c4-4de4-b037-3cbabe13855b",
   "metadata": {},
   "outputs": [],
   "source": [
    "run = client.beta.threads.runs.retrieve(run.id, thread_id=thread.id)"
   ]
  },
  {
   "cell_type": "code",
   "execution_count": 20,
   "id": "a8315b40-23bb-47ba-b91c-bd41a7260349",
   "metadata": {},
   "outputs": [
    {
     "name": "stdout",
     "output_type": "stream",
     "text": [
      "Usage(completion_tokens=69, prompt_tokens=4338, total_tokens=4407, prompt_token_details={'cached_tokens': 0}, completion_tokens_details={'reasoning_tokens': 0})\n"
     ]
    }
   ],
   "source": [
    "print(run.usage)"
   ]
  },
  {
   "cell_type": "code",
   "execution_count": 21,
   "id": "5a5b6ed1-e169-4d91-a584-7929c4bf757f",
   "metadata": {},
   "outputs": [
    {
     "data": {
      "text/plain": [
       "{'model': 'gpt-4o',\n",
       " 'prompt_tokens': 4338,\n",
       " 'completion_tokens': 69,\n",
       " 'total_tokens': 4407}"
      ]
     },
     "metadata": {},
     "output_type": "display_data"
    }
   ],
   "source": [
    "# register cost \n",
    "prompt_tokens = run.usage.prompt_tokens\n",
    "completion_tokens = run.usage.completion_tokens\n",
    "total_tokens = run.usage.total_tokens\n",
    "\n",
    "# cost = self.cost(run)\n",
    "tokens_dict = {\n",
    "    \"model\": run.model,\n",
    "    \"prompt_tokens\": prompt_tokens,\n",
    "    \"completion_tokens\": completion_tokens,\n",
    "    \"total_tokens\": total_tokens,\n",
    "}\n",
    "display(tokens_dict)"
   ]
  },
  {
   "cell_type": "code",
   "execution_count": 22,
   "id": "3a4f469c-39e8-4de6-9d14-65dc0e40d904",
   "metadata": {},
   "outputs": [],
   "source": [
    "response_messages = client.beta.threads.messages.list(thread.id, order=\"asc\")"
   ]
  },
  {
   "cell_type": "code",
   "execution_count": 23,
   "id": "6a1fc27d-990e-4532-885f-38bb7c6755d5",
   "metadata": {},
   "outputs": [
    {
     "data": {
      "text/plain": [
       "SyncCursorPage[Message](data=[Message(id='msg_I6PA9udwmJm61esmJDWA2fRH', assistant_id=None, attachments=[], completed_at=None, content=[TextContentBlock(text=Text(annotations=[], value='What is relative weighting of the report and code for M1 module?'), type='text')], created_at=1739626443, incomplete_at=None, incomplete_details=None, metadata={}, object='thread.message', role='user', run_id=None, status=None, thread_id='thread_JxjbyBLMVZoNiJZoB5YaAlx0'), Message(id='msg_Xb1Vloee659pPVcZ7Gujf2Fg', assistant_id='asst_Mw9Vylelr7Qje18Jd35FxwKC', attachments=[], completed_at=None, content=[TextContentBlock(text=Text(annotations=[FileCitationAnnotation(end_index=143, file_citation=FileCitation(file_id='file-Y8eTyzvzuGfFrKViMKPgij'), start_index=125, text='【4:0†handbook.pdf】', type='file_citation')], value='The relative weighting of the report and code for the M1 module (Machine Learning) is 67% for the report and 33% for the code【4:0†handbook.pdf】.'), type='text')], created_at=1739626451, incomplete_at=None, incomplete_details=None, metadata={}, object='thread.message', role='assistant', run_id='run_5tSSMXdbBqEAxnIjxkIlkXDA', status=None, thread_id='thread_JxjbyBLMVZoNiJZoB5YaAlx0')], object='list', first_id='msg_I6PA9udwmJm61esmJDWA2fRH', last_id='msg_Xb1Vloee659pPVcZ7Gujf2Fg', has_more=False)"
      ]
     },
     "execution_count": 23,
     "metadata": {},
     "output_type": "execute_result"
    }
   ],
   "source": [
    "response_messages"
   ]
  },
  {
   "cell_type": "code",
   "execution_count": 24,
   "id": "01b1f724-7a46-4368-9e7d-9d4ff084deba",
   "metadata": {},
   "outputs": [],
   "source": [
    "run_steps = client.beta.threads.runs.steps.list(\n",
    "    thread_id=thread.id,\n",
    "    run_id=run.id\n",
    ")"
   ]
  },
  {
   "cell_type": "code",
   "execution_count": 25,
   "id": "19aa4ce2-1b92-4367-b845-e0035f32e96c",
   "metadata": {},
   "outputs": [
    {
     "name": "stdout",
     "output_type": "stream",
     "text": [
      "i:  0\n",
      "step.step_details.tool_calls: None\n",
      "\n",
      "\n",
      "step done\n",
      "\n",
      "\n",
      "i:  1\n",
      "\n",
      "\n",
      "r:  0\n",
      "\n",
      "\n",
      "result:  FileSearchResult(file_id='file-Y8eTyzvzuGfFrKViMKPgij', file_name='handbook.pdf', score=0.9862615222581074, content=[FileSearchResultContent(text='S1 - Statistical Methods → S2 - Advanced Statistical Methods\\nM1 - Machine Learning → M2 - Deep Learning\\nC1 - Research Computing → C2 - High Performance Computing\\n\\nAs stated in the previous section on “managing your workload”, students who wish to take 2 major modules for\\nexamination in Michaelmas and 3 from Lent should carefully consider both the prerequisite requirements for the\\nLent modules, and the effect this will have on their workload balance during the year. Students considering this\\noption should discuss it with a member of the MPhil teaching team in their review meeting before submitting their\\nchoices for approval.\\n\\nEach Major module will count for 12% of the final grade and will be examined via a mix of coursework and written\\nexams.\\n\\n3.1.1 Assessment\\n\\nThe Major modules will be graded by a summative assessment of:\\n\\n• Coursework (Report + Code Repository)\\n\\n• Written examination\\n\\nThe relative weighting of the two for each major module is specified below:\\n\\n• S1: Statistical Methods (Michaelmas) - 50% Coursework + 50% 3hr Exam\\n\\n11\\n\\n\\n\\n12 CHAPTER 3. COURSE ELEMENTS\\n\\n• M1: Machine Learning (Michaelmas) - 67% Coursework + 33% 2hr Exam\\n\\n• C1: Research Computing (Michaelmas) - 67% Coursework + 33% 2hr Exam\\n\\n• S2: Advanced Statistical Methods (Lent) - 50% Coursework + 50% 3hr Exam\\n\\n• M2: Deep Learning (Lent) - 67% Coursework + 33% 2hr Exam\\n\\n• C2: High Performance Computing (Lent) - 67% Coursework + 33% 2hr Exam\\n\\nThe relative weighting of the report and code repository for the coursework will be nominally be:\\n\\n• S1/S2 - 75% report and 25% code\\n\\n• M1/M2 - 67% report and 33% code\\n\\n• C1/C2 - 50% report and 50% code\\n\\nbut assessors are free to adjust these ratios flexibly to reflect their academic judgement for the module. The\\nassessor will mark the two elements collectively, using their academic judgement of each element to inform their\\njudgement of the other. Candidates will only be supplied with a single mark for the coursework covering both\\naspects.\\n\\nAssessors will mark the exam separately from the coursework, and the candidates will be supplied with both\\ncoursework and exam marks, in addition to the combined mark for the module.\\n\\n3.2 MINOR MODULES\\nThe minor modules supported by the MPhil will cover the application of the core techniques taught in the major\\nmodules to specific scientific research problems. Beyond illustrating useful data science methodology that may\\nhave broader applications, the minor modules are also intended to give insight into the goals and status of the\\nrelevant field and hence can help in preparing interested students for research in one of these areas. Each module\\nwill typically involve 16 hours of contact time in the form of lectures and supervised practical sessions. Details of\\nthe supervision arrangements for the minor modules will be announced in lectures.\\n\\nStudents must select exactly 2 Minor Advanced Topic Modules for examination. Students may audit, but not be\\nexamined on, any Minor Advanced Topic Modules not selected for examination if they are sure that it will not\\naffect their achievement on the programme. The final list of minor modules, and their respective schedules, will be\\nannounced at the beginning of Michaelmas term. The selection of minor modules offered will be updated annually\\nto respond to changes in the research landscape so candidates should be aware that modules offered in previous\\nyears may not continue to be available in current or future years. Minor advanced topic list:', type='text')])\n",
      "\n",
      "\n",
      "r:  1\n",
      "\n",
      "\n",
      "result:  FileSearchResult(file_id='file-Y8eTyzvzuGfFrKViMKPgij', file_name='handbook.pdf', score=0.9817728326585694, content=[FileSearchResultContent(text='3.3. PROJECT 13\\n\\n3.2.1 Assessment\\n\\nThe Minor Advanced Topic modules will be graded by a summative assessment of:\\n\\n• Coursework (Report + Code Repository)\\n\\n• Oral Assessment\\n\\nThe relative weighting will be 50% Report, 25% Code Repository, and 25% Oral Assessment. The assessor will\\nmark the three elements collectively, using their academic judgement of each element to inform their judgement of\\nthe others. Candidates will only be supplied with a single mark for the minor module covering all elements.\\n\\n3.3 PROJECT\\nThe data analysis project should be focused on investigating the reproducibility of a key scientific data analysis in\\nthe literature. The choice to focus on reproducibility is to reinforce the great importance of validation of others’\\nwork as part of the scientific process, which is the key driver of the open science movement. The projects should\\nbe chosen to be open-ended so students can improve or extend the published work. It is expected that the very\\nbest projects would reach the standard for publication themselves.\\n\\nA key point is that the project is on investigating the reproducibility not just getting the same result as the original\\npaper. We expect students to develop their own code repository for the project (unless stated otherwise), even if\\nthere are existing published codes, so that their investigations are independent. Students should also understand\\nthat demonstrating a failure to reproduce the results can be a positive outcome for the project and can achieve\\nhigh marks, it is the quality of the investigation that counts.\\n\\nThe project component has been designed to allow students to demonstrate their independence and research\\naptitude. The project is an opportunity for students to demonstrate several core research skills:\\n\\n• Review and comprehend published scientific literature.\\n\\n• Understand and manipulate scientific data sets.\\n\\n• Reproduce publication level data analyses.\\n\\n• Critique, improve, or extend on published work.\\n\\n3.3.1 Project Allocation\\n\\nProject topics will be announced in Michaelmas term and students will be required to indicate ordered preferences\\nfor the projects they would like to work on to the Course Coordinator in writing (using the relevant form) for\\napproval by the Course Director. Several students will be able to be assigned to each project topic, but they will\\nwork independently on them. Students will not be able to nominate topics for projects but must select one from\\nthe approved list published by the course.\\n\\nIf their first preference has high demand, students may be offered their lower ranked choices to balance the\\ndistribution of projects between supervisors. This is required to ensure that supervisors have sufficient time both;\\nto support each student completing their project, and for assessment of the projects once submitted. The number\\nof students who will be able to do each topic will be determined by the supervisor for that topic based on the\\nabove considerations.\\n\\nAllocation of projects will be decided by the following method:\\n\\n• Students will provide up to 4 ranked choices for projects.\\n\\n• Each choice will be given a score, where the nth choice will have a score of 2n-1.\\n\\n• All un-ranked project topics will be assigned an equal score, which will be equal to the score that would be\\nassigned to the next unspecified choice.\\n\\n• The score will also contain an additional factor to support the even distribution of students across project\\nsupervisors.\\n\\n• Projects will be allocated to minimise the total score across all allocations.\\n\\n\\n\\n14 CHAPTER 3. COURSE ELEMENTS\\n\\nScoring matrix 1st Choice 2nd Choice 3rd Choice 4th Choice Remaining un-ranked projects\\n1 ranked project 1 - - - 2\\n2 ranked projects 1 2 - - 4\\n3 ranked projects 1 2 4 - 8\\n4 ranked projects 1 2 4 8 16\\n\\nTable 3.1: Project allocation scoring matrix', type='text')])\n",
      "\n",
      "\n",
      "r:  2\n",
      "\n",
      "\n",
      "result:  FileSearchResult(file_id='file-Y8eTyzvzuGfFrKViMKPgij', file_name='handbook.pdf', score=0.9809896329526661, content=[FileSearchResultContent(text='• A1 - Data Driven Astronomy in the Square Kilometre Array era (Lent)\\n\\n• A2 - Applications of Data Science to Medical Imaging (Lent)\\n\\n• A3 - Applications of Data Science to High Energy Physics (Lent)\\n\\n• A4 - Galactic Archaeology for Near Field Cosmology (Lent)\\n\\n• A5 - Applications of Data Science to Gravitational Waves (Easter)\\n\\n• A6 - Applications of Data Science to Cosmology (Easter)\\n\\n• A7 - Image analysis (Easter)\\n\\nIt is considered typical for a student to choose one topic for examination in Lent term and one topic for examination\\nin Easter. This is to balance the workload of the student over the year and to leave ample time for completion of\\nthe project in Easter term. This approach also leaves space for the selection of alternatives if the students’ chosen\\nmodules prove more challenging than expected.\\n\\nAs stated in the previous section on “managing your workload”, students who wish to take two minor modules\\nfor examination in Lent should consider how this will affect their workload balance during that term and time for\\ncompletion of the project. Students who wish to take two minor modules in Easter should consider how they will\\nadapt their programme if one or more of their choices prove more challenging than expected and how it will affect\\ntheir time for completion of the project. Students considering either of these options should discuss them with\\ntheir progress supervisor in their progress interview before submitting their choices for approval.\\n\\nEach Minor Advanced Topic module will count for 7.5% of the final grade and will be examined via a mix of\\ncoursework and oral presentation.\\n\\n\\n\\n3.3. PROJECT 13\\n\\n3.2.1 Assessment\\n\\nThe Minor Advanced Topic modules will be graded by a summative assessment of:\\n\\n• Coursework (Report + Code Repository)\\n\\n• Oral Assessment\\n\\nThe relative weighting will be 50% Report, 25% Code Repository, and 25% Oral Assessment. The assessor will\\nmark the three elements collectively, using their academic judgement of each element to inform their judgement of\\nthe others. Candidates will only be supplied with a single mark for the minor module covering all elements.\\n\\n3.3 PROJECT\\nThe data analysis project should be focused on investigating the reproducibility of a key scientific data analysis in\\nthe literature. The choice to focus on reproducibility is to reinforce the great importance of validation of others’\\nwork as part of the scientific process, which is the key driver of the open science movement. The projects should\\nbe chosen to be open-ended so students can improve or extend the published work. It is expected that the very\\nbest projects would reach the standard for publication themselves.\\n\\nA key point is that the project is on investigating the reproducibility not just getting the same result as the original\\npaper. We expect students to develop their own code repository for the project (unless stated otherwise), even if\\nthere are existing published codes, so that their investigations are independent. Students should also understand\\nthat demonstrating a failure to reproduce the results can be a positive outcome for the project and can achieve\\nhigh marks, it is the quality of the investigation that counts.\\n\\nThe project component has been designed to allow students to demonstrate their independence and research\\naptitude. The project is an opportunity for students to demonstrate several core research skills:\\n\\n• Review and comprehend published scientific literature.\\n\\n• Understand and manipulate scientific data sets.\\n\\n• Reproduce publication level data analyses.\\n\\n• Critique, improve, or extend on published work.\\n\\n3.3.1 Project Allocation', type='text')])\n",
      "\n",
      "\n",
      "step done\n",
      "\n",
      "\n"
     ]
    }
   ],
   "source": [
    "i = 0\n",
    "for step in run_steps.data:\n",
    "    print(\"i: \", i)\n",
    "    try:\n",
    "\n",
    "        retrieved_step = client.beta.threads.runs.steps.retrieve(\n",
    "            thread_id=step.thread_id,\n",
    "            run_id=run.id,\n",
    "            step_id=step.id,\n",
    "            include=[\"step_details.tool_calls[*].file_search.results[*].content\"]\n",
    "        )\n",
    "        r = 0\n",
    "        for result in retrieved_step.step_details.tool_calls[0].file_search.results:\n",
    "            print(\"\\n\\nr: \", r)\n",
    "            print(\"\\n\\nresult: \", result)\n",
    "            r += 1\n",
    "\n",
    "    except:\n",
    "        print(\"step.step_details.tool_calls: None\")\n",
    "    print(\"\\n\\nstep done\\n\\n\")\n",
    "    i += 1"
   ]
  },
  {
   "cell_type": "code",
   "execution_count": null,
   "id": "58568101-8b17-4e5a-a901-913a47d3de41",
   "metadata": {},
   "outputs": [],
   "source": []
  }
 ],
 "metadata": {
  "kernelspec": {
   "display_name": "Python (venv_class_sz)",
   "language": "python",
   "name": "venv_class_sz312"
  },
  "language_info": {
   "codemirror_mode": {
    "name": "ipython",
    "version": 3
   },
   "file_extension": ".py",
   "mimetype": "text/x-python",
   "name": "python",
   "nbconvert_exporter": "python",
   "pygments_lexer": "ipython3",
   "version": "3.12.8"
  }
 },
 "nbformat": 4,
 "nbformat_minor": 5
}

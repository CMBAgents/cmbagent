{
 "cells": [
  {
   "cell_type": "code",
   "execution_count": 3,
   "id": "aa0cb725-9e7d-4504-aa85-d5461f741bc1",
   "metadata": {},
   "outputs": [
    {
     "name": "stdout",
     "output_type": "stream",
     "text": [
      "Checking agent: classy_sz_agent\n",
      "Agent classy_sz_agent exists in available assistants with id: asst_IEFG6lIlkKxuq8h72q6UGsf9\n",
      "Checking agent: act_agent\n",
      "Agent act_agent exists in available assistants with id: asst_kS8DnOVW0tkp1KHIfQ0UuBtO\n",
      "\t- admin\n",
      "\t- planner\n",
      "\t- engineer\n",
      "\t- rag_software_formatter\n",
      "\t- executor\n",
      "\t- classy_sz_agent\n",
      "\t- act_agent\n",
      "assistant not set-up properly, relaying error message\n",
      "Vector store not found for act_agent\n",
      "re-instantiating with make_vector_stores=['ac'],\n",
      "setting make_vector_stores=['act'],\n",
      "Updating vector store for act_agent\n",
      "Files to upload:\n",
      "\t - download_act_dr6_lensing_chains.md\n",
      "\t - 2304.05203v1.pdf\n",
      "\t - set_act_dr6_lenslike_with_bao_likelihoods_in_cobaya.md\n",
      "\t - set_act_dr6_lenslike_likelihood_in_cobaya.md\n",
      "\t - 2304.05202v1.pdf\n",
      "completed\n",
      "FileCounts(cancelled=0, completed=5, failed=0, in_progress=0, total=5)\n",
      "act_agent: uploaded assistant data to vector store with id:  vs_u1n8QrtZ5pmhqTgOAZLEkSIX\n",
      "\n",
      "\n",
      "vector stores updated\n",
      "'act_agent': 'vs_u1n8QrtZ5pmhqTgOAZLEkSIX',\n"
     ]
    }
   ],
   "source": [
    "import os\n",
    "from cmbagent import CMBAgent\n",
    "cmbagent = CMBAgent(agent_list = ['classy_sz','act'],\n",
    "                    skip_memory = True,\n",
    "                    verbose=False\n",
    "                   )\n",
    "cmbagent.clear_cache()"
   ]
  },
  {
   "cell_type": "code",
   "execution_count": 4,
   "id": "de0b1e88-fde5-4570-8386-996032800c39",
   "metadata": {},
   "outputs": [
    {
     "name": "stdout",
     "output_type": "stream",
     "text": [
      "\u001b[33mMessage from admin:\n",
      "\u001b[0m\n",
      "Compute temperature cls using best-fit values from ACT DR6 lensing.\n",
      "\u001b[32m\n",
      "Calling planner...\n",
      "\u001b[0m\n"
     ]
    },
    {
     "data": {
      "text/html": [
       "<style type=\"text/css\">\n",
       "</style>\n",
       "<table id=\"T_e7300\">\n",
       "  <thead>\n",
       "    <tr>\n",
       "      <th id=\"T_e7300_level0_col0\" class=\"col_heading level0 col0\" >Model</th>\n",
       "      <th id=\"T_e7300_level0_col1\" class=\"col_heading level0 col1\" >agent</th>\n",
       "      <th id=\"T_e7300_level0_col2\" class=\"col_heading level0 col2\" >Cost</th>\n",
       "      <th id=\"T_e7300_level0_col3\" class=\"col_heading level0 col3\" >Prompt Tokens</th>\n",
       "      <th id=\"T_e7300_level0_col4\" class=\"col_heading level0 col4\" >Completion Tokens</th>\n",
       "      <th id=\"T_e7300_level0_col5\" class=\"col_heading level0 col5\" >Total Tokens</th>\n",
       "    </tr>\n",
       "  </thead>\n",
       "  <tbody>\n",
       "    <tr>\n",
       "      <td id=\"T_e7300_row0_col0\" class=\"data row0 col0\" >gpt-4o-2024-08-06</td>\n",
       "      <td id=\"T_e7300_row0_col1\" class=\"data row0 col1\" >planner</td>\n",
       "      <td id=\"T_e7300_row0_col2\" class=\"data row0 col2\" >0.00399</td>\n",
       "      <td id=\"T_e7300_row0_col3\" class=\"data row0 col3\" >964</td>\n",
       "      <td id=\"T_e7300_row0_col4\" class=\"data row0 col4\" >158</td>\n",
       "      <td id=\"T_e7300_row0_col5\" class=\"data row0 col5\" >1122</td>\n",
       "    </tr>\n",
       "  </tbody>\n",
       "</table>\n"
      ],
      "text/plain": [
       "<pandas.io.formats.style.Styler at 0x1724b5ee0>"
      ]
     },
     "metadata": {},
     "output_type": "display_data"
    },
    {
     "name": "stdout",
     "output_type": "stream",
     "text": [
      "\u001b[33mMessage from planner:\n",
      "\u001b[0m\n"
     ]
    },
    {
     "data": {
      "text/markdown": [
       "\n",
       "**PLAN**\n",
       "\n",
       "- Main task: Compute temperature cls using best-fit values from ACT DR6 lensing.\n",
       "\n",
       "\n",
       "- Step 1:\n",
       "\t * sub-task: Retrieve information on how to compute with classy_sz for temperature cls.\n",
       "\t * agent in charge: classy_sz_agent\n",
       "\t\n",
       "\n",
       "- Step 2:\n",
       "\t * sub-task: Retrieve best-fit values from ACT DR6 lensing data.\n",
       "\t * agent in charge: act_agent\n",
       "\t\n",
       "\n",
       "- Step 3:\n",
       "\t * sub-task: Write Python code to compute temperature cls using classy_sz and ACT DR6 best-fit values.\n",
       "\t * agent in charge: engineer\n",
       "\t\n",
       "\n",
       "- Step 4:\n",
       "\t * sub-task: Execute the Python code to compute temperature cls.\n",
       "\t * agent in charge: executor\n",
       "\t\n",
       "\n",
       "**Next Step Suggestion:**\n",
       "\n",
       "Do you approve this plan and, if so, should we proceed with classy_sz_agent? or should we modify the plan?\n",
       "\n",
       "**Next Agent Suggestion:**\n",
       "\n",
       "classy_sz_agent\n",
       "        "
      ],
      "text/plain": [
       "<IPython.core.display.Markdown object>"
      ]
     },
     "metadata": {},
     "output_type": "display_data"
    },
    {
     "name": "stdout",
     "output_type": "stream",
     "text": [
      "\u001b[32m\n",
      "Calling admin...\n",
      "\u001b[0m\n"
     ]
    },
    {
     "name": "stdin",
     "output_type": "stream",
     "text": [
      "Provide feedback to cmbagent. Type 'proceed' to continue as suggested or type your suggestion, or type 'exit' to end the conversation:  proceed\n"
     ]
    },
    {
     "name": "stdout",
     "output_type": "stream",
     "text": [
      "\u001b[33mMessage from admin:\n",
      "\u001b[0m\n",
      "proceed\n",
      "\u001b[32m\n",
      "Calling classy_sz_agent...\n",
      "\u001b[0m\n"
     ]
    },
    {
     "data": {
      "text/html": [
       "<style type=\"text/css\">\n",
       "</style>\n",
       "<table id=\"T_61489\">\n",
       "  <thead>\n",
       "    <tr>\n",
       "      <th id=\"T_61489_level0_col0\" class=\"col_heading level0 col0\" >Model</th>\n",
       "      <th id=\"T_61489_level0_col1\" class=\"col_heading level0 col1\" >Cost</th>\n",
       "      <th id=\"T_61489_level0_col2\" class=\"col_heading level0 col2\" >Prompt Tokens</th>\n",
       "      <th id=\"T_61489_level0_col3\" class=\"col_heading level0 col3\" >Completion Tokens</th>\n",
       "      <th id=\"T_61489_level0_col4\" class=\"col_heading level0 col4\" >Total Tokens</th>\n",
       "    </tr>\n",
       "  </thead>\n",
       "  <tbody>\n",
       "    <tr>\n",
       "      <td id=\"T_61489_row0_col0\" class=\"data row0 col0\" >gpt-4o</td>\n",
       "      <td id=\"T_61489_row0_col1\" class=\"data row0 col1\" >0.06135</td>\n",
       "      <td id=\"T_61489_row0_col2\" class=\"data row0 col2\" >11019</td>\n",
       "      <td id=\"T_61489_row0_col3\" class=\"data row0 col3\" >417</td>\n",
       "      <td id=\"T_61489_row0_col4\" class=\"data row0 col4\" >11436</td>\n",
       "    </tr>\n",
       "  </tbody>\n",
       "</table>\n"
      ],
      "text/plain": [
       "<pandas.io.formats.style.Styler at 0x1724a8530>"
      ]
     },
     "metadata": {},
     "output_type": "display_data"
    },
    {
     "name": "stdout",
     "output_type": "stream",
     "text": [
      "\u001b[33mSending message from classy_sz_agent to rag_software_formatter...\n",
      "\u001b[0m\n",
      "\u001b[32m\n",
      "Calling rag_software_formatter...\n",
      "\u001b[0m\n"
     ]
    },
    {
     "data": {
      "text/html": [
       "<style type=\"text/css\">\n",
       "</style>\n",
       "<table id=\"T_df0d0\">\n",
       "  <thead>\n",
       "    <tr>\n",
       "      <th id=\"T_df0d0_level0_col0\" class=\"col_heading level0 col0\" >Model</th>\n",
       "      <th id=\"T_df0d0_level0_col1\" class=\"col_heading level0 col1\" >agent</th>\n",
       "      <th id=\"T_df0d0_level0_col2\" class=\"col_heading level0 col2\" >Cost</th>\n",
       "      <th id=\"T_df0d0_level0_col3\" class=\"col_heading level0 col3\" >Prompt Tokens</th>\n",
       "      <th id=\"T_df0d0_level0_col4\" class=\"col_heading level0 col4\" >Completion Tokens</th>\n",
       "      <th id=\"T_df0d0_level0_col5\" class=\"col_heading level0 col5\" >Total Tokens</th>\n",
       "    </tr>\n",
       "  </thead>\n",
       "  <tbody>\n",
       "    <tr>\n",
       "      <td id=\"T_df0d0_row0_col0\" class=\"data row0 col0\" >gpt-4o-2024-08-06</td>\n",
       "      <td id=\"T_df0d0_row0_col1\" class=\"data row0 col1\" >rag_software_formatter</td>\n",
       "      <td id=\"T_df0d0_row0_col2\" class=\"data row0 col2\" >0.00951</td>\n",
       "      <td id=\"T_df0d0_row0_col3\" class=\"data row0 col3\" >2491</td>\n",
       "      <td id=\"T_df0d0_row0_col4\" class=\"data row0 col4\" >328</td>\n",
       "      <td id=\"T_df0d0_row0_col5\" class=\"data row0 col5\" >2819</td>\n",
       "    </tr>\n",
       "  </tbody>\n",
       "</table>\n"
      ],
      "text/plain": [
       "<pandas.io.formats.style.Styler at 0x1724a8230>"
      ]
     },
     "metadata": {},
     "output_type": "display_data"
    },
    {
     "name": "stdout",
     "output_type": "stream",
     "text": [
      "\u001b[33mMessage from rag_software_formatter:\n",
      "\u001b[0m\n"
     ]
    },
    {
     "data": {
      "text/markdown": [
       "\n",
       "**File Search Results:**\n",
       "\n",
       "Retrieve information on how to compute temperature cls using classy_sz.\n",
       "\n",
       "**Files Consulted:**\n",
       "\n",
       "- classy_sz_cmb_cls.md\n",
       "\n",
       "**Code Explanation:**\n",
       "\n",
       "The code initializes the Class_sz object with cosmological parameters and computes the CMB temperature power spectrum (tCl) using the CLASS-SZ library. The output is set to 'tCl' to specifically compute the temperature power spectrum.\n",
       "\n",
       "**Python Code:**\n",
       "\n",
       "```python\n",
       "from classy_sz import Class as Class_sz\n",
       "\n",
       "cosmo_params = {\n",
       "    'omega_b': 0.02242,\n",
       "    'omega_cdm': 0.11933,\n",
       "    'H0': 67.66,\n",
       "    'tau_reio': 0.0561,\n",
       "    'ln10^{10}A_s': 3.047,\n",
       "    'n_s': 0.9665\n",
       "}\n",
       "\n",
       "classy_sz = Class_sz()\n",
       "classy_sz.set(cosmo_params)\n",
       "classy_sz.set({'output': 'tCl'})\n",
       "classy_sz.compute_class_szfast()\n",
       "\n",
       "lensed_cls = classy_sz.lensed_cl()\n",
       "l_fast = lensed_cls['ell']\n",
       "cl_tt_fast = lensed_cls['tt']\n",
       "```\n",
       "\n",
       "\n",
       "**Current Status and Next Step Suggestion:**\n",
       "\n",
       "We are on Step 1 of the PLAN. Next, if you would like, let us proceed to retrieve the best-fit values from ACT DR6 lensing data. Should we proceed?\n",
       "\n",
       "**Next Agent Suggestion:**\n",
       "\n",
       "act_agent\n",
       "        "
      ],
      "text/plain": [
       "<IPython.core.display.Markdown object>"
      ]
     },
     "metadata": {},
     "output_type": "display_data"
    },
    {
     "name": "stdout",
     "output_type": "stream",
     "text": [
      "\u001b[32m\n",
      "Calling admin...\n",
      "\u001b[0m\n"
     ]
    },
    {
     "name": "stdin",
     "output_type": "stream",
     "text": [
      "Provide feedback to cmbagent. Type 'proceed' to continue as suggested or type your suggestion, or type 'exit' to end the conversation:  proceed\n"
     ]
    },
    {
     "name": "stdout",
     "output_type": "stream",
     "text": [
      "\u001b[33mMessage from admin:\n",
      "\u001b[0m\n",
      "proceed\n",
      "\u001b[32m\n",
      "Calling act_agent...\n",
      "\u001b[0m\n"
     ]
    },
    {
     "data": {
      "text/html": [
       "<style type=\"text/css\">\n",
       "</style>\n",
       "<table id=\"T_1362e\">\n",
       "  <thead>\n",
       "    <tr>\n",
       "      <th id=\"T_1362e_level0_col0\" class=\"col_heading level0 col0\" >Model</th>\n",
       "      <th id=\"T_1362e_level0_col1\" class=\"col_heading level0 col1\" >Cost</th>\n",
       "      <th id=\"T_1362e_level0_col2\" class=\"col_heading level0 col2\" >Prompt Tokens</th>\n",
       "      <th id=\"T_1362e_level0_col3\" class=\"col_heading level0 col3\" >Completion Tokens</th>\n",
       "      <th id=\"T_1362e_level0_col4\" class=\"col_heading level0 col4\" >Total Tokens</th>\n",
       "    </tr>\n",
       "  </thead>\n",
       "  <tbody>\n",
       "    <tr>\n",
       "      <td id=\"T_1362e_row0_col0\" class=\"data row0 col0\" >gpt-4o</td>\n",
       "      <td id=\"T_1362e_row0_col1\" class=\"data row0 col1\" >0.11421</td>\n",
       "      <td id=\"T_1362e_row0_col2\" class=\"data row0 col2\" >21889</td>\n",
       "      <td id=\"T_1362e_row0_col3\" class=\"data row0 col3\" >318</td>\n",
       "      <td id=\"T_1362e_row0_col4\" class=\"data row0 col4\" >22207</td>\n",
       "    </tr>\n",
       "  </tbody>\n",
       "</table>\n"
      ],
      "text/plain": [
       "<pandas.io.formats.style.Styler at 0x1724978c0>"
      ]
     },
     "metadata": {},
     "output_type": "display_data"
    },
    {
     "name": "stdout",
     "output_type": "stream",
     "text": [
      "\u001b[33mMessage from act_agent:\n",
      "\u001b[0m\n",
      "- **Part 1**: Retrieved best-fit values for cosmological parameters from ACT DR6 lensing data.\n",
      "- **Part 2**: [2304.05202v1.pdf, 2304.05203v1.pdf]\n",
      "- **Part 3**:\n",
      "\n",
      "**Ω_bh^2**: 0.0223 (Table 5 from 2304.05202v1.pdf)\n",
      "**Ω_ch^2**: Not explicitly found in the search results.\n",
      "**H_0**: 68.3 (Equation 6 from 2304.05203v1.pdf)\n",
      "**τ**: 0.055 (Table 5 from 2304.05202v1.pdf)\n",
      "**ln(10^10 A_s)**: Not explicitly found in the search results.\n",
      "**n_s**: 0.96 (Table 5 from 2304.05202v1.pdf)\n",
      "**σ_8**: 0.819 (Abstract from 2304.05203v1.pdf)\n",
      "\n",
      "- **Part 4**: We will now proceed to write Python code to compute temperature cls using classy_sz and ACT DR6 best-fit values with the engineer agent.\n",
      "\n",
      "\u001b[32m\n",
      "Calling rag_software_formatter...\n",
      "\u001b[0m\n"
     ]
    },
    {
     "data": {
      "text/html": [
       "<style type=\"text/css\">\n",
       "</style>\n",
       "<table id=\"T_54195\">\n",
       "  <thead>\n",
       "    <tr>\n",
       "      <th id=\"T_54195_level0_col0\" class=\"col_heading level0 col0\" >Model</th>\n",
       "      <th id=\"T_54195_level0_col1\" class=\"col_heading level0 col1\" >agent</th>\n",
       "      <th id=\"T_54195_level0_col2\" class=\"col_heading level0 col2\" >Cost</th>\n",
       "      <th id=\"T_54195_level0_col3\" class=\"col_heading level0 col3\" >Prompt Tokens</th>\n",
       "      <th id=\"T_54195_level0_col4\" class=\"col_heading level0 col4\" >Completion Tokens</th>\n",
       "      <th id=\"T_54195_level0_col5\" class=\"col_heading level0 col5\" >Total Tokens</th>\n",
       "    </tr>\n",
       "  </thead>\n",
       "  <tbody>\n",
       "    <tr>\n",
       "      <td id=\"T_54195_row0_col0\" class=\"data row0 col0\" >gpt-4o-2024-08-06</td>\n",
       "      <td id=\"T_54195_row0_col1\" class=\"data row0 col1\" >rag_software_formatter</td>\n",
       "      <td id=\"T_54195_row0_col2\" class=\"data row0 col2\" >0.01887</td>\n",
       "      <td id=\"T_54195_row0_col3\" class=\"data row0 col3\" >5564</td>\n",
       "      <td id=\"T_54195_row0_col4\" class=\"data row0 col4\" >496</td>\n",
       "      <td id=\"T_54195_row0_col5\" class=\"data row0 col5\" >6060</td>\n",
       "    </tr>\n",
       "  </tbody>\n",
       "</table>\n"
      ],
      "text/plain": [
       "<pandas.io.formats.style.Styler at 0x30226d1c0>"
      ]
     },
     "metadata": {},
     "output_type": "display_data"
    },
    {
     "name": "stdout",
     "output_type": "stream",
     "text": [
      "\u001b[33mMessage from rag_software_formatter:\n",
      "\u001b[0m\n"
     ]
    },
    {
     "data": {
      "text/markdown": [
       "\n",
       "**File Search Results:**\n",
       "\n",
       "Retrieve best-fit values from ACT DR6 lensing data.\n",
       "\n",
       "**Files Consulted:**\n",
       "\n",
       "- 2304.05202v1.pdf\n",
       "- 2304.05203v1.pdf\n",
       "\n",
       "**Code Explanation:**\n",
       "\n",
       "The best-fit values for cosmological parameters from ACT DR6 lensing data have been retrieved. These values will be used to compute the temperature cls using the CLASS-SZ library.\n",
       "\n",
       "**Python Code:**\n",
       "\n",
       "```python\n",
       "No code provided.\n",
       "```\n",
       "\n",
       "\n",
       "**Current Status and Next Step Suggestion:**\n",
       "\n",
       "We are on Step 2 of the PLAN. Next, if you would like, let us proceed to write Python code to compute temperature cls using classy_sz and ACT DR6 best-fit values. Should we proceed?\n",
       "\n",
       "**Next Agent Suggestion:**\n",
       "\n",
       "engineer\n",
       "        "
      ],
      "text/plain": [
       "<IPython.core.display.Markdown object>"
      ]
     },
     "metadata": {},
     "output_type": "display_data"
    },
    {
     "name": "stdout",
     "output_type": "stream",
     "text": [
      "\u001b[32m\n",
      "Calling admin...\n",
      "\u001b[0m\n"
     ]
    },
    {
     "name": "stdin",
     "output_type": "stream",
     "text": [
      "Provide feedback to cmbagent. Type 'proceed' to continue as suggested or type your suggestion, or type 'exit' to end the conversation:  ok, write the code with that\n"
     ]
    },
    {
     "name": "stdout",
     "output_type": "stream",
     "text": [
      "\u001b[33mMessage from admin:\n",
      "\u001b[0m\n",
      "ok, write the code with that\n"
     ]
    },
    {
     "data": {
      "text/html": [
       "<style type=\"text/css\">\n",
       "</style>\n",
       "<table id=\"T_75944\">\n",
       "  <thead>\n",
       "    <tr>\n",
       "      <th id=\"T_75944_level0_col0\" class=\"col_heading level0 col0\" >Model</th>\n",
       "      <th id=\"T_75944_level0_col1\" class=\"col_heading level0 col1\" >agent</th>\n",
       "      <th id=\"T_75944_level0_col2\" class=\"col_heading level0 col2\" >Cost</th>\n",
       "      <th id=\"T_75944_level0_col3\" class=\"col_heading level0 col3\" >Prompt Tokens</th>\n",
       "      <th id=\"T_75944_level0_col4\" class=\"col_heading level0 col4\" >Completion Tokens</th>\n",
       "      <th id=\"T_75944_level0_col5\" class=\"col_heading level0 col5\" >Total Tokens</th>\n",
       "    </tr>\n",
       "  </thead>\n",
       "  <tbody>\n",
       "    <tr>\n",
       "      <td id=\"T_75944_row0_col0\" class=\"data row0 col0\" >gpt-4o-2024-08-06</td>\n",
       "      <td id=\"T_75944_row0_col1\" class=\"data row0 col1\" >speaker_selection_agent</td>\n",
       "      <td id=\"T_75944_row0_col2\" class=\"data row0 col2\" >0.00471</td>\n",
       "      <td id=\"T_75944_row0_col3\" class=\"data row0 col3\" >1873</td>\n",
       "      <td id=\"T_75944_row0_col4\" class=\"data row0 col4\" >3</td>\n",
       "      <td id=\"T_75944_row0_col5\" class=\"data row0 col5\" >1876</td>\n",
       "    </tr>\n",
       "  </tbody>\n",
       "</table>\n"
      ],
      "text/plain": [
       "<pandas.io.formats.style.Styler at 0x172477d40>"
      ]
     },
     "metadata": {},
     "output_type": "display_data"
    },
    {
     "name": "stdout",
     "output_type": "stream",
     "text": [
      "\u001b[32m\n",
      "Calling engineer...\n",
      "\u001b[0m\n"
     ]
    },
    {
     "data": {
      "text/html": [
       "<style type=\"text/css\">\n",
       "</style>\n",
       "<table id=\"T_b53b8\">\n",
       "  <thead>\n",
       "    <tr>\n",
       "      <th id=\"T_b53b8_level0_col0\" class=\"col_heading level0 col0\" >Model</th>\n",
       "      <th id=\"T_b53b8_level0_col1\" class=\"col_heading level0 col1\" >agent</th>\n",
       "      <th id=\"T_b53b8_level0_col2\" class=\"col_heading level0 col2\" >Cost</th>\n",
       "      <th id=\"T_b53b8_level0_col3\" class=\"col_heading level0 col3\" >Prompt Tokens</th>\n",
       "      <th id=\"T_b53b8_level0_col4\" class=\"col_heading level0 col4\" >Completion Tokens</th>\n",
       "      <th id=\"T_b53b8_level0_col5\" class=\"col_heading level0 col5\" >Total Tokens</th>\n",
       "    </tr>\n",
       "  </thead>\n",
       "  <tbody>\n",
       "    <tr>\n",
       "      <td id=\"T_b53b8_row0_col0\" class=\"data row0 col0\" >gpt-4o-2024-08-06</td>\n",
       "      <td id=\"T_b53b8_row0_col1\" class=\"data row0 col1\" >engineer</td>\n",
       "      <td id=\"T_b53b8_row0_col2\" class=\"data row0 col2\" >0.01151</td>\n",
       "      <td id=\"T_b53b8_row0_col3\" class=\"data row0 col3\" >3016</td>\n",
       "      <td id=\"T_b53b8_row0_col4\" class=\"data row0 col4\" >397</td>\n",
       "      <td id=\"T_b53b8_row0_col5\" class=\"data row0 col5\" >3413</td>\n",
       "    </tr>\n",
       "  </tbody>\n",
       "</table>\n"
      ],
      "text/plain": [
       "<pandas.io.formats.style.Styler at 0x302237860>"
      ]
     },
     "metadata": {},
     "output_type": "display_data"
    },
    {
     "name": "stdout",
     "output_type": "stream",
     "text": [
      "\u001b[33mMessage from engineer:\n",
      "\u001b[0m\n"
     ]
    },
    {
     "data": {
      "text/markdown": [
       "\n",
       "**Code Explanation:**\n",
       "\n",
       "Here is the code to compute the temperature cls using the CLASS-SZ library with the best-fit values from ACT DR6 lensing data. The code initializes the Class_sz object with the retrieved cosmological parameters and computes the CMB temperature power spectrum (tCl).\n",
       "\n",
       "**Python Code:**\n",
       "\n",
       "```python\n",
       "from classy_sz import Class as Class_sz\n",
       "\n",
       "# Best-fit cosmological parameters from ACT DR6\n",
       "cosmo_params = {\n",
       "    'omega_b': 0.0223,  # Omega_b h^2\n",
       "    'omega_cdm': 0.11933,  # Omega_cdm h^2 (not explicitly found, using previous value)\n",
       "    'H0': 68.3,  # Hubble parameter\n",
       "    'tau_reio': 0.055,  # Optical depth\n",
       "    'ln10^{10}A_s': 3.047,  # Scalar amplitude (not explicitly found, using previous value)\n",
       "    'n_s': 0.96  # Scalar spectral index\n",
       "}\n",
       "\n",
       "# Initialize CLASS-SZ\n",
       "classy_sz = Class_sz()\n",
       "classy_sz.set(cosmo_params)\n",
       "classy_sz.set({'output': 'tCl'})\n",
       "classy_sz.compute_class_szfast()\n",
       "\n",
       "# Retrieve the lensed CMB temperature power spectrum\n",
       "lensed_cls = classy_sz.lensed_cl()\n",
       "l_fast = lensed_cls['ell']\n",
       "cl_tt_fast = lensed_cls['tt']\n",
       "\n",
       "# Save the results to a file\n",
       "import numpy as np\n",
       "np.savetxt('temperature_cls.txt', np.column_stack((l_fast, cl_tt_fast)), header='ell TT')\n",
       "```\n",
       "\n",
       "**Current Status and Next Step Suggestion:**\n",
       "\n",
       "We are on Step 3 of the PLAN. Next, if you would like, let us execute the Python code to compute temperature cls. Should we proceed?\n",
       "\n",
       "**Next Agent Suggestion:**\n",
       "\n",
       "executor\n",
       "        "
      ],
      "text/plain": [
       "<IPython.core.display.Markdown object>"
      ]
     },
     "metadata": {},
     "output_type": "display_data"
    },
    {
     "name": "stdout",
     "output_type": "stream",
     "text": [
      "\u001b[32m\n",
      "Calling admin...\n",
      "\u001b[0m\n"
     ]
    },
    {
     "name": "stdin",
     "output_type": "stream",
     "text": [
      "Provide feedback to cmbagent. Type 'proceed' to continue as suggested or type your suggestion, or type 'exit' to end the conversation:  modify code so the result is also plotted\n"
     ]
    },
    {
     "name": "stdout",
     "output_type": "stream",
     "text": [
      "\u001b[33mMessage from admin:\n",
      "\u001b[0m\n",
      "modify code so the result is also plotted\n"
     ]
    },
    {
     "data": {
      "text/html": [
       "<style type=\"text/css\">\n",
       "</style>\n",
       "<table id=\"T_84832\">\n",
       "  <thead>\n",
       "    <tr>\n",
       "      <th id=\"T_84832_level0_col0\" class=\"col_heading level0 col0\" >Model</th>\n",
       "      <th id=\"T_84832_level0_col1\" class=\"col_heading level0 col1\" >agent</th>\n",
       "      <th id=\"T_84832_level0_col2\" class=\"col_heading level0 col2\" >Cost</th>\n",
       "      <th id=\"T_84832_level0_col3\" class=\"col_heading level0 col3\" >Prompt Tokens</th>\n",
       "      <th id=\"T_84832_level0_col4\" class=\"col_heading level0 col4\" >Completion Tokens</th>\n",
       "      <th id=\"T_84832_level0_col5\" class=\"col_heading level0 col5\" >Total Tokens</th>\n",
       "    </tr>\n",
       "  </thead>\n",
       "  <tbody>\n",
       "    <tr>\n",
       "      <td id=\"T_84832_row0_col0\" class=\"data row0 col0\" >gpt-4o-2024-08-06</td>\n",
       "      <td id=\"T_84832_row0_col1\" class=\"data row0 col1\" >speaker_selection_agent</td>\n",
       "      <td id=\"T_84832_row0_col2\" class=\"data row0 col2\" >0.00574</td>\n",
       "      <td id=\"T_84832_row0_col3\" class=\"data row0 col3\" >2283</td>\n",
       "      <td id=\"T_84832_row0_col4\" class=\"data row0 col4\" >3</td>\n",
       "      <td id=\"T_84832_row0_col5\" class=\"data row0 col5\" >2286</td>\n",
       "    </tr>\n",
       "  </tbody>\n",
       "</table>\n"
      ],
      "text/plain": [
       "<pandas.io.formats.style.Styler at 0x1724aaed0>"
      ]
     },
     "metadata": {},
     "output_type": "display_data"
    },
    {
     "name": "stdout",
     "output_type": "stream",
     "text": [
      "\u001b[32m\n",
      "Calling engineer...\n",
      "\u001b[0m\n"
     ]
    },
    {
     "data": {
      "text/html": [
       "<style type=\"text/css\">\n",
       "</style>\n",
       "<table id=\"T_7980d\">\n",
       "  <thead>\n",
       "    <tr>\n",
       "      <th id=\"T_7980d_level0_col0\" class=\"col_heading level0 col0\" >Model</th>\n",
       "      <th id=\"T_7980d_level0_col1\" class=\"col_heading level0 col1\" >agent</th>\n",
       "      <th id=\"T_7980d_level0_col2\" class=\"col_heading level0 col2\" >Cost</th>\n",
       "      <th id=\"T_7980d_level0_col3\" class=\"col_heading level0 col3\" >Prompt Tokens</th>\n",
       "      <th id=\"T_7980d_level0_col4\" class=\"col_heading level0 col4\" >Completion Tokens</th>\n",
       "      <th id=\"T_7980d_level0_col5\" class=\"col_heading level0 col5\" >Total Tokens</th>\n",
       "    </tr>\n",
       "  </thead>\n",
       "  <tbody>\n",
       "    <tr>\n",
       "      <td id=\"T_7980d_row0_col0\" class=\"data row0 col0\" >gpt-4o-2024-08-06</td>\n",
       "      <td id=\"T_7980d_row0_col1\" class=\"data row0 col1\" >engineer</td>\n",
       "      <td id=\"T_7980d_row0_col2\" class=\"data row0 col2\" >0.02509</td>\n",
       "      <td id=\"T_7980d_row0_col3\" class=\"data row0 col3\" >6446</td>\n",
       "      <td id=\"T_7980d_row0_col4\" class=\"data row0 col4\" >898</td>\n",
       "      <td id=\"T_7980d_row0_col5\" class=\"data row0 col5\" >7344</td>\n",
       "    </tr>\n",
       "  </tbody>\n",
       "</table>\n"
      ],
      "text/plain": [
       "<pandas.io.formats.style.Styler at 0x1724a86e0>"
      ]
     },
     "metadata": {},
     "output_type": "display_data"
    },
    {
     "name": "stdout",
     "output_type": "stream",
     "text": [
      "\u001b[33mMessage from engineer:\n",
      "\u001b[0m\n"
     ]
    },
    {
     "data": {
      "text/markdown": [
       "\n",
       "**Code Explanation:**\n",
       "\n",
       "Here is the code to compute and plot the temperature cls using the CLASS-SZ library with the best-fit values from ACT DR6 lensing data. The code initializes the Class_sz object with the retrieved cosmological parameters, computes the CMB temperature power spectrum (tCl), and then plots the results using matplotlib.\n",
       "\n",
       "**Python Code:**\n",
       "\n",
       "```python\n",
       "from classy_sz import Class as Class_sz\n",
       "import numpy as np\n",
       "import matplotlib.pyplot as plt\n",
       "\n",
       "# Best-fit cosmological parameters from ACT DR6\n",
       "cosmo_params = {\n",
       "    'omega_b': 0.0223,  # Omega_b h^2\n",
       "    'omega_cdm': 0.11933,  # Omega_cdm h^2 (not explicitly found, using previous value)\n",
       "    'H0': 68.3,  # Hubble parameter\n",
       "    'tau_reio': 0.055,  # Optical depth\n",
       "    'ln10^{10}A_s': 3.047,  # Scalar amplitude (not explicitly found, using previous value)\n",
       "    'n_s': 0.96  # Scalar spectral index\n",
       "}\n",
       "\n",
       "# Initialize CLASS-SZ\n",
       "classy_sz = Class_sz()\n",
       "classy_sz.set(cosmo_params)\n",
       "classy_sz.set({'output': 'tCl'})\n",
       "classy_sz.compute_class_szfast()\n",
       "\n",
       "# Retrieve the lensed CMB temperature power spectrum\n",
       "lensed_cls = classy_sz.lensed_cl()\n",
       "l_fast = lensed_cls['ell']\n",
       "cl_tt_fast = lensed_cls['tt']\n",
       "\n",
       "# Save the results to a file\n",
       "np.savetxt('temperature_cls.txt', np.column_stack((l_fast, cl_tt_fast)), header='ell TT')\n",
       "\n",
       "# Plot the results\n",
       "plt.figure(figsize=(8, 6))\n",
       "plt.plot(l_fast, cl_tt_fast, label='Temperature Cl')\n",
       "plt.xlabel('$\\ell$')\n",
       "plt.ylabel('$C_\\ell^{TT}$')\n",
       "plt.title('CMB Temperature Power Spectrum')\n",
       "plt.legend()\n",
       "plt.grid(True)\n",
       "plt.savefig('temperature_cls_plot.png')\n",
       "```\n",
       "\n",
       "**Current Status and Next Step Suggestion:**\n",
       "\n",
       "We are on Step 3 of the PLAN. Next, if you would like, let us execute the Python code to compute and plot the temperature cls. Should we proceed?\n",
       "\n",
       "**Next Agent Suggestion:**\n",
       "\n",
       "executor\n",
       "        "
      ],
      "text/plain": [
       "<IPython.core.display.Markdown object>"
      ]
     },
     "metadata": {},
     "output_type": "display_data"
    },
    {
     "name": "stdout",
     "output_type": "stream",
     "text": [
      "\u001b[32m\n",
      "Calling admin...\n",
      "\u001b[0m\n"
     ]
    },
    {
     "name": "stdin",
     "output_type": "stream",
     "text": [
      "Provide feedback to cmbagent. Type 'proceed' to continue as suggested or type your suggestion, or type 'exit' to end the conversation:  proceed\n"
     ]
    },
    {
     "name": "stdout",
     "output_type": "stream",
     "text": [
      "\u001b[33mMessage from admin:\n",
      "\u001b[0m\n",
      "proceed\n",
      "\u001b[32m\n",
      "Calling executor...\n",
      "\u001b[0m\n",
      "\u001b[31m\n",
      ">>>>>>>> EXECUTING CODE BLOCK (inferred language is python)...\u001b[0m\n",
      "\u001b[33mMessage from executor:\n",
      "\u001b[0m\n",
      "\u001b[32m\n",
      ">>>>>>>> EXECUTION SUCCEEDED\u001b[0m\n",
      "Code output: /Users/boris/CMBAgents/cmbagent/output/tmp_code_11c7b7597155ed25e154be44fe64eb5b.py:32: SyntaxWarning: invalid escape sequence '\\e'\n",
      "  plt.xlabel('$\\ell$')\n",
      "/Users/boris/CMBAgents/cmbagent/output/tmp_code_11c7b7597155ed25e154be44fe64eb5b.py:33: SyntaxWarning: invalid escape sequence '\\e'\n",
      "  plt.ylabel('$C_\\ell^{TT}$')\n",
      "\n",
      "\u001b[32m\n",
      "Calling admin...\n",
      "\u001b[0m\n"
     ]
    },
    {
     "name": "stdin",
     "output_type": "stream",
     "text": [
      "Provide feedback to cmbagent. Type 'proceed' to continue as suggested or type your suggestion, or type 'exit' to end the conversation:  modify code so the plot is in loglog\n"
     ]
    },
    {
     "name": "stdout",
     "output_type": "stream",
     "text": [
      "\u001b[33mMessage from admin:\n",
      "\u001b[0m\n",
      "modify code so the plot is in loglog\n"
     ]
    },
    {
     "data": {
      "text/html": [
       "<style type=\"text/css\">\n",
       "</style>\n",
       "<table id=\"T_e15b6\">\n",
       "  <thead>\n",
       "    <tr>\n",
       "      <th id=\"T_e15b6_level0_col0\" class=\"col_heading level0 col0\" >Model</th>\n",
       "      <th id=\"T_e15b6_level0_col1\" class=\"col_heading level0 col1\" >agent</th>\n",
       "      <th id=\"T_e15b6_level0_col2\" class=\"col_heading level0 col2\" >Cost</th>\n",
       "      <th id=\"T_e15b6_level0_col3\" class=\"col_heading level0 col3\" >Prompt Tokens</th>\n",
       "      <th id=\"T_e15b6_level0_col4\" class=\"col_heading level0 col4\" >Completion Tokens</th>\n",
       "      <th id=\"T_e15b6_level0_col5\" class=\"col_heading level0 col5\" >Total Tokens</th>\n",
       "    </tr>\n",
       "  </thead>\n",
       "  <tbody>\n",
       "    <tr>\n",
       "      <td id=\"T_e15b6_row0_col0\" class=\"data row0 col0\" >gpt-4o-2024-08-06</td>\n",
       "      <td id=\"T_e15b6_row0_col1\" class=\"data row0 col1\" >speaker_selection_agent</td>\n",
       "      <td id=\"T_e15b6_row0_col2\" class=\"data row0 col2\" >0.00735</td>\n",
       "      <td id=\"T_e15b6_row0_col3\" class=\"data row0 col3\" >2929</td>\n",
       "      <td id=\"T_e15b6_row0_col4\" class=\"data row0 col4\" >3</td>\n",
       "      <td id=\"T_e15b6_row0_col5\" class=\"data row0 col5\" >2932</td>\n",
       "    </tr>\n",
       "  </tbody>\n",
       "</table>\n"
      ],
      "text/plain": [
       "<pandas.io.formats.style.Styler at 0x172433830>"
      ]
     },
     "metadata": {},
     "output_type": "display_data"
    },
    {
     "name": "stdout",
     "output_type": "stream",
     "text": [
      "\u001b[32m\n",
      "Calling engineer...\n",
      "\u001b[0m\n"
     ]
    },
    {
     "data": {
      "text/html": [
       "<style type=\"text/css\">\n",
       "</style>\n",
       "<table id=\"T_e2a2e\">\n",
       "  <thead>\n",
       "    <tr>\n",
       "      <th id=\"T_e2a2e_level0_col0\" class=\"col_heading level0 col0\" >Model</th>\n",
       "      <th id=\"T_e2a2e_level0_col1\" class=\"col_heading level0 col1\" >agent</th>\n",
       "      <th id=\"T_e2a2e_level0_col2\" class=\"col_heading level0 col2\" >Cost</th>\n",
       "      <th id=\"T_e2a2e_level0_col3\" class=\"col_heading level0 col3\" >Prompt Tokens</th>\n",
       "      <th id=\"T_e2a2e_level0_col4\" class=\"col_heading level0 col4\" >Completion Tokens</th>\n",
       "      <th id=\"T_e2a2e_level0_col5\" class=\"col_heading level0 col5\" >Total Tokens</th>\n",
       "    </tr>\n",
       "  </thead>\n",
       "  <tbody>\n",
       "    <tr>\n",
       "      <td id=\"T_e2a2e_row0_col0\" class=\"data row0 col0\" >gpt-4o-2024-08-06</td>\n",
       "      <td id=\"T_e2a2e_row0_col1\" class=\"data row0 col1\" >engineer</td>\n",
       "      <td id=\"T_e2a2e_row0_col2\" class=\"data row0 col2\" >0.04036</td>\n",
       "      <td id=\"T_e2a2e_row0_col3\" class=\"data row0 col3\" >10526</td>\n",
       "      <td id=\"T_e2a2e_row0_col4\" class=\"data row0 col4\" >1405</td>\n",
       "      <td id=\"T_e2a2e_row0_col5\" class=\"data row0 col5\" >11931</td>\n",
       "    </tr>\n",
       "  </tbody>\n",
       "</table>\n"
      ],
      "text/plain": [
       "<pandas.io.formats.style.Styler at 0x1724a9fd0>"
      ]
     },
     "metadata": {},
     "output_type": "display_data"
    },
    {
     "name": "stdout",
     "output_type": "stream",
     "text": [
      "\u001b[33mMessage from engineer:\n",
      "\u001b[0m\n"
     ]
    },
    {
     "data": {
      "text/markdown": [
       "\n",
       "**Code Explanation:**\n",
       "\n",
       "Here is the code to compute and plot the temperature cls using the CLASS-SZ library with the best-fit values from ACT DR6 lensing data. The plot is now set to a log-log scale using matplotlib's loglog function.\n",
       "\n",
       "**Python Code:**\n",
       "\n",
       "```python\n",
       "from classy_sz import Class as Class_sz\n",
       "import numpy as np\n",
       "import matplotlib.pyplot as plt\n",
       "\n",
       "# Best-fit cosmological parameters from ACT DR6\n",
       "cosmo_params = {\n",
       "    'omega_b': 0.0223,  # Omega_b h^2\n",
       "    'omega_cdm': 0.11933,  # Omega_cdm h^2 (not explicitly found, using previous value)\n",
       "    'H0': 68.3,  # Hubble parameter\n",
       "    'tau_reio': 0.055,  # Optical depth\n",
       "    'ln10^{10}A_s': 3.047,  # Scalar amplitude (not explicitly found, using previous value)\n",
       "    'n_s': 0.96  # Scalar spectral index\n",
       "}\n",
       "\n",
       "# Initialize CLASS-SZ\n",
       "classy_sz = Class_sz()\n",
       "classy_sz.set(cosmo_params)\n",
       "classy_sz.set({'output': 'tCl'})\n",
       "classy_sz.compute_class_szfast()\n",
       "\n",
       "# Retrieve the lensed CMB temperature power spectrum\n",
       "lensed_cls = classy_sz.lensed_cl()\n",
       "l_fast = lensed_cls['ell']\n",
       "cl_tt_fast = lensed_cls['tt']\n",
       "\n",
       "# Save the results to a file\n",
       "np.savetxt('temperature_cls.txt', np.column_stack((l_fast, cl_tt_fast)), header='ell TT')\n",
       "\n",
       "# Plot the results in log-log scale\n",
       "plt.figure(figsize=(8, 6))\n",
       "plt.loglog(l_fast, cl_tt_fast, label='Temperature Cl')\n",
       "plt.xlabel('$\\ell$')\n",
       "plt.ylabel('$C_\\ell^{TT}$')\n",
       "plt.title('CMB Temperature Power Spectrum')\n",
       "plt.legend()\n",
       "plt.grid(True, which='both', ls='--')\n",
       "plt.savefig('temperature_cls_loglog_plot.png')\n",
       "```\n",
       "\n",
       "**Current Status and Next Step Suggestion:**\n",
       "\n",
       "We are on Step 3 of the PLAN. Next, if you would like, let us execute the modified Python code to compute and plot the temperature cls in a log-log scale. Should we proceed?\n",
       "\n",
       "**Next Agent Suggestion:**\n",
       "\n",
       "executor\n",
       "        "
      ],
      "text/plain": [
       "<IPython.core.display.Markdown object>"
      ]
     },
     "metadata": {},
     "output_type": "display_data"
    },
    {
     "name": "stdout",
     "output_type": "stream",
     "text": [
      "\u001b[32m\n",
      "Calling admin...\n",
      "\u001b[0m\n"
     ]
    },
    {
     "name": "stdin",
     "output_type": "stream",
     "text": [
      "Provide feedback to cmbagent. Type 'proceed' to continue as suggested or type your suggestion, or type 'exit' to end the conversation:  proceed\n"
     ]
    },
    {
     "name": "stdout",
     "output_type": "stream",
     "text": [
      "\u001b[33mMessage from admin:\n",
      "\u001b[0m\n",
      "proceed\n",
      "\u001b[32m\n",
      "Calling executor...\n",
      "\u001b[0m\n",
      "\u001b[31m\n",
      ">>>>>>>> EXECUTING CODE BLOCK (inferred language is python)...\u001b[0m\n",
      "\u001b[33mMessage from executor:\n",
      "\u001b[0m\n",
      "\u001b[32m\n",
      ">>>>>>>> EXECUTION SUCCEEDED\u001b[0m\n",
      "Code output: /Users/boris/CMBAgents/cmbagent/output/tmp_code_0213c2f9773fc125e8b51f46d8902733.py:32: SyntaxWarning: invalid escape sequence '\\e'\n",
      "  plt.xlabel('$\\ell$')\n",
      "/Users/boris/CMBAgents/cmbagent/output/tmp_code_0213c2f9773fc125e8b51f46d8902733.py:33: SyntaxWarning: invalid escape sequence '\\e'\n",
      "  plt.ylabel('$C_\\ell^{TT}$')\n",
      "\n",
      "\u001b[32m\n",
      "Calling admin...\n",
      "\u001b[0m\n"
     ]
    },
    {
     "name": "stdin",
     "output_type": "stream",
     "text": [
      "Provide feedback to cmbagent. Type 'proceed' to continue as suggested or type your suggestion, or type 'exit' to end the conversation:  exit\n"
     ]
    },
    {
     "data": {
      "text/html": [
       "<div>\n",
       "<style scoped>\n",
       "    .dataframe tbody tr th:only-of-type {\n",
       "        vertical-align: middle;\n",
       "    }\n",
       "\n",
       "    .dataframe tbody tr th {\n",
       "        vertical-align: top;\n",
       "    }\n",
       "\n",
       "    .dataframe thead th {\n",
       "        text-align: right;\n",
       "    }\n",
       "</style>\n",
       "<table border=\"1\" class=\"dataframe\">\n",
       "  <thead>\n",
       "    <tr style=\"text-align: right;\">\n",
       "      <th></th>\n",
       "      <th>Agent</th>\n",
       "      <th>Cost</th>\n",
       "      <th>Prompt Tokens</th>\n",
       "      <th>Completion Tokens</th>\n",
       "      <th>Total Tokens</th>\n",
       "    </tr>\n",
       "  </thead>\n",
       "  <tbody>\n",
       "    <tr>\n",
       "      <th>0</th>\n",
       "      <td>planner</td>\n",
       "      <td>0.003990</td>\n",
       "      <td>964.0</td>\n",
       "      <td>158.0</td>\n",
       "      <td>1122.0</td>\n",
       "    </tr>\n",
       "    <tr>\n",
       "      <th>1</th>\n",
       "      <td>engineer</td>\n",
       "      <td>0.076970</td>\n",
       "      <td>19988.0</td>\n",
       "      <td>2700.0</td>\n",
       "      <td>22688.0</td>\n",
       "    </tr>\n",
       "    <tr>\n",
       "      <th>2</th>\n",
       "      <td>rag software formatter</td>\n",
       "      <td>0.028377</td>\n",
       "      <td>8055.0</td>\n",
       "      <td>824.0</td>\n",
       "      <td>8879.0</td>\n",
       "    </tr>\n",
       "    <tr>\n",
       "      <th>3</th>\n",
       "      <td>classy sz</td>\n",
       "      <td>0.061350</td>\n",
       "      <td>11019.0</td>\n",
       "      <td>417.0</td>\n",
       "      <td>11436.0</td>\n",
       "    </tr>\n",
       "    <tr>\n",
       "      <th>4</th>\n",
       "      <td>act</td>\n",
       "      <td>0.114215</td>\n",
       "      <td>21889.0</td>\n",
       "      <td>318.0</td>\n",
       "      <td>22207.0</td>\n",
       "    </tr>\n",
       "    <tr>\n",
       "      <th>5</th>\n",
       "      <td>speaker selection agent</td>\n",
       "      <td>0.017802</td>\n",
       "      <td>7085.0</td>\n",
       "      <td>9.0</td>\n",
       "      <td>7094.0</td>\n",
       "    </tr>\n",
       "    <tr>\n",
       "      <th>Total</th>\n",
       "      <td>NaN</td>\n",
       "      <td>0.302705</td>\n",
       "      <td>69000.0</td>\n",
       "      <td>4426.0</td>\n",
       "      <td>73426.0</td>\n",
       "    </tr>\n",
       "  </tbody>\n",
       "</table>\n",
       "</div>"
      ],
      "text/plain": [
       "                         Agent      Cost  Prompt Tokens  Completion Tokens  \\\n",
       "0                      planner  0.003990          964.0              158.0   \n",
       "1                     engineer  0.076970        19988.0             2700.0   \n",
       "2       rag software formatter  0.028377         8055.0              824.0   \n",
       "3                    classy sz  0.061350        11019.0              417.0   \n",
       "4                          act  0.114215        21889.0              318.0   \n",
       "5      speaker selection agent  0.017802         7085.0                9.0   \n",
       "Total                      NaN  0.302705        69000.0             4426.0   \n",
       "\n",
       "       Total Tokens  \n",
       "0            1122.0  \n",
       "1           22688.0  \n",
       "2            8879.0  \n",
       "3           11436.0  \n",
       "4           22207.0  \n",
       "5            7094.0  \n",
       "Total       73426.0  "
      ]
     },
     "metadata": {},
     "output_type": "display_data"
    }
   ],
   "source": [
    "task = \"Compute temperature cls using best-fit values from ACT DR6 lensing.\"\n",
    "cmbagent.solve(task)"
   ]
  },
  {
   "cell_type": "code",
   "execution_count": 5,
   "id": "00ad2555-7c94-4051-9f23-860f29fc53b5",
   "metadata": {},
   "outputs": [
    {
     "data": {
      "text/plain": [
       "16.1875"
      ]
     },
     "execution_count": 5,
     "metadata": {},
     "output_type": "execute_result"
    }
   ],
   "source": [
    "(13.25+13+20+18.5)/4."
   ]
  },
  {
   "cell_type": "code",
   "execution_count": 6,
   "id": "36b21b9f-9be5-471c-85aa-71f5afbefba2",
   "metadata": {},
   "outputs": [
    {
     "data": {
      "text/plain": [
       "0.005930318754633062"
      ]
     },
     "execution_count": 6,
     "metadata": {},
     "output_type": "execute_result"
    }
   ],
   "source": [
    "0.016/2.698"
   ]
  },
  {
   "cell_type": "code",
   "execution_count": null,
   "id": "bbf2ac30-d7c4-4f10-8ff2-8b18475ffe7e",
   "metadata": {},
   "outputs": [],
   "source": []
  }
 ],
 "metadata": {
  "kernelspec": {
   "display_name": "Python (venv_class_sz)",
   "language": "python",
   "name": "venv_class_sz312"
  },
  "language_info": {
   "codemirror_mode": {
    "name": "ipython",
    "version": 3
   },
   "file_extension": ".py",
   "mimetype": "text/x-python",
   "name": "python",
   "nbconvert_exporter": "python",
   "pygments_lexer": "ipython3",
   "version": "3.12.8"
  },
  "widgets": {
   "application/vnd.jupyter.widget-state+json": {
    "state": {},
    "version_major": 2,
    "version_minor": 0
   }
  }
 },
 "nbformat": 4,
 "nbformat_minor": 5
}

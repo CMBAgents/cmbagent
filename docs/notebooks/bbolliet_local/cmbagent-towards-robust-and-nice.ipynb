{
 "cells": [
  {
   "cell_type": "code",
   "execution_count": 1,
   "id": "aa0cb725-9e7d-4504-aa85-d5461f741bc1",
   "metadata": {},
   "outputs": [
    {
     "name": "stdout",
     "output_type": "stream",
     "text": [
      "CMBAgent version: 0.0.1post2\n",
      "agent_type:  swarm\n",
      "Checking agent: classy_sz_agent\n",
      "Agent classy_sz_agent exists in available assistants with id: asst_IEFG6lIlkKxuq8h72q6UGsf9\n",
      "\t- admin\n",
      "\t- planner\n",
      "\t- engineer\n",
      "\t- rag_software_formatter\n",
      "\t- executor\n",
      "\t- classy_sz_agent\n"
     ]
    }
   ],
   "source": [
    "import os\n",
    "from cmbagent import CMBAgent\n",
    "cmbagent = CMBAgent(agent_list = ['classy_sz'],\n",
    "                    skip_memory = True,\n",
    "                    verbose=False,\n",
    "                    agent_type='swarm',\n",
    "                    # make_vector_stores = ['classy_sz']\n",
    "                   )\n",
    "\n",
    "cmbagent.clear_cache()"
   ]
  },
  {
   "cell_type": "code",
   "execution_count": 2,
   "id": "de0b1e88-fde5-4570-8386-996032800c39",
   "metadata": {},
   "outputs": [
    {
     "name": "stdout",
     "output_type": "stream",
     "text": [
      "\n",
      "in cmbagent.py, swarm_agents:  [<cmbagent.base_agent.CmbAgentSwarmAgent object at 0x315d0d670>, <cmbagent.base_agent.CmbAgentSwarmAgent object at 0x31ac2b7a0>, <cmbagent.base_agent.CmbAgentSwarmAgent object at 0x31ac2bd10>, <cmbagent.base_agent.CmbAgentSwarmAgent object at 0x31aced340>, <cmbagent.base_agent.CmbAgentSwarmAgent object at 0x31aced730>]\n",
      "\n",
      "in cmbagent.py, swarm_agent_names:  ['planner', 'engineer', 'rag_software_formatter', 'executor', 'classy_sz_agent']\n",
      "\n",
      " in swarm_agent.py register_hand_off\n",
      "\n",
      " cmbagent.py\n",
      "Agent planner hand off: AFTER_WORK(agent=<AfterWorkOption.REVERT_TO_USER: 'REVERT_TO_USER'>)\n",
      "\n",
      " cmbagent.py\n",
      "Agent engineer hand off: None\n",
      "\n",
      " cmbagent.py\n",
      "Agent rag_software_formatter hand off: None\n",
      "\n",
      " cmbagent.py\n",
      "Agent executor hand off: None\n",
      "\n",
      " cmbagent.py\n",
      "Agent classy_sz_agent hand off: None\n",
      "\n",
      " in cmbagent_swarm_agent.py, initiate_cmbagent_swarm_chat\n",
      "\n",
      " in swarm_agent.py _prepare_swarm_agents creating tool_execution\n",
      "\n",
      " in swarm_agent.py agent.name:  planner\n",
      "\n",
      " in swarm_agent.py agent.name:  engineer\n",
      "\n",
      " in swarm_agent.py agent.name:  rag_software_formatter\n",
      "\n",
      " in swarm_agent.py agent.name:  executor\n",
      "\n",
      " in swarm_agent.py agent.name:  classy_sz_agent\n",
      "\n",
      " in cmbagent_swarm_agent.py, processing initial messages\n"
     ]
    },
    {
     "ename": "NameError",
     "evalue": "name '_process_initial_messages' is not defined",
     "output_type": "error",
     "traceback": [
      "\u001b[0;31m---------------------------------------------------------------------------\u001b[0m",
      "\u001b[0;31mNameError\u001b[0m                                 Traceback (most recent call last)",
      "Cell \u001b[0;32mIn[2], line 2\u001b[0m\n\u001b[1;32m      1\u001b[0m task \u001b[38;5;241m=\u001b[39m \u001b[38;5;124m\"\u001b[39m\u001b[38;5;124mCompute temperature cls using standard cosmological lcdm values as measured by ACT DR6 lensing analysis.\u001b[39m\u001b[38;5;124m\"\u001b[39m\n\u001b[0;32m----> 2\u001b[0m \u001b[43mcmbagent\u001b[49m\u001b[38;5;241;43m.\u001b[39;49m\u001b[43msolve\u001b[49m\u001b[43m(\u001b[49m\u001b[43mtask\u001b[49m\u001b[43m)\u001b[49m\n",
      "File \u001b[0;32m~/CMBAgents/cmbagent/cmbagent/cmbagent.py:645\u001b[0m, in \u001b[0;36mCMBAgent.solve\u001b[0;34m(self, task)\u001b[0m\n\u001b[1;32m    636\u001b[0m groupchat_intro_message \u001b[38;5;241m+\u001b[39m\u001b[38;5;241m=\u001b[39m \u001b[38;5;124m'\u001b[39m\u001b[38;5;130;01m\\n\u001b[39;00m\u001b[38;5;124mMain Task: \u001b[39m\u001b[38;5;124m'\u001b[39m\n\u001b[1;32m    638\u001b[0m \u001b[38;5;66;03m#     print(\"name: \", agent.name)\u001b[39;00m\n\u001b[1;32m    639\u001b[0m \u001b[38;5;66;03m# for agent in self.rag_agents:\u001b[39;00m\n\u001b[1;32m    640\u001b[0m \u001b[38;5;66;03m#     print(\"rag agent name: \", agent.name)\u001b[39;00m\n\u001b[1;32m    641\u001b[0m \u001b[38;5;66;03m# sys.exit(0)\u001b[39;00m\n\u001b[1;32m    644\u001b[0m chat_history, context_variables, last_active_agent, groupchat \u001b[38;5;241m=\u001b[39m \\\n\u001b[0;32m--> 645\u001b[0m             \u001b[43minitiate_cmbagent_swarm_chat\u001b[49m\u001b[43m(\u001b[49m\n\u001b[1;32m    646\u001b[0m \u001b[43m                        \u001b[49m\u001b[43minitial_agent\u001b[49m\u001b[43m \u001b[49m\u001b[38;5;241;43m=\u001b[39;49m\u001b[43m \u001b[49m\u001b[38;5;28;43mself\u001b[39;49m\u001b[38;5;241;43m.\u001b[39;49m\u001b[43mplanner\u001b[49m\u001b[38;5;241;43m.\u001b[39;49m\u001b[43magent\u001b[49m\u001b[43m,\u001b[49m\u001b[43m \u001b[49m\n\u001b[1;32m    647\u001b[0m \u001b[43m                        \u001b[49m\u001b[43mmessages\u001b[49m\u001b[43m \u001b[49m\u001b[38;5;241;43m=\u001b[39;49m\u001b[43m \u001b[49m\u001b[43mgroupchat_intro_message\u001b[49m\u001b[43m \u001b[49m\u001b[38;5;241;43m+\u001b[39;49m\u001b[43m \u001b[49m\u001b[43mtask\u001b[49m\u001b[43m,\u001b[49m\n\u001b[1;32m    648\u001b[0m \u001b[43m                        \u001b[49m\u001b[43magents\u001b[49m\u001b[43m \u001b[49m\u001b[38;5;241;43m=\u001b[39;49m\u001b[43m \u001b[49m\u001b[43mswarm_agents\u001b[49m\u001b[43m,\u001b[49m\n\u001b[1;32m    649\u001b[0m \u001b[43m                        \u001b[49m\u001b[43mrag_agents\u001b[49m\u001b[43m \u001b[49m\u001b[38;5;241;43m=\u001b[39;49m\u001b[43m \u001b[49m\u001b[38;5;28;43mself\u001b[39;49m\u001b[38;5;241;43m.\u001b[39;49m\u001b[43mrag_agents\u001b[49m\u001b[43m,\u001b[49m\n\u001b[1;32m    650\u001b[0m \u001b[43m                        \u001b[49m\u001b[43msend_introductions\u001b[49m\u001b[43m \u001b[49m\u001b[38;5;241;43m=\u001b[39;49m\u001b[43m \u001b[49m\u001b[38;5;28;43;01mTrue\u001b[39;49;00m\u001b[43m,\u001b[49m\n\u001b[1;32m    651\u001b[0m \u001b[43m                        \u001b[49m\u001b[43madmin_name\u001b[49m\u001b[43m \u001b[49m\u001b[38;5;241;43m=\u001b[39;49m\u001b[43m \u001b[49m\u001b[38;5;124;43m'\u001b[39;49m\u001b[38;5;124;43madmin\u001b[39;49m\u001b[38;5;124;43m'\u001b[39;49m\u001b[43m,\u001b[49m\n\u001b[1;32m    652\u001b[0m \u001b[43m                        \u001b[49m\u001b[43muser_agent\u001b[49m\u001b[43m \u001b[49m\u001b[38;5;241;43m=\u001b[39;49m\u001b[43m \u001b[49m\u001b[38;5;28;43mself\u001b[39;49m\u001b[38;5;241;43m.\u001b[39;49m\u001b[43madmin\u001b[49m\u001b[38;5;241;43m.\u001b[39;49m\u001b[43magent\u001b[49m\u001b[43m,\u001b[49m\n\u001b[1;32m    653\u001b[0m \u001b[43m                        \u001b[49m\u001b[43mmax_rounds\u001b[49m\u001b[43m \u001b[49m\u001b[38;5;241;43m=\u001b[39;49m\u001b[43m \u001b[49m\u001b[38;5;241;43m100\u001b[39;49m\u001b[43m,\u001b[49m\n\u001b[1;32m    654\u001b[0m \u001b[43m                        \u001b[49m\u001b[43mcontext_variables\u001b[49m\u001b[43m \u001b[49m\u001b[38;5;241;43m=\u001b[39;49m\u001b[43m \u001b[49m\u001b[43mcontext_variables\u001b[49m\u001b[43m,\u001b[49m\n\u001b[1;32m    655\u001b[0m \u001b[43m                        \u001b[49m\u001b[43mafter_work\u001b[49m\u001b[43m \u001b[49m\u001b[38;5;241;43m=\u001b[39;49m\u001b[43m \u001b[49m\u001b[43mAfterWorkOption\u001b[49m\u001b[38;5;241;43m.\u001b[39;49m\u001b[43mREVERT_TO_USER\u001b[49m\u001b[43m,\u001b[49m\n\u001b[1;32m    656\u001b[0m \u001b[43m                        \u001b[49m\u001b[43mcost\u001b[49m\u001b[43m \u001b[49m\u001b[38;5;241;43m=\u001b[39;49m\u001b[43m \u001b[49m\u001b[38;5;241;43m0\u001b[39;49m\u001b[43m,\u001b[49m\n\u001b[1;32m    657\u001b[0m \u001b[43m                        \u001b[49m\u001b[43mverbose\u001b[49m\u001b[43m \u001b[49m\u001b[38;5;241;43m=\u001b[39;49m\u001b[43m \u001b[49m\u001b[38;5;28;43mself\u001b[39;49m\u001b[38;5;241;43m.\u001b[39;49m\u001b[43mverbose\u001b[49m\n\u001b[1;32m    658\u001b[0m \u001b[43m                        \u001b[49m\u001b[43m)\u001b[49m\n\u001b[1;32m    660\u001b[0m \u001b[38;5;28mself\u001b[39m\u001b[38;5;241m.\u001b[39mchat_history \u001b[38;5;241m=\u001b[39m chat_history\n\u001b[1;32m    661\u001b[0m \u001b[38;5;28mself\u001b[39m\u001b[38;5;241m.\u001b[39mcontext_variables \u001b[38;5;241m=\u001b[39m context_variables\n",
      "File \u001b[0;32m~/CMBAgents/cmbagent/cmbagent/cmbagent_swarm_agent.py:91\u001b[0m, in \u001b[0;36minitiate_cmbagent_swarm_chat\u001b[0;34m(initial_agent, messages, agents, rag_agents, send_introductions, admin_name, user_agent, max_rounds, context_variables, after_work, cost, verbose)\u001b[0m\n\u001b[1;32m     88\u001b[0m tool_execution, nested_chat_agents \u001b[38;5;241m=\u001b[39m _prepare_swarm_agents(initial_agent, agents)\n\u001b[1;32m     90\u001b[0m \u001b[38;5;28mprint\u001b[39m(\u001b[38;5;124m\"\u001b[39m\u001b[38;5;130;01m\\n\u001b[39;00m\u001b[38;5;124m in cmbagent_swarm_agent.py, processing initial messages\u001b[39m\u001b[38;5;124m\"\u001b[39m)\n\u001b[0;32m---> 91\u001b[0m processed_messages, last_agent, swarm_agent_names, temp_user_list \u001b[38;5;241m=\u001b[39m \u001b[43m_process_initial_messages\u001b[49m(\n\u001b[1;32m     92\u001b[0m     messages, user_agent, agents, nested_chat_agents\n\u001b[1;32m     93\u001b[0m )\n\u001b[1;32m     94\u001b[0m \u001b[38;5;28mprint\u001b[39m(\u001b[38;5;124m\"\u001b[39m\u001b[38;5;130;01m\\n\u001b[39;00m\u001b[38;5;124m in cmbagent_swarm_agent.py, processed_messages: \u001b[39m\u001b[38;5;124m\"\u001b[39m, processed_messages)\n\u001b[1;32m     95\u001b[0m \u001b[38;5;28;01mimport\u001b[39;00m\u001b[38;5;250m \u001b[39m\u001b[38;5;21;01msys\u001b[39;00m; sys\u001b[38;5;241m.\u001b[39mexit(\u001b[38;5;241m0\u001b[39m)\n",
      "\u001b[0;31mNameError\u001b[0m: name '_process_initial_messages' is not defined"
     ]
    }
   ],
   "source": [
    "task = \"Compute temperature cls using standard cosmological lcdm values as measured by ACT DR6 lensing analysis.\"\n",
    "cmbagent.solve(task)"
   ]
  },
  {
   "cell_type": "code",
   "execution_count": null,
   "id": "0884e324-7380-482c-9c8c-7892f0cc402a",
   "metadata": {},
   "outputs": [],
   "source": []
  },
  {
   "cell_type": "code",
   "execution_count": null,
   "id": "adcacc61-adfb-465b-95d9-deda38c37682",
   "metadata": {},
   "outputs": [],
   "source": []
  }
 ],
 "metadata": {
  "kernelspec": {
   "display_name": "Python (venv_class_sz)",
   "language": "python",
   "name": "venv_class_sz312"
  },
  "language_info": {
   "codemirror_mode": {
    "name": "ipython",
    "version": 3
   },
   "file_extension": ".py",
   "mimetype": "text/x-python",
   "name": "python",
   "nbconvert_exporter": "python",
   "pygments_lexer": "ipython3",
   "version": "3.12.8"
  },
  "widgets": {
   "application/vnd.jupyter.widget-state+json": {
    "state": {},
    "version_major": 2,
    "version_minor": 0
   }
  }
 },
 "nbformat": 4,
 "nbformat_minor": 5
}

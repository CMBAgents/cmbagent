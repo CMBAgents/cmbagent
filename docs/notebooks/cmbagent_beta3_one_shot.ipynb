{
 "cells": [
  {
   "cell_type": "markdown",
   "id": "2242dd13-f045-48bc-812a-69c923cb76fc",
   "metadata": {
    "include-cell-in-app": true
   },
   "source": [
    "# Demo"
   ]
  },
  {
   "cell_type": "code",
   "execution_count": 2,
   "id": "ca4daaec-97c7-4bcd-8a6f-3c282608b364",
   "metadata": {
    "include-cell-in-app": true
   },
   "outputs": [],
   "source": [
    "# import os\n",
    "# import re\n",
    "\n",
    "# os.environ[\"CMBAGENT_DEBUG\"] = \"false\"\n",
    "# os.environ[\"ASTROPILOT_DISABLE_DISPLAY\"] = \"false\"\n",
    "import copy\n",
    "import cmbagent"
   ]
  },
  {
   "cell_type": "code",
   "execution_count": 3,
   "id": "e62a3f31-0ff6-457f-b973-d42ba69d5159",
   "metadata": {
    "include-cell-in-app": true
   },
   "outputs": [
    {
     "name": "stdout",
     "output_type": "stream",
     "text": [
      "\n",
      "\n",
      "### Sample 1: 0 ###\n",
      "Write a short code following the given format and indentation. Place the executable code between <code> and </code> tags, without any other non-executable things\n",
      "Also save the code you place between <code> and </code> tags along with the tags in a result.txt file\n",
      "Only provide the code completion needed.\n",
      "Don't repeat the context code.\n",
      "\n",
      "Prompt:\n",
      "\n",
      "\n",
      " Problem:\n",
      "I have the following DataFrame:\n",
      "    Col1  Col2  Col3  Type\n",
      "0      1     2     3     1\n",
      "1      4     5     6     1\n",
      "2      7     8     9     2\n",
      "3    10    11    12     2\n",
      "4    13    14    15     3\n",
      "5    16    17    18     3\n",
      "\n",
      "\n",
      "The DataFrame is read from a CSV file. All rows which have Type 1 are on top, followed by the rows with Type 2, followed by the rows with Type 3, etc.\n",
      "I would like to shuffle the order of the DataFrame's rows according to a list. \\\n",
      "For example, give a list [2, 4, 0, 3, 1, 5] and desired result should be:\n",
      "    Col1  Col2  Col3  Type\n",
      "2      7     8     9     2\n",
      "4     13    14    15     3\n",
      "0     1     2     3     1\n",
      "3    10    11    12     2\n",
      "1     4     5     6     1\n",
      "5    16    17    18     3\n",
      "...\n",
      "\n",
      "\n",
      "How can I achieve this?\n",
      "\n",
      "\n",
      "A:\n",
      "<code>\n",
      "import pandas as pd\n",
      "import numpy as np\n",
      "\n",
      "\n",
      "df = pd.DataFrame({'Col1': [1, 4, 7, 10, 13, 16],\n",
      "                   'Col2': [2, 5, 8, 11, 14, 17],\n",
      "                   'Col3': [3, 6, 9, 12, 15, 18],\n",
      "                   'Type': [1, 1, 2, 2, 3, 3]})\n",
      "List = np.random.permutation(len(df))\n",
      "</code>\n",
      "BEGIN SOLUTION\n",
      "<code>\n",
      "[insert]\n",
      "</code>\n",
      "END SOLUTION\n",
      "<code>\n",
      "print(result)\n",
      "</code>\n",
      "\n",
      "\n",
      "--------------------------------------------------------------------------------\n",
      "\u001b[32m\n",
      "Calling researcher...\n",
      "\u001b[0m\n",
      "             Model      agent    Cost  Prompt Tokens  Completion Tokens  Total Tokens\n",
      "gpt-4.1-2025-04-14 researcher 0.00282           1343                 17          1360\n",
      "<code>\n",
      "result = df.iloc[List].reset_index(drop=True)\n",
      "</code>\n",
      "\n",
      "--------------------------------------------------------------------------------\n",
      "Formatting...\n",
      "\n",
      "             Model                         agent    Cost  Prompt Tokens  Completion Tokens  Total Tokens\n",
      "o3-mini-2025-01-31 researcher_response_formatter 0.00227            327                435           762\n",
      "**Markdown:**\n",
      "\n",
      "```markdown\n",
      "<!-- filename: dataframe_reset_index.md -->\n",
      "<code>\n",
      "result = df.iloc[List].reset_index(drop=True)\n",
      "</code>\n",
      "```\n",
      "\n",
      "--------------------------------------------------------------------------------\n",
      "Saving report...\n",
      "\n",
      "Execution results:\n",
      "\n",
      "Execution output: Content saved to /Users/boris/Desktop/one_shot_eval/dataframe_reset_index.md\n",
      "\n",
      "\n",
      "--------------------------------------------------------------------------------\n",
      "\u001b[32m\n",
      "Calling control...\n",
      "\u001b[0m\n",
      "             Model   agent    Cost  Prompt Tokens  Completion Tokens  Total Tokens\n",
      "gpt-4.1-2025-04-14 control 0.00285           1269                 39          1308\n",
      "\n",
      "--------------------------------------------------------------------------------\n",
      "\n",
      "**Step number:** 1 out of 1.\n",
      " \n",
      "**Sub-task:** solve the main task.\n",
      " \n",
      "**Agent in charge of sub-task:** `researcher`\n",
      " \n",
      "**Instructions:**\n",
      " \n",
      "solve the main task.\n",
      " \n",
      "**Status:** completed ✅\n",
      "        \n",
      "\n",
      "--------------------------------------------------------------------------------\n",
      "Terminating...\n",
      "\n",
      "             Model      agent    Cost  Prompt Tokens  Completion Tokens  Total Tokens\n",
      "gpt-4.1-2025-04-14 terminator 0.00161            800                  1           801\n",
      "\n",
      "--------------------------------------------------------------------------------\n",
      "Session terminated.\n",
      "\n",
      "--------------------------------------------------------------------------------\n",
      "\n",
      "Displaying cost…\n",
      "\n",
      "| Agent                         | Cost ($)    | Prompt Tokens | Completion Tokens | Total Tokens |\n",
      "|:------------------------------|------------:|--------------:|------------------:|-------------:|\n",
      "| researcher response formatter | $0.00227370 |           327 |               435 |          762 |\n",
      "| terminator                    | $0.00160800 |           800 |                 1 |          801 |\n",
      "| researcher                    | $0.00282200 |          1343 |                17 |         1360 |\n",
      "| control                       | $0.00285000 |          1269 |                39 |         1308 |\n",
      "|-------------------------------|-------------|---------------|-------------------|--------------|\n",
      "| Total                         | $0.00955370 |          3739 |               492 |         4231 |\n",
      "\n",
      "Cost report data saved to: /Users/boris/Desktop/one_shot_eval/cost_report_20250603_171650.json\n",
      "\n",
      "\n",
      "Timing report saved to /Users/boris/Desktop/one_shot_eval/timing_report_20250603_171650.json\n",
      "\n",
      "Task took 11.0670 seconds\n"
     ]
    }
   ],
   "source": [
    "\n",
    "# task = r\"\"\"\n",
    "# Download stock markect data and plot sp500 between 2015 and 2024.\n",
    "# \"\"\"\n",
    "\n",
    "\n",
    "# task = r\"\"\"\n",
    "# Plot y=x^2\n",
    "# \"\"\"\n",
    "\n",
    "# task = r\"\"\"\n",
    "# import random\n",
    "# import statistics\n",
    "\n",
    "# # Constants\n",
    "# AGE_RANGE = (22, 60)\n",
    "\n",
    "# def task_func(dict1):\n",
    "#      Calculate the mean, the median, and the mode(s) of the age of the employees in the department \"EMP$$.\" \n",
    "#      Generate random ages for each employee within the range [22, 60].\n",
    "    \n",
    "#      Parameters:\n",
    "#      dict1 (dict): A dictionary with department codes as keys and number of employees \n",
    "#      as values.\n",
    "    \n",
    "#      Returns:\n",
    "#      tuple: A tuple of mean, median, and a list of mode(s) of employee ages.\n",
    "    \n",
    "#      Requirements:\n",
    "#      - random\n",
    "#      - statistics\n",
    "\n",
    "# Example:\n",
    "# >>> random.seed(0)\n",
    "# >>> d = {{'EMP$$': 10, 'MAN$$': 5, 'DEV$$': 8, 'HR$$': 7}}\n",
    "# >>> stats = task_func(d)\n",
    "# >>> print(stats)\n",
    "# (44.7, 46.5, [46, 48, 24, 38, 54, 53, 47, 41, 52, 44])\n",
    "# \"\"\"\n",
    "\n",
    "\n",
    "# task = r\"\"\"\n",
    "# I have the following DataFrame:\n",
    "# Col1 Col2 Col3 Type\n",
    "# 0 1 2 3 1\n",
    "# 1 4 5 6 1\n",
    "# ...ommited for brevity...\n",
    "\n",
    "# I would like to shuffle the order of the DataFrame's rows according to a list. For example\n",
    "# ...ommited for brevity...\n",
    "\n",
    "# How can I achieve this?\n",
    "\n",
    "# A:\n",
    "# <code>\n",
    "# import pandas as pd\n",
    "# import numpy as np\n",
    "\n",
    "# df = pd.DataFrame({'Col1': [1, 4, 7, 10, 13, 16],\n",
    "# 'Col2': [2, 5, 8, 11, 14, 17],\n",
    "# 'Col3': [3, 6, 9, 12, 15, 18],\n",
    "# 'Type': [1, 1, 2, 2, 3, 3]})\n",
    "# List = np.random.permutation(len(df))\n",
    "# </code>\n",
    "# result = ... # put solution in this variable\n",
    "# BEGIN SOLUTION\n",
    "# <code>\n",
    "# \"\"\"\n",
    "\n",
    "# task = r\"\"\"\n",
    "# Plot cmb cls with camb\n",
    "# \"\"\"\n",
    "\n",
    "task = r\"\"\"\n",
    "Plot y=x^2\n",
    "\"\"\"\n",
    "\n",
    "\n",
    "task = r\"\"\"\n",
    "\n",
    "### Sample 1: 0 ###\n",
    "Write a short code following the given format and indentation. Place the executable code between <code> and </code> tags, without any other non-executable things\n",
    "Also save the code you place between <code> and </code> tags along with the tags in a result.txt file\n",
    "Only provide the code completion needed.\n",
    "Don't repeat the context code.\n",
    "\n",
    "Prompt:\n",
    "\n",
    "\n",
    " Problem:\n",
    "I have the following DataFrame:\n",
    "    Col1  Col2  Col3  Type\n",
    "0      1     2     3     1\n",
    "1      4     5     6     1\n",
    "2      7     8     9     2\n",
    "3    10    11    12     2\n",
    "4    13    14    15     3\n",
    "5    16    17    18     3\n",
    "\n",
    "\n",
    "The DataFrame is read from a CSV file. All rows which have Type 1 are on top, followed by the rows with Type 2, followed by the rows with Type 3, etc.\n",
    "I would like to shuffle the order of the DataFrame's rows according to a list. \\\n",
    "For example, give a list [2, 4, 0, 3, 1, 5] and desired result should be:\n",
    "    Col1  Col2  Col3  Type\n",
    "2      7     8     9     2\n",
    "4     13    14    15     3\n",
    "0     1     2     3     1\n",
    "3    10    11    12     2\n",
    "1     4     5     6     1\n",
    "5    16    17    18     3\n",
    "...\n",
    "\n",
    "\n",
    "How can I achieve this?\n",
    "\n",
    "\n",
    "A:\n",
    "<code>\n",
    "import pandas as pd\n",
    "import numpy as np\n",
    "\n",
    "\n",
    "df = pd.DataFrame({'Col1': [1, 4, 7, 10, 13, 16],\n",
    "                   'Col2': [2, 5, 8, 11, 14, 17],\n",
    "                   'Col3': [3, 6, 9, 12, 15, 18],\n",
    "                   'Type': [1, 1, 2, 2, 3, 3]})\n",
    "List = np.random.permutation(len(df))\n",
    "</code>\n",
    "BEGIN SOLUTION\n",
    "<code>\n",
    "[insert]\n",
    "</code>\n",
    "END SOLUTION\n",
    "<code>\n",
    "print(result)\n",
    "</code>\n",
    "\"\"\"\n",
    "\n",
    "\n",
    "\n",
    "results = cmbagent.one_shot(task,\n",
    "                   max_rounds=10,\n",
    "                   agent='researcher',\n",
    "                   # engineer_model='gpt-4.1-2025-04-14',\n",
    "                   engineer_model='gpt-4o-mini',\n",
    "                   work_dir=\"/Users/boris/Desktop/one_shot_eval\",\n",
    "                  )\n",
    "\n",
    "\n"
   ]
  },
  {
   "cell_type": "code",
   "execution_count": 3,
   "id": "e8be8527-c958-4c65-9a78-d0c62bbe2955",
   "metadata": {
    "include-cell-in-app": true
   },
   "outputs": [
    {
     "data": {
      "text/plain": [
       "1"
      ]
     },
     "execution_count": 3,
     "metadata": {},
     "output_type": "execute_result"
    }
   ],
   "source": [
    "len(results['engineer'].agent.chat_messages)"
   ]
  },
  {
   "cell_type": "code",
   "execution_count": 4,
   "id": "5a999952-2c04-416d-8842-3a96df4f778e",
   "metadata": {},
   "outputs": [
    {
     "data": {
      "text/plain": [
       "dict_values([[{'content': '\\nPlot y=x^2\\n', 'name': '_User', 'role': 'user'}, {'content': '**Code Explanation:**\\n\\nThis code generates a plot of the function \\\\( y = x^2 \\\\) over the range of \\\\( x \\\\) from -10 to 10. The plot is saved as a PNG file in the `data/` directory with a high resolution of 300 dpi. The axes are labeled with appropriate units, and a grid is included for better visualization.\\n\\n**Modifications:** (Optional)\\n\\nNo modifications were necessary as this is the initial implementation.\\n\\n**Python Code:**\\n\\n```python\\nimport numpy as np\\nimport matplotlib.pyplot as plt\\nimport time\\n\\n# Generate data for the plot\\nx = np.linspace(-10, 10, 400)  # x values from -10 to 10\\ny = x**2  # y = x^2\\n\\n# Create the plot\\nplt.figure(figsize=(8, 6))\\nplt.plot(x, y, label=r\\'$y = x^2$\\', color=\\'blue\\')\\nplt.title(r\\'Plot of $y = x^2$\\')\\nplt.xlabel(r\\'$x$ \\\\, (units)$\\')\\nplt.ylabel(r\\'$y$ \\\\, (units)$\\')\\nplt.grid(True)\\nplt.legend()\\n\\n# Save the plot\\ntimestamp = time.strftime(\"%Y%m%d-%H%M%S\")\\nplt.savefig(\\'data/plot_y_equals_x_squared_1_\\' + timestamp + \\'.png\\', dpi=300)\\nplt.close()\\n\\nprint(\"The plot of y = x^2 has been saved successfully.\")\\n```', 'role': 'assistant', 'name': 'engineer'}, {'content': '\\nThe executed code is:\\n\\n```python\\n# filename: codebase/plot_y_equals_x_squared.py\\nimport numpy as np\\nimport matplotlib.pyplot as plt\\nimport time\\n\\n# Generate data for the plot\\nx = np.linspace(-10, 10, 400)  # x values from -10 to 10\\ny = x**2  # y = x^2\\n\\n# Create the plot\\nplt.figure(figsize=(8, 6))\\nplt.plot(x, y, label=r\\'$y = x^2$\\', color=\\'blue\\')\\nplt.title(r\\'Plot of $y = x^2$\\')\\nplt.xlabel(r\\'$x\\\\, (units)$\\')\\nplt.ylabel(r\\'$y\\\\, (units)$\\')\\nplt.grid(True)\\nplt.legend()\\n\\n# Save the plot\\ntimestamp = time.strftime(\"%Y%m%d-%H%M%S\")\\nplt.savefig(\\'data/plot_y_equals_x_squared_1_\\' + timestamp + \\'.png\\', dpi=300)\\nplt.close()\\n\\nprint(\"The plot of y = x^2 has been saved successfully.\")\\n```\\n\\n================================================    \\n\\nThe output of the executed code is:\\n\\nexecution results:\\nExecution output: The plot of y = x^2 has been saved successfully.\\n\\n\\n================================================    \\n                        ', 'name': 'engineer_nest', 'role': 'user'}, {'content': 'None', 'tool_calls': [{'id': 'call_SaocNSqgHcPzjpHz8YFwgU1x', 'function': {'arguments': '{\"next_agent_suggestion\": \"control\", \"execution_status\": \"success\", \"fix_suggestion\": null}', 'name': 'post_execution_transfer'}, 'type': 'function'}], 'name': 'executor_response_formatter', 'role': 'assistant'}, {'content': 'Execution status: success. Transfer to control.\\n\\nxxxxxxxxxxxxxxxxxxxxxxxxxx\\n\\nWorkflow status:\\n\\nPlan step number: 1\\n\\nAgent for sub-task (might be different from the next agent suggestion for debugging): engineer\\n\\nCurrent status (before execution): In progress\\n\\nxxxxxxxxxxxxxxxxxxxxxxxxxx\\n\\n', 'tool_responses': [{'tool_call_id': 'call_SaocNSqgHcPzjpHz8YFwgU1x', 'role': 'tool', 'content': 'Execution status: success. Transfer to control.\\n\\nxxxxxxxxxxxxxxxxxxxxxxxxxx\\n\\nWorkflow status:\\n\\nPlan step number: 1\\n\\nAgent for sub-task (might be different from the next agent suggestion for debugging): engineer\\n\\nCurrent status (before execution): In progress\\n\\nxxxxxxxxxxxxxxxxxxxxxxxxxx\\n\\n'}], 'name': '_Group_Tool_Executor', 'role': 'tool'}, {'content': 'None', 'tool_calls': [{'id': 'call_bfaDVUZwo2bL6jgKqqz33YwW', 'function': {'arguments': '{\"current_status\":\"completed\",\"current_plan_step_number\":1,\"current_sub_task\":\"solve the main task.\",\"current_instructions\":\"solve the main task.\",\"agent_for_sub_task\":\"engineer\"}', 'name': 'record_status'}, 'type': 'function'}], 'name': 'control', 'role': 'assistant'}, {'content': '\\n**Step number:** 1 out of 1.\\n \\n**Sub-task:** solve the main task.\\n \\n**Agent in charge of sub-task:** `engineer`\\n \\n**Instructions:**\\n \\nsolve the main task.\\n \\n**Status:** completed ✅\\n        ', 'tool_responses': [{'tool_call_id': 'call_bfaDVUZwo2bL6jgKqqz33YwW', 'role': 'tool', 'content': '\\n**Step number:** 1 out of 1.\\n \\n**Sub-task:** solve the main task.\\n \\n**Agent in charge of sub-task:** `engineer`\\n \\n**Instructions:**\\n \\nsolve the main task.\\n \\n**Status:** completed ✅\\n        '}], 'name': '_Group_Tool_Executor', 'role': 'tool'}, {'content': 'None', 'tool_calls': [{'id': 'call_zrHExvY8IvAmNAU1VZg6LtEQ', 'function': {'arguments': '{}', 'name': 'terminate_session'}, 'type': 'function'}], 'name': 'terminator', 'role': 'assistant'}, {'content': 'Session terminated.', 'tool_responses': [{'tool_call_id': 'call_zrHExvY8IvAmNAU1VZg6LtEQ', 'role': 'tool', 'content': 'Session terminated.'}], 'name': '_Group_Tool_Executor', 'role': 'tool'}]])"
      ]
     },
     "execution_count": 4,
     "metadata": {},
     "output_type": "execute_result"
    }
   ],
   "source": [
    "results['engineer'].agent.chat_messages.values()"
   ]
  },
  {
   "cell_type": "code",
   "execution_count": 5,
   "id": "5ac49662-356e-4348-a5ca-435ed5de5db5",
   "metadata": {},
   "outputs": [
    {
     "data": {
      "text/plain": [
       "1"
      ]
     },
     "execution_count": 5,
     "metadata": {},
     "output_type": "execute_result"
    }
   ],
   "source": [
    "len(results['engineer_response_formatter'].agent.chat_messages)"
   ]
  },
  {
   "cell_type": "code",
   "execution_count": 6,
   "id": "eaede36e-e465-475e-855d-925c7ef2994b",
   "metadata": {},
   "outputs": [
    {
     "data": {
      "text/plain": [
       "dict_values([[{'content': '\\nThe executed code is:\\n\\n```python\\n# filename: codebase/plot_y_equals_x_squared.py\\nimport numpy as np\\nimport matplotlib.pyplot as plt\\nimport time\\n\\n# Generate data for the plot\\nx = np.linspace(-10, 10, 400)  # x values from -10 to 10\\ny = x**2  # y = x^2\\n\\n# Create the plot\\nplt.figure(figsize=(8, 6))\\nplt.plot(x, y, label=r\\'$y = x^2$\\', color=\\'blue\\')\\nplt.title(r\\'Plot of $y = x^2$\\')\\nplt.xlabel(r\\'$x\\\\, (units)$\\')\\nplt.ylabel(r\\'$y\\\\, (units)$\\')\\nplt.grid(True)\\nplt.legend()\\n\\n# Save the plot\\ntimestamp = time.strftime(\"%Y%m%d-%H%M%S\")\\nplt.savefig(\\'data/plot_y_equals_x_squared_1_\\' + timestamp + \\'.png\\', dpi=300)\\nplt.close()\\n\\nprint(\"The plot of y = x^2 has been saved successfully.\")\\n```\\n\\n================================================    \\n\\nThe output of the executed code is:\\n\\nexecution results:\\nExecution output: The plot of y = x^2 has been saved successfully.\\n\\n\\n================================================    \\n                        ', 'name': 'engineer_nest', 'role': 'user'}, {'content': 'None', 'tool_calls': [{'id': 'call_SaocNSqgHcPzjpHz8YFwgU1x', 'function': {'arguments': '{\"next_agent_suggestion\": \"control\", \"execution_status\": \"success\", \"fix_suggestion\": null}', 'name': 'post_execution_transfer'}, 'type': 'function'}], 'name': 'executor_response_formatter', 'role': 'assistant'}, {'content': 'Execution status: success. Transfer to control.\\n\\nxxxxxxxxxxxxxxxxxxxxxxxxxx\\n\\nWorkflow status:\\n\\nPlan step number: 1\\n\\nAgent for sub-task (might be different from the next agent suggestion for debugging): engineer\\n\\nCurrent status (before execution): In progress\\n\\nxxxxxxxxxxxxxxxxxxxxxxxxxx\\n\\n', 'tool_responses': [{'tool_call_id': 'call_SaocNSqgHcPzjpHz8YFwgU1x', 'role': 'tool', 'content': 'Execution status: success. Transfer to control.\\n\\nxxxxxxxxxxxxxxxxxxxxxxxxxx\\n\\nWorkflow status:\\n\\nPlan step number: 1\\n\\nAgent for sub-task (might be different from the next agent suggestion for debugging): engineer\\n\\nCurrent status (before execution): In progress\\n\\nxxxxxxxxxxxxxxxxxxxxxxxxxx\\n\\n'}], 'name': '_Group_Tool_Executor', 'role': 'tool'}, {'content': 'None', 'tool_calls': [{'id': 'call_bfaDVUZwo2bL6jgKqqz33YwW', 'function': {'arguments': '{\"current_status\":\"completed\",\"current_plan_step_number\":1,\"current_sub_task\":\"solve the main task.\",\"current_instructions\":\"solve the main task.\",\"agent_for_sub_task\":\"engineer\"}', 'name': 'record_status'}, 'type': 'function'}], 'name': 'control', 'role': 'assistant'}, {'content': '\\n**Step number:** 1 out of 1.\\n \\n**Sub-task:** solve the main task.\\n \\n**Agent in charge of sub-task:** `engineer`\\n \\n**Instructions:**\\n \\nsolve the main task.\\n \\n**Status:** completed ✅\\n        ', 'tool_responses': [{'tool_call_id': 'call_bfaDVUZwo2bL6jgKqqz33YwW', 'role': 'tool', 'content': '\\n**Step number:** 1 out of 1.\\n \\n**Sub-task:** solve the main task.\\n \\n**Agent in charge of sub-task:** `engineer`\\n \\n**Instructions:**\\n \\nsolve the main task.\\n \\n**Status:** completed ✅\\n        '}], 'name': '_Group_Tool_Executor', 'role': 'tool'}, {'content': 'None', 'tool_calls': [{'id': 'call_zrHExvY8IvAmNAU1VZg6LtEQ', 'function': {'arguments': '{}', 'name': 'terminate_session'}, 'type': 'function'}], 'name': 'terminator', 'role': 'assistant'}, {'content': 'Session terminated.', 'tool_responses': [{'tool_call_id': 'call_zrHExvY8IvAmNAU1VZg6LtEQ', 'role': 'tool', 'content': 'Session terminated.'}], 'name': '_Group_Tool_Executor', 'role': 'tool'}]])"
      ]
     },
     "execution_count": 6,
     "metadata": {},
     "output_type": "execute_result"
    }
   ],
   "source": [
    "results['engineer_response_formatter'].agent.chat_messages.values()"
   ]
  },
  {
   "cell_type": "code",
   "execution_count": 7,
   "id": "6a492d88-109b-4fad-be7e-fbba7a06df72",
   "metadata": {},
   "outputs": [
    {
     "data": {
      "text/plain": [
       "'/Users/boris/Desktop/one_shot'"
      ]
     },
     "execution_count": 7,
     "metadata": {},
     "output_type": "execute_result"
    }
   ],
   "source": [
    "results['final_context']['work_dir']\n",
    "# results['engineer']"
   ]
  },
  {
   "cell_type": "code",
   "execution_count": 8,
   "id": "f47e550d-9c62-46f4-9416-0d1d0109e845",
   "metadata": {},
   "outputs": [
    {
     "data": {
      "text/plain": [
       "[{'content': '\\nPlot y=x^2\\n', 'role': 'assistant'},\n",
       " {'content': '**Code Explanation:**\\n\\nThis code generates a plot of the function \\\\( y = x^2 \\\\) over the range of \\\\( x \\\\) from -10 to 10. The plot is saved as a PNG file in the `data/` directory with a high resolution of 300 dpi. The axes are labeled with appropriate units, and a grid is included for better visualization.\\n\\n**Modifications:** (Optional)\\n\\nNo modifications were necessary as this is the initial implementation.\\n\\n**Python Code:**\\n\\n```python\\nimport numpy as np\\nimport matplotlib.pyplot as plt\\nimport time\\n\\n# Generate data for the plot\\nx = np.linspace(-10, 10, 400)  # x values from -10 to 10\\ny = x**2  # y = x^2\\n\\n# Create the plot\\nplt.figure(figsize=(8, 6))\\nplt.plot(x, y, label=r\\'$y = x^2$\\', color=\\'blue\\')\\nplt.title(r\\'Plot of $y = x^2$\\')\\nplt.xlabel(r\\'$x$ \\\\, (units)$\\')\\nplt.ylabel(r\\'$y$ \\\\, (units)$\\')\\nplt.grid(True)\\nplt.legend()\\n\\n# Save the plot\\ntimestamp = time.strftime(\"%Y%m%d-%H%M%S\")\\nplt.savefig(\\'data/plot_y_equals_x_squared_1_\\' + timestamp + \\'.png\\', dpi=300)\\nplt.close()\\n\\nprint(\"The plot of y = x^2 has been saved successfully.\")\\n```',\n",
       "  'name': 'engineer',\n",
       "  'role': 'user'},\n",
       " {'content': '\\nThe executed code is:\\n\\n```python\\n# filename: codebase/plot_y_equals_x_squared.py\\nimport numpy as np\\nimport matplotlib.pyplot as plt\\nimport time\\n\\n# Generate data for the plot\\nx = np.linspace(-10, 10, 400)  # x values from -10 to 10\\ny = x**2  # y = x^2\\n\\n# Create the plot\\nplt.figure(figsize=(8, 6))\\nplt.plot(x, y, label=r\\'$y = x^2$\\', color=\\'blue\\')\\nplt.title(r\\'Plot of $y = x^2$\\')\\nplt.xlabel(r\\'$x\\\\, (units)$\\')\\nplt.ylabel(r\\'$y\\\\, (units)$\\')\\nplt.grid(True)\\nplt.legend()\\n\\n# Save the plot\\ntimestamp = time.strftime(\"%Y%m%d-%H%M%S\")\\nplt.savefig(\\'data/plot_y_equals_x_squared_1_\\' + timestamp + \\'.png\\', dpi=300)\\nplt.close()\\n\\nprint(\"The plot of y = x^2 has been saved successfully.\")\\n```\\n\\n================================================    \\n\\nThe output of the executed code is:\\n\\nexecution results:\\nExecution output: The plot of y = x^2 has been saved successfully.\\n\\n\\n================================================    \\n                        ',\n",
       "  'name': 'engineer_nest',\n",
       "  'role': 'user'},\n",
       " {'content': 'None',\n",
       "  'tool_calls': [{'id': 'call_SaocNSqgHcPzjpHz8YFwgU1x',\n",
       "    'function': {'arguments': '{\"next_agent_suggestion\": \"control\", \"execution_status\": \"success\", \"fix_suggestion\": null}',\n",
       "     'name': 'post_execution_transfer'},\n",
       "    'type': 'function'}],\n",
       "  'name': 'executor_response_formatter',\n",
       "  'role': 'assistant'},\n",
       " {'content': 'Execution status: success. Transfer to control.\\n\\nxxxxxxxxxxxxxxxxxxxxxxxxxx\\n\\nWorkflow status:\\n\\nPlan step number: 1\\n\\nAgent for sub-task (might be different from the next agent suggestion for debugging): engineer\\n\\nCurrent status (before execution): In progress\\n\\nxxxxxxxxxxxxxxxxxxxxxxxxxx\\n\\n',\n",
       "  'tool_responses': [{'tool_call_id': 'call_SaocNSqgHcPzjpHz8YFwgU1x',\n",
       "    'role': 'tool',\n",
       "    'content': 'Execution status: success. Transfer to control.\\n\\nxxxxxxxxxxxxxxxxxxxxxxxxxx\\n\\nWorkflow status:\\n\\nPlan step number: 1\\n\\nAgent for sub-task (might be different from the next agent suggestion for debugging): engineer\\n\\nCurrent status (before execution): In progress\\n\\nxxxxxxxxxxxxxxxxxxxxxxxxxx\\n\\n'}],\n",
       "  'name': '_Group_Tool_Executor',\n",
       "  'role': 'tool'},\n",
       " {'content': 'None',\n",
       "  'tool_calls': [{'id': 'call_bfaDVUZwo2bL6jgKqqz33YwW',\n",
       "    'function': {'arguments': '{\"current_status\":\"completed\",\"current_plan_step_number\":1,\"current_sub_task\":\"solve the main task.\",\"current_instructions\":\"solve the main task.\",\"agent_for_sub_task\":\"engineer\"}',\n",
       "     'name': 'record_status'},\n",
       "    'type': 'function'}],\n",
       "  'name': 'control',\n",
       "  'role': 'assistant'},\n",
       " {'content': '\\n**Step number:** 1 out of 1.\\n \\n**Sub-task:** solve the main task.\\n \\n**Agent in charge of sub-task:** `engineer`\\n \\n**Instructions:**\\n \\nsolve the main task.\\n \\n**Status:** completed ✅\\n        ',\n",
       "  'tool_responses': [{'tool_call_id': 'call_bfaDVUZwo2bL6jgKqqz33YwW',\n",
       "    'role': 'tool',\n",
       "    'content': '\\n**Step number:** 1 out of 1.\\n \\n**Sub-task:** solve the main task.\\n \\n**Agent in charge of sub-task:** `engineer`\\n \\n**Instructions:**\\n \\nsolve the main task.\\n \\n**Status:** completed ✅\\n        '}],\n",
       "  'name': '_Group_Tool_Executor',\n",
       "  'role': 'tool'},\n",
       " {'content': 'None',\n",
       "  'tool_calls': [{'id': 'call_zrHExvY8IvAmNAU1VZg6LtEQ',\n",
       "    'function': {'arguments': '{}', 'name': 'terminate_session'},\n",
       "    'type': 'function'}],\n",
       "  'name': 'terminator',\n",
       "  'role': 'assistant'},\n",
       " {'content': 'Session terminated.',\n",
       "  'tool_responses': [{'tool_call_id': 'call_zrHExvY8IvAmNAU1VZg6LtEQ',\n",
       "    'role': 'tool',\n",
       "    'content': 'Session terminated.'}],\n",
       "  'name': '_Group_Tool_Executor',\n",
       "  'role': 'tool'}]"
      ]
     },
     "execution_count": 8,
     "metadata": {},
     "output_type": "execute_result"
    }
   ],
   "source": [
    "results['chat_history']"
   ]
  },
  {
   "cell_type": "code",
   "execution_count": 6,
   "id": "3b184650-ee86-4d3a-81e8-38adccfb73fa",
   "metadata": {},
   "outputs": [],
   "source": [
    "def get_result(cmbagent_results):\n",
    "    chat_history = cmbagent_results['chat_history']\n",
    "    try:\n",
    "        for obj in chat_history[::-1]:\n",
    "            if obj['name'] == 'executor':\n",
    "                result = obj['content']\n",
    "                break\n",
    "        task_result = result\n",
    "    except:\n",
    "        task_result = None\n",
    "\n",
    "\n",
    "    # Regular expression to find a float number in the string\n",
    "    match = re.search(r\"[-+]?\\d*\\.\\d+|\\d+\", task_result)\n",
    "    if match:\n",
    "        value = float(match.group())\n",
    "        # print(\"Extracted value:\", value)\n",
    "    else:\n",
    "        print(\"No numerical value found.\")\n",
    "    return value"
   ]
  },
  {
   "cell_type": "code",
   "execution_count": 7,
   "id": "3e1e31f3-341c-4147-a0f6-fc05e3fe5ed3",
   "metadata": {},
   "outputs": [
    {
     "data": {
      "text/plain": [
       "500.0"
      ]
     },
     "execution_count": 7,
     "metadata": {},
     "output_type": "execute_result"
    }
   ],
   "source": [
    "get_result(results)"
   ]
  },
  {
   "cell_type": "code",
   "execution_count": null,
   "id": "bfa2806f-4b2e-482d-b5fe-24d12dc293db",
   "metadata": {},
   "outputs": [],
   "source": []
  }
 ],
 "metadata": {
  "kernelspec": {
   "display_name": "Python (venv_class_sz)",
   "language": "python",
   "name": "venv_class_sz312"
  },
  "language_info": {
   "codemirror_mode": {
    "name": "ipython",
    "version": 3
   },
   "file_extension": ".py",
   "mimetype": "text/x-python",
   "name": "python",
   "nbconvert_exporter": "python",
   "pygments_lexer": "ipython3",
   "version": "3.12.9"
  }
 },
 "nbformat": 4,
 "nbformat_minor": 5
}

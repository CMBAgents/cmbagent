{
 "cells": [
  {
   "cell_type": "code",
   "execution_count": 1,
   "id": "aa0cb725-9e7d-4504-aa85-d5461f741bc1",
   "metadata": {},
   "outputs": [
    {
     "name": "stdout",
     "output_type": "stream",
     "text": [
      "CMBAgent version: 0.0.1post2\n",
      "Checking agent: classy_sz_agent\n",
      "Agent classy_sz_agent exists in available assistants with id: asst_IEFG6lIlkKxuq8h72q6UGsf9\n",
      "\t- admin\n",
      "\t- planner\n",
      "\t- engineer\n",
      "\t- rag_software_formatter\n",
      "\t- executor\n",
      "\t- classy_sz_agent\n"
     ]
    }
   ],
   "source": [
    "import os\n",
    "from cmbagent import CMBAgent\n",
    "cmbagent = CMBAgent(agent_list = ['classy_sz'],\n",
    "                    skip_memory = True,\n",
    "                    verbose=False\n",
    "                   )\n",
    "cmbagent.clear_cache()"
   ]
  },
  {
   "cell_type": "code",
   "execution_count": 2,
   "id": "1b7c83ea-8df7-4c9b-9b14-43f5641c9bd5",
   "metadata": {},
   "outputs": [
    {
     "name": "stdout",
     "output_type": "stream",
     "text": [
      "\u001b[33mMessage from admin:\n",
      "\u001b[0m\n",
      "Compute temperature cls using H0=68.\n",
      "\u001b[32m\n",
      "Calling planner...\n",
      "\u001b[0m\n"
     ]
    },
    {
     "data": {
      "text/html": [
       "<style type=\"text/css\">\n",
       "</style>\n",
       "<table id=\"T_8fb98\">\n",
       "  <thead>\n",
       "    <tr>\n",
       "      <th id=\"T_8fb98_level0_col0\" class=\"col_heading level0 col0\" >Model</th>\n",
       "      <th id=\"T_8fb98_level0_col1\" class=\"col_heading level0 col1\" >agent</th>\n",
       "      <th id=\"T_8fb98_level0_col2\" class=\"col_heading level0 col2\" >Cost</th>\n",
       "      <th id=\"T_8fb98_level0_col3\" class=\"col_heading level0 col3\" >Prompt Tokens</th>\n",
       "      <th id=\"T_8fb98_level0_col4\" class=\"col_heading level0 col4\" >Completion Tokens</th>\n",
       "      <th id=\"T_8fb98_level0_col5\" class=\"col_heading level0 col5\" >Total Tokens</th>\n",
       "    </tr>\n",
       "  </thead>\n",
       "  <tbody>\n",
       "    <tr>\n",
       "      <td id=\"T_8fb98_row0_col0\" class=\"data row0 col0\" >gpt-4o-2024-08-06</td>\n",
       "      <td id=\"T_8fb98_row0_col1\" class=\"data row0 col1\" >planner</td>\n",
       "      <td id=\"T_8fb98_row0_col2\" class=\"data row0 col2\" >0.00360</td>\n",
       "      <td id=\"T_8fb98_row0_col3\" class=\"data row0 col3\" >906</td>\n",
       "      <td id=\"T_8fb98_row0_col4\" class=\"data row0 col4\" >133</td>\n",
       "      <td id=\"T_8fb98_row0_col5\" class=\"data row0 col5\" >1039</td>\n",
       "    </tr>\n",
       "  </tbody>\n",
       "</table>\n"
      ],
      "text/plain": [
       "<pandas.io.formats.style.Styler at 0x103fe0e50>"
      ]
     },
     "metadata": {},
     "output_type": "display_data"
    },
    {
     "name": "stdout",
     "output_type": "stream",
     "text": [
      "\u001b[33mMessage from planner:\n",
      "\u001b[0m\n"
     ]
    },
    {
     "data": {
      "text/markdown": [
       "\n",
       "**PLAN**\n",
       "\n",
       "- Main task: Compute temperature cls using H0=68\n",
       "\n",
       "\n",
       "- Step 1:\n",
       "\t * sub-task: Retrieve information on how to compute temperature cls using classy_sz\n",
       "\t * agent in charge: classy_sz_agent\n",
       "\t\n",
       "\n",
       "- Step 2:\n",
       "\t * sub-task: Write Python code to compute temperature cls with H0=68 using classy_sz\n",
       "\t * agent in charge: engineer\n",
       "\t\n",
       "\n",
       "- Step 3:\n",
       "\t * sub-task: Execute the Python code to compute temperature cls with H0=68\n",
       "\t * agent in charge: executor\n",
       "\t\n",
       "\n",
       "**Next Step Suggestion:**\n",
       "\n",
       "Do you approve this plan and, if so, should we proceed with classy_sz_agent? or should we modify the plan?\n",
       "\n",
       "**Next Agent Suggestion:**\n",
       "\n",
       "classy_sz_agent\n",
       "        "
      ],
      "text/plain": [
       "<IPython.core.display.Markdown object>"
      ]
     },
     "metadata": {},
     "output_type": "display_data"
    },
    {
     "name": "stdout",
     "output_type": "stream",
     "text": [
      "\u001b[32m\n",
      "Calling admin...\n",
      "\u001b[0m\n"
     ]
    },
    {
     "name": "stdin",
     "output_type": "stream",
     "text": [
      "Replying as admin. Provide feedback to cmbagent. Press enter to skip and use auto-reply, or type 'exit' to end the conversation:  proceed\n"
     ]
    },
    {
     "name": "stdout",
     "output_type": "stream",
     "text": [
      "\u001b[33mMessage from admin:\n",
      "\u001b[0m\n",
      "proceed\n"
     ]
    },
    {
     "data": {
      "text/html": [
       "<style type=\"text/css\">\n",
       "</style>\n",
       "<table id=\"T_41260\">\n",
       "  <thead>\n",
       "    <tr>\n",
       "      <th id=\"T_41260_level0_col0\" class=\"col_heading level0 col0\" >Model</th>\n",
       "      <th id=\"T_41260_level0_col1\" class=\"col_heading level0 col1\" >agent</th>\n",
       "      <th id=\"T_41260_level0_col2\" class=\"col_heading level0 col2\" >Cost</th>\n",
       "      <th id=\"T_41260_level0_col3\" class=\"col_heading level0 col3\" >Prompt Tokens</th>\n",
       "      <th id=\"T_41260_level0_col4\" class=\"col_heading level0 col4\" >Completion Tokens</th>\n",
       "      <th id=\"T_41260_level0_col5\" class=\"col_heading level0 col5\" >Total Tokens</th>\n",
       "    </tr>\n",
       "  </thead>\n",
       "  <tbody>\n",
       "    <tr>\n",
       "      <td id=\"T_41260_row0_col0\" class=\"data row0 col0\" >gpt-4o-2024-08-06</td>\n",
       "      <td id=\"T_41260_row0_col1\" class=\"data row0 col1\" >speaker_selection_agent</td>\n",
       "      <td id=\"T_41260_row0_col2\" class=\"data row0 col2\" >0.00162</td>\n",
       "      <td id=\"T_41260_row0_col3\" class=\"data row0 col3\" >630</td>\n",
       "      <td id=\"T_41260_row0_col4\" class=\"data row0 col4\" >5</td>\n",
       "      <td id=\"T_41260_row0_col5\" class=\"data row0 col5\" >635</td>\n",
       "    </tr>\n",
       "  </tbody>\n",
       "</table>\n"
      ],
      "text/plain": [
       "<pandas.io.formats.style.Styler at 0x3137736a0>"
      ]
     },
     "metadata": {},
     "output_type": "display_data"
    },
    {
     "name": "stdout",
     "output_type": "stream",
     "text": [
      "\u001b[32m\n",
      "Calling classy_sz_agent...\n",
      "\u001b[0m\n"
     ]
    },
    {
     "data": {
      "text/html": [
       "<style type=\"text/css\">\n",
       "</style>\n",
       "<table id=\"T_59dac\">\n",
       "  <thead>\n",
       "    <tr>\n",
       "      <th id=\"T_59dac_level0_col0\" class=\"col_heading level0 col0\" >Model</th>\n",
       "      <th id=\"T_59dac_level0_col1\" class=\"col_heading level0 col1\" >Cost</th>\n",
       "      <th id=\"T_59dac_level0_col2\" class=\"col_heading level0 col2\" >Prompt Tokens</th>\n",
       "      <th id=\"T_59dac_level0_col3\" class=\"col_heading level0 col3\" >Completion Tokens</th>\n",
       "      <th id=\"T_59dac_level0_col4\" class=\"col_heading level0 col4\" >Total Tokens</th>\n",
       "    </tr>\n",
       "  </thead>\n",
       "  <tbody>\n",
       "    <tr>\n",
       "      <td id=\"T_59dac_row0_col0\" class=\"data row0 col0\" >gpt-4o</td>\n",
       "      <td id=\"T_59dac_row0_col1\" class=\"data row0 col1\" >0.06078</td>\n",
       "      <td id=\"T_59dac_row0_col2\" class=\"data row0 col2\" >10800</td>\n",
       "      <td id=\"T_59dac_row0_col3\" class=\"data row0 col3\" >452</td>\n",
       "      <td id=\"T_59dac_row0_col4\" class=\"data row0 col4\" >11252</td>\n",
       "    </tr>\n",
       "  </tbody>\n",
       "</table>\n"
      ],
      "text/plain": [
       "<pandas.io.formats.style.Styler at 0x31254b040>"
      ]
     },
     "metadata": {},
     "output_type": "display_data"
    },
    {
     "name": "stdout",
     "output_type": "stream",
     "text": [
      "\u001b[33mSending message from classy_sz_agent to rag_software_formatter...\n",
      "\u001b[0m\n",
      "\u001b[32m\n",
      "Calling rag_software_formatter...\n",
      "\u001b[0m\n"
     ]
    },
    {
     "data": {
      "text/html": [
       "<style type=\"text/css\">\n",
       "</style>\n",
       "<table id=\"T_3d6db\">\n",
       "  <thead>\n",
       "    <tr>\n",
       "      <th id=\"T_3d6db_level0_col0\" class=\"col_heading level0 col0\" >Model</th>\n",
       "      <th id=\"T_3d6db_level0_col1\" class=\"col_heading level0 col1\" >agent</th>\n",
       "      <th id=\"T_3d6db_level0_col2\" class=\"col_heading level0 col2\" >Cost</th>\n",
       "      <th id=\"T_3d6db_level0_col3\" class=\"col_heading level0 col3\" >Prompt Tokens</th>\n",
       "      <th id=\"T_3d6db_level0_col4\" class=\"col_heading level0 col4\" >Completion Tokens</th>\n",
       "      <th id=\"T_3d6db_level0_col5\" class=\"col_heading level0 col5\" >Total Tokens</th>\n",
       "    </tr>\n",
       "  </thead>\n",
       "  <tbody>\n",
       "    <tr>\n",
       "      <td id=\"T_3d6db_row0_col0\" class=\"data row0 col0\" >gpt-4o-2024-08-06</td>\n",
       "      <td id=\"T_3d6db_row0_col1\" class=\"data row0 col1\" >rag_software_formatter</td>\n",
       "      <td id=\"T_3d6db_row0_col2\" class=\"data row0 col2\" >0.00965</td>\n",
       "      <td id=\"T_3d6db_row0_col3\" class=\"data row0 col3\" >2428</td>\n",
       "      <td id=\"T_3d6db_row0_col4\" class=\"data row0 col4\" >358</td>\n",
       "      <td id=\"T_3d6db_row0_col5\" class=\"data row0 col5\" >2786</td>\n",
       "    </tr>\n",
       "  </tbody>\n",
       "</table>\n"
      ],
      "text/plain": [
       "<pandas.io.formats.style.Styler at 0x31282f640>"
      ]
     },
     "metadata": {},
     "output_type": "display_data"
    },
    {
     "name": "stdout",
     "output_type": "stream",
     "text": [
      "\u001b[33mMessage from rag_software_formatter:\n",
      "\u001b[0m\n"
     ]
    },
    {
     "data": {
      "text/markdown": [
       "\n",
       "**File Search Results:**\n",
       "\n",
       "Retrieve information on how to compute temperature cls using classy_sz\n",
       "\n",
       "**Files Consulted:**\n",
       "\n",
       "- classy_sz_cmb_cls.md\n",
       "\n",
       "**Code Explanation:**\n",
       "\n",
       "The code initializes the Class_sz object with cosmological parameters, including H0, and computes the CMB temperature power spectrum (tCl) using the CLASS-SZ library. The output is set to 'tCl' to specifically compute the temperature power spectrum.\n",
       "\n",
       "**Python Code:**\n",
       "\n",
       "```python\n",
       "from classy_sz import Class as Class_sz\n",
       "\n",
       "cosmo_params = {\n",
       "    'omega_b': 0.02242,\n",
       "    'omega_cdm': 0.11933,\n",
       "    'H0': 68.0,  # Updated H0 value\n",
       "    'tau_reio': 0.0561,\n",
       "    'ln10^{10}A_s': 3.047,\n",
       "    'n_s': 0.9665\n",
       "}\n",
       "\n",
       "classy_sz = Class_sz()\n",
       "classy_sz.set(cosmo_params)\n",
       "classy_sz.set({'output': 'tCl'})  # Only temperature Cl\n",
       "classy_sz.compute_class_szfast()\n",
       "\n",
       "lensed_cls = classy_sz.lensed_cl()\n",
       "l_fast = lensed_cls['ell']\n",
       "cl_tt_fast = lensed_cls['tt']\n",
       "\n",
       "# cl_tt_fast now contains the temperature power spectrum\n",
       "```\n",
       "\n",
       "\n",
       "**Current Status and Next Step Suggestion:**\n",
       "\n",
       "We are on Step 2 of the PLAN. Next, if you would like, let us write the Python code to compute temperature cls with H0=68 using classy_sz. Should we proceed?\n",
       "\n",
       "**Next Agent Suggestion:**\n",
       "\n",
       "engineer\n",
       "        "
      ],
      "text/plain": [
       "<IPython.core.display.Markdown object>"
      ]
     },
     "metadata": {},
     "output_type": "display_data"
    },
    {
     "name": "stdout",
     "output_type": "stream",
     "text": [
      "\u001b[32m\n",
      "Calling admin...\n",
      "\u001b[0m\n"
     ]
    },
    {
     "name": "stdin",
     "output_type": "stream",
     "text": [
      "Replying as admin. Provide feedback to cmbagent. Press enter to skip and use auto-reply, or type 'exit' to end the conversation:  proceed\n"
     ]
    },
    {
     "name": "stdout",
     "output_type": "stream",
     "text": [
      "\u001b[33mMessage from admin:\n",
      "\u001b[0m\n",
      "proceed\n"
     ]
    },
    {
     "data": {
      "text/html": [
       "<style type=\"text/css\">\n",
       "</style>\n",
       "<table id=\"T_f6c53\">\n",
       "  <thead>\n",
       "    <tr>\n",
       "      <th id=\"T_f6c53_level0_col0\" class=\"col_heading level0 col0\" >Model</th>\n",
       "      <th id=\"T_f6c53_level0_col1\" class=\"col_heading level0 col1\" >agent</th>\n",
       "      <th id=\"T_f6c53_level0_col2\" class=\"col_heading level0 col2\" >Cost</th>\n",
       "      <th id=\"T_f6c53_level0_col3\" class=\"col_heading level0 col3\" >Prompt Tokens</th>\n",
       "      <th id=\"T_f6c53_level0_col4\" class=\"col_heading level0 col4\" >Completion Tokens</th>\n",
       "      <th id=\"T_f6c53_level0_col5\" class=\"col_heading level0 col5\" >Total Tokens</th>\n",
       "    </tr>\n",
       "  </thead>\n",
       "  <tbody>\n",
       "    <tr>\n",
       "      <td id=\"T_f6c53_row0_col0\" class=\"data row0 col0\" >gpt-4o-2024-08-06</td>\n",
       "      <td id=\"T_f6c53_row0_col1\" class=\"data row0 col1\" >speaker_selection_agent</td>\n",
       "      <td id=\"T_f6c53_row0_col2\" class=\"data row0 col2\" >0.00351</td>\n",
       "      <td id=\"T_f6c53_row0_col3\" class=\"data row0 col3\" >1391</td>\n",
       "      <td id=\"T_f6c53_row0_col4\" class=\"data row0 col4\" >3</td>\n",
       "      <td id=\"T_f6c53_row0_col5\" class=\"data row0 col5\" >1394</td>\n",
       "    </tr>\n",
       "  </tbody>\n",
       "</table>\n"
      ],
      "text/plain": [
       "<pandas.io.formats.style.Styler at 0x3125d0550>"
      ]
     },
     "metadata": {},
     "output_type": "display_data"
    },
    {
     "name": "stdout",
     "output_type": "stream",
     "text": [
      "\u001b[32m\n",
      "Calling engineer...\n",
      "\u001b[0m\n"
     ]
    },
    {
     "data": {
      "text/html": [
       "<style type=\"text/css\">\n",
       "</style>\n",
       "<table id=\"T_7c889\">\n",
       "  <thead>\n",
       "    <tr>\n",
       "      <th id=\"T_7c889_level0_col0\" class=\"col_heading level0 col0\" >Model</th>\n",
       "      <th id=\"T_7c889_level0_col1\" class=\"col_heading level0 col1\" >agent</th>\n",
       "      <th id=\"T_7c889_level0_col2\" class=\"col_heading level0 col2\" >Cost</th>\n",
       "      <th id=\"T_7c889_level0_col3\" class=\"col_heading level0 col3\" >Prompt Tokens</th>\n",
       "      <th id=\"T_7c889_level0_col4\" class=\"col_heading level0 col4\" >Completion Tokens</th>\n",
       "      <th id=\"T_7c889_level0_col5\" class=\"col_heading level0 col5\" >Total Tokens</th>\n",
       "    </tr>\n",
       "  </thead>\n",
       "  <tbody>\n",
       "    <tr>\n",
       "      <td id=\"T_7c889_row0_col0\" class=\"data row0 col0\" >gpt-4o-2024-08-06</td>\n",
       "      <td id=\"T_7c889_row0_col1\" class=\"data row0 col1\" >engineer</td>\n",
       "      <td id=\"T_7c889_row0_col2\" class=\"data row0 col2\" >0.00962</td>\n",
       "      <td id=\"T_7c889_row0_col3\" class=\"data row0 col3\" >2542</td>\n",
       "      <td id=\"T_7c889_row0_col4\" class=\"data row0 col4\" >326</td>\n",
       "      <td id=\"T_7c889_row0_col5\" class=\"data row0 col5\" >2868</td>\n",
       "    </tr>\n",
       "  </tbody>\n",
       "</table>\n"
      ],
      "text/plain": [
       "<pandas.io.formats.style.Styler at 0x31254b6d0>"
      ]
     },
     "metadata": {},
     "output_type": "display_data"
    },
    {
     "name": "stdout",
     "output_type": "stream",
     "text": [
      "\u001b[33mMessage from engineer:\n",
      "\u001b[0m\n"
     ]
    },
    {
     "data": {
      "text/markdown": [
       "\n",
       "**Code Explanation:**\n",
       "\n",
       "Here is the code to compute the temperature CMB power spectrum (tCl) using the CLASS-SZ library with the specified H0 value of 68. The code initializes the Class_sz object with the given cosmological parameters, sets the output to 'tCl' to compute the temperature power spectrum, and then computes the spectrum using the CLASS-SZ library.\n",
       "\n",
       "**Python Code:**\n",
       "\n",
       "```python\n",
       "from classy_sz import Class as Class_sz\n",
       "\n",
       "cosmo_params = {\n",
       "    'omega_b': 0.02242,\n",
       "    'omega_cdm': 0.11933,\n",
       "    'H0': 68.0,  # Updated H0 value\n",
       "    'tau_reio': 0.0561,\n",
       "    'ln10^{10}A_s': 3.047,\n",
       "    'n_s': 0.9665\n",
       "}\n",
       "\n",
       "classy_sz = Class_sz()\n",
       "classy_sz.set(cosmo_params)\n",
       "classy_sz.set({'output': 'tCl'})  # Only temperature Cl\n",
       "classy_sz.compute_class_szfast()\n",
       "\n",
       "lensed_cls = classy_sz.lensed_cl()\n",
       "l_fast = lensed_cls['ell']\n",
       "cl_tt_fast = lensed_cls['tt']\n",
       "\n",
       "# cl_tt_fast now contains the temperature power spectrum\n",
       "```\n",
       "\n",
       "**Current Status and Next Step Suggestion:**\n",
       "\n",
       "We are on Step 3 of the PLAN. Next, if you would like, let us execute the Python code to compute temperature cls with H0=68. Should we proceed?\n",
       "\n",
       "**Next Agent Suggestion:**\n",
       "\n",
       "executor\n",
       "        "
      ],
      "text/plain": [
       "<IPython.core.display.Markdown object>"
      ]
     },
     "metadata": {},
     "output_type": "display_data"
    },
    {
     "name": "stdout",
     "output_type": "stream",
     "text": [
      "\u001b[32m\n",
      "Calling admin...\n",
      "\u001b[0m\n"
     ]
    },
    {
     "name": "stdin",
     "output_type": "stream",
     "text": [
      "Replying as admin. Provide feedback to cmbagent. Press enter to skip and use auto-reply, or type 'exit' to end the conversation:  proceed\n"
     ]
    },
    {
     "name": "stdout",
     "output_type": "stream",
     "text": [
      "\u001b[33mMessage from admin:\n",
      "\u001b[0m\n",
      "proceed\n"
     ]
    },
    {
     "data": {
      "text/html": [
       "<style type=\"text/css\">\n",
       "</style>\n",
       "<table id=\"T_4bd15\">\n",
       "  <thead>\n",
       "    <tr>\n",
       "      <th id=\"T_4bd15_level0_col0\" class=\"col_heading level0 col0\" >Model</th>\n",
       "      <th id=\"T_4bd15_level0_col1\" class=\"col_heading level0 col1\" >agent</th>\n",
       "      <th id=\"T_4bd15_level0_col2\" class=\"col_heading level0 col2\" >Cost</th>\n",
       "      <th id=\"T_4bd15_level0_col3\" class=\"col_heading level0 col3\" >Prompt Tokens</th>\n",
       "      <th id=\"T_4bd15_level0_col4\" class=\"col_heading level0 col4\" >Completion Tokens</th>\n",
       "      <th id=\"T_4bd15_level0_col5\" class=\"col_heading level0 col5\" >Total Tokens</th>\n",
       "    </tr>\n",
       "  </thead>\n",
       "  <tbody>\n",
       "    <tr>\n",
       "      <td id=\"T_4bd15_row0_col0\" class=\"data row0 col0\" >gpt-4o-2024-08-06</td>\n",
       "      <td id=\"T_4bd15_row0_col1\" class=\"data row0 col1\" >speaker_selection_agent</td>\n",
       "      <td id=\"T_4bd15_row0_col2\" class=\"data row0 col2\" >0.00434</td>\n",
       "      <td id=\"T_4bd15_row0_col3\" class=\"data row0 col3\" >1726</td>\n",
       "      <td id=\"T_4bd15_row0_col4\" class=\"data row0 col4\" >2</td>\n",
       "      <td id=\"T_4bd15_row0_col5\" class=\"data row0 col5\" >1728</td>\n",
       "    </tr>\n",
       "  </tbody>\n",
       "</table>\n"
      ],
      "text/plain": [
       "<pandas.io.formats.style.Styler at 0x3124d9790>"
      ]
     },
     "metadata": {},
     "output_type": "display_data"
    },
    {
     "name": "stdout",
     "output_type": "stream",
     "text": [
      "\u001b[32m\n",
      "Calling executor...\n",
      "\u001b[0m\n",
      "\u001b[31m\n",
      ">>>>>>>> EXECUTING CODE BLOCK (inferred language is python)...\u001b[0m\n",
      "\u001b[33mMessage from executor:\n",
      "\u001b[0m\n",
      "\u001b[32m\n",
      ">>>>>>>> EXECUTION SUCCEEDED\u001b[0m\n",
      "\u001b[32m\n",
      "Calling admin...\n",
      "\u001b[0m\n"
     ]
    },
    {
     "name": "stdin",
     "output_type": "stream",
     "text": [
      "Replying as admin. Provide feedback to cmbagent. Press enter to skip and use auto-reply, or type 'exit' to end the conversation:  exit\n"
     ]
    },
    {
     "data": {
      "text/html": [
       "<div>\n",
       "<style scoped>\n",
       "    .dataframe tbody tr th:only-of-type {\n",
       "        vertical-align: middle;\n",
       "    }\n",
       "\n",
       "    .dataframe tbody tr th {\n",
       "        vertical-align: top;\n",
       "    }\n",
       "\n",
       "    .dataframe thead th {\n",
       "        text-align: right;\n",
       "    }\n",
       "</style>\n",
       "<table border=\"1\" class=\"dataframe\">\n",
       "  <thead>\n",
       "    <tr style=\"text-align: right;\">\n",
       "      <th></th>\n",
       "      <th>Agent</th>\n",
       "      <th>Cost</th>\n",
       "      <th>Prompt Tokens</th>\n",
       "      <th>Completion Tokens</th>\n",
       "      <th>Total Tokens</th>\n",
       "    </tr>\n",
       "  </thead>\n",
       "  <tbody>\n",
       "    <tr>\n",
       "      <th>0</th>\n",
       "      <td>planner</td>\n",
       "      <td>0.003595</td>\n",
       "      <td>906.0</td>\n",
       "      <td>133.0</td>\n",
       "      <td>1039.0</td>\n",
       "    </tr>\n",
       "    <tr>\n",
       "      <th>1</th>\n",
       "      <td>engineer</td>\n",
       "      <td>0.009615</td>\n",
       "      <td>2542.0</td>\n",
       "      <td>326.0</td>\n",
       "      <td>2868.0</td>\n",
       "    </tr>\n",
       "    <tr>\n",
       "      <th>2</th>\n",
       "      <td>admin (rag_software_formatter)</td>\n",
       "      <td>0.009650</td>\n",
       "      <td>2428.0</td>\n",
       "      <td>358.0</td>\n",
       "      <td>2786.0</td>\n",
       "    </tr>\n",
       "    <tr>\n",
       "      <th>3</th>\n",
       "      <td>classy_sz</td>\n",
       "      <td>0.060780</td>\n",
       "      <td>10800.0</td>\n",
       "      <td>452.0</td>\n",
       "      <td>11252.0</td>\n",
       "    </tr>\n",
       "    <tr>\n",
       "      <th>4</th>\n",
       "      <td>admin (speaker_selection_agent)</td>\n",
       "      <td>0.001625</td>\n",
       "      <td>630.0</td>\n",
       "      <td>5.0</td>\n",
       "      <td>635.0</td>\n",
       "    </tr>\n",
       "    <tr>\n",
       "      <th>5</th>\n",
       "      <td>admin (speaker_selection_agent)</td>\n",
       "      <td>0.003507</td>\n",
       "      <td>1391.0</td>\n",
       "      <td>3.0</td>\n",
       "      <td>1394.0</td>\n",
       "    </tr>\n",
       "    <tr>\n",
       "      <th>6</th>\n",
       "      <td>admin (speaker_selection_agent)</td>\n",
       "      <td>0.004335</td>\n",
       "      <td>1726.0</td>\n",
       "      <td>2.0</td>\n",
       "      <td>1728.0</td>\n",
       "    </tr>\n",
       "    <tr>\n",
       "      <th>Total</th>\n",
       "      <td>NaN</td>\n",
       "      <td>0.093107</td>\n",
       "      <td>20423.0</td>\n",
       "      <td>1279.0</td>\n",
       "      <td>21702.0</td>\n",
       "    </tr>\n",
       "  </tbody>\n",
       "</table>\n",
       "</div>"
      ],
      "text/plain": [
       "                                 Agent      Cost  Prompt Tokens  \\\n",
       "0                              planner  0.003595          906.0   \n",
       "1                             engineer  0.009615         2542.0   \n",
       "2       admin (rag_software_formatter)  0.009650         2428.0   \n",
       "3                            classy_sz  0.060780        10800.0   \n",
       "4      admin (speaker_selection_agent)  0.001625          630.0   \n",
       "5      admin (speaker_selection_agent)  0.003507         1391.0   \n",
       "6      admin (speaker_selection_agent)  0.004335         1726.0   \n",
       "Total                              NaN  0.093107        20423.0   \n",
       "\n",
       "       Completion Tokens  Total Tokens  \n",
       "0                  133.0        1039.0  \n",
       "1                  326.0        2868.0  \n",
       "2                  358.0        2786.0  \n",
       "3                  452.0       11252.0  \n",
       "4                    5.0         635.0  \n",
       "5                    3.0        1394.0  \n",
       "6                    2.0        1728.0  \n",
       "Total             1279.0       21702.0  "
      ]
     },
     "metadata": {},
     "output_type": "display_data"
    }
   ],
   "source": [
    "task = \"Compute temperature cls using H0=68.\"\n",
    "cmbagent.solve(task)"
   ]
  }
 ],
 "metadata": {
  "kernelspec": {
   "display_name": "Python 3 (ipykernel)",
   "language": "python",
   "name": "python3"
  },
  "language_info": {
   "codemirror_mode": {
    "name": "ipython",
    "version": 3
   },
   "file_extension": ".py",
   "mimetype": "text/x-python",
   "name": "python",
   "nbconvert_exporter": "python",
   "pygments_lexer": "ipython3",
   "version": "3.9.13"
  },
  "widgets": {
   "application/vnd.jupyter.widget-state+json": {
    "state": {},
    "version_major": 2,
    "version_minor": 0
   }
  }
 },
 "nbformat": 4,
 "nbformat_minor": 5
}

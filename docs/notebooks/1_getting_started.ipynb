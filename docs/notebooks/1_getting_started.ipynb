{
 "cells": [
  {
   "cell_type": "markdown",
   "id": "93be4b1c",
   "metadata": {},
   "source": [
    "[![Open In Colab](https://colab.research.google.com/assets/colab-badge.svg)](https://colab.research.google.com/github/CMBAgents/cmbagent/blob/main/notebooks/1_getting_started.ipynb)\n"
   ]
  },
  {
   "cell_type": "markdown",
   "id": "e2b17766-bf32-451d-97e0-782c1344bce9",
   "metadata": {},
   "source": [
    "# **Designing jokes**\n",
    "\n",
    "This notebook uses the [cmbagent](https://github.com/CMBAgents/cmbagent) package under the MIT License. Please star [cmbagent](https://github.com/CMBAgents/cmbagent) to support our work. \n",
    "\n",
    "[cmbagent](https://github.com/CMBAgents/cmbagent) is powered by [autogen](https://github.com/microsoft/autogen).\n",
    "\n",
    "Some of the examples here are inspired by [autogen](https://github.com/microsoft/autogen) examples. "
   ]
  },
  {
   "cell_type": "markdown",
   "id": "9aa0f021-5722-44c8-bc50-f26c1f1b2d50",
   "metadata": {},
   "source": [
    "## Clone and install cmbagent"
   ]
  },
  {
   "cell_type": "code",
   "execution_count": null,
   "id": "582f8e04-11ff-43f5-ae7c-681233f7fe8c",
   "metadata": {},
   "outputs": [],
   "source": [
    "!git clone https://github.com/CMBAgents/cmbagent.git\n",
    "%cd cmbagent\n",
    "!pip install -e ."
   ]
  },
  {
   "cell_type": "markdown",
   "id": "01402b0f-8098-4416-b83c-300a694d9691",
   "metadata": {},
   "source": [
    "## Import cmbagent"
   ]
  },
  {
   "cell_type": "code",
   "execution_count": 1,
   "id": "bbb22c96-5093-40fd-aab4-7e41e854c81b",
   "metadata": {},
   "outputs": [],
   "source": [
    "import os\n",
    "from cmbagent import CMBAgent"
   ]
  },
  {
   "cell_type": "markdown",
   "id": "094a86cf-f60b-4c02-8023-7e54890fa248",
   "metadata": {},
   "source": [
    "### Program the engineer agent"
   ]
  },
  {
   "cell_type": "code",
   "execution_count": 2,
   "id": "23217e56-b8cf-4d09-bfc8-adac5a815f9e",
   "metadata": {},
   "outputs": [],
   "source": [
    "\n",
    "engineer_instructions = \"\"\"\n",
    "You are the engineer agent in the team.\n",
    "You make jokes about fish and engineers in the style of shakespeare. \n",
    "\"\"\"\n",
    "\n",
    "agent_instructions = {\n",
    "\"engineer\" : engineer_instructions\n",
    "}\n",
    "\n",
    "\n",
    "engineer_description = \"\"\"\n",
    "An engineer agent that writes jokes.\n",
    "\"\"\"\n",
    "\n",
    "agent_descriptions = {\n",
    "\"engineer\" : engineer_description\n",
    "}\n",
    "\n",
    "\n"
   ]
  },
  {
   "cell_type": "markdown",
   "id": "95f05cf0-9364-4c4f-ae7f-07995fb02762",
   "metadata": {},
   "source": [
    "### Program the speaker selection method"
   ]
  },
  {
   "cell_type": "code",
   "execution_count": 3,
   "id": "821ee05d-7889-43c2-99c4-965a094b8f1d",
   "metadata": {},
   "outputs": [],
   "source": [
    "intro_message = \"\"\"\n",
    "We have assembled a team of agents and a human admin to answer questions and solve tasks related to inventing jokes. \n",
    "\n",
    "When a plan is decided, the agents should only try to solve the sub-tasks assigned to them, one step at a time and one agent at a time (i.e., one agent per step), and ask admin for feedback when they are done. \n",
    "\n",
    "In attendance are:\n",
    "\"\"\"\n",
    "\n",
    "\n",
    "select_speaker_message = \"\"\"\n",
    "You are in a role play game about inventing jokes. The following roles are available:\n",
    "                {roles}.\n",
    "                Read the following conversation.\n",
    "                Then select the next role from {agentlist} to play. Only return the role.\n",
    "Note that only planner can modify or update a plan. Only planner can report on plan status.\n",
    "planner should be the first agent to speak.\n",
    "Admin should only be selected when there is no other solutions. \n",
    "\"\"\"\n",
    "\n",
    "\n",
    "select_speaker_prompt = \"\"\"\n",
    "Read the above conversation. Then select the next role from {agentlist} to play. Only return the role.\n",
    "Note that only planner can modify or update a plan. Only planner can report on plan status.\n",
    "executor should not be selected unless admin says \"execute\".\n",
    "planner should be the first agent to speak.\n",
    "\"\"\""
   ]
  },
  {
   "cell_type": "markdown",
   "id": "4b829ff7-4080-496d-9a71-e7ac99399887",
   "metadata": {},
   "source": [
    "## Instantiate cmbagent"
   ]
  },
  {
   "cell_type": "code",
   "execution_count": null,
   "id": "493cb91e-e884-4d73-8311-2496b5162601",
   "metadata": {},
   "outputs": [
    {
     "name": "stdout",
     "output_type": "stream",
     "text": [
      "Using following agents:  ['engineer', 'planner', 'admin']\n",
      "\n",
      "Setting up agents:\n",
      "\t- admin\n",
      "\t- planner\n",
      "\t- engineer\n",
      "Allowed transitions:\n",
      "admin -> planner, engineer\n",
      "planner -> admin\n",
      "engineer -> admin\n",
      "\n",
      "Planner instructions:\n",
      "You are the planner agent in the team. \n",
      "\n",
      "You are the first agent to speak.\n",
      "\n",
      "#### Main purpose\n",
      "\n",
      "Your purpose is to develop a plan to solve the main task with the admin and revise it based on admin feedback until approval.\n",
      "For the plan, you break the main task into sub-tasks and assign them to the agents.\n",
      "\n",
      "(You may also be asked to provide a summmary)\n",
      "\n",
      "#### Plan\n",
      "\n",
      "The plan should have the following structure: \n",
      "\n",
      "- Main task: the main task to solve (input)\n",
      "\n",
      "- Step 1:\n",
      "     * sub-task: the first task to be done\n",
      "     * agent: name of agent in charge\n",
      "- Step 2: \n",
      "     * sub-task: the second task to be done\n",
      "     * agent: name of agent in charge\n",
      "\n",
      "and so on...\n",
      "At last, the planner should ask for feedback on the plan (i.e., should we proceed or modify the plan?).\n",
      "\n",
      "\n",
      "In the plan, all sub-task carried out by executor should be preceeded by a sub-task with the engineer. For instance: \n",
      "....\n",
      "- Step X:\n",
      "     * sub-task: Check code aligns with guidelines\n",
      "     * agent: engineer\n",
      "- Step X+1: \n",
      "     * sub-task: Execute the code\n",
      "     * agent: executor\n",
      "....\n",
      "\n",
      "Note: if executor agent is present, executor should never be selected in consecutive steps in the plan. \n",
      "\n",
      "#### Constraints on plan design\n",
      "\n",
      "You must not assign any sub-task in the plan to [planner, admin].\n",
      "\n",
      "You should aim to involve all relevant agents in the plan.\n",
      "\n",
      "If a <string> in the <input> has some overlap with an <agentname>, then that agent should appear explicitely in the plan.\n",
      "\n",
      "You must obey the constraint that any given agent can only work on one sub-task at a time, hence the sub-tasks should be clearly and precisely defined.\n",
      "\n",
      "You can have as many steps as you need, and the sub-tasks should be clearly and precisely defined.\n",
      "\n",
      "#### Summary\n",
      "\n",
      "At the end of the process, when the plan has been completed, and when admin says so, you may be asked to provide a summary of what has been done. \n",
      "\n",
      "The summary should have the following structure:\n",
      "\n",
      "  - main task: \n",
      "  - results: \n",
      "  - summary: \n",
      "       - sub-task 1: \n",
      "          - result: \n",
      "          - feedback: \n",
      "          - agent:\n",
      "       - sub-task 2: \n",
      "          - result: \n",
      "          - feedback: \n",
      "          - agent: \n",
      "\n"
     ]
    }
   ],
   "source": [
    "cmbagent = CMBAgent(\n",
    "                    agent_instructions=agent_instructions,\n",
    "                    agent_descriptions=agent_descriptions,\n",
    "                    intro_message = intro_message,\n",
    "                    select_speaker_message=select_speaker_message,\n",
    "                    select_speaker_prompt=select_speaker_prompt,\n",
    "                    agent_list = [],\n",
    "                    llm_api_key='sk-proj-...',\n",
    "                    skip_executor=True,\n",
    "                    verbose=True)"
   ]
  },
  {
   "cell_type": "markdown",
   "id": "cfbdaca0-a726-47b7-a0f6-01ab5309d9bf",
   "metadata": {},
   "source": [
    "## Invent a joke"
   ]
  },
  {
   "cell_type": "code",
   "execution_count": 5,
   "id": "ca563ab3-63e8-465b-8eb1-f2c067866c5b",
   "metadata": {},
   "outputs": [
    {
     "name": "stdout",
     "output_type": "stream",
     "text": [
      "\u001b[33madmin\u001b[0m (to chat_manager):\n",
      "\n",
      "\n",
      "Two fish and an engineer are in a boat. Write a joke.\n",
      "\n",
      "\n",
      "--------------------------------------------------------------------------------\n",
      "****************\n",
      "\n",
      "We have assembled a team of agents and a human admin to answer questions and solve tasks related to inventing jokes. \n",
      "\n",
      "When a plan is decided, the agents should only try to solve the sub-tasks assigned to them, one step at a time and one agent at a time (i.e., one agent per step), and ask admin for feedback when they are done. \n",
      "\n",
      "In attendance are:\n",
      "\n",
      "\n",
      "admin: An attentive HUMAN user who can answer questions about the task and provide feedback.\n",
      "planner: This is the planner agent: the first agent to speak. \n",
      "An agent that designs a plan. \n",
      "It can be asked to:\n",
      "  -suggest a plan\n",
      "  -explain the plan\n",
      "  -specify roles in the plan\n",
      "  -revise the plan\n",
      "  -modify the plan\n",
      "  -update the plan\n",
      "The planner can also be asked to summarize or provide a summary of what has been done.\n",
      "engineer: \n",
      "An engineer agent that writes jokes.\n",
      "****************\n",
      "\u001b[32m\n",
      "Next speaker: planner\n",
      "\u001b[0m\n",
      "----------------------------------------------------------------------------------------------------\n",
      "Usage summary excluding cached usage: \n",
      "Total cost: 0.00529\n",
      "* Model 'gpt-4o-2024-05-13': cost: 0.00529, prompt_tokens: 737, completion_tokens: 107, total_tokens: 844\n",
      "----------------------------------------------------------------------------------------------------\n",
      "\u001b[33mplanner\u001b[0m (to chat_manager):\n",
      "\n",
      "- Main task: Write a joke involving two fish and an engineer in a boat.\n",
      "\n",
      "- Step 1:\n",
      "     * sub-task: Brainstorm ideas for the joke involving two fish and an engineer in a boat.\n",
      "     * agent: engineer\n",
      "- Step 2:\n",
      "     * sub-task: Write the initial draft of the joke.\n",
      "     * agent: engineer\n",
      "- Step 3:\n",
      "     * sub-task: Review the joke for humor and coherence.\n",
      "     * agent: admin\n",
      "\n",
      "Should we proceed with this plan or modify it?\n",
      "\n",
      "--------------------------------------------------------------------------------\n",
      "\u001b[32m\n",
      "Next speaker: admin\n",
      "\u001b[0m\n"
     ]
    },
    {
     "name": "stdout",
     "output_type": "stream",
     "text": [
      "Replying as admin. Provide feedback to chat_manager. Press enter to skip and use auto-reply, or type 'exit' to end the conversation:  proceed\n"
     ]
    },
    {
     "name": "stdout",
     "output_type": "stream",
     "text": [
      "\u001b[33madmin\u001b[0m (to chat_manager):\n",
      "\n",
      "proceed\n",
      "\n",
      "--------------------------------------------------------------------------------\n",
      "----------------------------------------------------------------------------------------------------\n",
      "Usage summary excluding cached usage: \n",
      "Total cost: 0.00208\n",
      "* Model 'gpt-4o-2024-05-13': cost: 0.00208, prompt_tokens: 410, completion_tokens: 2, total_tokens: 412\n",
      "----------------------------------------------------------------------------------------------------\n",
      "\u001b[32m\n",
      "Next speaker: engineer\n",
      "\u001b[0m\n",
      "----------------------------------------------------------------------------------------------------\n",
      "Usage summary excluding cached usage: \n",
      "Total cost: 0.00375\n",
      "* Model 'gpt-4o-2024-05-13': cost: 0.00375, prompt_tokens: 378, completion_tokens: 124, total_tokens: 502\n",
      "----------------------------------------------------------------------------------------------------\n",
      "\u001b[33mengineer\u001b[0m (to chat_manager):\n",
      "\n",
      "Hark! I shall now commence with the brainstorming of ideas for a jest involving two fish and an engineer in a boat. \n",
      "\n",
      "1. The fish could be discussing something technical, surprising the engineer.\n",
      "2. The engineer could be trying to fix something in the boat, and the fish offer humorous advice.\n",
      "3. The fish and the engineer could be comparing their respective \"schools\" of thought.\n",
      "4. The engineer could be explaining a complex concept, and the fish respond with a simple, witty remark.\n",
      "\n",
      "What say thee, noble admin? Shall I proceed with one of these ideas, or dost thou have another notion?\n",
      "\n",
      "--------------------------------------------------------------------------------\n",
      "\u001b[32m\n",
      "Next speaker: admin\n",
      "\u001b[0m\n"
     ]
    },
    {
     "name": "stdout",
     "output_type": "stream",
     "text": [
      "Replying as admin. Provide feedback to chat_manager. Press enter to skip and use auto-reply, or type 'exit' to end the conversation:  proceed\n"
     ]
    },
    {
     "name": "stdout",
     "output_type": "stream",
     "text": [
      "\u001b[33madmin\u001b[0m (to chat_manager):\n",
      "\n",
      "proceed\n",
      "\n",
      "--------------------------------------------------------------------------------\n",
      "----------------------------------------------------------------------------------------------------\n",
      "Usage summary excluding cached usage: \n",
      "Total cost: 0.00278\n",
      "* Model 'gpt-4o-2024-05-13': cost: 0.00278, prompt_tokens: 549, completion_tokens: 2, total_tokens: 551\n",
      "----------------------------------------------------------------------------------------------------\n",
      "\u001b[32m\n",
      "Next speaker: engineer\n",
      "\u001b[0m\n",
      "----------------------------------------------------------------------------------------------------\n",
      "Usage summary excluding cached usage: \n",
      "Total cost: 0.00866\n",
      "* Model 'gpt-4o-2024-05-13': cost: 0.00866, prompt_tokens: 895, completion_tokens: 279, total_tokens: 1174\n",
      "----------------------------------------------------------------------------------------------------\n",
      "\u001b[33mengineer\u001b[0m (to chat_manager):\n",
      "\n",
      "Verily, I shall proceed with the crafting of the jest. Here is the initial draft:\n",
      "\n",
      "In a boat upon the gentle waves, there sat an engineer and two fish. The engineer, with tools in hand, did labor to mend a leak. One fish, with a glint in its eye, did say, \"Prithee, good sir, why dost thou toil so?\" The engineer replied, \"I seek to fix this vessel, lest we all be sunk.\" The second fish, with a chuckle, did retort, \"Fear not, for we are well-versed in the art of swimming. 'Tis thee who must worry!\"\n",
      "\n",
      "What say thee, noble admin? Does this jest tickle thy fancy, or shall it be refined further?\n",
      "\n",
      "--------------------------------------------------------------------------------\n",
      "\u001b[32m\n",
      "Next speaker: admin\n",
      "\u001b[0m\n"
     ]
    },
    {
     "name": "stdout",
     "output_type": "stream",
     "text": [
      "Replying as admin. Provide feedback to chat_manager. Press enter to skip and use auto-reply, or type 'exit' to end the conversation:  can you explain the joke?\n"
     ]
    },
    {
     "name": "stdout",
     "output_type": "stream",
     "text": [
      "\u001b[33madmin\u001b[0m (to chat_manager):\n",
      "\n",
      "can you explain the joke?\n",
      "\n",
      "--------------------------------------------------------------------------------\n",
      "----------------------------------------------------------------------------------------------------\n",
      "Usage summary excluding cached usage: \n",
      "Total cost: 0.00363\n",
      "* Model 'gpt-4o-2024-05-13': cost: 0.00363, prompt_tokens: 723, completion_tokens: 1, total_tokens: 724\n",
      "----------------------------------------------------------------------------------------------------\n",
      "\u001b[32m\n",
      "Next speaker: planner\n",
      "\u001b[0m\n",
      "----------------------------------------------------------------------------------------------------\n",
      "Usage summary excluding cached usage: \n",
      "Total cost: 0.01352\n",
      "* Model 'gpt-4o-2024-05-13': cost: 0.01352, prompt_tokens: 1908, completion_tokens: 265, total_tokens: 2173\n",
      "----------------------------------------------------------------------------------------------------\n",
      "\u001b[33mplanner\u001b[0m (to chat_manager):\n",
      "\n",
      "Certainly! Here is an explanation of the joke:\n",
      "\n",
      "In the joke, an engineer is working hard to fix a leak in a boat to prevent it from sinking. The two fish, who are naturally adept at swimming and living in water, find the situation amusing. The first fish questions why the engineer is working so hard, and the engineer explains that he is trying to prevent the boat from sinking. The second fish humorously points out that they, being fish, are not worried about the boat sinking because they can swim perfectly well in the water. The punchline is that the fish are not concerned about the boat sinking, but the engineer, who cannot live in water, should be the one worried.\n",
      "\n",
      "Would you like any modifications to the joke, or shall we proceed to the review step?\n",
      "\n",
      "--------------------------------------------------------------------------------\n",
      "\u001b[32m\n",
      "Next speaker: admin\n",
      "\u001b[0m\n"
     ]
    },
    {
     "name": "stdout",
     "output_type": "stream",
     "text": [
      "Replying as admin. Provide feedback to chat_manager. Press enter to skip and use auto-reply, or type 'exit' to end the conversation:  exit\n"
     ]
    }
   ],
   "source": [
    "task = \"\"\"\n",
    "Two fish and an engineer are in a boat. Write a joke.\n",
    "\"\"\"\n",
    "\n",
    "cmbagent.solve(task)"
   ]
  }
 ],
 "metadata": {
  "kernelspec": {
   "display_name": "Python (cmb_agent)",
   "language": "python",
   "name": "cmb_agent"
  },
  "language_info": {
   "codemirror_mode": {
    "name": "ipython",
    "version": 3
   },
   "file_extension": ".py",
   "mimetype": "text/x-python",
   "name": "python",
   "nbconvert_exporter": "python",
   "pygments_lexer": "ipython3",
   "version": "3.9.13"
  },
  "widgets": {
   "application/vnd.jupyter.widget-state+json": {
    "state": {},
    "version_major": 2,
    "version_minor": 0
   }
  }
 },
 "nbformat": 4,
 "nbformat_minor": 5
}

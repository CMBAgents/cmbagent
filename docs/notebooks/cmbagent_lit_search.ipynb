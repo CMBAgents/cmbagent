{
 "cells": [
  {
   "cell_type": "markdown",
   "id": "2242dd13-f045-48bc-812a-69c923cb76fc",
   "metadata": {},
   "source": [
    "# Literature Search"
   ]
  },
  {
   "cell_type": "code",
   "execution_count": 2,
   "id": "726e140f-9c62-489f-91e0-2dea08dbfe2e",
   "metadata": {},
   "outputs": [],
   "source": [
    "import os \n",
    "os.environ[\"CMBAGENT_DEBUG\"] = \"false\"\n",
    "os.environ[\"ASTROPILOT_DISABLE_DISPLAY\"] = \"false\"\n",
    "from cmbagent import CMBAgent"
   ]
  },
  {
   "cell_type": "markdown",
   "id": "d50af0e7-617d-4366-9371-49c118950e51",
   "metadata": {},
   "source": [
    "## One paragraph"
   ]
  },
  {
   "cell_type": "code",
   "execution_count": 2,
   "id": "b7e690ea-7ce0-48d7-bd3c-f29e46add197",
   "metadata": {},
   "outputs": [
    {
     "name": "stdout",
     "output_type": "stream",
     "text": [
      "\u001b[32mMessage from admin:\n",
      "\u001b[0m\n"
     ]
    },
    {
     "data": {
      "text/markdown": [
       "\n",
       "This study utilizes data extracted from a suite of cosmological N-body simulations specifically designed to investigate the impact of primordial non-Gaussianity (PNG) on structure formation. These simulations were performed using a modified version of the Gadget-2 code, incorporating the effects of local-type PNG parameterized by $f_{NL}$. The simulations cover a cosmological volume of $(L_{\\text{box}})^3 = (100 \\, h^{-1} \\text{Mpc})^3$, with $N_p = 1024^3$ dark matter particles, resulting in a mass resolution of $M_p \\approx 8.5 \\times 10^8 \\, h^{-1} M_{\\odot}$.  The cosmological parameters adopted are consistent with the Planck 2018 results: $\\Omega_m = 0.315$, $\\Omega_{\\Lambda} = 0.685$, $h = 0.674$, and $\\sigma_8 = 0.811$.\n"
      ],
      "text/plain": [
       "<IPython.core.display.Markdown object>"
      ]
     },
     "metadata": {},
     "output_type": "display_data"
    },
    {
     "name": "stdout",
     "output_type": "stream",
     "text": [
      "\u001b[33m\n",
      "Calling perplexity...\n",
      "\u001b[0m\n"
     ]
    },
    {
     "data": {
      "text/html": [
       "<style type=\"text/css\">\n",
       "</style>\n",
       "<table id=\"T_3cfdc\">\n",
       "  <thead>\n",
       "    <tr>\n",
       "      <th id=\"T_3cfdc_level0_col0\" class=\"col_heading level0 col0\" >Model</th>\n",
       "      <th id=\"T_3cfdc_level0_col1\" class=\"col_heading level0 col1\" >agent</th>\n",
       "      <th id=\"T_3cfdc_level0_col2\" class=\"col_heading level0 col2\" >Cost</th>\n",
       "      <th id=\"T_3cfdc_level0_col3\" class=\"col_heading level0 col3\" >Prompt Tokens</th>\n",
       "      <th id=\"T_3cfdc_level0_col4\" class=\"col_heading level0 col4\" >Completion Tokens</th>\n",
       "      <th id=\"T_3cfdc_level0_col5\" class=\"col_heading level0 col5\" >Total Tokens</th>\n",
       "    </tr>\n",
       "  </thead>\n",
       "  <tbody>\n",
       "    <tr>\n",
       "      <td id=\"T_3cfdc_row0_col0\" class=\"data row0 col0\" >o3-mini-2025-01-31</td>\n",
       "      <td id=\"T_3cfdc_row0_col1\" class=\"data row0 col1\" >perplexity</td>\n",
       "      <td id=\"T_3cfdc_row0_col2\" class=\"data row0 col2\" >0.00181</td>\n",
       "      <td id=\"T_3cfdc_row0_col3\" class=\"data row0 col3\" >913</td>\n",
       "      <td id=\"T_3cfdc_row0_col4\" class=\"data row0 col4\" >183</td>\n",
       "      <td id=\"T_3cfdc_row0_col5\" class=\"data row0 col5\" >1096</td>\n",
       "    </tr>\n",
       "  </tbody>\n",
       "</table>\n"
      ],
      "text/plain": [
       "<pandas.io.formats.style.Styler at 0x32d649c40>"
      ]
     },
     "metadata": {},
     "output_type": "display_data"
    },
    {
     "name": "stdout",
     "output_type": "stream",
     "text": [
      "\u001b[33mMessage from perplexity:\n",
      "\u001b[0m\n"
     ]
    },
    {
     "data": {
      "text/markdown": [
       "This study utilizes data extracted from a suite of cosmological N-body simulations specifically designed to investigate the impact of primordial non-Gaussianity (PNG) on structure formation[[1](https://arxiv.org/abs/1402.2336)]. These simulations were performed using a modified version of the Gadget-2 code, incorporating the effects of local-type PNG parameterized by $f_{NL}$[[4](https://arxiv.org/abs/2407.06641)]. The simulations cover a cosmological volume of $(L_{\\text{box}})^3 = (100 \\, h^{-1} \\text{Mpc})^3$, with $N_p = 1024^3$ dark matter particles, resulting in a mass resolution of $M_p \\approx 8.5 \\times 10^8 \\, h^{-1} M_{\\odot}$. The cosmological parameters adopted are consistent with the Planck 2018 results: $\\Omega_m = 0.315$, $\\Omega_{\\Lambda} = 0.685$, $h = 0.674$, and $\\sigma_8 = 0.811$[[2](https://arxiv.org/abs/1807.06209)][[10](https://arxiv.org/abs/2309.10034)]."
      ],
      "text/plain": [
       "<IPython.core.display.Markdown object>"
      ]
     },
     "metadata": {},
     "output_type": "display_data"
    },
    {
     "data": {
      "text/plain": [
       "('This study utilizes data extracted from a suite of cosmological N-body simulations specifically designed to investigate the impact of primordial non-Gaussianity (PNG) on structure formation[1]. These simulations were performed using a modified version of the Gadget-2 code, incorporating the effects of local-type PNG parameterized by $f_{NL}$[4]. The simulations cover a cosmological volume of $(L_{\\\\text{box}})^3 = (100 \\\\, h^{-1} \\\\text{Mpc})^3$, with $N_p = 1024^3$ dark matter particles, resulting in a mass resolution of $M_p \\\\approx 8.5 \\\\times 10^8 \\\\, h^{-1} M_{\\\\odot}$. The cosmological parameters adopted are consistent with the Planck 2018 results: $\\\\Omega_m = 0.315$, $\\\\Omega_{\\\\Lambda} = 0.685$, $h = 0.674$, and $\\\\sigma_8 = 0.811$[2][10].',\n",
       " ['https://arxiv.org/abs/1402.2336',\n",
       "  'https://arxiv.org/abs/1807.06209',\n",
       "  'http://arxiv.org/pdf/1912.08777',\n",
       "  'https://arxiv.org/abs/2407.06641',\n",
       "  'https://arxiv.org/abs/2206.00731',\n",
       "  'https://arxiv.org/pdf/1406.5636',\n",
       "  'https://arxiv.org/abs/2411.02774',\n",
       "  'https://arxiv.org/abs/2205.10869',\n",
       "  'https://arxiv.org/abs/1506.00083',\n",
       "  'https://arxiv.org/abs/2309.10034'])"
      ]
     },
     "execution_count": 2,
     "metadata": {},
     "output_type": "execute_result"
    }
   ],
   "source": [
    "paragraph = r\"\"\"\n",
    "This study utilizes data extracted from a suite of cosmological N-body simulations specifically designed to investigate the impact of primordial non-Gaussianity (PNG) on structure formation. These simulations were performed using a modified version of the Gadget-2 code, incorporating the effects of local-type PNG parameterized by $f_{NL}$. The simulations cover a cosmological volume of $(L_{\\text{box}})^3 = (100 \\, h^{-1} \\text{Mpc})^3$, with $N_p = 1024^3$ dark matter particles, resulting in a mass resolution of $M_p \\approx 8.5 \\times 10^8 \\, h^{-1} M_{\\odot}$.  The cosmological parameters adopted are consistent with the Planck 2018 results: $\\Omega_m = 0.315$, $\\Omega_{\\Lambda} = 0.685$, $h = 0.674$, and $\\sigma_8 = 0.811$.\n",
    "\"\"\"\n",
    "\n",
    "def perplexity(paragraph):\n",
    "    # print(paragraph)\n",
    "    cmbagent_instance = CMBAgent()\n",
    "    cmbagent_instance.solve(task=paragraph,\n",
    "                           max_rounds=5,\n",
    "                           initial_agent='perplexity',\n",
    "                           mode = \"one_shot\")\n",
    "    return (cmbagent_instance.final_context['perplexity_response'],cmbagent_instance.final_context['perplexity_citations'])\n",
    "\n",
    "\n",
    "perplexity(paragraph)"
   ]
  },
  {
   "cell_type": "code",
   "execution_count": null,
   "id": "7df3b328-46b5-4fff-90f7-8c3516a69bbb",
   "metadata": {},
   "outputs": [],
   "source": [
    "paragraph = r\"\"\"\n",
    "This study utilizes data extracted from a suite of cosmological N-body simulations specifically designed to investigate the impact of primordial non-Gaussianity (PNG) on structure formation. These simulations were performed using a modified version of the Gadget-2 code, incorporating the effects of local-type PNG parameterized by $f_{NL}$. The simulations cover a cosmological volume of $(L_{\\text{box}})^3 = (100 \\, h^{-1} \\text{Mpc})^3$, with $N_p = 1024^3$ dark matter particles, resulting in a mass resolution of $M_p \\approx 8.5 \\times 10^8 \\, h^{-1} M_{\\odot}$.  The cosmological parameters adopted are consistent with the Planck 2018 results: $\\Omega_m = 0.315$, $\\Omega_{\\Lambda} = 0.685$, $h = 0.674$, and $\\sigma_8 = 0.811$.\n",
    "\"\"\"\n",
    "\n",
    "def perplexity(paragraph):\n",
    "    # print(paragraph)\n",
    "    cmbagent_instance = CMBAgent()\n",
    "    cmbagent_instance.solve(task=paragraph,\n",
    "                           max_rounds=5,\n",
    "                           initial_agent='perplexity',\n",
    "                           mode = \"one_shot\")\n",
    "    return (cmbagent_instance.final_context['perplexity_response'],cmbagent_instance.final_context['perplexity_citations'])\n",
    "\n",
    "\n",
    "perplexity(paragraph)"
   ]
  },
  {
   "cell_type": "markdown",
   "id": "7b71894c-352c-4d20-a1a2-7d556c2174ba",
   "metadata": {},
   "source": [
    "## N Paragraphs"
   ]
  },
  {
   "cell_type": "code",
   "execution_count": 3,
   "id": "3a0c2e40-fbd1-4293-9902-bbc0caad09bf",
   "metadata": {},
   "outputs": [],
   "source": [
    "import os \n",
    "os.environ[\"CMBAGENT_DEBUG\"] = \"false\"\n",
    "os.environ[\"CMBAGENT_DISABLE_DISPLAY\"] = \"false\"\n",
    "import cmbagent\n",
    "from cmbagent.literature import process_tex_file_with_references\n",
    "from cmbagent import CMBAgent\n"
   ]
  },
  {
   "cell_type": "code",
   "execution_count": 5,
   "id": "4c6080c7-48df-42c2-9ec8-efa5aa9458a9",
   "metadata": {},
   "outputs": [],
   "source": [
    "def perplexity(paragraph):\n",
    "    # print(paragraph)\n",
    "    cmbagent_instance = CMBAgent()\n",
    "    cmbagent_instance.solve(task=paragraph,\n",
    "                           max_rounds=5,\n",
    "                           initial_agent='perplexity',\n",
    "                           mode = \"one_shot\")\n",
    "    return (cmbagent_instance.final_context['perplexity_response'],cmbagent_instance.final_context['perplexity_citations'])\n",
    "\n",
    "\n",
    "path_to_latex = '/Users/boris/CMBAgents/astropilot_data/paper/paper.tex'\n",
    "path_to_bib = '/Users/boris/CMBAgents/astropilot_data/paper/bibliography.bib'\n",
    "# process_tex_file_with_references(path_to_latex,path_to_bib,perplexity,nparagraphs=1)\n",
    "process_tex_file_with_references(path_to_latex,path_to_bib,perplexity)"
   ]
  },
  {
   "cell_type": "code",
   "execution_count": null,
   "id": "2ef5ef9d-efd3-4cff-ae3a-5862d1acd35f",
   "metadata": {},
   "outputs": [],
   "source": []
  }
 ],
 "metadata": {
  "kernelspec": {
   "display_name": "Python (venv_class_sz)",
   "language": "python",
   "name": "venv_class_sz312"
  },
  "language_info": {
   "codemirror_mode": {
    "name": "ipython",
    "version": 3
   },
   "file_extension": ".py",
   "mimetype": "text/x-python",
   "name": "python",
   "nbconvert_exporter": "python",
   "pygments_lexer": "ipython3",
   "version": "3.12.9"
  }
 },
 "nbformat": 4,
 "nbformat_minor": 5
}
